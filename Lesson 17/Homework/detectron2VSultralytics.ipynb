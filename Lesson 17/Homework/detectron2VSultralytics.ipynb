{
 "cells": [
  {
   "cell_type": "markdown",
   "id": "b74bf7c7",
   "metadata": {},
   "source": [
    "begin"
   ]
  }
 ],
 "metadata": {
  "kernelspec": {
   "display_name": ".venv",
   "language": "python",
   "name": "python3"
  },
  "language_info": {
   "name": "python",
   "version": "3.11.9"
  }
 },
 "nbformat": 4,
 "nbformat_minor": 5
}
