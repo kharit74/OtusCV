{
 "cells": [
  {
   "cell_type": "markdown",
   "id": "b74bf7c7",
   "metadata": {},
   "source": [
    "begin"
   ]
  }
 ],
 "metadata": {
  "language_info": {
   "name": "python"
  }
 },
 "nbformat": 4,
 "nbformat_minor": 5
}
