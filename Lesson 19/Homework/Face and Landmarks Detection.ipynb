{
 "cells": [
  {
   "cell_type": "markdown",
   "id": "ad40e189",
   "metadata": {},
   "source": [
    "# Домашнее задание\n",
    "Использование Facial Landmarks в качестве Feature Estimator\n",
    "\n",
    "Цель:\n",
    "Создадить свой пайплайн Facial Recognition.\n",
    "\n",
    "Описание/Пошаговая инструкция выполнения домашнего задания:\n",
    "- Выберите Facial Detector по вкусу.\n",
    "- Выполните Face Alignment.\n",
    "- На это натравите Facial Landmarks Detector по выбору.\n",
    "- На этом обучите классификатор на предпочитаемом датасете."
   ]
  },
  {
   "cell_type": "markdown",
   "id": "199fb208",
   "metadata": {},
   "source": [
    " # Пайплайн:\n",
    " ## __Facial Detector → Face Alignment → Facial Landmarks → Классификатор__"
   ]
  },
  {
   "cell_type": "markdown",
   "id": "2998ccb7",
   "metadata": {},
   "source": [
    "### 1. Выбор Facial Detector технологии\n",
    "MediaPipe Face Detection - актуальный, бесплатный, функциональный, не требовательный"
   ]
  },
  {
   "cell_type": "code",
   "execution_count": 1,
   "id": "f38dbf2c",
   "metadata": {},
   "outputs": [],
   "source": [
    "import mediapipe"
   ]
  },
  {
   "cell_type": "markdown",
   "id": "b77ce9b5",
   "metadata": {},
   "source": [
    "### 2. Выбор Face Alignment решения\n",
    "MediaPipe Face Mesh - 468 точек. Более чем достаточно для любых задач"
   ]
  },
  {
   "cell_type": "code",
   "execution_count": 2,
   "id": "814b3ac4",
   "metadata": {},
   "outputs": [],
   "source": [
    "face_detection = mediapipe.solutions.face_mesh # солюшн по лицу\n",
    "drawing = mediapipe.solutions.drawing_utils\n",
    "show_mask = False\n",
    "\n",
    "face_mesh = face_detection.FaceMesh(\n",
    "    static_image_mode=False,\n",
    "    max_num_faces=1,\n",
    "    refine_landmarks=True,\n",
    "    min_detection_confidence=0.5)"
   ]
  },
  {
   "cell_type": "markdown",
   "id": "1aebd978",
   "metadata": {},
   "source": [
    "### 3. Наложение маски ~ извлечение маски\n"
   ]
  },
  {
   "cell_type": "code",
   "execution_count": 9,
   "id": "6ea23881",
   "metadata": {},
   "outputs": [],
   "source": [
    "import cv2\n",
    "import numpy as np\n",
    "\n",
    "# Извлечение маски\n",
    "def get_face_landmarks(image):\n",
    "    image_rgb = cv2.cvtColor(image, cv2.COLOR_BGR2RGB)\n",
    "    results = face_mesh.process(image_rgb)\n",
    "    if not results.multi_face_landmarks:\n",
    "        return None, None  \n",
    "    face_landmarks = results.multi_face_landmarks[0]\n",
    "    landmarks_array = np.array([[lm.x, lm.y, lm.z] for lm in face_landmarks.landmark]).flatten()\n",
    "    return face_landmarks, landmarks_array"
   ]
  },
  {
   "cell_type": "code",
   "execution_count": 4,
   "id": "b1396833",
   "metadata": {},
   "outputs": [],
   "source": [
    "import os\n",
    "from sklearn.svm import SVC\n",
    "from sklearn.model_selection import train_test_split\n",
    "from sklearn.metrics import accuracy_score\n",
    "import joblib\n",
    "\n",
    "X = []\n",
    "y = []\n",
    "label_to_name = {}\n",
    "\n",
    "dataset_path = \"Homework/webcam_captures/\"\n",
    "\n",
    "for idx, person_name in enumerate(os.listdir(dataset_path)):\n",
    "    label_to_name[idx] = person_name\n",
    "    person_dir = os.path.join(dataset_path, person_name)\n",
    "    for img_file in os.listdir(person_dir):\n",
    "        img_path = os.path.join(person_dir, img_file)\n",
    "        img = cv2.imread(img_path)\n",
    "        if img is None:\n",
    "            continue\n",
    "        landmarks = get_face_landmarks(img)\n",
    "        if landmarks is not None:\n",
    "            X.append(landmarks)\n",
    "            y.append(idx)\n",
    "\n",
    "X = np.array(X)\n",
    "y = np.array(y)\n",
    "\n",
    "# Разделение трейн/тест\n",
    "X_train, X_test, y_train, y_test = train_test_split(X, y, test_size=0.2, random_state=42)\n"
   ]
  },
  {
   "cell_type": "markdown",
   "id": "dcae6115",
   "metadata": {},
   "source": [
    "### 4. Обучение классификатора"
   ]
  },
  {
   "cell_type": "code",
   "execution_count": 5,
   "id": "14570982",
   "metadata": {},
   "outputs": [
    {
     "data": {
      "text/plain": [
       "['label_to_name.pkl']"
      ]
     },
     "execution_count": 5,
     "metadata": {},
     "output_type": "execute_result"
    }
   ],
   "source": [
    "# Обучение классификатора\n",
    "clf = SVC(kernel='linear', probability=True)\n",
    "clf.fit(X_train, y_train)\n",
    "\n",
    "# Сохранение модели\n",
    "joblib.dump(clf, 'face_classifier.pkl')\n",
    "joblib.dump(label_to_name, 'label_to_name.pkl')\n"
   ]
  },
  {
   "cell_type": "code",
   "execution_count": null,
   "id": "12d5ae48",
   "metadata": {},
   "outputs": [],
   "source": [
    "# Загрузка модели\n",
    "clf = joblib.load('face_classifier.pkl')\n",
    "label_to_name = joblib.load('label_to_name.pkl')"
   ]
  },
  {
   "cell_type": "markdown",
   "id": "21740d8d",
   "metadata": {},
   "source": [
    "### 5. Инференс"
   ]
  },
  {
   "cell_type": "code",
   "execution_count": null,
   "id": "7a874622",
   "metadata": {},
   "outputs": [],
   "source": [
    "cap = cv2.VideoCapture(0)\n",
    "\n",
    "while cap.isOpened():\n",
    "    ret, frame = cap.read()\n",
    "    if not ret:\n",
    "        break\n",
    "    #frame = cv2.resize(frame, (640, 480))\n",
    "\n",
    "    face_landmarks, landmarks_array = get_face_landmarks(frame)\n",
    "\n",
    "    if face_landmarks is not None:\n",
    "        # Отрисовка только точек лица\n",
    "        if show_mask:\n",
    "            drawing.draw_landmarks(\n",
    "                image=frame,\n",
    "                landmark_list=face_landmarks,\n",
    "                connections=None,\n",
    "                landmark_drawing_spec=drawing.DrawingSpec(color=(0, 255, 0), thickness=2, circle_radius=1),\n",
    "                connection_drawing_spec=None\n",
    "            )\n",
    "\n",
    "        # Предсказание класса\n",
    "        prediction = clf.predict([landmarks_array])\n",
    "        name = label_to_name[prediction[0]]\n",
    "        proba = clf.predict_proba([landmarks_array]).max()\n",
    "\n",
    "        # Отображение имени\n",
    "        text = f\"{name} ({proba*100:.1f}%)\"\n",
    "        cv2.putText(frame, text, (10, 50),\n",
    "                    cv2.FONT_HERSHEY_SIMPLEX, 1, (0, 255, 0), 2)\n",
    "\n",
    "        # Cсостояния маски\n",
    "        mask_status = \"Mask: ON\" if show_mask else \"Mask: OFF\"\n",
    "        cv2.putText(frame, mask_status, (10, 90),\n",
    "                    cv2.FONT_HERSHEY_SIMPLEX, 0.6, (0, 0, 255), 2)\n",
    "\n",
    "    cv2.imshow(\"NAOMIvsME\", frame)\n",
    "\n",
    "    key = cv2.waitKey(1) & 0xFF\n",
    "    if key == ord('q'):\n",
    "        break\n",
    "    elif key == ord('r'):\n",
    "        show_mask = not show_mask\n",
    "cap.release()\n",
    "cv2.destroyAllWindows()"
   ]
  }
 ],
 "metadata": {
  "kernelspec": {
   "display_name": "Python 3",
   "language": "python",
   "name": "python3"
  },
  "language_info": {
   "codemirror_mode": {
    "name": "ipython",
    "version": 3
   },
   "file_extension": ".py",
   "mimetype": "text/x-python",
   "name": "python",
   "nbconvert_exporter": "python",
   "pygments_lexer": "ipython3",
   "version": "3.11.9"
  }
 },
 "nbformat": 4,
 "nbformat_minor": 5
}
