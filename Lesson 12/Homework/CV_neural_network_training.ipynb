{
 "cells": [
  {
   "cell_type": "code",
   "execution_count": 1,
   "metadata": {
    "id": "621Exb17Dm1C"
   },
   "outputs": [],
   "source": [
    "import torch\n",
    "import torch.nn as nn\n",
    "import torch.nn.functional as F\n",
    "import torchvision\n",
    "import torchvision.transforms as transforms\n",
    "import matplotlib.pyplot as plt\n",
    "from tqdm import tqdm"
   ]
  },
  {
   "cell_type": "markdown",
   "metadata": {},
   "source": [
    "**Перед тем как начать выполнять задание, определитесь где вы будете обучать модель: на GPU или CPU.**"
   ]
  },
  {
   "cell_type": "code",
   "execution_count": 2,
   "metadata": {
    "colab": {
     "base_uri": "https://localhost:8080/"
    },
    "id": "_RjdUqFklWkr",
    "outputId": "c02bfb61-6750-4a9a-f750-672b0747da7c"
   },
   "outputs": [
    {
     "data": {
      "text/plain": [
       "device(type='cpu')"
      ]
     },
     "execution_count": 2,
     "metadata": {},
     "output_type": "execute_result"
    }
   ],
   "source": [
    "device = torch.device('cuda' if torch.cuda.is_available() else 'cpu')\n",
    "device"
   ]
  },
  {
   "cell_type": "markdown",
   "metadata": {
    "id": "nOHqu52v5hPJ"
   },
   "source": [
    "# Проблема затухания градиента"
   ]
  },
  {
   "cell_type": "markdown",
   "metadata": {
    "id": "VfVjxgNcMGNe"
   },
   "source": [
    "Рассмотрим проблему затухания градиента во время обучений неройнных сетей"
   ]
  },
  {
   "cell_type": "markdown",
   "metadata": {
    "id": "b8dzIsCuMRaK"
   },
   "source": [
    "**Залача 1:** Определите модель со следующей структурой:\n",
    "1. Вход и выход заданы - линейными слоями (nn.Linear)\n",
    "2. Скрытые слои - в виде линейных слоев в nn.ModuleList"
   ]
  },
  {
   "cell_type": "code",
   "execution_count": 3,
   "metadata": {
    "id": "HH04IJ7ydslR"
   },
   "outputs": [],
   "source": [
    "# Класс модели:\n",
    "class DeepMLP(nn.Module):\n",
    "    def __init__(self, input_size, hidden_size, output_size, n_hidden):\n",
    "        super(DeepMLP, self).__init__()\n",
    "        self.input_layer = nn.Linear(input_size, hidden_size)\n",
    "        self.hidden_layers = nn.ModuleList([nn.Linear(hidden_size, hidden_size) for _ in range(n_hidden)])\n",
    "        self.output_layer = nn.Linear(hidden_size, output_size)\n",
    "        \n",
    "    def forward(self, x):\n",
    "        x = x.view(-1, 28 * 28)\n",
    "        x = self.input_layer(x)\n",
    "        for hidden_layer in self.hidden_layers:\n",
    "            x = F.sigmoid(hidden_layer(x))\n",
    "        x = self.output_layer(x)\n",
    "        return x\n"
   ]
  },
  {
   "cell_type": "markdown",
   "metadata": {
    "id": "iKUqF0uLBHvF"
   },
   "source": [
    "**Вопрос:** Сколько параметров (весов) будет иметь эта модель, если инициализировать ее следующие аргументами:\n",
    "\n",
    "input_size=3, \n",
    "hidden_size=6,\n",
    "output_size=7,\n",
    "n_hidden=1\n",
    "\n",
    "**Пример ответа:** `123`"
   ]
  },
  {
   "cell_type": "code",
   "execution_count": 4,
   "metadata": {
    "id": "CTzoKU0RAq8s"
   },
   "outputs": [
    {
     "data": {
      "text/plain": [
       "115"
      ]
     },
     "execution_count": 4,
     "metadata": {},
     "output_type": "execute_result"
    }
   ],
   "source": [
    "model = DeepMLP(input_size=3, hidden_size=6,output_size=7,n_hidden=1)\n",
    "answer = sum(w.numel() for w in model.parameters())\n",
    "answer # 115"
   ]
  },
  {
   "cell_type": "markdown",
   "metadata": {
    "id": "ayAO6YzmM9iM"
   },
   "source": [
    "**Задача 2:** Вычислите среднее по градиенту в первом скрытом (!!!) слое.\n",
    "\n",
    "**Вопрос:** Каково это значение?\n",
    "\n",
    "**Пример ответа:** `1.2`"
   ]
  },
  {
   "cell_type": "code",
   "execution_count": 5,
   "metadata": {
    "colab": {
     "base_uri": "https://localhost:8080/"
    },
    "id": "-p5sW_s7Fu7Q",
    "outputId": "88fc8fb5-6c91-43e6-9ff5-25de4575ce03"
   },
   "outputs": [],
   "source": [
    "torch.manual_seed(42)\n",
    "\n",
    "model = DeepMLP(28 * 28, 6, 7, 1)\n",
    "\n",
    "criterion = torch.nn.CrossEntropyLoss()\n",
    "optimizer = torch.optim.Adam(model.parameters(), lr=0.01)\n",
    "optimizer.zero_grad()\n",
    "out = model(torch.rand((1, 28 * 28)))\n",
    "loss = criterion(out, torch.rand((1, )).long())\n",
    "\n",
    "loss.backward()"
   ]
  },
  {
   "cell_type": "code",
   "execution_count": null,
   "metadata": {
    "id": "YsbyD3LwF0-b"
   },
   "outputs": [
    {
     "data": {
      "text/plain": [
       "0.0010385029017925262"
      ]
     },
     "execution_count": 10,
     "metadata": {},
     "output_type": "execute_result"
    }
   ],
   "source": [
    "answer = model.hidden_layers[0].weight.grad.mean().item()\n",
    "answer # 0.0010385029017925262\n"
   ]
  },
  {
   "cell_type": "markdown",
   "metadata": {
    "id": "F83YYq7A9mA-"
   },
   "source": [
    "Теперь попробуйте обучить небольшую модель состоящую всего-лишь из трех скрытых слоев."
   ]
  },
  {
   "cell_type": "markdown",
   "metadata": {
    "id": "N6bIiDEzNUux"
   },
   "source": [
    "**Задача 3:** Создайте объект класса модели DeepMLP"
   ]
  },
  {
   "cell_type": "code",
   "execution_count": 11,
   "metadata": {
    "id": "MZzRzKmOHKBf"
   },
   "outputs": [],
   "source": [
    "torch.manual_seed(42)\n",
    "\n",
    "# Инициализация модели, лосс функции и оптимайзера:\n",
    "input_size = 28 * 28 # MNIST image size\n",
    "hidden_size = 32\n",
    "output_size = 10 # 10 классов MNIST\n",
    "n_hidden=3          # небольшая модель всего из трех скрытых слоев\n",
    "model = DeepMLP(input_size, hidden_size, output_size, n_hidden).to(device)"
   ]
  },
  {
   "cell_type": "markdown",
   "metadata": {
    "id": "1U7bUJBrRf-D"
   },
   "source": [
    "**Вопрос:** Какова сумма всех выходов модели для случайного входного тензора test_data?\n",
    "\n",
    "**Пример ответа:** `1.234`"
   ]
  },
  {
   "cell_type": "code",
   "execution_count": null,
   "metadata": {
    "id": "eGW9dV-aNxF4"
   },
   "outputs": [
    {
     "data": {
      "text/plain": [
       "-0.5515778064727783"
      ]
     },
     "execution_count": 12,
     "metadata": {},
     "output_type": "execute_result"
    }
   ],
   "source": [
    "test_data = torch.rand((1, 28*28)).to(device)\n",
    "\n",
    "answer = model(test_data).sum().item()\n",
    "answer # -0.5515778064727783"
   ]
  },
  {
   "cell_type": "markdown",
   "metadata": {},
   "source": [
    "Теперь попробуем имплементировать цикл обучения и затем обучить модель на датасете MNIST. Но для начала давайте скачаем и подготовим этот датасет для обучения:"
   ]
  },
  {
   "cell_type": "code",
   "execution_count": 13,
   "metadata": {
    "colab": {
     "base_uri": "https://localhost:8080/",
     "height": 431,
     "referenced_widgets": [
      "3f8e52d7ada947a9a86cccc688a03c27",
      "5dd8f6c8b14b4ad09fd86a15ffa456ea",
      "1b437b0c915549b19225dc3459d5eab0",
      "158a2671a1f846e3808fdebfbc85a0a8",
      "2f35198891fb4c41a7bfeb8bfaef94df",
      "4b410b1dc0854543b2247282a5153fac",
      "ccce112b1b324e28b189d9ee2d5e47ab",
      "934ccc3dc11543cdb17c81c5a98e5921",
      "472f3fcd1b4544bf95b3c8422360cd9a",
      "b2dce7051bfe48a49e2007c480fd803f",
      "6bdff8a3a3434736bef90c73cf64be19",
      "519455372df4443f841defbe6c20d72f",
      "0ffcc374bbfe4d5a89d883d65336e919",
      "a2f280df2edb4a74acf97234c2c37810",
      "3ad89c2289e446d696b926f618db17ae",
      "0d22f9c1fa3e46b29ea5421aaad84738",
      "f63029edca9f4fc88f7bb98827916759",
      "aaa8d79a5b424609a06a8d0afcb8b48f",
      "0d2f43eb91b943f78a17bae9c6bbb182",
      "577bd1a594144e42864d09296cc8ed31",
      "ee30d07d5ea44e74824c36252e650cb1",
      "3e8287f8b1f64d7e86ece632bf1a1127",
      "f54257e8690144c2bf64a7ac4d5852f6",
      "3e6d5e6dde0b4715b214009c448038d2",
      "5e91d981cc08421e802c385b2a004ce1",
      "b92de090e34a48d99e0a9e769aeb6a6d",
      "5338a92c8e054f74a2c51c8c84f23fbc",
      "b941b441ad73433ebd91b3b5e32918a7",
      "9af3c7842023410b95b51194e3ce5785",
      "7d29978830a8450cbb52c18c5b890f6f",
      "f82d82f7b4ab4ee4b6dce82e269e20d9",
      "c173a6ceaf2f45ccb301000675bfcd79",
      "1314e991cc824859baabcff65fce46ce",
      "f9fb6123f6784de7bde185d36e6eac28",
      "0ab9317bc3654c06b938ae2cd29035d7",
      "7a433685d79f4859a23a1a012ec9640b",
      "8cc2078175b44094918798344824c275",
      "29331652749544e9a303e626f10b4bce",
      "19bb4c0ea8cc46b1a7d4ead2ab7a76c6",
      "d1be317d23574ba9955f7b78200c8c10",
      "773a7c98dffc44b3bc755870c19fea6d",
      "40207981f4a942e3a66c81983c9725ff",
      "3cf590dae1ba464b8bf02657b7b72c9c",
      "a5185e691c684042bf925c92284db9ad"
     ]
    },
    "id": "LHxa0Ooj8YGW",
    "outputId": "7c20aa41-2f55-44b3-ca14-365fb49a493e"
   },
   "outputs": [
    {
     "name": "stderr",
     "output_type": "stream",
     "text": [
      "100%|██████████| 9.91M/9.91M [00:05<00:00, 1.95MB/s]\n",
      "100%|██████████| 28.9k/28.9k [00:00<00:00, 144kB/s]\n",
      "100%|██████████| 1.65M/1.65M [00:01<00:00, 1.12MB/s]\n",
      "100%|██████████| 4.54k/4.54k [00:00<00:00, 4.56MB/s]\n"
     ]
    }
   ],
   "source": [
    "# Загрузка и подготовка датасета MNIST:\n",
    "transform = transforms.Compose([transforms.ToTensor(), transforms.Normalize((0.5,), (0.5,))])\n",
    "trainset = torchvision.datasets.MNIST(root='./data', train=True, download=True, transform=transform)\n",
    "trainloader = torch.utils.data.DataLoader(trainset, batch_size=64, shuffle=True, num_workers=2)"
   ]
  },
  {
   "cell_type": "code",
   "execution_count": 14,
   "metadata": {
    "id": "9jsdIQPOCJLU"
   },
   "outputs": [],
   "source": [
    "# Опишем цикл обучения:\n",
    "def train(model, trainloader, criterion, optimizer):\n",
    "  torch.manual_seed(42)\n",
    "\n",
    "  model.train()\n",
    "\n",
    "  fc_gradients = []\n",
    "\n",
    "  for step, data in tqdm(enumerate(trainloader), total=len(trainloader)):\n",
    "      inputs, labels = data\n",
    "      inputs, labels = inputs.to(device), labels.to(device)\n",
    "\n",
    "      optimizer.zero_grad()\n",
    "      outputs = model(inputs)\n",
    "      loss = criterion(outputs, labels)\n",
    "      \n",
    "      loss.backward()\n",
    "      optimizer.step()\n",
    "\n",
    "      if step % 10 == 0:\n",
    "        print(f'Step: {step}, Loss: {loss}')\n",
    "        \n",
    "      fc_gradients.append(model.hidden_layers[0].weight.grad.mean().item())  # <------ код из решения задачи 2\n",
    "\n",
    "  return fc_gradients"
   ]
  },
  {
   "cell_type": "code",
   "execution_count": 15,
   "metadata": {
    "colab": {
     "base_uri": "https://localhost:8080/"
    },
    "id": "_RN00uEEnHlo",
    "outputId": "aeba63b4-b000-43cc-f365-96c4472a9f0b"
   },
   "outputs": [
    {
     "name": "stderr",
     "output_type": "stream",
     "text": [
      "  3%|▎         | 26/938 [00:02<01:04, 14.20it/s]"
     ]
    },
    {
     "name": "stdout",
     "output_type": "stream",
     "text": [
      "Step: 0, Loss: 2.2937896251678467\n",
      "Step: 10, Loss: 2.2889366149902344\n",
      "Step: 20, Loss: 2.2910501956939697\n",
      "Step: 30, Loss: 2.154608964920044\n",
      "Step: 40, Loss: 2.0164732933044434\n",
      "Step: 50, Loss: 1.8274619579315186\n"
     ]
    },
    {
     "name": "stderr",
     "output_type": "stream",
     "text": [
      " 11%|█         | 102/938 [00:02<00:11, 75.99it/s]"
     ]
    },
    {
     "name": "stdout",
     "output_type": "stream",
     "text": [
      "Step: 60, Loss: 1.683337688446045\n",
      "Step: 70, Loss: 1.580724835395813\n",
      "Step: 80, Loss: 1.5134083032608032\n",
      "Step: 90, Loss: 1.4839725494384766\n",
      "Step: 100, Loss: 1.3082810640335083\n"
     ]
    },
    {
     "name": "stderr",
     "output_type": "stream",
     "text": [
      " 16%|█▌        | 149/938 [00:03<00:06, 121.65it/s]"
     ]
    },
    {
     "name": "stdout",
     "output_type": "stream",
     "text": [
      "Step: 110, Loss: 1.525537371635437\n",
      "Step: 120, Loss: 1.2212271690368652\n",
      "Step: 130, Loss: 1.198136568069458\n",
      "Step: 140, Loss: 1.532899022102356\n",
      "Step: 150, Loss: 1.4099112749099731\n",
      "Step: 160, Loss: 1.3025422096252441\n"
     ]
    },
    {
     "name": "stderr",
     "output_type": "stream",
     "text": [
      " 21%|██▏       | 200/938 [00:03<00:04, 169.88it/s]"
     ]
    },
    {
     "name": "stdout",
     "output_type": "stream",
     "text": [
      "Step: 170, Loss: 1.2258498668670654\n",
      "Step: 180, Loss: 1.3075964450836182\n",
      "Step: 190, Loss: 0.9966344237327576\n",
      "Step: 200, Loss: 0.8094055652618408\n",
      "Step: 210, Loss: 1.2798312902450562\n",
      "Step: 220, Loss: 1.165363073348999\n"
     ]
    },
    {
     "name": "stderr",
     "output_type": "stream",
     "text": [
      " 30%|██▉       | 278/938 [00:03<00:03, 217.70it/s]"
     ]
    },
    {
     "name": "stdout",
     "output_type": "stream",
     "text": [
      "Step: 230, Loss: 1.0180504322052002\n",
      "Step: 240, Loss: 1.025296926498413\n",
      "Step: 250, Loss: 1.0189836025238037\n",
      "Step: 260, Loss: 0.960390031337738\n",
      "Step: 270, Loss: 0.8671618103981018\n"
     ]
    },
    {
     "name": "stderr",
     "output_type": "stream",
     "text": [
      " 32%|███▏      | 303/938 [00:03<00:02, 225.76it/s]"
     ]
    },
    {
     "name": "stdout",
     "output_type": "stream",
     "text": [
      "Step: 280, Loss: 0.9865818023681641\n",
      "Step: 290, Loss: 1.0258790254592896\n",
      "Step: 300, Loss: 1.251539707183838\n",
      "Step: 310, Loss: 0.830844521522522\n",
      "Step: 320, Loss: 0.967064380645752\n"
     ]
    },
    {
     "name": "stderr",
     "output_type": "stream",
     "text": [
      " 40%|████      | 379/938 [00:03<00:02, 235.12it/s]"
     ]
    },
    {
     "name": "stdout",
     "output_type": "stream",
     "text": [
      "Step: 330, Loss: 1.006798267364502\n",
      "Step: 340, Loss: 0.7631887197494507\n",
      "Step: 350, Loss: 0.9838067293167114\n",
      "Step: 360, Loss: 0.9603957533836365\n",
      "Step: 370, Loss: 0.9713491797447205\n"
     ]
    },
    {
     "name": "stderr",
     "output_type": "stream",
     "text": [
      " 43%|████▎     | 404/938 [00:04<00:02, 232.82it/s]"
     ]
    },
    {
     "name": "stdout",
     "output_type": "stream",
     "text": [
      "Step: 380, Loss: 0.9232667088508606\n",
      "Step: 390, Loss: 0.7476871609687805\n",
      "Step: 400, Loss: 1.0440927743911743\n",
      "Step: 410, Loss: 0.7138468027114868\n",
      "Step: 420, Loss: 0.8185391426086426\n"
     ]
    },
    {
     "name": "stderr",
     "output_type": "stream",
     "text": [
      " 51%|█████     | 480/938 [00:04<00:01, 241.64it/s]"
     ]
    },
    {
     "name": "stdout",
     "output_type": "stream",
     "text": [
      "Step: 430, Loss: 0.7134737968444824\n",
      "Step: 440, Loss: 0.730175793170929\n",
      "Step: 450, Loss: 0.5549497604370117\n",
      "Step: 460, Loss: 0.941782534122467\n",
      "Step: 470, Loss: 0.6018438339233398\n"
     ]
    },
    {
     "name": "stderr",
     "output_type": "stream",
     "text": [
      " 57%|█████▋    | 531/938 [00:04<00:01, 245.03it/s]"
     ]
    },
    {
     "name": "stdout",
     "output_type": "stream",
     "text": [
      "Step: 480, Loss: 0.6134659647941589\n",
      "Step: 490, Loss: 0.8149213194847107\n",
      "Step: 500, Loss: 1.0050498247146606\n",
      "Step: 510, Loss: 0.8293569684028625\n",
      "Step: 520, Loss: 0.9351283311843872\n",
      "Step: 530, Loss: 1.051263451576233\n"
     ]
    },
    {
     "name": "stderr",
     "output_type": "stream",
     "text": [
      " 62%|██████▏   | 582/938 [00:04<00:01, 246.92it/s]"
     ]
    },
    {
     "name": "stdout",
     "output_type": "stream",
     "text": [
      "Step: 540, Loss: 0.7672565579414368\n",
      "Step: 550, Loss: 0.7662622928619385\n",
      "Step: 560, Loss: 0.8446758389472961\n",
      "Step: 570, Loss: 1.0112249851226807\n",
      "Step: 580, Loss: 0.9176709651947021\n",
      "Step: 590, Loss: 1.1760613918304443\n"
     ]
    },
    {
     "name": "stderr",
     "output_type": "stream",
     "text": [
      " 67%|██████▋   | 632/938 [00:05<00:01, 242.28it/s]"
     ]
    },
    {
     "name": "stdout",
     "output_type": "stream",
     "text": [
      "Step: 600, Loss: 0.7197832465171814\n",
      "Step: 610, Loss: 0.808471143245697\n",
      "Step: 620, Loss: 0.6378464102745056\n",
      "Step: 630, Loss: 0.8269914388656616\n",
      "Step: 640, Loss: 0.7192348837852478\n"
     ]
    },
    {
     "name": "stderr",
     "output_type": "stream",
     "text": [
      " 73%|███████▎  | 682/938 [00:05<00:01, 241.38it/s]"
     ]
    },
    {
     "name": "stdout",
     "output_type": "stream",
     "text": [
      "Step: 650, Loss: 0.7457076907157898\n",
      "Step: 660, Loss: 0.7320868968963623\n",
      "Step: 670, Loss: 1.2856744527816772\n",
      "Step: 680, Loss: 1.189614176750183\n",
      "Step: 690, Loss: 1.1077910661697388\n"
     ]
    },
    {
     "name": "stderr",
     "output_type": "stream",
     "text": [
      " 78%|███████▊  | 731/938 [00:05<00:00, 233.53it/s]"
     ]
    },
    {
     "name": "stdout",
     "output_type": "stream",
     "text": [
      "Step: 700, Loss: 0.8198347091674805\n",
      "Step: 710, Loss: 0.8690475225448608\n",
      "Step: 720, Loss: 0.7203513383865356\n",
      "Step: 730, Loss: 0.7186920046806335\n",
      "Step: 740, Loss: 0.6397549510002136\n",
      "Step: 750, Loss: 0.4731939733028412\n"
     ]
    },
    {
     "name": "stderr",
     "output_type": "stream",
     "text": [
      " 86%|████████▌ | 805/938 [00:05<00:00, 237.43it/s]"
     ]
    },
    {
     "name": "stdout",
     "output_type": "stream",
     "text": [
      "Step: 760, Loss: 0.8411208391189575\n",
      "Step: 770, Loss: 0.8321958780288696\n",
      "Step: 780, Loss: 0.648811399936676\n",
      "Step: 790, Loss: 0.8235577344894409\n",
      "Step: 800, Loss: 0.5993244051933289\n"
     ]
    },
    {
     "name": "stderr",
     "output_type": "stream",
     "text": [
      " 88%|████████▊ | 829/938 [00:05<00:00, 236.51it/s]"
     ]
    },
    {
     "name": "stdout",
     "output_type": "stream",
     "text": [
      "Step: 810, Loss: 0.6706565618515015\n",
      "Step: 820, Loss: 0.915051281452179\n",
      "Step: 830, Loss: 0.6087186932563782\n",
      "Step: 840, Loss: 0.7651242017745972\n"
     ]
    },
    {
     "name": "stderr",
     "output_type": "stream",
     "text": [
      " 93%|█████████▎| 876/938 [00:06<00:00, 214.27it/s]"
     ]
    },
    {
     "name": "stdout",
     "output_type": "stream",
     "text": [
      "Step: 850, Loss: 1.1403437852859497\n",
      "Step: 860, Loss: 0.6345685124397278\n",
      "Step: 870, Loss: 0.5910040140151978\n",
      "Step: 880, Loss: 0.6195895075798035\n",
      "Step: 890, Loss: 0.7881004810333252\n"
     ]
    },
    {
     "name": "stderr",
     "output_type": "stream",
     "text": [
      " 99%|█████████▊| 925/938 [00:06<00:00, 213.41it/s]"
     ]
    },
    {
     "name": "stdout",
     "output_type": "stream",
     "text": [
      "Step: 900, Loss: 0.8610857725143433\n",
      "Step: 910, Loss: 0.7456798553466797\n",
      "Step: 920, Loss: 0.7235593199729919\n",
      "Step: 930, Loss: 0.6586704254150391\n"
     ]
    },
    {
     "name": "stderr",
     "output_type": "stream",
     "text": [
      "100%|██████████| 938/938 [00:06<00:00, 134.42it/s]\n"
     ]
    }
   ],
   "source": [
    "# Теперь обучим модель:\n",
    "criterion = torch.nn.CrossEntropyLoss()\n",
    "optimizer = torch.optim.Adam(model.parameters(), lr=0.01)\n",
    "\n",
    "_ = train(model, trainloader, criterion, optimizer)"
   ]
  },
  {
   "cell_type": "markdown",
   "metadata": {
    "id": "M-5yznsF-HFY"
   },
   "source": [
    "Как вы можете видеть, модель сходится, хотя и не очень хорошо. Вы должны получить лосс в диапазоне 0.5-0.9. Низкая производительность модели обусловлена тем, что трех скрытых слоев недостаточно чтобы хорошо обучить эту модель классифицировать MNIST датасет.\n",
    "\n",
    "Теперь попробуйте увеличить количество скрытых слоев до 10 и обучить модель еще раз."
   ]
  },
  {
   "cell_type": "markdown",
   "metadata": {
    "id": "MNoNuy9uNgTa"
   },
   "source": [
    "**Задача 4:** Увеличьте число скрытых слоев до 10."
   ]
  },
  {
   "cell_type": "code",
   "execution_count": 16,
   "metadata": {
    "id": "U_TvJ0QYSByU"
   },
   "outputs": [],
   "source": [
    "torch.manual_seed(42)\n",
    "\n",
    "# Инициализация модели, лосс функции и оптимайзера:\n",
    "input_size = 28 * 28 # MNIST image size\n",
    "hidden_size = 32\n",
    "output_size = 10\n",
    "n_hidden = 10 # \n",
    "model = DeepMLP(input_size, hidden_size, output_size, n_hidden).to(device)"
   ]
  },
  {
   "cell_type": "markdown",
   "metadata": {
    "id": "_0piWj0tSWLA"
   },
   "source": [
    "**Вопрос:** Посчитайте и выведите количество скрытых слоев модели.\n",
    "\n",
    "**Пример ответа:** `3`"
   ]
  },
  {
   "cell_type": "code",
   "execution_count": 17,
   "metadata": {
    "id": "FvC2WyBESSN3"
   },
   "outputs": [
    {
     "data": {
      "text/plain": [
       "10"
      ]
     },
     "execution_count": 17,
     "metadata": {},
     "output_type": "execute_result"
    }
   ],
   "source": [
    "answer = len(list(model.hidden_layers))\n",
    "answer   # 10"
   ]
  },
  {
   "cell_type": "code",
   "execution_count": 18,
   "metadata": {
    "colab": {
     "base_uri": "https://localhost:8080/"
    },
    "id": "1SRP2f3yCLAK",
    "outputId": "b9ad19ad-b3c0-4760-a37c-c0f169d60a09"
   },
   "outputs": [
    {
     "name": "stderr",
     "output_type": "stream",
     "text": [
      "  3%|▎         | 27/938 [00:02<01:03, 14.27it/s]"
     ]
    },
    {
     "name": "stdout",
     "output_type": "stream",
     "text": [
      "Step: 0, Loss: 2.3116233348846436\n",
      "Step: 10, Loss: 2.2927768230438232\n",
      "Step: 20, Loss: 2.3289730548858643\n",
      "Step: 30, Loss: 2.3101611137390137\n",
      "Step: 40, Loss: 2.3166162967681885\n",
      "Step: 50, Loss: 2.334523916244507\n"
     ]
    },
    {
     "name": "stderr",
     "output_type": "stream",
     "text": [
      " 11%|█         | 99/938 [00:02<00:11, 71.60it/s]"
     ]
    },
    {
     "name": "stdout",
     "output_type": "stream",
     "text": [
      "Step: 60, Loss: 2.3023855686187744\n",
      "Step: 70, Loss: 2.3015942573547363\n",
      "Step: 80, Loss: 2.3111732006073\n",
      "Step: 90, Loss: 2.2828001976013184\n",
      "Step: 100, Loss: 2.3095765113830566\n"
     ]
    },
    {
     "name": "stderr",
     "output_type": "stream",
     "text": [
      " 15%|█▌        | 145/938 [00:03<00:06, 115.95it/s]"
     ]
    },
    {
     "name": "stdout",
     "output_type": "stream",
     "text": [
      "Step: 110, Loss: 2.2963788509368896\n",
      "Step: 120, Loss: 2.2688262462615967\n",
      "Step: 130, Loss: 2.2773725986480713\n",
      "Step: 140, Loss: 2.292206048965454\n",
      "Step: 150, Loss: 2.307490348815918\n",
      "Step: 160, Loss: 2.3057727813720703\n"
     ]
    },
    {
     "name": "stderr",
     "output_type": "stream",
     "text": [
      " 21%|██        | 195/938 [00:03<00:04, 163.78it/s]"
     ]
    },
    {
     "name": "stdout",
     "output_type": "stream",
     "text": [
      "Step: 170, Loss: 2.292785167694092\n",
      "Step: 180, Loss: 2.2967798709869385\n",
      "Step: 190, Loss: 2.303372621536255\n",
      "Step: 200, Loss: 2.2963035106658936\n",
      "Step: 210, Loss: 2.3021485805511475\n"
     ]
    },
    {
     "name": "stderr",
     "output_type": "stream",
     "text": [
      " 29%|██▊       | 268/938 [00:03<00:03, 205.34it/s]"
     ]
    },
    {
     "name": "stdout",
     "output_type": "stream",
     "text": [
      "Step: 220, Loss: 2.320111036300659\n",
      "Step: 230, Loss: 2.2967655658721924\n",
      "Step: 240, Loss: 2.3166937828063965\n",
      "Step: 250, Loss: 2.300534963607788\n",
      "Step: 260, Loss: 2.3093209266662598\n"
     ]
    },
    {
     "name": "stderr",
     "output_type": "stream",
     "text": [
      " 31%|███       | 292/938 [00:03<00:03, 211.82it/s]"
     ]
    },
    {
     "name": "stdout",
     "output_type": "stream",
     "text": [
      "Step: 270, Loss: 2.3047688007354736\n",
      "Step: 280, Loss: 2.2988860607147217\n",
      "Step: 290, Loss: 2.2999863624572754\n",
      "Step: 300, Loss: 2.313730478286743\n",
      "Step: 310, Loss: 2.2899210453033447\n"
     ]
    },
    {
     "name": "stderr",
     "output_type": "stream",
     "text": [
      " 39%|███▊      | 362/938 [00:04<00:02, 220.98it/s]"
     ]
    },
    {
     "name": "stdout",
     "output_type": "stream",
     "text": [
      "Step: 320, Loss: 2.3008487224578857\n",
      "Step: 330, Loss: 2.2937445640563965\n",
      "Step: 340, Loss: 2.308018684387207\n",
      "Step: 350, Loss: 2.3129148483276367\n",
      "Step: 360, Loss: 2.2795770168304443\n"
     ]
    },
    {
     "name": "stderr",
     "output_type": "stream",
     "text": [
      " 43%|████▎     | 408/938 [00:04<00:02, 213.85it/s]"
     ]
    },
    {
     "name": "stdout",
     "output_type": "stream",
     "text": [
      "Step: 370, Loss: 2.301941156387329\n",
      "Step: 380, Loss: 2.303889274597168\n",
      "Step: 390, Loss: 2.303920030593872\n",
      "Step: 400, Loss: 2.319232702255249\n",
      "Step: 410, Loss: 2.304791212081909\n"
     ]
    },
    {
     "name": "stderr",
     "output_type": "stream",
     "text": [
      " 49%|████▉     | 458/938 [00:04<00:02, 230.26it/s]"
     ]
    },
    {
     "name": "stdout",
     "output_type": "stream",
     "text": [
      "Step: 420, Loss: 2.3087210655212402\n",
      "Step: 430, Loss: 2.301931858062744\n",
      "Step: 440, Loss: 2.3054850101470947\n",
      "Step: 450, Loss: 2.3106303215026855\n",
      "Step: 460, Loss: 2.2992069721221924\n",
      "Step: 470, Loss: 2.299790143966675\n"
     ]
    },
    {
     "name": "stderr",
     "output_type": "stream",
     "text": [
      " 54%|█████▍    | 508/938 [00:04<00:01, 237.34it/s]"
     ]
    },
    {
     "name": "stdout",
     "output_type": "stream",
     "text": [
      "Step: 480, Loss: 2.2870547771453857\n",
      "Step: 490, Loss: 2.300715208053589\n",
      "Step: 500, Loss: 2.305913209915161\n",
      "Step: 510, Loss: 2.306124210357666\n",
      "Step: 520, Loss: 2.296645402908325\n",
      "Step: 530, Loss: 2.298403024673462\n"
     ]
    },
    {
     "name": "stderr",
     "output_type": "stream",
     "text": [
      " 62%|██████▏   | 585/938 [00:05<00:01, 247.77it/s]"
     ]
    },
    {
     "name": "stdout",
     "output_type": "stream",
     "text": [
      "Step: 540, Loss: 2.3022847175598145\n",
      "Step: 550, Loss: 2.3009307384490967\n",
      "Step: 560, Loss: 2.29413104057312\n",
      "Step: 570, Loss: 2.3121469020843506\n",
      "Step: 580, Loss: 2.307267665863037\n"
     ]
    },
    {
     "name": "stderr",
     "output_type": "stream",
     "text": [
      " 68%|██████▊   | 635/938 [00:05<00:01, 247.57it/s]"
     ]
    },
    {
     "name": "stdout",
     "output_type": "stream",
     "text": [
      "Step: 590, Loss: 2.3139257431030273\n",
      "Step: 600, Loss: 2.295274257659912\n",
      "Step: 610, Loss: 2.32055926322937\n",
      "Step: 620, Loss: 2.2999744415283203\n",
      "Step: 630, Loss: 2.311312198638916\n"
     ]
    },
    {
     "name": "stderr",
     "output_type": "stream",
     "text": [
      " 73%|███████▎  | 686/938 [00:05<00:01, 247.71it/s]"
     ]
    },
    {
     "name": "stdout",
     "output_type": "stream",
     "text": [
      "Step: 640, Loss: 2.2809951305389404\n",
      "Step: 650, Loss: 2.298368453979492\n",
      "Step: 660, Loss: 2.306234121322632\n",
      "Step: 670, Loss: 2.292137384414673\n",
      "Step: 680, Loss: 2.3122923374176025\n"
     ]
    },
    {
     "name": "stderr",
     "output_type": "stream",
     "text": [
      " 78%|███████▊  | 736/938 [00:05<00:00, 241.65it/s]"
     ]
    },
    {
     "name": "stdout",
     "output_type": "stream",
     "text": [
      "Step: 690, Loss: 2.3026340007781982\n",
      "Step: 700, Loss: 2.3024535179138184\n",
      "Step: 710, Loss: 2.2988359928131104\n",
      "Step: 720, Loss: 2.316863775253296\n",
      "Step: 730, Loss: 2.3063318729400635\n"
     ]
    },
    {
     "name": "stderr",
     "output_type": "stream",
     "text": [
      " 81%|████████  | 761/938 [00:05<00:00, 236.54it/s]"
     ]
    },
    {
     "name": "stdout",
     "output_type": "stream",
     "text": [
      "Step: 740, Loss: 2.2941946983337402\n",
      "Step: 750, Loss: 2.2960400581359863\n",
      "Step: 760, Loss: 2.3012545108795166\n",
      "Step: 770, Loss: 2.3173437118530273\n",
      "Step: 780, Loss: 2.2927865982055664\n"
     ]
    },
    {
     "name": "stderr",
     "output_type": "stream",
     "text": [
      " 86%|████████▋ | 810/938 [00:05<00:00, 229.75it/s]"
     ]
    },
    {
     "name": "stdout",
     "output_type": "stream",
     "text": [
      "Step: 790, Loss: 2.2951316833496094\n",
      "Step: 800, Loss: 2.2958858013153076\n",
      "Step: 810, Loss: 2.3131909370422363\n",
      "Step: 820, Loss: 2.3094005584716797\n",
      "Step: 830, Loss: 2.3140487670898438\n"
     ]
    },
    {
     "name": "stderr",
     "output_type": "stream",
     "text": [
      " 94%|█████████▍| 884/938 [00:06<00:00, 238.49it/s]"
     ]
    },
    {
     "name": "stdout",
     "output_type": "stream",
     "text": [
      "Step: 840, Loss: 2.3108713626861572\n",
      "Step: 850, Loss: 2.3054325580596924\n",
      "Step: 860, Loss: 2.3024678230285645\n",
      "Step: 870, Loss: 2.2862765789031982\n",
      "Step: 880, Loss: 2.297034978866577\n",
      "Step: 890, Loss: 2.3039724826812744\n"
     ]
    },
    {
     "name": "stderr",
     "output_type": "stream",
     "text": [
      " 99%|█████████▉| 932/938 [00:06<00:00, 224.88it/s]"
     ]
    },
    {
     "name": "stdout",
     "output_type": "stream",
     "text": [
      "Step: 900, Loss: 2.301696300506592\n",
      "Step: 910, Loss: 2.2977378368377686\n",
      "Step: 920, Loss: 2.29618763923645\n",
      "Step: 930, Loss: 2.297502040863037\n"
     ]
    },
    {
     "name": "stderr",
     "output_type": "stream",
     "text": [
      "100%|██████████| 938/938 [00:07<00:00, 132.50it/s]\n"
     ]
    }
   ],
   "source": [
    "# Обучите модель еще раз:\n",
    "criterion = torch.nn.CrossEntropyLoss()\n",
    "optimizer = torch.optim.Adam(model.parameters(), lr=0.01)\n",
    "\n",
    "fc_gradients = train(model, trainloader, criterion, optimizer)"
   ]
  },
  {
   "cell_type": "markdown",
   "metadata": {
    "id": "affdDjGwpkhE"
   },
   "source": [
    "Как вы можете видеть, лосс прекратил уменьшаться. Почему так произошло? Давайте визуализируем градиент для первого скрытого слоя (который записан в переменную fc_gradients; остальные скрытые слои будут иметь похожий градиена, так что опустим их)."
   ]
  },
  {
   "cell_type": "code",
   "execution_count": 19,
   "metadata": {
    "colab": {
     "base_uri": "https://localhost:8080/",
     "height": 313
    },
    "id": "HAWCQvPcnVjf",
    "outputId": "6bbf4926-46ad-4a5b-dafe-73b0c83ead03"
   },
   "outputs": [
    {
     "name": "stderr",
     "output_type": "stream",
     "text": [
      "C:\\Users\\khari\\AppData\\Local\\Temp\\ipykernel_2364\\2019969697.py:3: UserWarning: No artists with labels found to put in legend.  Note that artists whose label start with an underscore are ignored when legend() is called with no argument.\n",
      "  plt.legend()\n"
     ]
    },
    {
     "data": {
      "image/png": "[encoded data removed]",
      "text/plain": [
       "<Figure size 640x480 with 1 Axes>"
      ]
     },
     "metadata": {},
     "output_type": "display_data"
    }
   ],
   "source": [
    "# Визуализируйте градиент:\n",
    "plt.plot(fc_gradients)\n",
    "plt.legend()\n",
    "plt.title(\"Gradients of Linear Layers\")\n",
    "plt.xlabel(\"Training Step\")\n",
    "plt.ylabel(\"Gradient Value\")\n",
    "plt.show()"
   ]
  },
  {
   "cell_type": "markdown",
   "metadata": {
    "id": "KCIGhCZGpi36"
   },
   "source": [
    "Как видите, после примерно 300 итерации градиент начал *затухать*, что означает, что веса скрытых слоев перестали обучаться. По этой причине лосс и перестал уменьшаться, т.к. градиент стал слишком мал чтобы влиять на веса слоев.\n",
    "\n",
    "Глубокие модели (с большим числом скрытых слоев) подвержены проблеме затухания градиента, что приводит к тому, что такие модели не могут обучаться эффективно. \n",
    "\n",
    "Одна из причин этого (в этом примере) это использования sigmoid в качестве функции активации. Давайте изменим функцию активации на ReLU и переобучим модель еще раз."
   ]
  },
  {
   "cell_type": "markdown",
   "metadata": {
    "id": "5zfV3UDUNpBb"
   },
   "source": [
    "**Задача 5:** Замените sigmoid на ReLU"
   ]
  },
  {
   "cell_type": "code",
   "execution_count": 20,
   "metadata": {
    "id": "Ew7ay6l5Gmnw"
   },
   "outputs": [],
   "source": [
    "# Замените sigmoid на ReLU:\n",
    "class DeepMLP_ReLU(nn.Module):\n",
    "    def __init__(self, input_size, hidden_size, output_size, n_hidden):\n",
    "        super(DeepMLP_ReLU, self).__init__()\n",
    "        self.input_layer = nn.Linear(input_size, hidden_size)\n",
    "        self.hidden_layers = nn.ModuleList([nn.Linear(hidden_size, hidden_size) for _ in range(n_hidden)])\n",
    "        self.output_layer = nn.Linear(hidden_size, output_size)\n",
    "        \n",
    "    def forward(self, x):\n",
    "        x = x.view(-1, 28 * 28)\n",
    "        x = self.input_layer(x)\n",
    "        for hidden_layer in self.hidden_layers:\n",
    "            x = F.relu(hidden_layer(x))  # <---- Замена Sigmoid → ReLU\n",
    "        x = self.output_layer(x)\n",
    "        return x"
   ]
  },
  {
   "cell_type": "markdown",
   "metadata": {
    "id": "EtfHKOkRVvBx"
   },
   "source": [
    "**Вопрос:** Посчитайте и выведите сумму всех выходов модели для рандомного входного тензора test_input\n",
    "\n",
    "**Пример ответа:** `0.234`"
   ]
  },
  {
   "cell_type": "code",
   "execution_count": 21,
   "metadata": {
    "colab": {
     "base_uri": "https://localhost:8080/",
     "height": 204
    },
    "id": "jdGs2f3rTEh7",
    "outputId": "5377fc68-b250-4050-9df1-9a4b5c93f496"
   },
   "outputs": [],
   "source": [
    "# Инициализируйте модель с ReLU:\n",
    "torch.manual_seed(42)\n",
    "\n",
    "input_size = 28 * 28\n",
    "hidden_size = 32\n",
    "output_size = 10\n",
    "n_hidden=10\n",
    "model_relu = DeepMLP_ReLU(input_size, hidden_size, output_size, n_hidden).to(device)"
   ]
  },
  {
   "cell_type": "code",
   "execution_count": null,
   "metadata": {
    "id": "P7oUfFVrWaSS"
   },
   "outputs": [
    {
     "data": {
      "text/plain": [
       "-0.2574273943901062"
      ]
     },
     "execution_count": 22,
     "metadata": {},
     "output_type": "execute_result"
    }
   ],
   "source": [
    "torch.manual_seed(42)\n",
    "test_input = torch.rand(1, 28*28).to(device)\n",
    "answer = answer = model(test_data).sum().item()\n",
    "answer   # -0.2574273943901062"
   ]
  },
  {
   "cell_type": "code",
   "execution_count": 23,
   "metadata": {
    "id": "IbGt_9VlUN8F"
   },
   "outputs": [
    {
     "name": "stderr",
     "output_type": "stream",
     "text": [
      "  2%|▏         | 20/938 [00:02<01:26, 10.60it/s]"
     ]
    },
    {
     "name": "stdout",
     "output_type": "stream",
     "text": [
      "Step: 0, Loss: 2.303701162338257\n",
      "Step: 10, Loss: 2.2954559326171875\n",
      "Step: 20, Loss: 2.302825450897217\n",
      "Step: 30, Loss: 2.304783821105957\n",
      "Step: 40, Loss: 2.2693960666656494\n"
     ]
    },
    {
     "name": "stderr",
     "output_type": "stream",
     "text": [
      " 10%|█         | 94/938 [00:02<00:11, 70.96it/s]"
     ]
    },
    {
     "name": "stdout",
     "output_type": "stream",
     "text": [
      "Step: 50, Loss: 2.2888948917388916\n",
      "Step: 60, Loss: 2.2994587421417236\n",
      "Step: 70, Loss: 2.233182668685913\n",
      "Step: 80, Loss: 2.084224224090576\n",
      "Step: 90, Loss: 2.1644632816314697\n"
     ]
    },
    {
     "name": "stderr",
     "output_type": "stream",
     "text": [
      " 15%|█▍        | 139/938 [00:03<00:06, 114.57it/s]"
     ]
    },
    {
     "name": "stdout",
     "output_type": "stream",
     "text": [
      "Step: 100, Loss: 1.886821985244751\n",
      "Step: 110, Loss: 2.1723809242248535\n",
      "Step: 120, Loss: 1.598232388496399\n",
      "Step: 130, Loss: 1.674208164215088\n",
      "Step: 140, Loss: 1.6234245300292969\n"
     ]
    },
    {
     "name": "stderr",
     "output_type": "stream",
     "text": [
      " 20%|█▉        | 187/938 [00:03<00:04, 160.08it/s]"
     ]
    },
    {
     "name": "stdout",
     "output_type": "stream",
     "text": [
      "Step: 150, Loss: 1.508836030960083\n",
      "Step: 160, Loss: 1.4847134351730347\n",
      "Step: 170, Loss: 1.7356793880462646\n",
      "Step: 180, Loss: 1.5706602334976196\n",
      "Step: 190, Loss: 1.4291819334030151\n"
     ]
    },
    {
     "name": "stderr",
     "output_type": "stream",
     "text": [
      " 25%|██▌       | 236/938 [00:03<00:03, 194.97it/s]"
     ]
    },
    {
     "name": "stdout",
     "output_type": "stream",
     "text": [
      "Step: 200, Loss: 1.5721112489700317\n",
      "Step: 210, Loss: 1.960357427597046\n",
      "Step: 220, Loss: 1.5618594884872437\n",
      "Step: 230, Loss: 1.4086884260177612\n",
      "Step: 240, Loss: 1.453956127166748\n"
     ]
    },
    {
     "name": "stderr",
     "output_type": "stream",
     "text": [
      " 30%|███       | 286/938 [00:03<00:02, 219.06it/s]"
     ]
    },
    {
     "name": "stdout",
     "output_type": "stream",
     "text": [
      "Step: 250, Loss: 1.3992490768432617\n",
      "Step: 260, Loss: 1.3890862464904785\n",
      "Step: 270, Loss: 1.2697968482971191\n",
      "Step: 280, Loss: 1.265294075012207\n",
      "Step: 290, Loss: 1.3512696027755737\n"
     ]
    },
    {
     "name": "stderr",
     "output_type": "stream",
     "text": [
      " 36%|███▌      | 335/938 [00:03<00:02, 216.85it/s]"
     ]
    },
    {
     "name": "stdout",
     "output_type": "stream",
     "text": [
      "Step: 300, Loss: 1.5749090909957886\n",
      "Step: 310, Loss: 1.5417003631591797\n",
      "Step: 320, Loss: 1.3530547618865967\n",
      "Step: 330, Loss: 1.495930552482605\n",
      "Step: 340, Loss: 1.4685453176498413\n"
     ]
    },
    {
     "name": "stderr",
     "output_type": "stream",
     "text": [
      " 41%|████      | 382/938 [00:04<00:02, 224.45it/s]"
     ]
    },
    {
     "name": "stdout",
     "output_type": "stream",
     "text": [
      "Step: 350, Loss: 1.345506191253662\n",
      "Step: 360, Loss: 1.333320140838623\n",
      "Step: 370, Loss: 1.5319429636001587\n",
      "Step: 380, Loss: 1.3654025793075562\n",
      "Step: 390, Loss: 1.398057460784912\n",
      "Step: 400, Loss: 1.4814039468765259\n"
     ]
    },
    {
     "name": "stderr",
     "output_type": "stream",
     "text": [
      " 49%|████▉     | 458/938 [00:04<00:02, 236.27it/s]"
     ]
    },
    {
     "name": "stdout",
     "output_type": "stream",
     "text": [
      "Step: 410, Loss: 1.3183008432388306\n",
      "Step: 420, Loss: 1.2539492845535278\n",
      "Step: 430, Loss: 1.733925700187683\n",
      "Step: 440, Loss: 1.4264130592346191\n",
      "Step: 450, Loss: 1.2687060832977295\n"
     ]
    },
    {
     "name": "stderr",
     "output_type": "stream",
     "text": [
      " 52%|█████▏    | 484/938 [00:04<00:01, 241.80it/s]"
     ]
    },
    {
     "name": "stdout",
     "output_type": "stream",
     "text": [
      "Step: 460, Loss: 1.3777492046356201\n",
      "Step: 470, Loss: 1.2218379974365234\n",
      "Step: 480, Loss: 1.6541993618011475\n",
      "Step: 490, Loss: 1.5916812419891357\n",
      "Step: 500, Loss: 1.4248911142349243\n"
     ]
    },
    {
     "name": "stderr",
     "output_type": "stream",
     "text": [
      " 57%|█████▋    | 535/938 [00:04<00:01, 244.02it/s]"
     ]
    },
    {
     "name": "stdout",
     "output_type": "stream",
     "text": [
      "Step: 510, Loss: 1.5068399906158447\n",
      "Step: 520, Loss: 1.3296935558319092\n",
      "Step: 530, Loss: 1.3242286443710327\n",
      "Step: 540, Loss: 1.3069977760314941\n",
      "Step: 550, Loss: 1.4350450038909912\n"
     ]
    },
    {
     "name": "stderr",
     "output_type": "stream",
     "text": [
      " 63%|██████▎   | 587/938 [00:04<00:01, 249.58it/s]"
     ]
    },
    {
     "name": "stdout",
     "output_type": "stream",
     "text": [
      "Step: 560, Loss: 1.3986356258392334\n",
      "Step: 570, Loss: 1.4159821271896362\n",
      "Step: 580, Loss: 1.3216150999069214\n",
      "Step: 590, Loss: 1.4223177433013916\n",
      "Step: 600, Loss: 1.4674029350280762\n",
      "Step: 610, Loss: 1.3278493881225586\n"
     ]
    },
    {
     "name": "stderr",
     "output_type": "stream",
     "text": [
      " 71%|███████   | 666/938 [00:05<00:01, 252.26it/s]"
     ]
    },
    {
     "name": "stdout",
     "output_type": "stream",
     "text": [
      "Step: 620, Loss: 1.1888298988342285\n",
      "Step: 630, Loss: 1.8117350339889526\n",
      "Step: 640, Loss: 1.0724364519119263\n",
      "Step: 650, Loss: 1.280646562576294\n",
      "Step: 660, Loss: 1.4627997875213623\n",
      "Step: 670, Loss: 1.0950374603271484\n"
     ]
    },
    {
     "name": "stderr",
     "output_type": "stream",
     "text": [
      " 77%|███████▋  | 719/938 [00:05<00:00, 257.19it/s]"
     ]
    },
    {
     "name": "stdout",
     "output_type": "stream",
     "text": [
      "Step: 680, Loss: 1.2810704708099365\n",
      "Step: 690, Loss: 1.429450511932373\n",
      "Step: 700, Loss: 1.3103264570236206\n",
      "Step: 710, Loss: 1.1412609815597534\n",
      "Step: 720, Loss: 1.2906044721603394\n",
      "Step: 730, Loss: 1.3592588901519775\n"
     ]
    },
    {
     "name": "stderr",
     "output_type": "stream",
     "text": [
      " 82%|████████▏ | 771/938 [00:05<00:00, 247.57it/s]"
     ]
    },
    {
     "name": "stdout",
     "output_type": "stream",
     "text": [
      "Step: 740, Loss: 0.9699320793151855\n",
      "Step: 750, Loss: 0.8960282206535339\n",
      "Step: 760, Loss: 1.3062540292739868\n",
      "Step: 770, Loss: 1.4455121755599976\n",
      "Step: 780, Loss: 0.9477115869522095\n",
      "Step: 790, Loss: 1.182560682296753\n"
     ]
    },
    {
     "name": "stderr",
     "output_type": "stream",
     "text": [
      " 88%|████████▊ | 823/938 [00:05<00:00, 243.92it/s]"
     ]
    },
    {
     "name": "stdout",
     "output_type": "stream",
     "text": [
      "Step: 800, Loss: 0.9978427290916443\n",
      "Step: 810, Loss: 1.0308696031570435\n",
      "Step: 820, Loss: 1.215705156326294\n",
      "Step: 830, Loss: 1.2706071138381958\n",
      "Step: 840, Loss: 1.01678466796875\n"
     ]
    },
    {
     "name": "stderr",
     "output_type": "stream",
     "text": [
      " 93%|█████████▎| 873/938 [00:06<00:00, 231.30it/s]"
     ]
    },
    {
     "name": "stdout",
     "output_type": "stream",
     "text": [
      "Step: 850, Loss: 1.5969858169555664\n",
      "Step: 860, Loss: 1.7826170921325684\n",
      "Step: 870, Loss: 1.05157470703125\n",
      "Step: 880, Loss: 1.3486883640289307\n",
      "Step: 890, Loss: 1.3539173603057861\n"
     ]
    },
    {
     "name": "stderr",
     "output_type": "stream",
     "text": [
      " 98%|█████████▊| 923/938 [00:06<00:00, 225.45it/s]"
     ]
    },
    {
     "name": "stdout",
     "output_type": "stream",
     "text": [
      "Step: 900, Loss: 1.716688632965088\n",
      "Step: 910, Loss: 1.3988972902297974\n",
      "Step: 920, Loss: 1.486482858657837\n",
      "Step: 930, Loss: 1.9129935503005981\n"
     ]
    },
    {
     "name": "stderr",
     "output_type": "stream",
     "text": [
      "100%|██████████| 938/938 [00:06<00:00, 134.50it/s]\n"
     ]
    }
   ],
   "source": [
    "# Обучите модель с ReLU:\n",
    "criterion = torch.nn.CrossEntropyLoss()\n",
    "optimizer = torch.optim.Adam(model_relu.parameters(), lr=0.01)\n",
    "\n",
    "fc_gradients = train(model_relu, trainloader, criterion, optimizer)"
   ]
  },
  {
   "cell_type": "code",
   "execution_count": 24,
   "metadata": {
    "id": "hPrlNdguH4Xg"
   },
   "outputs": [
    {
     "name": "stderr",
     "output_type": "stream",
     "text": [
      "C:\\Users\\khari\\AppData\\Local\\Temp\\ipykernel_2364\\2806989764.py:3: UserWarning: No artists with labels found to put in legend.  Note that artists whose label start with an underscore are ignored when legend() is called with no argument.\n",
      "  plt.legend()\n"
     ]
    },
    {
     "data": {
      "image/png": "[encoded data removed]",
      "text/plain": [
       "<Figure size 640x480 with 1 Axes>"
      ]
     },
     "metadata": {},
     "output_type": "display_data"
    }
   ],
   "source": [
    "# Визуализируйте градинте:\n",
    "plt.plot(fc_gradients)\n",
    "plt.legend()\n",
    "plt.title(\"Gradients of Linear Layers\")\n",
    "plt.xlabel(\"Training Step\")\n",
    "plt.ylabel(\"Gradient Value\")\n",
    "plt.show()"
   ]
  },
  {
   "cell_type": "markdown",
   "metadata": {
    "id": "KBllIvkvKXn3"
   },
   "source": [
    "Вы должны получить лосс в диапазоне 1.3-1.6. Проблема затухания градиента должна уменьшится, но не решиться полностью. Обучение глубоких нейронных сетей является нетривиальной задачей!"
   ]
  },
  {
   "cell_type": "markdown",
   "metadata": {
    "id": "o0joS4fPUQ2A"
   },
   "source": [
    "# Проблема взрыва градиента\n",
    "\n",
    "Это проблема противоположна предыдущей. Вместо стремления градиента к 0, и потери способности изменять веса слоев (а значит и обучаться), градиент может \"взорваться\" (его значения стремятся к большим числам), что приводит к очень большим и резким изменениям весов модели, не позволяя модели сходиться."
   ]
  },
  {
   "cell_type": "markdown",
   "metadata": {
    "id": "vgxvo_7fOh8a"
   },
   "source": [
    "**Задача 6:** Инициализируйте модель еще раз со следующими входными параметрами."
   ]
  },
  {
   "cell_type": "code",
   "execution_count": 25,
   "metadata": {
    "id": "0IXQ7wEOUqV_"
   },
   "outputs": [],
   "source": [
    "torch.manual_seed(42)\n",
    "\n",
    "# Инициализация модели, лосс функции и оптимайзера:\n",
    "input_size = 28 * 28 # MNIST image size\n",
    "hidden_size = 512\n",
    "output_size = 10\n",
    "n_hidden=20\n",
    "model = DeepMLP(input_size, hidden_size, output_size, n_hidden).to(device)"
   ]
  },
  {
   "cell_type": "markdown",
   "metadata": {
    "id": "lmMUekvTg3Yb"
   },
   "source": [
    "**Вопрос:** Посчитайте и выведите сумму всех выходов модели для рандмного входного тензора test_input (да да, еще раз)\n",
    "\n",
    "**Пример ответа:** `0.234`"
   ]
  },
  {
   "cell_type": "code",
   "execution_count": null,
   "metadata": {
    "id": "BwDNx4V5hS0s"
   },
   "outputs": [
    {
     "data": {
      "text/plain": [
       "-0.9367367029190063"
      ]
     },
     "execution_count": 26,
     "metadata": {},
     "output_type": "execute_result"
    }
   ],
   "source": [
    "torch.manual_seed(42)\n",
    "test_input = torch.rand(1, 28*28).to(device)\n",
    "answer = model(test_data).sum().item()\n",
    "answer   # -0.9367367029190063"
   ]
  },
  {
   "cell_type": "code",
   "execution_count": 27,
   "metadata": {
    "colab": {
     "base_uri": "https://localhost:8080/"
    },
    "id": "j2LkOkphUsQ7",
    "outputId": "cc824eb3-64a7-4056-b045-3cdff798ed6b"
   },
   "outputs": [
    {
     "name": "stderr",
     "output_type": "stream",
     "text": [
      "  1%|          | 9/938 [00:02<03:10,  4.87it/s]"
     ]
    },
    {
     "name": "stdout",
     "output_type": "stream",
     "text": [
      "Step: 0, Loss: 2.370612382888794\n",
      "Step: 10, Loss: 2.319352149963379\n"
     ]
    },
    {
     "name": "stderr",
     "output_type": "stream",
     "text": [
      "  4%|▎         | 33/938 [00:02<00:37, 24.07it/s]"
     ]
    },
    {
     "name": "stdout",
     "output_type": "stream",
     "text": [
      "Step: 20, Loss: 2.384559392929077\n",
      "Step: 30, Loss: 2.322371482849121\n"
     ]
    },
    {
     "name": "stderr",
     "output_type": "stream",
     "text": [
      "  5%|▌         | 48/938 [00:03<00:23, 38.17it/s]"
     ]
    },
    {
     "name": "stdout",
     "output_type": "stream",
     "text": [
      "Step: 40, Loss: 2.3334953784942627\n",
      "Step: 50, Loss: 2.335846185684204\n"
     ]
    },
    {
     "name": "stderr",
     "output_type": "stream",
     "text": [
      "  8%|▊         | 72/938 [00:03<00:15, 56.74it/s]"
     ]
    },
    {
     "name": "stdout",
     "output_type": "stream",
     "text": [
      "Step: 60, Loss: 2.337700843811035\n",
      "Step: 70, Loss: 2.2949419021606445\n"
     ]
    },
    {
     "name": "stderr",
     "output_type": "stream",
     "text": [
      "  9%|▉         | 88/938 [00:03<00:13, 63.04it/s]"
     ]
    },
    {
     "name": "stdout",
     "output_type": "stream",
     "text": [
      "Step: 80, Loss: 2.3135998249053955\n",
      "Step: 90, Loss: 2.3037657737731934\n"
     ]
    },
    {
     "name": "stderr",
     "output_type": "stream",
     "text": [
      " 12%|█▏        | 112/938 [00:03<00:12, 67.96it/s]"
     ]
    },
    {
     "name": "stdout",
     "output_type": "stream",
     "text": [
      "Step: 100, Loss: 2.3035049438476562\n",
      "Step: 110, Loss: 2.311680316925049\n"
     ]
    },
    {
     "name": "stderr",
     "output_type": "stream",
     "text": [
      " 14%|█▎        | 128/938 [00:04<00:11, 67.59it/s]"
     ]
    },
    {
     "name": "stdout",
     "output_type": "stream",
     "text": [
      "Step: 120, Loss: 2.2950568199157715\n",
      "Step: 130, Loss: 2.2916629314422607\n"
     ]
    },
    {
     "name": "stderr",
     "output_type": "stream",
     "text": [
      " 16%|█▌        | 152/938 [00:04<00:11, 69.17it/s]"
     ]
    },
    {
     "name": "stdout",
     "output_type": "stream",
     "text": [
      "Step: 140, Loss: 2.30366849899292\n",
      "Step: 150, Loss: 2.308088541030884\n"
     ]
    },
    {
     "name": "stderr",
     "output_type": "stream",
     "text": [
      " 18%|█▊        | 168/938 [00:04<00:11, 68.89it/s]"
     ]
    },
    {
     "name": "stdout",
     "output_type": "stream",
     "text": [
      "Step: 160, Loss: 2.294508695602417\n",
      "Step: 170, Loss: 2.299661636352539\n"
     ]
    },
    {
     "name": "stderr",
     "output_type": "stream",
     "text": [
      " 20%|██        | 191/938 [00:05<00:11, 67.88it/s]"
     ]
    },
    {
     "name": "stdout",
     "output_type": "stream",
     "text": [
      "Step: 180, Loss: 2.309527635574341\n",
      "Step: 190, Loss: 2.3046488761901855\n"
     ]
    },
    {
     "name": "stderr",
     "output_type": "stream",
     "text": [
      " 22%|██▏       | 207/938 [00:05<00:10, 69.52it/s]"
     ]
    },
    {
     "name": "stdout",
     "output_type": "stream",
     "text": [
      "Step: 200, Loss: 2.2925260066986084\n",
      "Step: 210, Loss: 2.297971487045288\n"
     ]
    },
    {
     "name": "stderr",
     "output_type": "stream",
     "text": [
      " 25%|██▍       | 231/938 [00:05<00:09, 71.60it/s]"
     ]
    },
    {
     "name": "stdout",
     "output_type": "stream",
     "text": [
      "Step: 220, Loss: 2.3187084197998047\n",
      "Step: 230, Loss: 2.296956777572632\n"
     ]
    },
    {
     "name": "stderr",
     "output_type": "stream",
     "text": [
      " 26%|██▋       | 247/938 [00:05<00:09, 70.71it/s]"
     ]
    },
    {
     "name": "stdout",
     "output_type": "stream",
     "text": [
      "Step: 240, Loss: 2.320816993713379\n",
      "Step: 250, Loss: 2.3015003204345703\n"
     ]
    },
    {
     "name": "stderr",
     "output_type": "stream",
     "text": [
      " 29%|██▉       | 271/938 [00:06<00:09, 71.80it/s]"
     ]
    },
    {
     "name": "stdout",
     "output_type": "stream",
     "text": [
      "Step: 260, Loss: 2.3070170879364014\n",
      "Step: 270, Loss: 2.304478168487549\n"
     ]
    },
    {
     "name": "stderr",
     "output_type": "stream",
     "text": [
      " 31%|███▏      | 295/938 [00:06<00:08, 72.56it/s]"
     ]
    },
    {
     "name": "stdout",
     "output_type": "stream",
     "text": [
      "Step: 280, Loss: 2.3052568435668945\n",
      "Step: 290, Loss: 2.3059656620025635\n"
     ]
    },
    {
     "name": "stderr",
     "output_type": "stream",
     "text": [
      " 33%|███▎      | 311/938 [00:06<00:08, 70.52it/s]"
     ]
    },
    {
     "name": "stdout",
     "output_type": "stream",
     "text": [
      "Step: 300, Loss: 2.3120129108428955\n",
      "Step: 310, Loss: 2.291264295578003\n"
     ]
    },
    {
     "name": "stderr",
     "output_type": "stream",
     "text": [
      " 36%|███▌      | 335/938 [00:07<00:08, 71.28it/s]"
     ]
    },
    {
     "name": "stdout",
     "output_type": "stream",
     "text": [
      "Step: 320, Loss: 2.298677682876587\n",
      "Step: 330, Loss: 2.296095609664917\n"
     ]
    },
    {
     "name": "stderr",
     "output_type": "stream",
     "text": [
      " 37%|███▋      | 350/938 [00:07<00:08, 67.46it/s]"
     ]
    },
    {
     "name": "stdout",
     "output_type": "stream",
     "text": [
      "Step: 340, Loss: 2.305849075317383\n",
      "Step: 350, Loss: 2.3076016902923584\n"
     ]
    },
    {
     "name": "stderr",
     "output_type": "stream",
     "text": [
      " 40%|███▉      | 372/938 [00:07<00:08, 67.85it/s]"
     ]
    },
    {
     "name": "stdout",
     "output_type": "stream",
     "text": [
      "Step: 360, Loss: 2.283411741256714\n",
      "Step: 370, Loss: 2.29878830909729\n"
     ]
    },
    {
     "name": "stderr",
     "output_type": "stream",
     "text": [
      " 41%|████▏     | 387/938 [00:07<00:07, 69.15it/s]"
     ]
    },
    {
     "name": "stdout",
     "output_type": "stream",
     "text": [
      "Step: 380, Loss: 2.3032431602478027\n",
      "Step: 390, Loss: 2.301693916320801\n"
     ]
    },
    {
     "name": "stderr",
     "output_type": "stream",
     "text": [
      " 44%|████▎     | 409/938 [00:08<00:07, 70.96it/s]"
     ]
    },
    {
     "name": "stdout",
     "output_type": "stream",
     "text": [
      "Step: 400, Loss: 2.3153207302093506\n",
      "Step: 410, Loss: 2.303558826446533\n"
     ]
    },
    {
     "name": "stderr",
     "output_type": "stream",
     "text": [
      " 46%|████▌     | 433/938 [00:08<00:06, 72.35it/s]"
     ]
    },
    {
     "name": "stdout",
     "output_type": "stream",
     "text": [
      "Step: 420, Loss: 2.306708574295044\n",
      "Step: 430, Loss: 2.301382303237915\n"
     ]
    },
    {
     "name": "stderr",
     "output_type": "stream",
     "text": [
      " 48%|████▊     | 449/938 [00:08<00:06, 72.56it/s]"
     ]
    },
    {
     "name": "stdout",
     "output_type": "stream",
     "text": [
      "Step: 440, Loss: 2.3099205493927\n",
      "Step: 450, Loss: 2.3080391883850098\n"
     ]
    },
    {
     "name": "stderr",
     "output_type": "stream",
     "text": [
      " 50%|█████     | 473/938 [00:09<00:06, 72.14it/s]"
     ]
    },
    {
     "name": "stdout",
     "output_type": "stream",
     "text": [
      "Step: 460, Loss: 2.2981138229370117\n",
      "Step: 470, Loss: 2.296691656112671\n"
     ]
    },
    {
     "name": "stderr",
     "output_type": "stream",
     "text": [
      " 52%|█████▏    | 489/938 [00:09<00:06, 70.44it/s]"
     ]
    },
    {
     "name": "stdout",
     "output_type": "stream",
     "text": [
      "Step: 480, Loss: 2.2905993461608887\n",
      "Step: 490, Loss: 2.301241636276245\n"
     ]
    },
    {
     "name": "stderr",
     "output_type": "stream",
     "text": [
      " 55%|█████▍    | 513/938 [00:09<00:06, 70.29it/s]"
     ]
    },
    {
     "name": "stdout",
     "output_type": "stream",
     "text": [
      "Step: 500, Loss: 2.303941249847412\n",
      "Step: 510, Loss: 2.305436611175537\n"
     ]
    },
    {
     "name": "stderr",
     "output_type": "stream",
     "text": [
      " 56%|█████▋    | 529/938 [00:09<00:05, 68.45it/s]"
     ]
    },
    {
     "name": "stdout",
     "output_type": "stream",
     "text": [
      "Step: 520, Loss: 2.295976161956787\n",
      "Step: 530, Loss: 2.297809362411499\n"
     ]
    },
    {
     "name": "stderr",
     "output_type": "stream",
     "text": [
      " 59%|█████▉    | 552/938 [00:10<00:05, 68.96it/s]"
     ]
    },
    {
     "name": "stdout",
     "output_type": "stream",
     "text": [
      "Step: 540, Loss: 2.3027031421661377\n",
      "Step: 550, Loss: 2.3001861572265625\n"
     ]
    },
    {
     "name": "stderr",
     "output_type": "stream",
     "text": [
      " 61%|██████▏   | 575/938 [00:10<00:05, 71.01it/s]"
     ]
    },
    {
     "name": "stdout",
     "output_type": "stream",
     "text": [
      "Step: 560, Loss: 2.296241044998169\n",
      "Step: 570, Loss: 2.310544967651367\n"
     ]
    },
    {
     "name": "stderr",
     "output_type": "stream",
     "text": [
      " 63%|██████▎   | 591/938 [00:10<00:04, 71.68it/s]"
     ]
    },
    {
     "name": "stdout",
     "output_type": "stream",
     "text": [
      "Step: 580, Loss: 2.303436756134033\n",
      "Step: 590, Loss: 2.3133819103240967\n"
     ]
    },
    {
     "name": "stderr",
     "output_type": "stream",
     "text": [
      " 65%|██████▍   | 607/938 [00:10<00:04, 69.10it/s]"
     ]
    },
    {
     "name": "stdout",
     "output_type": "stream",
     "text": [
      "Step: 600, Loss: 2.293776750564575\n",
      "Step: 610, Loss: 2.31894588470459\n"
     ]
    },
    {
     "name": "stderr",
     "output_type": "stream",
     "text": [
      " 67%|██████▋   | 631/938 [00:11<00:04, 70.30it/s]"
     ]
    },
    {
     "name": "stdout",
     "output_type": "stream",
     "text": [
      "Step: 620, Loss: 2.3001785278320312\n",
      "Step: 630, Loss: 2.30918550491333\n"
     ]
    },
    {
     "name": "stderr",
     "output_type": "stream",
     "text": [
      " 70%|██████▉   | 654/938 [00:11<00:04, 69.41it/s]"
     ]
    },
    {
     "name": "stdout",
     "output_type": "stream",
     "text": [
      "Step: 640, Loss: 2.285482168197632\n",
      "Step: 650, Loss: 2.2995951175689697\n"
     ]
    },
    {
     "name": "stderr",
     "output_type": "stream",
     "text": [
      " 71%|███████▏  | 670/938 [00:11<00:03, 70.85it/s]"
     ]
    },
    {
     "name": "stdout",
     "output_type": "stream",
     "text": [
      "Step: 660, Loss: 2.3087778091430664\n",
      "Step: 670, Loss: 2.292625904083252\n"
     ]
    },
    {
     "name": "stderr",
     "output_type": "stream",
     "text": [
      " 74%|███████▍  | 694/938 [00:12<00:03, 72.19it/s]"
     ]
    },
    {
     "name": "stdout",
     "output_type": "stream",
     "text": [
      "Step: 680, Loss: 2.312490224838257\n",
      "Step: 690, Loss: 2.3027215003967285\n"
     ]
    },
    {
     "name": "stderr",
     "output_type": "stream",
     "text": [
      " 76%|███████▌  | 710/938 [00:12<00:03, 71.73it/s]"
     ]
    },
    {
     "name": "stdout",
     "output_type": "stream",
     "text": [
      "Step: 700, Loss: 2.3031020164489746\n",
      "Step: 710, Loss: 2.2977707386016846\n"
     ]
    },
    {
     "name": "stderr",
     "output_type": "stream",
     "text": [
      " 78%|███████▊  | 734/938 [00:12<00:02, 68.31it/s]"
     ]
    },
    {
     "name": "stdout",
     "output_type": "stream",
     "text": [
      "Step: 720, Loss: 2.310284376144409\n",
      "Step: 730, Loss: 2.3078012466430664\n"
     ]
    },
    {
     "name": "stderr",
     "output_type": "stream",
     "text": [
      " 80%|███████▉  | 750/938 [00:13<00:02, 70.77it/s]"
     ]
    },
    {
     "name": "stdout",
     "output_type": "stream",
     "text": [
      "Step: 740, Loss: 2.294431447982788\n",
      "Step: 750, Loss: 2.2965087890625\n"
     ]
    },
    {
     "name": "stderr",
     "output_type": "stream",
     "text": [
      " 83%|████████▎ | 774/938 [00:13<00:02, 72.68it/s]"
     ]
    },
    {
     "name": "stdout",
     "output_type": "stream",
     "text": [
      "Step: 760, Loss: 2.301697015762329\n",
      "Step: 770, Loss: 2.315286636352539\n"
     ]
    },
    {
     "name": "stderr",
     "output_type": "stream",
     "text": [
      " 84%|████████▍ | 790/938 [00:13<00:02, 70.43it/s]"
     ]
    },
    {
     "name": "stdout",
     "output_type": "stream",
     "text": [
      "Step: 780, Loss: 2.292431116104126\n",
      "Step: 790, Loss: 2.2961673736572266\n"
     ]
    },
    {
     "name": "stderr",
     "output_type": "stream",
     "text": [
      " 87%|████████▋ | 813/938 [00:13<00:01, 70.80it/s]"
     ]
    },
    {
     "name": "stdout",
     "output_type": "stream",
     "text": [
      "Step: 800, Loss: 2.2978835105895996\n",
      "Step: 810, Loss: 2.3135788440704346\n"
     ]
    },
    {
     "name": "stderr",
     "output_type": "stream",
     "text": [
      " 88%|████████▊ | 829/938 [00:14<00:01, 71.72it/s]"
     ]
    },
    {
     "name": "stdout",
     "output_type": "stream",
     "text": [
      "Step: 820, Loss: 2.307419776916504\n",
      "Step: 830, Loss: 2.3165266513824463\n"
     ]
    },
    {
     "name": "stderr",
     "output_type": "stream",
     "text": [
      " 91%|█████████ | 853/938 [00:14<00:01, 72.81it/s]"
     ]
    },
    {
     "name": "stdout",
     "output_type": "stream",
     "text": [
      "Step: 840, Loss: 2.305375576019287\n",
      "Step: 850, Loss: 2.3068714141845703\n"
     ]
    },
    {
     "name": "stderr",
     "output_type": "stream",
     "text": [
      " 93%|█████████▎| 869/938 [00:14<00:00, 70.86it/s]"
     ]
    },
    {
     "name": "stdout",
     "output_type": "stream",
     "text": [
      "Step: 860, Loss: 2.300252676010132\n",
      "Step: 870, Loss: 2.284806966781616\n"
     ]
    },
    {
     "name": "stderr",
     "output_type": "stream",
     "text": [
      " 95%|█████████▌| 893/938 [00:15<00:00, 71.91it/s]"
     ]
    },
    {
     "name": "stdout",
     "output_type": "stream",
     "text": [
      "Step: 880, Loss: 2.3027474880218506\n",
      "Step: 890, Loss: 2.299281358718872\n"
     ]
    },
    {
     "name": "stderr",
     "output_type": "stream",
     "text": [
      " 97%|█████████▋| 909/938 [00:15<00:00, 71.72it/s]"
     ]
    },
    {
     "name": "stdout",
     "output_type": "stream",
     "text": [
      "Step: 900, Loss: 2.303832769393921\n",
      "Step: 910, Loss: 2.2965757846832275\n"
     ]
    },
    {
     "name": "stderr",
     "output_type": "stream",
     "text": [
      " 99%|█████████▉| 933/938 [00:15<00:00, 71.15it/s]"
     ]
    },
    {
     "name": "stdout",
     "output_type": "stream",
     "text": [
      "Step: 920, Loss: 2.298959732055664\n",
      "Step: 930, Loss: 2.294469118118286\n"
     ]
    },
    {
     "name": "stderr",
     "output_type": "stream",
     "text": [
      "100%|██████████| 938/938 [00:16<00:00, 57.94it/s]\n"
     ]
    }
   ],
   "source": [
    "# Обучите модель еще раз:\n",
    "torch.manual_seed(42)\n",
    "\n",
    "criterion = torch.nn.CrossEntropyLoss()\n",
    "optimizer = torch.optim.SGD(model.parameters(), lr=0.001)\n",
    "\n",
    "fc_gradients = train(model, trainloader, criterion, optimizer)"
   ]
  },
  {
   "cell_type": "code",
   "execution_count": 28,
   "metadata": {
    "colab": {
     "base_uri": "https://localhost:8080/",
     "height": 313
    },
    "id": "lgNqcWdaU9wf",
    "outputId": "c4013a4a-6019-4df6-f701-85f17639531e"
   },
   "outputs": [
    {
     "name": "stderr",
     "output_type": "stream",
     "text": [
      "C:\\Users\\khari\\AppData\\Local\\Temp\\ipykernel_2364\\2019969697.py:3: UserWarning: No artists with labels found to put in legend.  Note that artists whose label start with an underscore are ignored when legend() is called with no argument.\n",
      "  plt.legend()\n"
     ]
    },
    {
     "data": {
      "image/png": "[encoded data removed]",
      "text/plain": [
       "<Figure size 640x480 with 1 Axes>"
      ]
     },
     "metadata": {},
     "output_type": "display_data"
    }
   ],
   "source": [
    "# Визуализируйте градиент:\n",
    "plt.plot(fc_gradients)\n",
    "plt.legend()\n",
    "plt.title(\"Gradients of Linear Layers\")\n",
    "plt.xlabel(\"Training Step\")\n",
    "plt.ylabel(\"Gradient Value\")\n",
    "plt.show()"
   ]
  },
  {
   "cell_type": "markdown",
   "metadata": {
    "id": "_zZILiapP1GL"
   },
   "source": [
    "Как видите, магнитуда градиента стала слишком большой, что приводит к тому, что модель не может сойтись (достичь минимума)."
   ]
  },
  {
   "cell_type": "markdown",
   "metadata": {
    "id": "k2KBgvZ3scLB"
   },
   "source": [
    "# ResNet"
   ]
  },
  {
   "cell_type": "markdown",
   "metadata": {
    "id": "KBvmr6myseBg"
   },
   "source": [
    "Теперь давайте попробуем реализовать модель ResNet. Ее авторы нашли способ как бороться с проблемой затухания градиента в глубоких сетях используя так называемые shortcut (или residual) связи между слоями."
   ]
  },
  {
   "cell_type": "markdown",
   "metadata": {
    "id": "Mqm6pG4LOyCL"
   },
   "source": [
    "**Задача 7:** Определите Residual Block"
   ]
  },
  {
   "cell_type": "code",
   "execution_count": 29,
   "metadata": {
    "id": "ybUFV_Y_4XY-"
   },
   "outputs": [],
   "source": [
    "class ResidualBlock(nn.Module):\n",
    "    def __init__(self, in_channels, out_channels, stride=1):\n",
    "        super(ResidualBlock, self).__init__()\n",
    "        self.conv1 = nn.Conv2d(in_channels, out_channels, kernel_size=3, stride=stride, padding=1)\n",
    "        self.bn1 = nn.BatchNorm2d(out_channels)\n",
    "        self.conv2 = nn.Conv2d(out_channels, out_channels, kernel_size=3, stride=1, padding=1)\n",
    "        self.bn2 = nn.BatchNorm2d(out_channels)\n",
    "        self.shortcut = nn.Sequential()\n",
    "        if stride != 1 or in_channels != out_channels:\n",
    "            self.shortcut = nn.Sequential(nn.Conv2d(in_channels, out_channels, kernel_size=1, stride=stride), nn.BatchNorm2d(out_channels))\n",
    "\n",
    "    def forward(self, x):\n",
    "        out = self.conv1(x)\n",
    "        out = self.bn1(out)\n",
    "        out = F.relu(out)\n",
    "        out = self.conv2(out)\n",
    "        out = self.bn2(out)\n",
    "        out += self.shortcut(x)\n",
    "        out = F.relu(out)\n",
    "        return out"
   ]
  },
  {
   "cell_type": "markdown",
   "metadata": {
    "id": "tB89S5lSkWQ6"
   },
   "source": [
    "**Вопрос:** Посчитайте и выведите сумму выходов ResidualBlock(10,10) для рандомного входного тензора test_input.\n",
    "\n",
    "**Пример ответа:** `1.234`"
   ]
  },
  {
   "cell_type": "code",
   "execution_count": 30,
   "metadata": {
    "id": "cQjcjGh8k0mD"
   },
   "outputs": [
    {
     "data": {
      "text/plain": [
       "16789.064453125"
      ]
     },
     "execution_count": 30,
     "metadata": {},
     "output_type": "execute_result"
    }
   ],
   "source": [
    "torch.manual_seed(42)\n",
    "test_input = torch.rand((1, 10, 3, 28*28))\n",
    "res_block = ResidualBlock(10,10)\n",
    "answer = res_block(test_input).sum().item()\n",
    "answer   # 16789.064453125"
   ]
  },
  {
   "cell_type": "markdown",
   "metadata": {
    "id": "ALoCCoU-PEba"
   },
   "source": [
    "**Задача 8:** Теперь определите модель ResNet, состоящую из нескольких ResidualBlock"
   ]
  },
  {
   "cell_type": "code",
   "execution_count": 31,
   "metadata": {
    "id": "84HZmmlpPC8V"
   },
   "outputs": [],
   "source": [
    "class ResNet(nn.Module):\n",
    "    def __init__(self, num_classes=10):\n",
    "        super(ResNet, self).__init__()\n",
    "        self.conv1 = nn.Conv2d(1, 64, kernel_size=3, stride=1, padding=1)\n",
    "        self.layer1 = self._make_layer(64, 64, 2, stride=1)\n",
    "        self.layer2 = self._make_layer(64, 128, 2, stride=1)\n",
    "        self.layer3 = self._make_layer(128, 256, 2, stride=1)\n",
    "        self.fc = nn.Linear(2304, num_classes)\n",
    "\n",
    "    def _make_layer(self, in_channels, out_channels, num_blocks, stride=1):\n",
    "        layers = []\n",
    "        for i in range(num_blocks):\n",
    "            if i == 0:\n",
    "                layers.append(ResidualBlock(in_channels, out_channels, stride))\n",
    "            else:\n",
    "                layers.append(ResidualBlock(out_channels, out_channels, stride=1))\n",
    "        return nn.Sequential(*layers)\n",
    "\n",
    "    def forward(self, x):\n",
    "        out = F.relu(self.conv1(x))\n",
    "        out = self.layer1(out)\n",
    "        out = self.layer2(out)\n",
    "        out = self.layer3(out)\n",
    "        out = F.avg_pool2d(out, 8)\n",
    "        out = out.view(out.size(0), -1)\n",
    "        out = self.fc(out)\n",
    "        return out"
   ]
  },
  {
   "cell_type": "markdown",
   "metadata": {
    "id": "62V0OrcOomjM"
   },
   "source": [
    "**Вопрос:** Посчитайте и выведите количество параметров (весов) этой ResNet модели\n",
    "\n",
    "**Пример ответа:** `43242`"
   ]
  },
  {
   "cell_type": "code",
   "execution_count": 32,
   "metadata": {
    "id": "gFw6BJY3pFTt"
   },
   "outputs": [
    {
     "data": {
      "text/plain": [
       "2799114"
      ]
     },
     "execution_count": 32,
     "metadata": {},
     "output_type": "execute_result"
    }
   ],
   "source": [
    "model = ResNet()\n",
    "\n",
    "answer = sum(param.numel() for param in model.parameters())\n",
    "answer   # 2799114"
   ]
  },
  {
   "cell_type": "code",
   "execution_count": 33,
   "metadata": {
    "id": "dscNlp4lyzqW"
   },
   "outputs": [],
   "source": [
    "# Инициализируем объект класса модели ResNet, а также лосс функцию и оптимайзер:\n",
    "torch.manual_seed(42)\n",
    "\n",
    "model = ResNet().to(device)\n",
    "criterion = torch.nn.CrossEntropyLoss()\n",
    "optimizer = torch.optim.Adam(model.parameters(), lr=0.01)"
   ]
  },
  {
   "cell_type": "code",
   "execution_count": 34,
   "metadata": {
    "colab": {
     "base_uri": "https://localhost:8080/"
    },
    "id": "NHkoOfudy5T2",
    "outputId": "ea6f5d4e-c98a-45f8-dd37-8be368617f45"
   },
   "outputs": [
    {
     "name": "stderr",
     "output_type": "stream",
     "text": [
      "  0%|          | 1/938 [00:04<1:03:30,  4.07s/it]"
     ]
    },
    {
     "name": "stdout",
     "output_type": "stream",
     "text": [
      "Step: 0, Loss: 2.4625656604766846\n"
     ]
    },
    {
     "name": "stderr",
     "output_type": "stream",
     "text": [
      "  1%|          | 11/938 [00:20<24:52,  1.61s/it] "
     ]
    },
    {
     "name": "stdout",
     "output_type": "stream",
     "text": [
      "Step: 10, Loss: 4.5103983879089355\n"
     ]
    },
    {
     "name": "stderr",
     "output_type": "stream",
     "text": [
      "  2%|▏         | 21/938 [00:36<25:06,  1.64s/it]"
     ]
    },
    {
     "name": "stdout",
     "output_type": "stream",
     "text": [
      "Step: 20, Loss: 2.2107760906219482\n"
     ]
    },
    {
     "name": "stderr",
     "output_type": "stream",
     "text": [
      "  3%|▎         | 31/938 [00:55<29:00,  1.92s/it]"
     ]
    },
    {
     "name": "stdout",
     "output_type": "stream",
     "text": [
      "Step: 30, Loss: 1.411897897720337\n"
     ]
    },
    {
     "name": "stderr",
     "output_type": "stream",
     "text": [
      "  4%|▍         | 41/938 [01:14<29:01,  1.94s/it]"
     ]
    },
    {
     "name": "stdout",
     "output_type": "stream",
     "text": [
      "Step: 40, Loss: 1.091172695159912\n"
     ]
    },
    {
     "name": "stderr",
     "output_type": "stream",
     "text": [
      "  5%|▌         | 51/938 [01:34<28:50,  1.95s/it]"
     ]
    },
    {
     "name": "stdout",
     "output_type": "stream",
     "text": [
      "Step: 50, Loss: 0.9080399870872498\n"
     ]
    },
    {
     "name": "stderr",
     "output_type": "stream",
     "text": [
      "  7%|▋         | 61/938 [01:53<28:33,  1.95s/it]"
     ]
    },
    {
     "name": "stdout",
     "output_type": "stream",
     "text": [
      "Step: 60, Loss: 0.41122278571128845\n"
     ]
    },
    {
     "name": "stderr",
     "output_type": "stream",
     "text": [
      "  8%|▊         | 71/938 [02:12<27:45,  1.92s/it]"
     ]
    },
    {
     "name": "stdout",
     "output_type": "stream",
     "text": [
      "Step: 70, Loss: 0.2149762660264969\n"
     ]
    },
    {
     "name": "stderr",
     "output_type": "stream",
     "text": [
      "  9%|▊         | 81/938 [02:30<24:22,  1.71s/it]"
     ]
    },
    {
     "name": "stdout",
     "output_type": "stream",
     "text": [
      "Step: 80, Loss: 0.22646206617355347\n"
     ]
    },
    {
     "name": "stderr",
     "output_type": "stream",
     "text": [
      " 10%|▉         | 91/938 [02:46<23:17,  1.65s/it]"
     ]
    },
    {
     "name": "stdout",
     "output_type": "stream",
     "text": [
      "Step: 90, Loss: 0.2849991023540497\n"
     ]
    },
    {
     "name": "stderr",
     "output_type": "stream",
     "text": [
      " 11%|█         | 101/938 [03:03<23:21,  1.67s/it]"
     ]
    },
    {
     "name": "stdout",
     "output_type": "stream",
     "text": [
      "Step: 100, Loss: 0.23421326279640198\n"
     ]
    },
    {
     "name": "stderr",
     "output_type": "stream",
     "text": [
      " 12%|█▏        | 111/938 [03:20<22:59,  1.67s/it]"
     ]
    },
    {
     "name": "stdout",
     "output_type": "stream",
     "text": [
      "Step: 110, Loss: 0.37184637784957886\n"
     ]
    },
    {
     "name": "stderr",
     "output_type": "stream",
     "text": [
      " 13%|█▎        | 121/938 [03:37<23:32,  1.73s/it]"
     ]
    },
    {
     "name": "stdout",
     "output_type": "stream",
     "text": [
      "Step: 120, Loss: 0.43875983357429504\n"
     ]
    },
    {
     "name": "stderr",
     "output_type": "stream",
     "text": [
      " 14%|█▍        | 131/938 [03:55<24:00,  1.78s/it]"
     ]
    },
    {
     "name": "stdout",
     "output_type": "stream",
     "text": [
      "Step: 130, Loss: 0.226155623793602\n"
     ]
    },
    {
     "name": "stderr",
     "output_type": "stream",
     "text": [
      " 15%|█▌        | 141/938 [04:12<23:10,  1.74s/it]"
     ]
    },
    {
     "name": "stdout",
     "output_type": "stream",
     "text": [
      "Step: 140, Loss: 0.35349154472351074\n"
     ]
    },
    {
     "name": "stderr",
     "output_type": "stream",
     "text": [
      " 16%|█▌        | 151/938 [04:30<23:57,  1.83s/it]"
     ]
    },
    {
     "name": "stdout",
     "output_type": "stream",
     "text": [
      "Step: 150, Loss: 0.09922107309103012\n"
     ]
    },
    {
     "name": "stderr",
     "output_type": "stream",
     "text": [
      " 17%|█▋        | 161/938 [04:48<22:22,  1.73s/it]"
     ]
    },
    {
     "name": "stdout",
     "output_type": "stream",
     "text": [
      "Step: 160, Loss: 0.11071154475212097\n"
     ]
    },
    {
     "name": "stderr",
     "output_type": "stream",
     "text": [
      " 18%|█▊        | 171/938 [05:05<21:21,  1.67s/it]"
     ]
    },
    {
     "name": "stdout",
     "output_type": "stream",
     "text": [
      "Step: 170, Loss: 0.3474343717098236\n"
     ]
    },
    {
     "name": "stderr",
     "output_type": "stream",
     "text": [
      " 19%|█▉        | 181/938 [05:22<21:06,  1.67s/it]"
     ]
    },
    {
     "name": "stdout",
     "output_type": "stream",
     "text": [
      "Step: 180, Loss: 0.11588083952665329\n"
     ]
    },
    {
     "name": "stderr",
     "output_type": "stream",
     "text": [
      " 20%|██        | 191/938 [05:38<20:46,  1.67s/it]"
     ]
    },
    {
     "name": "stdout",
     "output_type": "stream",
     "text": [
      "Step: 190, Loss: 0.3011220693588257\n"
     ]
    },
    {
     "name": "stderr",
     "output_type": "stream",
     "text": [
      " 21%|██▏       | 201/938 [05:55<20:20,  1.66s/it]"
     ]
    },
    {
     "name": "stdout",
     "output_type": "stream",
     "text": [
      "Step: 200, Loss: 0.1757158488035202\n"
     ]
    },
    {
     "name": "stderr",
     "output_type": "stream",
     "text": [
      " 22%|██▏       | 211/938 [06:11<20:12,  1.67s/it]"
     ]
    },
    {
     "name": "stdout",
     "output_type": "stream",
     "text": [
      "Step: 210, Loss: 0.2233523577451706\n"
     ]
    },
    {
     "name": "stderr",
     "output_type": "stream",
     "text": [
      " 24%|██▎       | 221/938 [06:28<20:04,  1.68s/it]"
     ]
    },
    {
     "name": "stdout",
     "output_type": "stream",
     "text": [
      "Step: 220, Loss: 0.12048191577196121\n"
     ]
    },
    {
     "name": "stderr",
     "output_type": "stream",
     "text": [
      " 25%|██▍       | 231/938 [06:45<19:35,  1.66s/it]"
     ]
    },
    {
     "name": "stdout",
     "output_type": "stream",
     "text": [
      "Step: 230, Loss: 0.1386527121067047\n"
     ]
    },
    {
     "name": "stderr",
     "output_type": "stream",
     "text": [
      " 26%|██▌       | 241/938 [07:01<19:07,  1.65s/it]"
     ]
    },
    {
     "name": "stdout",
     "output_type": "stream",
     "text": [
      "Step: 240, Loss: 0.07963859289884567\n"
     ]
    },
    {
     "name": "stderr",
     "output_type": "stream",
     "text": [
      " 27%|██▋       | 251/938 [07:17<18:44,  1.64s/it]"
     ]
    },
    {
     "name": "stdout",
     "output_type": "stream",
     "text": [
      "Step: 250, Loss: 0.11858658492565155\n"
     ]
    },
    {
     "name": "stderr",
     "output_type": "stream",
     "text": [
      " 28%|██▊       | 261/938 [07:34<18:20,  1.63s/it]"
     ]
    },
    {
     "name": "stdout",
     "output_type": "stream",
     "text": [
      "Step: 260, Loss: 0.12271543592214584\n"
     ]
    },
    {
     "name": "stderr",
     "output_type": "stream",
     "text": [
      " 29%|██▉       | 271/938 [07:50<18:02,  1.62s/it]"
     ]
    },
    {
     "name": "stdout",
     "output_type": "stream",
     "text": [
      "Step: 270, Loss: 0.04779078811407089\n"
     ]
    },
    {
     "name": "stderr",
     "output_type": "stream",
     "text": [
      " 30%|██▉       | 281/938 [08:07<17:54,  1.64s/it]"
     ]
    },
    {
     "name": "stdout",
     "output_type": "stream",
     "text": [
      "Step: 280, Loss: 0.11169086396694183\n"
     ]
    },
    {
     "name": "stderr",
     "output_type": "stream",
     "text": [
      " 31%|███       | 291/938 [08:23<17:49,  1.65s/it]"
     ]
    },
    {
     "name": "stdout",
     "output_type": "stream",
     "text": [
      "Step: 290, Loss: 0.1586586982011795\n"
     ]
    },
    {
     "name": "stderr",
     "output_type": "stream",
     "text": [
      " 32%|███▏      | 301/938 [08:40<17:33,  1.65s/it]"
     ]
    },
    {
     "name": "stdout",
     "output_type": "stream",
     "text": [
      "Step: 300, Loss: 0.18893909454345703\n"
     ]
    },
    {
     "name": "stderr",
     "output_type": "stream",
     "text": [
      " 33%|███▎      | 311/938 [08:57<18:18,  1.75s/it]"
     ]
    },
    {
     "name": "stdout",
     "output_type": "stream",
     "text": [
      "Step: 310, Loss: 0.10505879670381546\n"
     ]
    },
    {
     "name": "stderr",
     "output_type": "stream",
     "text": [
      " 34%|███▍      | 321/938 [09:15<18:16,  1.78s/it]"
     ]
    },
    {
     "name": "stdout",
     "output_type": "stream",
     "text": [
      "Step: 320, Loss: 0.07393410801887512\n"
     ]
    },
    {
     "name": "stderr",
     "output_type": "stream",
     "text": [
      " 35%|███▌      | 331/938 [09:32<17:08,  1.69s/it]"
     ]
    },
    {
     "name": "stdout",
     "output_type": "stream",
     "text": [
      "Step: 330, Loss: 0.12428287416696548\n"
     ]
    },
    {
     "name": "stderr",
     "output_type": "stream",
     "text": [
      " 36%|███▋      | 341/938 [09:49<17:22,  1.75s/it]"
     ]
    },
    {
     "name": "stdout",
     "output_type": "stream",
     "text": [
      "Step: 340, Loss: 0.1240445002913475\n"
     ]
    },
    {
     "name": "stderr",
     "output_type": "stream",
     "text": [
      " 37%|███▋      | 351/938 [10:06<16:55,  1.73s/it]"
     ]
    },
    {
     "name": "stdout",
     "output_type": "stream",
     "text": [
      "Step: 350, Loss: 0.03111952170729637\n"
     ]
    },
    {
     "name": "stderr",
     "output_type": "stream",
     "text": [
      " 38%|███▊      | 361/938 [10:23<16:42,  1.74s/it]"
     ]
    },
    {
     "name": "stdout",
     "output_type": "stream",
     "text": [
      "Step: 360, Loss: 0.10447102785110474\n"
     ]
    },
    {
     "name": "stderr",
     "output_type": "stream",
     "text": [
      " 40%|███▉      | 371/938 [10:41<16:29,  1.74s/it]"
     ]
    },
    {
     "name": "stdout",
     "output_type": "stream",
     "text": [
      "Step: 370, Loss: 0.01091691292822361\n"
     ]
    },
    {
     "name": "stderr",
     "output_type": "stream",
     "text": [
      " 41%|████      | 381/938 [10:58<16:19,  1.76s/it]"
     ]
    },
    {
     "name": "stdout",
     "output_type": "stream",
     "text": [
      "Step: 380, Loss: 0.04512595385313034\n"
     ]
    },
    {
     "name": "stderr",
     "output_type": "stream",
     "text": [
      " 42%|████▏     | 391/938 [11:16<16:00,  1.76s/it]"
     ]
    },
    {
     "name": "stdout",
     "output_type": "stream",
     "text": [
      "Step: 390, Loss: 0.28907057642936707\n"
     ]
    },
    {
     "name": "stderr",
     "output_type": "stream",
     "text": [
      " 43%|████▎     | 401/938 [11:34<15:57,  1.78s/it]"
     ]
    },
    {
     "name": "stdout",
     "output_type": "stream",
     "text": [
      "Step: 400, Loss: 0.1402895748615265\n"
     ]
    },
    {
     "name": "stderr",
     "output_type": "stream",
     "text": [
      " 44%|████▍     | 411/938 [11:51<15:39,  1.78s/it]"
     ]
    },
    {
     "name": "stdout",
     "output_type": "stream",
     "text": [
      "Step: 410, Loss: 0.03656690940260887\n"
     ]
    },
    {
     "name": "stderr",
     "output_type": "stream",
     "text": [
      " 45%|████▍     | 421/938 [12:09<15:19,  1.78s/it]"
     ]
    },
    {
     "name": "stdout",
     "output_type": "stream",
     "text": [
      "Step: 420, Loss: 0.13193798065185547\n"
     ]
    },
    {
     "name": "stderr",
     "output_type": "stream",
     "text": [
      " 46%|████▌     | 431/938 [12:27<15:12,  1.80s/it]"
     ]
    },
    {
     "name": "stdout",
     "output_type": "stream",
     "text": [
      "Step: 430, Loss: 0.029789460822939873\n"
     ]
    },
    {
     "name": "stderr",
     "output_type": "stream",
     "text": [
      " 47%|████▋     | 441/938 [12:46<16:31,  2.00s/it]"
     ]
    },
    {
     "name": "stdout",
     "output_type": "stream",
     "text": [
      "Step: 440, Loss: 0.09047671407461166\n"
     ]
    },
    {
     "name": "stderr",
     "output_type": "stream",
     "text": [
      " 48%|████▊     | 451/938 [13:06<15:45,  1.94s/it]"
     ]
    },
    {
     "name": "stdout",
     "output_type": "stream",
     "text": [
      "Step: 450, Loss: 0.07719922810792923\n"
     ]
    },
    {
     "name": "stderr",
     "output_type": "stream",
     "text": [
      " 49%|████▉     | 461/938 [13:25<15:21,  1.93s/it]"
     ]
    },
    {
     "name": "stdout",
     "output_type": "stream",
     "text": [
      "Step: 460, Loss: 0.17339131236076355\n"
     ]
    },
    {
     "name": "stderr",
     "output_type": "stream",
     "text": [
      " 50%|█████     | 471/938 [13:44<14:39,  1.88s/it]"
     ]
    },
    {
     "name": "stdout",
     "output_type": "stream",
     "text": [
      "Step: 470, Loss: 0.08152828365564346\n"
     ]
    },
    {
     "name": "stderr",
     "output_type": "stream",
     "text": [
      " 51%|█████▏    | 481/938 [14:02<14:02,  1.84s/it]"
     ]
    },
    {
     "name": "stdout",
     "output_type": "stream",
     "text": [
      "Step: 480, Loss: 0.024385910481214523\n"
     ]
    },
    {
     "name": "stderr",
     "output_type": "stream",
     "text": [
      " 52%|█████▏    | 491/938 [14:20<13:42,  1.84s/it]"
     ]
    },
    {
     "name": "stdout",
     "output_type": "stream",
     "text": [
      "Step: 490, Loss: 0.05153815820813179\n"
     ]
    },
    {
     "name": "stderr",
     "output_type": "stream",
     "text": [
      " 53%|█████▎    | 501/938 [14:39<13:22,  1.84s/it]"
     ]
    },
    {
     "name": "stdout",
     "output_type": "stream",
     "text": [
      "Step: 500, Loss: 0.12441807985305786\n"
     ]
    },
    {
     "name": "stderr",
     "output_type": "stream",
     "text": [
      " 54%|█████▍    | 511/938 [14:57<12:47,  1.80s/it]"
     ]
    },
    {
     "name": "stdout",
     "output_type": "stream",
     "text": [
      "Step: 510, Loss: 0.1146480068564415\n"
     ]
    },
    {
     "name": "stderr",
     "output_type": "stream",
     "text": [
      " 56%|█████▌    | 521/938 [15:15<12:39,  1.82s/it]"
     ]
    },
    {
     "name": "stdout",
     "output_type": "stream",
     "text": [
      "Step: 520, Loss: 0.1702808290719986\n"
     ]
    },
    {
     "name": "stderr",
     "output_type": "stream",
     "text": [
      " 57%|█████▋    | 531/938 [15:33<12:09,  1.79s/it]"
     ]
    },
    {
     "name": "stdout",
     "output_type": "stream",
     "text": [
      "Step: 530, Loss: 0.1048821210861206\n"
     ]
    },
    {
     "name": "stderr",
     "output_type": "stream",
     "text": [
      " 58%|█████▊    | 541/938 [15:51<11:52,  1.79s/it]"
     ]
    },
    {
     "name": "stdout",
     "output_type": "stream",
     "text": [
      "Step: 540, Loss: 0.09232143312692642\n"
     ]
    },
    {
     "name": "stderr",
     "output_type": "stream",
     "text": [
      " 59%|█████▊    | 551/938 [16:09<11:44,  1.82s/it]"
     ]
    },
    {
     "name": "stdout",
     "output_type": "stream",
     "text": [
      "Step: 550, Loss: 0.1135256215929985\n"
     ]
    },
    {
     "name": "stderr",
     "output_type": "stream",
     "text": [
      " 60%|█████▉    | 561/938 [16:28<11:49,  1.88s/it]"
     ]
    },
    {
     "name": "stdout",
     "output_type": "stream",
     "text": [
      "Step: 560, Loss: 0.061678197234869\n"
     ]
    },
    {
     "name": "stderr",
     "output_type": "stream",
     "text": [
      " 61%|██████    | 571/938 [16:47<12:00,  1.96s/it]"
     ]
    },
    {
     "name": "stdout",
     "output_type": "stream",
     "text": [
      "Step: 570, Loss: 0.15216201543807983\n"
     ]
    },
    {
     "name": "stderr",
     "output_type": "stream",
     "text": [
      " 62%|██████▏   | 581/938 [17:06<10:43,  1.80s/it]"
     ]
    },
    {
     "name": "stdout",
     "output_type": "stream",
     "text": [
      "Step: 580, Loss: 0.2938297688961029\n"
     ]
    },
    {
     "name": "stderr",
     "output_type": "stream",
     "text": [
      " 63%|██████▎   | 591/938 [17:25<11:11,  1.93s/it]"
     ]
    },
    {
     "name": "stdout",
     "output_type": "stream",
     "text": [
      "Step: 590, Loss: 0.2872453033924103\n"
     ]
    },
    {
     "name": "stderr",
     "output_type": "stream",
     "text": [
      " 64%|██████▍   | 601/938 [17:46<12:03,  2.15s/it]"
     ]
    },
    {
     "name": "stdout",
     "output_type": "stream",
     "text": [
      "Step: 600, Loss: 0.23870159685611725\n"
     ]
    },
    {
     "name": "stderr",
     "output_type": "stream",
     "text": [
      " 65%|██████▌   | 611/938 [18:07<10:53,  2.00s/it]"
     ]
    },
    {
     "name": "stdout",
     "output_type": "stream",
     "text": [
      "Step: 610, Loss: 0.0729936957359314\n"
     ]
    },
    {
     "name": "stderr",
     "output_type": "stream",
     "text": [
      " 66%|██████▌   | 621/938 [18:28<11:14,  2.13s/it]"
     ]
    },
    {
     "name": "stdout",
     "output_type": "stream",
     "text": [
      "Step: 620, Loss: 0.08349067717790604\n"
     ]
    },
    {
     "name": "stderr",
     "output_type": "stream",
     "text": [
      " 67%|██████▋   | 631/938 [18:49<10:13,  2.00s/it]"
     ]
    },
    {
     "name": "stdout",
     "output_type": "stream",
     "text": [
      "Step: 630, Loss: 0.28447431325912476\n"
     ]
    },
    {
     "name": "stderr",
     "output_type": "stream",
     "text": [
      " 68%|██████▊   | 641/938 [19:08<09:49,  1.99s/it]"
     ]
    },
    {
     "name": "stdout",
     "output_type": "stream",
     "text": [
      "Step: 640, Loss: 0.037029653787612915\n"
     ]
    },
    {
     "name": "stderr",
     "output_type": "stream",
     "text": [
      " 69%|██████▉   | 651/938 [19:29<09:28,  1.98s/it]"
     ]
    },
    {
     "name": "stdout",
     "output_type": "stream",
     "text": [
      "Step: 650, Loss: 0.08739032596349716\n"
     ]
    },
    {
     "name": "stderr",
     "output_type": "stream",
     "text": [
      " 70%|███████   | 661/938 [19:49<09:21,  2.03s/it]"
     ]
    },
    {
     "name": "stdout",
     "output_type": "stream",
     "text": [
      "Step: 660, Loss: 0.14417877793312073\n"
     ]
    },
    {
     "name": "stderr",
     "output_type": "stream",
     "text": [
      " 72%|███████▏  | 671/938 [20:09<08:44,  1.97s/it]"
     ]
    },
    {
     "name": "stdout",
     "output_type": "stream",
     "text": [
      "Step: 670, Loss: 0.06814740598201752\n"
     ]
    },
    {
     "name": "stderr",
     "output_type": "stream",
     "text": [
      " 73%|███████▎  | 681/938 [20:29<08:56,  2.09s/it]"
     ]
    },
    {
     "name": "stdout",
     "output_type": "stream",
     "text": [
      "Step: 680, Loss: 0.09585817903280258\n"
     ]
    },
    {
     "name": "stderr",
     "output_type": "stream",
     "text": [
      " 74%|███████▎  | 691/938 [20:51<08:45,  2.13s/it]"
     ]
    },
    {
     "name": "stdout",
     "output_type": "stream",
     "text": [
      "Step: 690, Loss: 0.14920325577259064\n"
     ]
    },
    {
     "name": "stderr",
     "output_type": "stream",
     "text": [
      " 75%|███████▍  | 701/938 [21:12<08:25,  2.13s/it]"
     ]
    },
    {
     "name": "stdout",
     "output_type": "stream",
     "text": [
      "Step: 700, Loss: 0.05074405297636986\n"
     ]
    },
    {
     "name": "stderr",
     "output_type": "stream",
     "text": [
      " 76%|███████▌  | 711/938 [21:33<07:48,  2.07s/it]"
     ]
    },
    {
     "name": "stdout",
     "output_type": "stream",
     "text": [
      "Step: 710, Loss: 0.0379471629858017\n"
     ]
    },
    {
     "name": "stderr",
     "output_type": "stream",
     "text": [
      " 77%|███████▋  | 721/938 [21:54<07:42,  2.13s/it]"
     ]
    },
    {
     "name": "stdout",
     "output_type": "stream",
     "text": [
      "Step: 720, Loss: 0.02996273711323738\n"
     ]
    },
    {
     "name": "stderr",
     "output_type": "stream",
     "text": [
      " 78%|███████▊  | 731/938 [22:16<07:22,  2.14s/it]"
     ]
    },
    {
     "name": "stdout",
     "output_type": "stream",
     "text": [
      "Step: 730, Loss: 0.1399078071117401\n"
     ]
    },
    {
     "name": "stderr",
     "output_type": "stream",
     "text": [
      " 79%|███████▉  | 741/938 [22:37<07:02,  2.14s/it]"
     ]
    },
    {
     "name": "stdout",
     "output_type": "stream",
     "text": [
      "Step: 740, Loss: 0.10576511919498444\n"
     ]
    },
    {
     "name": "stderr",
     "output_type": "stream",
     "text": [
      " 80%|████████  | 751/938 [22:59<06:38,  2.13s/it]"
     ]
    },
    {
     "name": "stdout",
     "output_type": "stream",
     "text": [
      "Step: 750, Loss: 0.03590569645166397\n"
     ]
    },
    {
     "name": "stderr",
     "output_type": "stream",
     "text": [
      " 81%|████████  | 761/938 [23:20<06:18,  2.14s/it]"
     ]
    },
    {
     "name": "stdout",
     "output_type": "stream",
     "text": [
      "Step: 760, Loss: 0.15118753910064697\n"
     ]
    },
    {
     "name": "stderr",
     "output_type": "stream",
     "text": [
      " 82%|████████▏ | 771/938 [23:41<05:54,  2.13s/it]"
     ]
    },
    {
     "name": "stdout",
     "output_type": "stream",
     "text": [
      "Step: 770, Loss: 0.11966618150472641\n"
     ]
    },
    {
     "name": "stderr",
     "output_type": "stream",
     "text": [
      " 83%|████████▎ | 781/938 [24:02<05:32,  2.12s/it]"
     ]
    },
    {
     "name": "stdout",
     "output_type": "stream",
     "text": [
      "Step: 780, Loss: 0.21145150065422058\n"
     ]
    },
    {
     "name": "stderr",
     "output_type": "stream",
     "text": [
      " 84%|████████▍ | 791/938 [24:24<05:12,  2.13s/it]"
     ]
    },
    {
     "name": "stdout",
     "output_type": "stream",
     "text": [
      "Step: 790, Loss: 0.15883204340934753\n"
     ]
    },
    {
     "name": "stderr",
     "output_type": "stream",
     "text": [
      " 85%|████████▌ | 801/938 [24:45<04:47,  2.10s/it]"
     ]
    },
    {
     "name": "stdout",
     "output_type": "stream",
     "text": [
      "Step: 800, Loss: 0.08682234585285187\n"
     ]
    },
    {
     "name": "stderr",
     "output_type": "stream",
     "text": [
      " 86%|████████▋ | 811/938 [25:06<04:28,  2.12s/it]"
     ]
    },
    {
     "name": "stdout",
     "output_type": "stream",
     "text": [
      "Step: 810, Loss: 0.012737792916595936\n"
     ]
    },
    {
     "name": "stderr",
     "output_type": "stream",
     "text": [
      " 88%|████████▊ | 821/938 [25:27<04:07,  2.11s/it]"
     ]
    },
    {
     "name": "stdout",
     "output_type": "stream",
     "text": [
      "Step: 820, Loss: 0.18062813580036163\n"
     ]
    },
    {
     "name": "stderr",
     "output_type": "stream",
     "text": [
      " 89%|████████▊ | 831/938 [25:48<03:44,  2.10s/it]"
     ]
    },
    {
     "name": "stdout",
     "output_type": "stream",
     "text": [
      "Step: 830, Loss: 0.07716773450374603\n"
     ]
    },
    {
     "name": "stderr",
     "output_type": "stream",
     "text": [
      " 90%|████████▉ | 841/938 [26:09<03:25,  2.12s/it]"
     ]
    },
    {
     "name": "stdout",
     "output_type": "stream",
     "text": [
      "Step: 840, Loss: 0.2620786428451538\n"
     ]
    },
    {
     "name": "stderr",
     "output_type": "stream",
     "text": [
      " 91%|█████████ | 851/938 [26:30<03:03,  2.11s/it]"
     ]
    },
    {
     "name": "stdout",
     "output_type": "stream",
     "text": [
      "Step: 850, Loss: 0.08749246597290039\n"
     ]
    },
    {
     "name": "stderr",
     "output_type": "stream",
     "text": [
      " 92%|█████████▏| 861/938 [26:51<02:41,  2.10s/it]"
     ]
    },
    {
     "name": "stdout",
     "output_type": "stream",
     "text": [
      "Step: 860, Loss: 0.050141289830207825\n"
     ]
    },
    {
     "name": "stderr",
     "output_type": "stream",
     "text": [
      " 93%|█████████▎| 871/938 [27:12<02:21,  2.11s/it]"
     ]
    },
    {
     "name": "stdout",
     "output_type": "stream",
     "text": [
      "Step: 870, Loss: 0.08688332140445709\n"
     ]
    },
    {
     "name": "stderr",
     "output_type": "stream",
     "text": [
      " 94%|█████████▍| 881/938 [27:33<02:00,  2.11s/it]"
     ]
    },
    {
     "name": "stdout",
     "output_type": "stream",
     "text": [
      "Step: 880, Loss: 0.05685518682003021\n"
     ]
    },
    {
     "name": "stderr",
     "output_type": "stream",
     "text": [
      " 95%|█████████▍| 891/938 [27:54<01:39,  2.11s/it]"
     ]
    },
    {
     "name": "stdout",
     "output_type": "stream",
     "text": [
      "Step: 890, Loss: 0.018863815814256668\n"
     ]
    },
    {
     "name": "stderr",
     "output_type": "stream",
     "text": [
      " 96%|█████████▌| 901/938 [28:16<01:18,  2.11s/it]"
     ]
    },
    {
     "name": "stdout",
     "output_type": "stream",
     "text": [
      "Step: 900, Loss: 0.10938555747270584\n"
     ]
    },
    {
     "name": "stderr",
     "output_type": "stream",
     "text": [
      " 97%|█████████▋| 911/938 [28:37<00:56,  2.10s/it]"
     ]
    },
    {
     "name": "stdout",
     "output_type": "stream",
     "text": [
      "Step: 910, Loss: 0.22255322337150574\n"
     ]
    },
    {
     "name": "stderr",
     "output_type": "stream",
     "text": [
      " 98%|█████████▊| 921/938 [28:58<00:36,  2.14s/it]"
     ]
    },
    {
     "name": "stdout",
     "output_type": "stream",
     "text": [
      "Step: 920, Loss: 0.0836317390203476\n"
     ]
    },
    {
     "name": "stderr",
     "output_type": "stream",
     "text": [
      " 99%|█████████▉| 931/938 [29:19<00:14,  2.10s/it]"
     ]
    },
    {
     "name": "stdout",
     "output_type": "stream",
     "text": [
      "Step: 930, Loss: 0.19586260616779327\n"
     ]
    },
    {
     "name": "stderr",
     "output_type": "stream",
     "text": [
      "100%|██████████| 938/938 [29:33<00:00,  1.89s/it]\n"
     ]
    }
   ],
   "source": [
    "# Теперь обучите эту модель:\n",
    "torch.manual_seed(42)\n",
    "\n",
    "model.train()\n",
    "\n",
    "fc_gradients = []\n",
    "\n",
    "for step, data in tqdm(enumerate(trainloader), total=len(trainloader)):\n",
    "    inputs, labels = data\n",
    "    inputs, labels = inputs.to(device), labels.to(device)\n",
    "\n",
    "    optimizer.zero_grad()\n",
    "    outputs = model(inputs)\n",
    "    loss = criterion(outputs, labels)\n",
    "    \n",
    "    loss.backward()\n",
    "    optimizer.step()\n",
    "\n",
    "    if step % 10 == 0:\n",
    "      print(f'Step: {step}, Loss: {loss}')\n",
    "\n",
    "    fc_gradients.append(model.fc.weight.grad.mean().item())"
   ]
  },
  {
   "cell_type": "markdown",
   "metadata": {
    "id": "kqfkym2HHbZm"
   },
   "source": [
    "Как можете видеть, лосс продолжает уменьшаться. Теперь попробуйте визиулизировать градиент накопленный в переменной fc_gradients"
   ]
  },
  {
   "cell_type": "code",
   "execution_count": 137,
   "metadata": {
    "colab": {
     "base_uri": "https://localhost:8080/",
     "height": 313
    },
    "id": "8zKQtB_my8te",
    "outputId": "a72bbcaf-f2e3-40f3-b6d6-e420872edf0a"
   },
   "outputs": [
    {
     "name": "stderr",
     "output_type": "stream",
     "text": [
      "C:\\Users\\khari\\AppData\\Local\\Temp\\ipykernel_16900\\2019969697.py:3: UserWarning: No artists with labels found to put in legend.  Note that artists whose label start with an underscore are ignored when legend() is called with no argument.\n",
      "  plt.legend()\n"
     ]
    },
    {
     "data": {
      "image/png": "[encoded data removed]",
      "text/plain": [
       "<Figure size 640x480 with 1 Axes>"
      ]
     },
     "metadata": {},
     "output_type": "display_data"
    }
   ],
   "source": [
    "# Визуализируйте градиент:\n",
    "plt.plot(fc_gradients)\n",
    "plt.legend()\n",
    "plt.title(\"Gradients of Linear Layers\")\n",
    "plt.xlabel(\"Training Step\")\n",
    "plt.ylabel(\"Gradient Value\")\n",
    "plt.show()"
   ]
  },
  {
   "cell_type": "markdown",
   "metadata": {
    "id": "hfeX1uejHqU0"
   },
   "source": [
    "Теперь градиент кажется достаточно стабильным, и это позволяет ResNet модели обучаться лучше предыдущей модели, которая была подвержена проблеме затухания градента. Таким способом ResNet стала SOTA моделью в 2015 году и выиграла ImageNet competition.\n",
    "\n",
    "Наконец, давайте сохраним параметры (веса) обученной модели чтобы переиспользовать их позже:"
   ]
  },
  {
   "cell_type": "code",
   "execution_count": 138,
   "metadata": {
    "id": "RMF5j3h6b_No"
   },
   "outputs": [],
   "source": [
    "checkpoint_path = './mnist_checkpoint.pth'\n",
    "torch.save(model.state_dict(), checkpoint_path)"
   ]
  },
  {
   "cell_type": "markdown",
   "metadata": {
    "id": "pM6mnPV7bKSn"
   },
   "source": [
    "# Transfer Learning\n",
    "\n",
    "Перед тем как мы перейдем к технике обучения называемой Transfer Learning, давайте сперва протестируем нашу модель на тестовой подвыборке датасета MNIST. Чтобы сделать это, вам необходимо скачать тестовую подвыборку схожим образом, как вы уже скачали подвыборку для обучения с тем отличием, что нужно изменить параметр `train=False`:"
   ]
  },
  {
   "cell_type": "code",
   "execution_count": 139,
   "metadata": {
    "id": "KKfwHdNdngRJ"
   },
   "outputs": [],
   "source": [
    "# Загрузите тестовую подвыборку датасета MNIST:\n",
    "transform = transforms.Compose([transforms.ToTensor(), transforms.Normalize((0.5,), (0.5,))])\n",
    "testset = torchvision.datasets.MNIST(root='./data', train=False, download=True, transform=transform)\n",
    "testloader = torch.utils.data.DataLoader(testset, batch_size=64, shuffle=False, num_workers=2)"
   ]
  },
  {
   "cell_type": "markdown",
   "metadata": {
    "id": "vSndKE5vrgGa"
   },
   "source": [
    "Теперь нам нужно имплементировать функцию для тестирования модели, в которой мы будем считать точность (accuracy) нашей модели (т.е. процент правильных предсказаний):"
   ]
  },
  {
   "cell_type": "code",
   "execution_count": 140,
   "metadata": {
    "id": "A8uyTWErk_54"
   },
   "outputs": [],
   "source": [
    "def test(model, dataloader):\n",
    "  model.eval()\n",
    "\n",
    "  with torch.no_grad():\n",
    "    correct = 0\n",
    "\n",
    "    for step, data in tqdm(enumerate(dataloader), total=len(dataloader)):\n",
    "        inputs, labels = data\n",
    "        inputs, labels = inputs.to(device), labels.to(device)\n",
    "\n",
    "        outputs = model(inputs)\n",
    "        correct += (outputs.argmax(1) == labels).type(torch.float).sum().item()\n",
    "        \n",
    "    accuracy = correct/len(dataloader.dataset)\n",
    "\n",
    "    return accuracy"
   ]
  },
  {
   "cell_type": "markdown",
   "metadata": {
    "id": "JpDdQabCrva1"
   },
   "source": [
    "Теперь загрузите ранее сохраненные параметры (веса) обученной ResNet модели:"
   ]
  },
  {
   "cell_type": "markdown",
   "metadata": {
    "id": "COdCH1EgPQPJ"
   },
   "source": [
    "**Задача 9:** Посчитайте точность модели на тесте."
   ]
  },
  {
   "cell_type": "code",
   "execution_count": 141,
   "metadata": {
    "id": "Pvkd9XBBqsoT"
   },
   "outputs": [],
   "source": [
    "model = ResNet()\n",
    "model.load_state_dict(torch.load(checkpoint_path))\n",
    "model = model.to(device)"
   ]
  },
  {
   "cell_type": "markdown",
   "metadata": {
    "id": "CoRnP6zMqmb-"
   },
   "source": [
    "**Вопрос:** Посчитайте и выведите точность модели на тестовой выборке MNIST.\n",
    "\n",
    "**Пример ответа:** `22.45`"
   ]
  },
  {
   "cell_type": "code",
   "execution_count": 142,
   "metadata": {
    "id": "rpSnjXDDq__p"
   },
   "outputs": [
    {
     "name": "stderr",
     "output_type": "stream",
     "text": [
      "100%|██████████| 157/157 [00:05<00:00, 31.36it/s]"
     ]
    },
    {
     "name": "stdout",
     "output_type": "stream",
     "text": [
      "\n",
      "MNIST test accuracy: 97.50999999999999%\n"
     ]
    },
    {
     "name": "stderr",
     "output_type": "stream",
     "text": [
      "\n"
     ]
    }
   ],
   "source": [
    "accuracy = test(model, testloader)\n",
    "print(f\"\\nMNIST test accuracy: {100*accuracy}%\")  "
   ]
  },
  {
   "cell_type": "markdown",
   "metadata": {
    "id": "uUgp16ay2T8A"
   },
   "source": [
    "Вы должны получить точность примерно 96% или выше.\n",
    "\n",
    "Теперь давайте попробуем загрузить другой датасет - CIFAR10, который состоит из 10 классов, но содержит изображения не рукописаных цифр, а объектов (horses, dogs, cars, и др.). Изображения имеют размер 32x32 и три цветовых канала (RGB). Поэтому нам также нужно изменить трансформации (transforms), чтобы изображения CIFAR10 соответствовали  изображениям MNIST (т.е. 28x28 в формате grayscale):"
   ]
  },
  {
   "cell_type": "code",
   "execution_count": 143,
   "metadata": {
    "colab": {
     "base_uri": "https://localhost:8080/"
    },
    "id": "RbYfaUw6HoAX",
    "outputId": "f0a39533-c1ca-4396-90dc-0935574e6084"
   },
   "outputs": [],
   "source": [
    "# Трансформации для датасета CIFAR10:\n",
    "transform_cifar10 = transforms.Compose([\n",
    "    transforms.Grayscale(num_output_channels=1),\n",
    "    transforms.Resize((28,28)), \n",
    "    transforms.ToTensor(),\n",
    "    transforms.Normalize((0.5,), (0.5,))])\n",
    "\n",
    "# Выборка для обучения:\n",
    "trainset_cifar10 = torchvision.datasets.CIFAR10(root='./data_cifar10', train=True, download=True, transform=transform_cifar10)\n",
    "trainloader_cifar10 = torch.utils.data.DataLoader(trainset_cifar10, batch_size=64, shuffle=True, num_workers=2)\n",
    "\n",
    "# Выборка для тестирования:\n",
    "testset_cifar10 = torchvision.datasets.CIFAR10(root='./data_cifar10', train=False, download=True, transform=transform_cifar10)\n",
    "testloader_cifar10 = torch.utils.data.DataLoader(testset_cifar10, batch_size=64, shuffle=False, num_workers=2)"
   ]
  },
  {
   "cell_type": "markdown",
   "metadata": {
    "id": "4-3JPLH63_TX"
   },
   "source": [
    "Теперь протестируйте ранее обученную ResNet модель на тестовой выборке датасета CIFAR10 (пока переобучать модель не нужно!):"
   ]
  },
  {
   "cell_type": "markdown",
   "metadata": {
    "id": "JJriMfvxP6IF"
   },
   "source": [
    "**Задача 10:** Протестируйте модель на тестовой выборке CIFAR10"
   ]
  },
  {
   "cell_type": "markdown",
   "metadata": {
    "id": "4lSUdrRMr0b7"
   },
   "source": [
    "**Вопрос:** Посчитайте и выведите точность модели на тесте\n",
    "\n",
    "**Пример ответа:** `22.45`"
   ]
  },
  {
   "cell_type": "code",
   "execution_count": 144,
   "metadata": {
    "id": "BvreSSyxrNXJ"
   },
   "outputs": [
    {
     "name": "stderr",
     "output_type": "stream",
     "text": [
      "100%|██████████| 157/157 [00:02<00:00, 64.27it/s]"
     ]
    },
    {
     "name": "stdout",
     "output_type": "stream",
     "text": [
      "\n",
      "Test accuracy: 10.03%\n"
     ]
    },
    {
     "name": "stderr",
     "output_type": "stream",
     "text": [
      "\n"
     ]
    }
   ],
   "source": [
    "accuracy = test(model, testloader_cifar10)\n",
    "print(f\"\\nTest accuracy: {100*accuracy}%\")  "
   ]
  },
  {
   "cell_type": "markdown",
   "metadata": {
    "id": "g15wnspD4qmN"
   },
   "source": [
    "Как видите, точность на CIFAR10 не очень большая (около 10%). И это не удивительно, ведь мы обучали нашу ResNet модель на другом датасете (MNIST).\n",
    "\n",
    "Теперь давайте заморозим все слои за исключением последнего (т.е. слоя классификации):"
   ]
  },
  {
   "cell_type": "markdown",
   "metadata": {
    "id": "G5PVNgLRP9R6"
   },
   "source": [
    "**Задача 11:** Заморозьте слои модели кроме последнего"
   ]
  },
  {
   "cell_type": "code",
   "execution_count": 145,
   "metadata": {
    "id": "ytg1POiId9eM"
   },
   "outputs": [],
   "source": [
    "for param in model.parameters():\n",
    "    param.requires_grad = False              # отключаем градиент (т.е. \"замораживаем\" слои)\n",
    "    \n",
    "mnist_fc = model.fc                          # Сохраняем в переменную слой классификации MNIST\n",
    "in_features = model.fc.in_features         \n",
    "model.fc = torch.nn.Linear(in_features, 10)  # Создаем новый слой классификации для CIFAR10\n",
    "model.fc = model.fc.cuda()"
   ]
  },
  {
   "cell_type": "markdown",
   "metadata": {
    "id": "LVT85FTjr3Sy"
   },
   "source": [
    "**Вопрос:** Посчитайте и выведите количество параметров (весов) в замороженных слоях\n",
    "\n",
    "**Пример ответа:** `224513`"
   ]
  },
  {
   "cell_type": "code",
   "execution_count": 146,
   "metadata": {
    "id": "zpHiYFjprrK_"
   },
   "outputs": [
    {
     "data": {
      "text/plain": [
       "2776064"
      ]
     },
     "execution_count": 146,
     "metadata": {},
     "output_type": "execute_result"
    }
   ],
   "source": [
    "frozen_params = sum(p.numel() for p in model.parameters() if not p.requires_grad)\n",
    "frozen_params   # 2776064"
   ]
  },
  {
   "cell_type": "markdown",
   "metadata": {
    "id": "sIDIlXfiQKO2"
   },
   "source": [
    "**Задача 12:** Обучите только последний слой модели на датасете CIFAR10 (все остальные слои должны быть заморожены)"
   ]
  },
  {
   "cell_type": "code",
   "execution_count": 147,
   "metadata": {
    "colab": {
     "base_uri": "https://localhost:8080/"
    },
    "id": "7I1lXkxGeRfg",
    "outputId": "7cbedff7-636f-45d9-87eb-efff9b91cfd5"
   },
   "outputs": [
    {
     "name": "stderr",
     "output_type": "stream",
     "text": [
      "  2%|▏         | 15/782 [00:00<00:10, 74.40it/s]"
     ]
    },
    {
     "name": "stdout",
     "output_type": "stream",
     "text": [
      "Step: 0, Loss: 2.3097453117370605\n",
      "Step: 10, Loss: 2.8638358116149902\n"
     ]
    },
    {
     "name": "stderr",
     "output_type": "stream",
     "text": [
      "  4%|▍         | 33/782 [00:00<00:09, 79.56it/s]"
     ]
    },
    {
     "name": "stdout",
     "output_type": "stream",
     "text": [
      "Step: 20, Loss: 2.222452402114868\n",
      "Step: 30, Loss: 2.3062803745269775\n"
     ]
    },
    {
     "name": "stderr",
     "output_type": "stream",
     "text": [
      "  7%|▋         | 51/782 [00:00<00:08, 82.57it/s]"
     ]
    },
    {
     "name": "stdout",
     "output_type": "stream",
     "text": [
      "Step: 40, Loss: 2.1798365116119385\n",
      "Step: 50, Loss: 2.064896821975708\n"
     ]
    },
    {
     "name": "stderr",
     "output_type": "stream",
     "text": [
      " 10%|▉         | 78/782 [00:00<00:08, 83.19it/s]"
     ]
    },
    {
     "name": "stdout",
     "output_type": "stream",
     "text": [
      "Step: 60, Loss: 2.198005199432373\n",
      "Step: 70, Loss: 1.6822034120559692\n"
     ]
    },
    {
     "name": "stderr",
     "output_type": "stream",
     "text": [
      " 12%|█▏        | 96/782 [00:01<00:08, 82.98it/s]"
     ]
    },
    {
     "name": "stdout",
     "output_type": "stream",
     "text": [
      "Step: 80, Loss: 2.2860848903656006\n",
      "Step: 90, Loss: 2.4544875621795654\n"
     ]
    },
    {
     "name": "stderr",
     "output_type": "stream",
     "text": [
      " 15%|█▍        | 114/782 [00:01<00:08, 82.80it/s]"
     ]
    },
    {
     "name": "stdout",
     "output_type": "stream",
     "text": [
      "Step: 100, Loss: 2.0239248275756836\n",
      "Step: 110, Loss: 2.14754319190979\n"
     ]
    },
    {
     "name": "stderr",
     "output_type": "stream",
     "text": [
      " 17%|█▋        | 132/782 [00:01<00:07, 85.22it/s]"
     ]
    },
    {
     "name": "stdout",
     "output_type": "stream",
     "text": [
      "Step: 120, Loss: 1.9227399826049805\n",
      "Step: 130, Loss: 2.4311699867248535\n"
     ]
    },
    {
     "name": "stderr",
     "output_type": "stream",
     "text": [
      " 19%|█▉        | 150/782 [00:01<00:07, 82.95it/s]"
     ]
    },
    {
     "name": "stdout",
     "output_type": "stream",
     "text": [
      "Step: 140, Loss: 2.352541923522949\n",
      "Step: 150, Loss: 1.898016333580017\n"
     ]
    },
    {
     "name": "stderr",
     "output_type": "stream",
     "text": [
      " 23%|██▎       | 177/782 [00:02<00:07, 85.20it/s]"
     ]
    },
    {
     "name": "stdout",
     "output_type": "stream",
     "text": [
      "Step: 160, Loss: 2.5645298957824707\n",
      "Step: 170, Loss: 2.018249034881592\n"
     ]
    },
    {
     "name": "stderr",
     "output_type": "stream",
     "text": [
      " 25%|██▍       | 195/782 [00:02<00:06, 84.05it/s]"
     ]
    },
    {
     "name": "stdout",
     "output_type": "stream",
     "text": [
      "Step: 180, Loss: 2.2287814617156982\n",
      "Step: 190, Loss: 2.35846209526062\n"
     ]
    },
    {
     "name": "stderr",
     "output_type": "stream",
     "text": [
      " 27%|██▋       | 213/782 [00:02<00:06, 85.68it/s]"
     ]
    },
    {
     "name": "stdout",
     "output_type": "stream",
     "text": [
      "Step: 200, Loss: 2.17071533203125\n",
      "Step: 210, Loss: 2.03664231300354\n"
     ]
    },
    {
     "name": "stderr",
     "output_type": "stream",
     "text": [
      " 30%|██▉       | 231/782 [00:02<00:06, 83.20it/s]"
     ]
    },
    {
     "name": "stdout",
     "output_type": "stream",
     "text": [
      "Step: 220, Loss: 1.963163137435913\n",
      "Step: 230, Loss: 1.9238333702087402\n"
     ]
    },
    {
     "name": "stderr",
     "output_type": "stream",
     "text": [
      " 33%|███▎      | 258/782 [00:03<00:06, 86.60it/s]"
     ]
    },
    {
     "name": "stdout",
     "output_type": "stream",
     "text": [
      "Step: 240, Loss: 1.9738577604293823\n",
      "Step: 250, Loss: 1.987750768661499\n"
     ]
    },
    {
     "name": "stderr",
     "output_type": "stream",
     "text": [
      " 35%|███▌      | 276/782 [00:03<00:05, 85.36it/s]"
     ]
    },
    {
     "name": "stdout",
     "output_type": "stream",
     "text": [
      "Step: 260, Loss: 2.1648662090301514\n",
      "Step: 270, Loss: 2.398730993270874\n"
     ]
    },
    {
     "name": "stderr",
     "output_type": "stream",
     "text": [
      " 38%|███▊      | 294/782 [00:03<00:05, 84.67it/s]"
     ]
    },
    {
     "name": "stdout",
     "output_type": "stream",
     "text": [
      "Step: 280, Loss: 2.3091177940368652\n",
      "Step: 290, Loss: 1.989311695098877\n"
     ]
    },
    {
     "name": "stderr",
     "output_type": "stream",
     "text": [
      " 40%|███▉      | 312/782 [00:03<00:05, 84.20it/s]"
     ]
    },
    {
     "name": "stdout",
     "output_type": "stream",
     "text": [
      "Step: 300, Loss: 1.9529881477355957\n",
      "Step: 310, Loss: 2.0085086822509766\n"
     ]
    },
    {
     "name": "stderr",
     "output_type": "stream",
     "text": [
      " 42%|████▏     | 330/782 [00:03<00:05, 85.35it/s]"
     ]
    },
    {
     "name": "stdout",
     "output_type": "stream",
     "text": [
      "Step: 320, Loss: 2.4554555416107178\n",
      "Step: 330, Loss: 2.208711862564087\n"
     ]
    },
    {
     "name": "stderr",
     "output_type": "stream",
     "text": [
      " 46%|████▌     | 357/782 [00:04<00:04, 85.98it/s]"
     ]
    },
    {
     "name": "stdout",
     "output_type": "stream",
     "text": [
      "Step: 340, Loss: 1.8699324131011963\n",
      "Step: 350, Loss: 1.9425673484802246\n"
     ]
    },
    {
     "name": "stderr",
     "output_type": "stream",
     "text": [
      " 48%|████▊     | 375/782 [00:04<00:04, 85.21it/s]"
     ]
    },
    {
     "name": "stdout",
     "output_type": "stream",
     "text": [
      "Step: 360, Loss: 1.8762149810791016\n",
      "Step: 370, Loss: 1.801551103591919\n"
     ]
    },
    {
     "name": "stderr",
     "output_type": "stream",
     "text": [
      " 50%|█████     | 393/782 [00:04<00:04, 86.03it/s]"
     ]
    },
    {
     "name": "stdout",
     "output_type": "stream",
     "text": [
      "Step: 380, Loss: 1.6467335224151611\n",
      "Step: 390, Loss: 2.1146810054779053\n"
     ]
    },
    {
     "name": "stderr",
     "output_type": "stream",
     "text": [
      " 53%|█████▎    | 411/782 [00:04<00:04, 86.03it/s]"
     ]
    },
    {
     "name": "stdout",
     "output_type": "stream",
     "text": [
      "Step: 400, Loss: 2.0365355014801025\n",
      "Step: 410, Loss: 2.280163526535034\n"
     ]
    },
    {
     "name": "stderr",
     "output_type": "stream",
     "text": [
      " 55%|█████▍    | 429/782 [00:05<00:04, 86.92it/s]"
     ]
    },
    {
     "name": "stdout",
     "output_type": "stream",
     "text": [
      "Step: 420, Loss: 2.3956754207611084\n",
      "Step: 430, Loss: 2.3004753589630127\n"
     ]
    },
    {
     "name": "stderr",
     "output_type": "stream",
     "text": [
      " 58%|█████▊    | 457/782 [00:05<00:03, 89.26it/s]"
     ]
    },
    {
     "name": "stdout",
     "output_type": "stream",
     "text": [
      "Step: 440, Loss: 2.1930742263793945\n",
      "Step: 450, Loss: 2.0699400901794434\n"
     ]
    },
    {
     "name": "stderr",
     "output_type": "stream",
     "text": [
      " 61%|██████    | 475/782 [00:05<00:03, 86.66it/s]"
     ]
    },
    {
     "name": "stdout",
     "output_type": "stream",
     "text": [
      "Step: 460, Loss: 2.1654062271118164\n",
      "Step: 470, Loss: 2.2862794399261475\n"
     ]
    },
    {
     "name": "stderr",
     "output_type": "stream",
     "text": [
      " 63%|██████▎   | 493/782 [00:05<00:03, 85.13it/s]"
     ]
    },
    {
     "name": "stdout",
     "output_type": "stream",
     "text": [
      "Step: 480, Loss: 2.416487216949463\n",
      "Step: 490, Loss: 2.0052008628845215\n"
     ]
    },
    {
     "name": "stderr",
     "output_type": "stream",
     "text": [
      " 65%|██████▌   | 511/782 [00:06<00:03, 83.28it/s]"
     ]
    },
    {
     "name": "stdout",
     "output_type": "stream",
     "text": [
      "Step: 500, Loss: 2.2113637924194336\n",
      "Step: 510, Loss: 2.343412160873413\n"
     ]
    },
    {
     "name": "stderr",
     "output_type": "stream",
     "text": [
      " 68%|██████▊   | 530/782 [00:06<00:02, 86.01it/s]"
     ]
    },
    {
     "name": "stdout",
     "output_type": "stream",
     "text": [
      "Step: 520, Loss: 2.2687721252441406\n",
      "Step: 530, Loss: 2.4878458976745605\n"
     ]
    },
    {
     "name": "stderr",
     "output_type": "stream",
     "text": [
      " 71%|███████   | 557/782 [00:06<00:02, 85.88it/s]"
     ]
    },
    {
     "name": "stdout",
     "output_type": "stream",
     "text": [
      "Step: 540, Loss: 2.5113396644592285\n",
      "Step: 550, Loss: 2.542372703552246\n"
     ]
    },
    {
     "name": "stderr",
     "output_type": "stream",
     "text": [
      " 74%|███████▎  | 575/782 [00:06<00:02, 86.75it/s]"
     ]
    },
    {
     "name": "stdout",
     "output_type": "stream",
     "text": [
      "Step: 560, Loss: 2.38966965675354\n",
      "Step: 570, Loss: 2.1444475650787354\n"
     ]
    },
    {
     "name": "stderr",
     "output_type": "stream",
     "text": [
      " 76%|███████▌  | 593/782 [00:06<00:02, 86.83it/s]"
     ]
    },
    {
     "name": "stdout",
     "output_type": "stream",
     "text": [
      "Step: 580, Loss: 1.9879223108291626\n",
      "Step: 590, Loss: 2.2555088996887207\n"
     ]
    },
    {
     "name": "stderr",
     "output_type": "stream",
     "text": [
      " 78%|███████▊  | 611/782 [00:07<00:02, 83.94it/s]"
     ]
    },
    {
     "name": "stdout",
     "output_type": "stream",
     "text": [
      "Step: 600, Loss: 1.9826633930206299\n",
      "Step: 610, Loss: 2.007871150970459\n"
     ]
    },
    {
     "name": "stderr",
     "output_type": "stream",
     "text": [
      " 82%|████████▏ | 638/782 [00:07<00:01, 86.11it/s]"
     ]
    },
    {
     "name": "stdout",
     "output_type": "stream",
     "text": [
      "Step: 620, Loss: 2.1724939346313477\n",
      "Step: 630, Loss: 2.2694005966186523\n"
     ]
    },
    {
     "name": "stderr",
     "output_type": "stream",
     "text": [
      " 84%|████████▍ | 656/782 [00:07<00:01, 84.95it/s]"
     ]
    },
    {
     "name": "stdout",
     "output_type": "stream",
     "text": [
      "Step: 640, Loss: 2.0983619689941406\n",
      "Step: 650, Loss: 2.0837390422821045\n"
     ]
    },
    {
     "name": "stderr",
     "output_type": "stream",
     "text": [
      " 86%|████████▌ | 674/782 [00:07<00:01, 84.58it/s]"
     ]
    },
    {
     "name": "stdout",
     "output_type": "stream",
     "text": [
      "Step: 660, Loss: 1.9763212203979492\n",
      "Step: 670, Loss: 2.4311671257019043\n"
     ]
    },
    {
     "name": "stderr",
     "output_type": "stream",
     "text": [
      " 88%|████████▊ | 692/782 [00:08<00:01, 84.33it/s]"
     ]
    },
    {
     "name": "stdout",
     "output_type": "stream",
     "text": [
      "Step: 680, Loss: 2.100964307785034\n",
      "Step: 690, Loss: 2.1852431297302246\n"
     ]
    },
    {
     "name": "stderr",
     "output_type": "stream",
     "text": [
      " 91%|█████████ | 711/782 [00:08<00:00, 83.74it/s]"
     ]
    },
    {
     "name": "stdout",
     "output_type": "stream",
     "text": [
      "Step: 700, Loss: 2.2367055416107178\n",
      "Step: 710, Loss: 2.192018508911133\n"
     ]
    },
    {
     "name": "stderr",
     "output_type": "stream",
     "text": [
      " 93%|█████████▎| 729/782 [00:08<00:00, 85.72it/s]"
     ]
    },
    {
     "name": "stdout",
     "output_type": "stream",
     "text": [
      "Step: 720, Loss: 2.1743006706237793\n",
      "Step: 730, Loss: 2.0632824897766113\n"
     ]
    },
    {
     "name": "stderr",
     "output_type": "stream",
     "text": [
      " 97%|█████████▋| 756/782 [00:08<00:00, 86.47it/s]"
     ]
    },
    {
     "name": "stdout",
     "output_type": "stream",
     "text": [
      "Step: 740, Loss: 1.7804895639419556\n",
      "Step: 750, Loss: 1.9529845714569092\n"
     ]
    },
    {
     "name": "stderr",
     "output_type": "stream",
     "text": [
      " 99%|█████████▉| 774/782 [00:09<00:00, 86.60it/s]"
     ]
    },
    {
     "name": "stdout",
     "output_type": "stream",
     "text": [
      "Step: 760, Loss: 2.0219810009002686\n",
      "Step: 770, Loss: 1.8933175802230835\n",
      "Step: 780, Loss: 1.942776083946228\n"
     ]
    },
    {
     "name": "stderr",
     "output_type": "stream",
     "text": [
      "100%|██████████| 782/782 [00:09<00:00, 79.71it/s]\n"
     ]
    }
   ],
   "source": [
    "torch.manual_seed(42)\n",
    "\n",
    "criterion = torch.nn.CrossEntropyLoss()\n",
    "optimizer = torch.optim.Adam(model.parameters(), lr=0.01)\n",
    "\n",
    "model.train()\n",
    "\n",
    "for step, data in tqdm(enumerate(trainloader_cifar10), total=len(trainloader_cifar10)):\n",
    "    inputs, labels = data\n",
    "    inputs, labels = inputs.to(device), labels.to(device)\n",
    "\n",
    "    optimizer.zero_grad()\n",
    "    outputs = model(inputs)\n",
    "    loss = criterion(outputs, labels)\n",
    "\n",
    "    loss.backward()\n",
    "    optimizer.step()\n",
    "\n",
    "    if step % 10 == 0:\n",
    "      print(f'Step: {step}, Loss: {loss}')"
   ]
  },
  {
   "cell_type": "markdown",
   "metadata": {
    "id": "FR-yDDnXs_HJ"
   },
   "source": [
    "**Вопрос:** Посчитайте точность на тестовой выборке CIFAR10\n",
    "\n",
    "**Пример ответа:** `32.45`"
   ]
  },
  {
   "cell_type": "code",
   "execution_count": 148,
   "metadata": {
    "id": "14Qt9zqfs-Kd"
   },
   "outputs": [
    {
     "name": "stderr",
     "output_type": "stream",
     "text": [
      "100%|██████████| 157/157 [00:02<00:00, 64.02it/s]"
     ]
    },
    {
     "name": "stdout",
     "output_type": "stream",
     "text": [
      "\n",
      "Test accuracy: 32.629999999999995%\n"
     ]
    },
    {
     "name": "stderr",
     "output_type": "stream",
     "text": [
      "\n"
     ]
    }
   ],
   "source": [
    "accuracy = test(model, testloader_cifar10)\n",
    "print(f\"\\nTest accuracy: {100*accuracy}%\")   "
   ]
  },
  {
   "cell_type": "markdown",
   "metadata": {
    "id": "ZeA7f0zi5o8w"
   },
   "source": [
    "Как можете видеть, точность модели выросла до примерно 35%. Мы обучили только последний слой (классификации), а остальная часть сети осталось нетронутой (т.е. остальные слои обучены на датасете MNIST). Эта техника обучения и называется Transfer Learning.\n",
    "\n",
    "Теперь протестируйте эту модель еще раз на тестовой выборке MNIST:"
   ]
  },
  {
   "cell_type": "code",
   "execution_count": 149,
   "metadata": {
    "colab": {
     "base_uri": "https://localhost:8080/"
    },
    "id": "JxYHD3IFod1p",
    "outputId": "cc873951-9e16-41ee-fe98-d7fb2a303bc6"
   },
   "outputs": [
    {
     "name": "stderr",
     "output_type": "stream",
     "text": [
      "100%|██████████| 157/157 [00:05<00:00, 29.51it/s]"
     ]
    },
    {
     "name": "stdout",
     "output_type": "stream",
     "text": [
      "\n",
      "MNIST test accuracy: 5.489999999999999%\n"
     ]
    },
    {
     "name": "stderr",
     "output_type": "stream",
     "text": [
      "\n"
     ]
    }
   ],
   "source": [
    "accuracy = test(model, testloader)\n",
    "print(f\"\\nMNIST test accuracy: {100*accuracy}%\")  "
   ]
  },
  {
   "cell_type": "markdown",
   "metadata": {
    "id": "X1r6N7cW6rch"
   },
   "source": [
    "Как вы можете видеть, точность упала ниже 10%, поскольку последний слой классификации теперь обучен на CIFAR10 датасете. Это называется \"катастрофическим забыванием\" (catastrophic forgetting). Катастрофическое забывание это тенденация нейронной сети забывать предыдущие обученные знания когда она обучается новой информации.\n",
    "\n",
    "Наконец, давайте вернем назад ранее сохраненный слой классификации обученный на MNIST и протестируем еще раз:"
   ]
  },
  {
   "cell_type": "markdown",
   "metadata": {
    "id": "IseXvSdRQcX-"
   },
   "source": [
    "**Задача 13:** Верните последний слой mnist_fc и проведите финальный тест на тестовых выборках MNIST и CIFAR10"
   ]
  },
  {
   "cell_type": "markdown",
   "metadata": {
    "id": "3Xr67kgiu73F"
   },
   "source": [
    "**Вопрос:** Посчитайте и выведите точность на тестовых выборках MNIST и CIFAR10\n",
    "\n",
    "**Пример ответа:** \n",
    "`CIFAR test accuracy: 9.45`\n",
    "`MNIST test accuracy: 51.68`"
   ]
  },
  {
   "cell_type": "code",
   "execution_count": null,
   "metadata": {
    "colab": {
     "base_uri": "https://localhost:8080/"
    },
    "id": "75NDth_Dol4c",
    "outputId": "8436bb86-1de9-4e76-e5a7-2a908e3bf55c"
   },
   "outputs": [],
   "source": [
    "cifar_fc = model.fc"
   ]
  },
  {
   "cell_type": "code",
   "execution_count": 151,
   "metadata": {},
   "outputs": [
    {
     "name": "stderr",
     "output_type": "stream",
     "text": [
      "100%|██████████| 157/157 [00:02<00:00, 63.44it/s]\n"
     ]
    },
    {
     "name": "stdout",
     "output_type": "stream",
     "text": [
      "\n",
      "CIFAR test accuracy: 8.5%\n"
     ]
    },
    {
     "name": "stderr",
     "output_type": "stream",
     "text": [
      "100%|██████████| 157/157 [00:05<00:00, 30.85it/s]"
     ]
    },
    {
     "name": "stdout",
     "output_type": "stream",
     "text": [
      "\n",
      "MNIST test accuracy: 73.42%\n"
     ]
    },
    {
     "name": "stderr",
     "output_type": "stream",
     "text": [
      "\n"
     ]
    }
   ],
   "source": [
    "\n",
    "model.fc = mnist_fc # верните в модель слой классификации обученный на MNIST\n",
    "model.fc = model.fc.cuda()                # Перенесем на cuda\n",
    "\n",
    "accuracy = test(model, testloader_cifar10)\n",
    "print(f\"\\nCIFAR test accuracy: {100*accuracy}%\")\n",
    "\n",
    "accuracy = test(model, testloader)\n",
    "print(f\"\\nMNIST test accuracy: {100*accuracy}%\")  "
   ]
  }
 ],
 "metadata": {
  "accelerator": "GPU",
  "colab": {
   "provenance": []
  },
  "gpuClass": "standard",
  "kernelspec": {
   "display_name": "Python 3",
   "language": "python",
   "name": "python3"
  },
  "language_info": {
   "codemirror_mode": {
    "name": "ipython",
    "version": 3
   },
   "file_extension": ".py",
   "mimetype": "text/x-python",
   "name": "python",
   "nbconvert_exporter": "python",
   "pygments_lexer": "ipython3",
   "version": "3.11.9"
  },
  "widgets": {
   "application/vnd.jupyter.widget-state+json": {
    "0ab9317bc3654c06b938ae2cd29035d7": {
     "model_module": "@jupyter-widgets/controls",
     "model_module_version": "1.5.0",
     "model_name": "HTMLModel",
     "state": {
      "_dom_classes": [],
      "_model_module": "@jupyter-widgets/controls",
      "_model_module_version": "1.5.0",
      "_model_name": "HTMLModel",
      "_view_count": null,
      "_view_module": "@jupyter-widgets/controls",
      "_view_module_version": "1.5.0",
      "_view_name": "HTMLView",
      "description": "",
      "description_tooltip": null,
      "layout": "IPY_MODEL_19bb4c0ea8cc46b1a7d4ead2ab7a76c6",
      "placeholder": "​",
      "style": "IPY_MODEL_d1be317d23574ba9955f7b78200c8c10",
      "value": "100%"
     }
    },
    "0d22f9c1fa3e46b29ea5421aaad84738": {
     "model_module": "@jupyter-widgets/base",
     "model_module_version": "1.2.0",
     "model_name": "LayoutModel",
     "state": {
      "_model_module": "@jupyter-widgets/base",
      "_model_module_version": "1.2.0",
      "_model_name": "LayoutModel",
      "_view_count": null,
      "_view_module": "@jupyter-widgets/base",
      "_view_module_version": "1.2.0",
      "_view_name": "LayoutView",
      "align_content": null,
      "align_items": null,
      "align_self": null,
      "border": null,
      "bottom": null,
      "display": null,
      "flex": null,
      "flex_flow": null,
      "grid_area": null,
      "grid_auto_columns": null,
      "grid_auto_flow": null,
      "grid_auto_rows": null,
      "grid_column": null,
      "grid_gap": null,
      "grid_row": null,
      "grid_template_areas": null,
      "grid_template_columns": null,
      "grid_template_rows": null,
      "height": null,
      "justify_content": null,
      "justify_items": null,
      "left": null,
      "margin": null,
      "max_height": null,
      "max_width": null,
      "min_height": null,
      "min_width": null,
      "object_fit": null,
      "object_position": null,
      "order": null,
      "overflow": null,
      "overflow_x": null,
      "overflow_y": null,
      "padding": null,
      "right": null,
      "top": null,
      "visibility": null,
      "width": null
     }
    },
    "0d2f43eb91b943f78a17bae9c6bbb182": {
     "model_module": "@jupyter-widgets/base",
     "model_module_version": "1.2.0",
     "model_name": "LayoutModel",
     "state": {
      "_model_module": "@jupyter-widgets/base",
      "_model_module_version": "1.2.0",
      "_model_name": "LayoutModel",
      "_view_count": null,
      "_view_module": "@jupyter-widgets/base",
      "_view_module_version": "1.2.0",
      "_view_name": "LayoutView",
      "align_content": null,
      "align_items": null,
      "align_self": null,
      "border": null,
      "bottom": null,
      "display": null,
      "flex": null,
      "flex_flow": null,
      "grid_area": null,
      "grid_auto_columns": null,
      "grid_auto_flow": null,
      "grid_auto_rows": null,
      "grid_column": null,
      "grid_gap": null,
      "grid_row": null,
      "grid_template_areas": null,
      "grid_template_columns": null,
      "grid_template_rows": null,
      "height": null,
      "justify_content": null,
      "justify_items": null,
      "left": null,
      "margin": null,
      "max_height": null,
      "max_width": null,
      "min_height": null,
      "min_width": null,
      "object_fit": null,
      "object_position": null,
      "order": null,
      "overflow": null,
      "overflow_x": null,
      "overflow_y": null,
      "padding": null,
      "right": null,
      "top": null,
      "visibility": null,
      "width": null
     }
    },
    "0ffcc374bbfe4d5a89d883d65336e919": {
     "model_module": "@jupyter-widgets/controls",
     "model_module_version": "1.5.0",
     "model_name": "HTMLModel",
     "state": {
      "_dom_classes": [],
      "_model_module": "@jupyter-widgets/controls",
      "_model_module_version": "1.5.0",
      "_model_name": "HTMLModel",
      "_view_count": null,
      "_view_module": "@jupyter-widgets/controls",
      "_view_module_version": "1.5.0",
      "_view_name": "HTMLView",
      "description": "",
      "description_tooltip": null,
      "layout": "IPY_MODEL_f63029edca9f4fc88f7bb98827916759",
      "placeholder": "​",
      "style": "IPY_MODEL_aaa8d79a5b424609a06a8d0afcb8b48f",
      "value": "100%"
     }
    },
    "1314e991cc824859baabcff65fce46ce": {
     "model_module": "@jupyter-widgets/controls",
     "model_module_version": "1.5.0",
     "model_name": "DescriptionStyleModel",
     "state": {
      "_model_module": "@jupyter-widgets/controls",
      "_model_module_version": "1.5.0",
      "_model_name": "DescriptionStyleModel",
      "_view_count": null,
      "_view_module": "@jupyter-widgets/base",
      "_view_module_version": "1.2.0",
      "_view_name": "StyleView",
      "description_width": ""
     }
    },
    "158a2671a1f846e3808fdebfbc85a0a8": {
     "model_module": "@jupyter-widgets/controls",
     "model_module_version": "1.5.0",
     "model_name": "HTMLModel",
     "state": {
      "_dom_classes": [],
      "_model_module": "@jupyter-widgets/controls",
      "_model_module_version": "1.5.0",
      "_model_name": "HTMLModel",
      "_view_count": null,
      "_view_module": "@jupyter-widgets/controls",
      "_view_module_version": "1.5.0",
      "_view_name": "HTMLView",
      "description": "",
      "description_tooltip": null,
      "layout": "IPY_MODEL_b2dce7051bfe48a49e2007c480fd803f",
      "placeholder": "​",
      "style": "IPY_MODEL_6bdff8a3a3434736bef90c73cf64be19",
      "value": " 9912422/9912422 [00:00&lt;00:00, 119461166.07it/s]"
     }
    },
    "19bb4c0ea8cc46b1a7d4ead2ab7a76c6": {
     "model_module": "@jupyter-widgets/base",
     "model_module_version": "1.2.0",
     "model_name": "LayoutModel",
     "state": {
      "_model_module": "@jupyter-widgets/base",
      "_model_module_version": "1.2.0",
      "_model_name": "LayoutModel",
      "_view_count": null,
      "_view_module": "@jupyter-widgets/base",
      "_view_module_version": "1.2.0",
      "_view_name": "LayoutView",
      "align_content": null,
      "align_items": null,
      "align_self": null,
      "border": null,
      "bottom": null,
      "display": null,
      "flex": null,
      "flex_flow": null,
      "grid_area": null,
      "grid_auto_columns": null,
      "grid_auto_flow": null,
      "grid_auto_rows": null,
      "grid_column": null,
      "grid_gap": null,
      "grid_row": null,
      "grid_template_areas": null,
      "grid_template_columns": null,
      "grid_template_rows": null,
      "height": null,
      "justify_content": null,
      "justify_items": null,
      "left": null,
      "margin": null,
      "max_height": null,
      "max_width": null,
      "min_height": null,
      "min_width": null,
      "object_fit": null,
      "object_position": null,
      "order": null,
      "overflow": null,
      "overflow_x": null,
      "overflow_y": null,
      "padding": null,
      "right": null,
      "top": null,
      "visibility": null,
      "width": null
     }
    },
    "1b437b0c915549b19225dc3459d5eab0": {
     "model_module": "@jupyter-widgets/controls",
     "model_module_version": "1.5.0",
     "model_name": "FloatProgressModel",
     "state": {
      "_dom_classes": [],
      "_model_module": "@jupyter-widgets/controls",
      "_model_module_version": "1.5.0",
      "_model_name": "FloatProgressModel",
      "_view_count": null,
      "_view_module": "@jupyter-widgets/controls",
      "_view_module_version": "1.5.0",
      "_view_name": "ProgressView",
      "bar_style": "success",
      "description": "",
      "description_tooltip": null,
      "layout": "IPY_MODEL_934ccc3dc11543cdb17c81c5a98e5921",
      "max": 9912422,
      "min": 0,
      "orientation": "horizontal",
      "style": "IPY_MODEL_472f3fcd1b4544bf95b3c8422360cd9a",
      "value": 9912422
     }
    },
    "29331652749544e9a303e626f10b4bce": {
     "model_module": "@jupyter-widgets/base",
     "model_module_version": "1.2.0",
     "model_name": "LayoutModel",
     "state": {
      "_model_module": "@jupyter-widgets/base",
      "_model_module_version": "1.2.0",
      "_model_name": "LayoutModel",
      "_view_count": null,
      "_view_module": "@jupyter-widgets/base",
      "_view_module_version": "1.2.0",
      "_view_name": "LayoutView",
      "align_content": null,
      "align_items": null,
      "align_self": null,
      "border": null,
      "bottom": null,
      "display": null,
      "flex": null,
      "flex_flow": null,
      "grid_area": null,
      "grid_auto_columns": null,
      "grid_auto_flow": null,
      "grid_auto_rows": null,
      "grid_column": null,
      "grid_gap": null,
      "grid_row": null,
      "grid_template_areas": null,
      "grid_template_columns": null,
      "grid_template_rows": null,
      "height": null,
      "justify_content": null,
      "justify_items": null,
      "left": null,
      "margin": null,
      "max_height": null,
      "max_width": null,
      "min_height": null,
      "min_width": null,
      "object_fit": null,
      "object_position": null,
      "order": null,
      "overflow": null,
      "overflow_x": null,
      "overflow_y": null,
      "padding": null,
      "right": null,
      "top": null,
      "visibility": null,
      "width": null
     }
    },
    "2f35198891fb4c41a7bfeb8bfaef94df": {
     "model_module": "@jupyter-widgets/base",
     "model_module_version": "1.2.0",
     "model_name": "LayoutModel",
     "state": {
      "_model_module": "@jupyter-widgets/base",
      "_model_module_version": "1.2.0",
      "_model_name": "LayoutModel",
      "_view_count": null,
      "_view_module": "@jupyter-widgets/base",
      "_view_module_version": "1.2.0",
      "_view_name": "LayoutView",
      "align_content": null,
      "align_items": null,
      "align_self": null,
      "border": null,
      "bottom": null,
      "display": null,
      "flex": null,
      "flex_flow": null,
      "grid_area": null,
      "grid_auto_columns": null,
      "grid_auto_flow": null,
      "grid_auto_rows": null,
      "grid_column": null,
      "grid_gap": null,
      "grid_row": null,
      "grid_template_areas": null,
      "grid_template_columns": null,
      "grid_template_rows": null,
      "height": null,
      "justify_content": null,
      "justify_items": null,
      "left": null,
      "margin": null,
      "max_height": null,
      "max_width": null,
      "min_height": null,
      "min_width": null,
      "object_fit": null,
      "object_position": null,
      "order": null,
      "overflow": null,
      "overflow_x": null,
      "overflow_y": null,
      "padding": null,
      "right": null,
      "top": null,
      "visibility": null,
      "width": null
     }
    },
    "3ad89c2289e446d696b926f618db17ae": {
     "model_module": "@jupyter-widgets/controls",
     "model_module_version": "1.5.0",
     "model_name": "HTMLModel",
     "state": {
      "_dom_classes": [],
      "_model_module": "@jupyter-widgets/controls",
      "_model_module_version": "1.5.0",
      "_model_name": "HTMLModel",
      "_view_count": null,
      "_view_module": "@jupyter-widgets/controls",
      "_view_module_version": "1.5.0",
      "_view_name": "HTMLView",
      "description": "",
      "description_tooltip": null,
      "layout": "IPY_MODEL_ee30d07d5ea44e74824c36252e650cb1",
      "placeholder": "​",
      "style": "IPY_MODEL_3e8287f8b1f64d7e86ece632bf1a1127",
      "value": " 28881/28881 [00:00&lt;00:00, 667252.53it/s]"
     }
    },
    "3cf590dae1ba464b8bf02657b7b72c9c": {
     "model_module": "@jupyter-widgets/base",
     "model_module_version": "1.2.0",
     "model_name": "LayoutModel",
     "state": {
      "_model_module": "@jupyter-widgets/base",
      "_model_module_version": "1.2.0",
      "_model_name": "LayoutModel",
      "_view_count": null,
      "_view_module": "@jupyter-widgets/base",
      "_view_module_version": "1.2.0",
      "_view_name": "LayoutView",
      "align_content": null,
      "align_items": null,
      "align_self": null,
      "border": null,
      "bottom": null,
      "display": null,
      "flex": null,
      "flex_flow": null,
      "grid_area": null,
      "grid_auto_columns": null,
      "grid_auto_flow": null,
      "grid_auto_rows": null,
      "grid_column": null,
      "grid_gap": null,
      "grid_row": null,
      "grid_template_areas": null,
      "grid_template_columns": null,
      "grid_template_rows": null,
      "height": null,
      "justify_content": null,
      "justify_items": null,
      "left": null,
      "margin": null,
      "max_height": null,
      "max_width": null,
      "min_height": null,
      "min_width": null,
      "object_fit": null,
      "object_position": null,
      "order": null,
      "overflow": null,
      "overflow_x": null,
      "overflow_y": null,
      "padding": null,
      "right": null,
      "top": null,
      "visibility": null,
      "width": null
     }
    },
    "3e6d5e6dde0b4715b214009c448038d2": {
     "model_module": "@jupyter-widgets/controls",
     "model_module_version": "1.5.0",
     "model_name": "HTMLModel",
     "state": {
      "_dom_classes": [],
      "_model_module": "@jupyter-widgets/controls",
      "_model_module_version": "1.5.0",
      "_model_name": "HTMLModel",
      "_view_count": null,
      "_view_module": "@jupyter-widgets/controls",
      "_view_module_version": "1.5.0",
      "_view_name": "HTMLView",
      "description": "",
      "description_tooltip": null,
      "layout": "IPY_MODEL_b941b441ad73433ebd91b3b5e32918a7",
      "placeholder": "​",
      "style": "IPY_MODEL_9af3c7842023410b95b51194e3ce5785",
      "value": "100%"
     }
    },
    "3e8287f8b1f64d7e86ece632bf1a1127": {
     "model_module": "@jupyter-widgets/controls",
     "model_module_version": "1.5.0",
     "model_name": "DescriptionStyleModel",
     "state": {
      "_model_module": "@jupyter-widgets/controls",
      "_model_module_version": "1.5.0",
      "_model_name": "DescriptionStyleModel",
      "_view_count": null,
      "_view_module": "@jupyter-widgets/base",
      "_view_module_version": "1.2.0",
      "_view_name": "StyleView",
      "description_width": ""
     }
    },
    "3f8e52d7ada947a9a86cccc688a03c27": {
     "model_module": "@jupyter-widgets/controls",
     "model_module_version": "1.5.0",
     "model_name": "HBoxModel",
     "state": {
      "_dom_classes": [],
      "_model_module": "@jupyter-widgets/controls",
      "_model_module_version": "1.5.0",
      "_model_name": "HBoxModel",
      "_view_count": null,
      "_view_module": "@jupyter-widgets/controls",
      "_view_module_version": "1.5.0",
      "_view_name": "HBoxView",
      "box_style": "",
      "children": [
       "IPY_MODEL_5dd8f6c8b14b4ad09fd86a15ffa456ea",
       "IPY_MODEL_1b437b0c915549b19225dc3459d5eab0",
       "IPY_MODEL_158a2671a1f846e3808fdebfbc85a0a8"
      ],
      "layout": "IPY_MODEL_2f35198891fb4c41a7bfeb8bfaef94df"
     }
    },
    "40207981f4a942e3a66c81983c9725ff": {
     "model_module": "@jupyter-widgets/controls",
     "model_module_version": "1.5.0",
     "model_name": "ProgressStyleModel",
     "state": {
      "_model_module": "@jupyter-widgets/controls",
      "_model_module_version": "1.5.0",
      "_model_name": "ProgressStyleModel",
      "_view_count": null,
      "_view_module": "@jupyter-widgets/base",
      "_view_module_version": "1.2.0",
      "_view_name": "StyleView",
      "bar_color": null,
      "description_width": ""
     }
    },
    "472f3fcd1b4544bf95b3c8422360cd9a": {
     "model_module": "@jupyter-widgets/controls",
     "model_module_version": "1.5.0",
     "model_name": "ProgressStyleModel",
     "state": {
      "_model_module": "@jupyter-widgets/controls",
      "_model_module_version": "1.5.0",
      "_model_name": "ProgressStyleModel",
      "_view_count": null,
      "_view_module": "@jupyter-widgets/base",
      "_view_module_version": "1.2.0",
      "_view_name": "StyleView",
      "bar_color": null,
      "description_width": ""
     }
    },
    "4b410b1dc0854543b2247282a5153fac": {
     "model_module": "@jupyter-widgets/base",
     "model_module_version": "1.2.0",
     "model_name": "LayoutModel",
     "state": {
      "_model_module": "@jupyter-widgets/base",
      "_model_module_version": "1.2.0",
      "_model_name": "LayoutModel",
      "_view_count": null,
      "_view_module": "@jupyter-widgets/base",
      "_view_module_version": "1.2.0",
      "_view_name": "LayoutView",
      "align_content": null,
      "align_items": null,
      "align_self": null,
      "border": null,
      "bottom": null,
      "display": null,
      "flex": null,
      "flex_flow": null,
      "grid_area": null,
      "grid_auto_columns": null,
      "grid_auto_flow": null,
      "grid_auto_rows": null,
      "grid_column": null,
      "grid_gap": null,
      "grid_row": null,
      "grid_template_areas": null,
      "grid_template_columns": null,
      "grid_template_rows": null,
      "height": null,
      "justify_content": null,
      "justify_items": null,
      "left": null,
      "margin": null,
      "max_height": null,
      "max_width": null,
      "min_height": null,
      "min_width": null,
      "object_fit": null,
      "object_position": null,
      "order": null,
      "overflow": null,
      "overflow_x": null,
      "overflow_y": null,
      "padding": null,
      "right": null,
      "top": null,
      "visibility": null,
      "width": null
     }
    },
    "519455372df4443f841defbe6c20d72f": {
     "model_module": "@jupyter-widgets/controls",
     "model_module_version": "1.5.0",
     "model_name": "HBoxModel",
     "state": {
      "_dom_classes": [],
      "_model_module": "@jupyter-widgets/controls",
      "_model_module_version": "1.5.0",
      "_model_name": "HBoxModel",
      "_view_count": null,
      "_view_module": "@jupyter-widgets/controls",
      "_view_module_version": "1.5.0",
      "_view_name": "HBoxView",
      "box_style": "",
      "children": [
       "IPY_MODEL_0ffcc374bbfe4d5a89d883d65336e919",
       "IPY_MODEL_a2f280df2edb4a74acf97234c2c37810",
       "IPY_MODEL_3ad89c2289e446d696b926f618db17ae"
      ],
      "layout": "IPY_MODEL_0d22f9c1fa3e46b29ea5421aaad84738"
     }
    },
    "5338a92c8e054f74a2c51c8c84f23fbc": {
     "model_module": "@jupyter-widgets/base",
     "model_module_version": "1.2.0",
     "model_name": "LayoutModel",
     "state": {
      "_model_module": "@jupyter-widgets/base",
      "_model_module_version": "1.2.0",
      "_model_name": "LayoutModel",
      "_view_count": null,
      "_view_module": "@jupyter-widgets/base",
      "_view_module_version": "1.2.0",
      "_view_name": "LayoutView",
      "align_content": null,
      "align_items": null,
      "align_self": null,
      "border": null,
      "bottom": null,
      "display": null,
      "flex": null,
      "flex_flow": null,
      "grid_area": null,
      "grid_auto_columns": null,
      "grid_auto_flow": null,
      "grid_auto_rows": null,
      "grid_column": null,
      "grid_gap": null,
      "grid_row": null,
      "grid_template_areas": null,
      "grid_template_columns": null,
      "grid_template_rows": null,
      "height": null,
      "justify_content": null,
      "justify_items": null,
      "left": null,
      "margin": null,
      "max_height": null,
      "max_width": null,
      "min_height": null,
      "min_width": null,
      "object_fit": null,
      "object_position": null,
      "order": null,
      "overflow": null,
      "overflow_x": null,
      "overflow_y": null,
      "padding": null,
      "right": null,
      "top": null,
      "visibility": null,
      "width": null
     }
    },
    "577bd1a594144e42864d09296cc8ed31": {
     "model_module": "@jupyter-widgets/controls",
     "model_module_version": "1.5.0",
     "model_name": "ProgressStyleModel",
     "state": {
      "_model_module": "@jupyter-widgets/controls",
      "_model_module_version": "1.5.0",
      "_model_name": "ProgressStyleModel",
      "_view_count": null,
      "_view_module": "@jupyter-widgets/base",
      "_view_module_version": "1.2.0",
      "_view_name": "StyleView",
      "bar_color": null,
      "description_width": ""
     }
    },
    "5dd8f6c8b14b4ad09fd86a15ffa456ea": {
     "model_module": "@jupyter-widgets/controls",
     "model_module_version": "1.5.0",
     "model_name": "HTMLModel",
     "state": {
      "_dom_classes": [],
      "_model_module": "@jupyter-widgets/controls",
      "_model_module_version": "1.5.0",
      "_model_name": "HTMLModel",
      "_view_count": null,
      "_view_module": "@jupyter-widgets/controls",
      "_view_module_version": "1.5.0",
      "_view_name": "HTMLView",
      "description": "",
      "description_tooltip": null,
      "layout": "IPY_MODEL_4b410b1dc0854543b2247282a5153fac",
      "placeholder": "​",
      "style": "IPY_MODEL_ccce112b1b324e28b189d9ee2d5e47ab",
      "value": "100%"
     }
    },
    "5e91d981cc08421e802c385b2a004ce1": {
     "model_module": "@jupyter-widgets/controls",
     "model_module_version": "1.5.0",
     "model_name": "FloatProgressModel",
     "state": {
      "_dom_classes": [],
      "_model_module": "@jupyter-widgets/controls",
      "_model_module_version": "1.5.0",
      "_model_name": "FloatProgressModel",
      "_view_count": null,
      "_view_module": "@jupyter-widgets/controls",
      "_view_module_version": "1.5.0",
      "_view_name": "ProgressView",
      "bar_style": "success",
      "description": "",
      "description_tooltip": null,
      "layout": "IPY_MODEL_7d29978830a8450cbb52c18c5b890f6f",
      "max": 1648877,
      "min": 0,
      "orientation": "horizontal",
      "style": "IPY_MODEL_f82d82f7b4ab4ee4b6dce82e269e20d9",
      "value": 1648877
     }
    },
    "6bdff8a3a3434736bef90c73cf64be19": {
     "model_module": "@jupyter-widgets/controls",
     "model_module_version": "1.5.0",
     "model_name": "DescriptionStyleModel",
     "state": {
      "_model_module": "@jupyter-widgets/controls",
      "_model_module_version": "1.5.0",
      "_model_name": "DescriptionStyleModel",
      "_view_count": null,
      "_view_module": "@jupyter-widgets/base",
      "_view_module_version": "1.2.0",
      "_view_name": "StyleView",
      "description_width": ""
     }
    },
    "773a7c98dffc44b3bc755870c19fea6d": {
     "model_module": "@jupyter-widgets/base",
     "model_module_version": "1.2.0",
     "model_name": "LayoutModel",
     "state": {
      "_model_module": "@jupyter-widgets/base",
      "_model_module_version": "1.2.0",
      "_model_name": "LayoutModel",
      "_view_count": null,
      "_view_module": "@jupyter-widgets/base",
      "_view_module_version": "1.2.0",
      "_view_name": "LayoutView",
      "align_content": null,
      "align_items": null,
      "align_self": null,
      "border": null,
      "bottom": null,
      "display": null,
      "flex": null,
      "flex_flow": null,
      "grid_area": null,
      "grid_auto_columns": null,
      "grid_auto_flow": null,
      "grid_auto_rows": null,
      "grid_column": null,
      "grid_gap": null,
      "grid_row": null,
      "grid_template_areas": null,
      "grid_template_columns": null,
      "grid_template_rows": null,
      "height": null,
      "justify_content": null,
      "justify_items": null,
      "left": null,
      "margin": null,
      "max_height": null,
      "max_width": null,
      "min_height": null,
      "min_width": null,
      "object_fit": null,
      "object_position": null,
      "order": null,
      "overflow": null,
      "overflow_x": null,
      "overflow_y": null,
      "padding": null,
      "right": null,
      "top": null,
      "visibility": null,
      "width": null
     }
    },
    "7a433685d79f4859a23a1a012ec9640b": {
     "model_module": "@jupyter-widgets/controls",
     "model_module_version": "1.5.0",
     "model_name": "FloatProgressModel",
     "state": {
      "_dom_classes": [],
      "_model_module": "@jupyter-widgets/controls",
      "_model_module_version": "1.5.0",
      "_model_name": "FloatProgressModel",
      "_view_count": null,
      "_view_module": "@jupyter-widgets/controls",
      "_view_module_version": "1.5.0",
      "_view_name": "ProgressView",
      "bar_style": "success",
      "description": "",
      "description_tooltip": null,
      "layout": "IPY_MODEL_773a7c98dffc44b3bc755870c19fea6d",
      "max": 4542,
      "min": 0,
      "orientation": "horizontal",
      "style": "IPY_MODEL_40207981f4a942e3a66c81983c9725ff",
      "value": 4542
     }
    },
    "7d29978830a8450cbb52c18c5b890f6f": {
     "model_module": "@jupyter-widgets/base",
     "model_module_version": "1.2.0",
     "model_name": "LayoutModel",
     "state": {
      "_model_module": "@jupyter-widgets/base",
      "_model_module_version": "1.2.0",
      "_model_name": "LayoutModel",
      "_view_count": null,
      "_view_module": "@jupyter-widgets/base",
      "_view_module_version": "1.2.0",
      "_view_name": "LayoutView",
      "align_content": null,
      "align_items": null,
      "align_self": null,
      "border": null,
      "bottom": null,
      "display": null,
      "flex": null,
      "flex_flow": null,
      "grid_area": null,
      "grid_auto_columns": null,
      "grid_auto_flow": null,
      "grid_auto_rows": null,
      "grid_column": null,
      "grid_gap": null,
      "grid_row": null,
      "grid_template_areas": null,
      "grid_template_columns": null,
      "grid_template_rows": null,
      "height": null,
      "justify_content": null,
      "justify_items": null,
      "left": null,
      "margin": null,
      "max_height": null,
      "max_width": null,
      "min_height": null,
      "min_width": null,
      "object_fit": null,
      "object_position": null,
      "order": null,
      "overflow": null,
      "overflow_x": null,
      "overflow_y": null,
      "padding": null,
      "right": null,
      "top": null,
      "visibility": null,
      "width": null
     }
    },
    "8cc2078175b44094918798344824c275": {
     "model_module": "@jupyter-widgets/controls",
     "model_module_version": "1.5.0",
     "model_name": "HTMLModel",
     "state": {
      "_dom_classes": [],
      "_model_module": "@jupyter-widgets/controls",
      "_model_module_version": "1.5.0",
      "_model_name": "HTMLModel",
      "_view_count": null,
      "_view_module": "@jupyter-widgets/controls",
      "_view_module_version": "1.5.0",
      "_view_name": "HTMLView",
      "description": "",
      "description_tooltip": null,
      "layout": "IPY_MODEL_3cf590dae1ba464b8bf02657b7b72c9c",
      "placeholder": "​",
      "style": "IPY_MODEL_a5185e691c684042bf925c92284db9ad",
      "value": " 4542/4542 [00:00&lt;00:00, 63542.43it/s]"
     }
    },
    "934ccc3dc11543cdb17c81c5a98e5921": {
     "model_module": "@jupyter-widgets/base",
     "model_module_version": "1.2.0",
     "model_name": "LayoutModel",
     "state": {
      "_model_module": "@jupyter-widgets/base",
      "_model_module_version": "1.2.0",
      "_model_name": "LayoutModel",
      "_view_count": null,
      "_view_module": "@jupyter-widgets/base",
      "_view_module_version": "1.2.0",
      "_view_name": "LayoutView",
      "align_content": null,
      "align_items": null,
      "align_self": null,
      "border": null,
      "bottom": null,
      "display": null,
      "flex": null,
      "flex_flow": null,
      "grid_area": null,
      "grid_auto_columns": null,
      "grid_auto_flow": null,
      "grid_auto_rows": null,
      "grid_column": null,
      "grid_gap": null,
      "grid_row": null,
      "grid_template_areas": null,
      "grid_template_columns": null,
      "grid_template_rows": null,
      "height": null,
      "justify_content": null,
      "justify_items": null,
      "left": null,
      "margin": null,
      "max_height": null,
      "max_width": null,
      "min_height": null,
      "min_width": null,
      "object_fit": null,
      "object_position": null,
      "order": null,
      "overflow": null,
      "overflow_x": null,
      "overflow_y": null,
      "padding": null,
      "right": null,
      "top": null,
      "visibility": null,
      "width": null
     }
    },
    "9af3c7842023410b95b51194e3ce5785": {
     "model_module": "@jupyter-widgets/controls",
     "model_module_version": "1.5.0",
     "model_name": "DescriptionStyleModel",
     "state": {
      "_model_module": "@jupyter-widgets/controls",
      "_model_module_version": "1.5.0",
      "_model_name": "DescriptionStyleModel",
      "_view_count": null,
      "_view_module": "@jupyter-widgets/base",
      "_view_module_version": "1.2.0",
      "_view_name": "StyleView",
      "description_width": ""
     }
    },
    "a2f280df2edb4a74acf97234c2c37810": {
     "model_module": "@jupyter-widgets/controls",
     "model_module_version": "1.5.0",
     "model_name": "FloatProgressModel",
     "state": {
      "_dom_classes": [],
      "_model_module": "@jupyter-widgets/controls",
      "_model_module_version": "1.5.0",
      "_model_name": "FloatProgressModel",
      "_view_count": null,
      "_view_module": "@jupyter-widgets/controls",
      "_view_module_version": "1.5.0",
      "_view_name": "ProgressView",
      "bar_style": "success",
      "description": "",
      "description_tooltip": null,
      "layout": "IPY_MODEL_0d2f43eb91b943f78a17bae9c6bbb182",
      "max": 28881,
      "min": 0,
      "orientation": "horizontal",
      "style": "IPY_MODEL_577bd1a594144e42864d09296cc8ed31",
      "value": 28881
     }
    },
    "a5185e691c684042bf925c92284db9ad": {
     "model_module": "@jupyter-widgets/controls",
     "model_module_version": "1.5.0",
     "model_name": "DescriptionStyleModel",
     "state": {
      "_model_module": "@jupyter-widgets/controls",
      "_model_module_version": "1.5.0",
      "_model_name": "DescriptionStyleModel",
      "_view_count": null,
      "_view_module": "@jupyter-widgets/base",
      "_view_module_version": "1.2.0",
      "_view_name": "StyleView",
      "description_width": ""
     }
    },
    "aaa8d79a5b424609a06a8d0afcb8b48f": {
     "model_module": "@jupyter-widgets/controls",
     "model_module_version": "1.5.0",
     "model_name": "DescriptionStyleModel",
     "state": {
      "_model_module": "@jupyter-widgets/controls",
      "_model_module_version": "1.5.0",
      "_model_name": "DescriptionStyleModel",
      "_view_count": null,
      "_view_module": "@jupyter-widgets/base",
      "_view_module_version": "1.2.0",
      "_view_name": "StyleView",
      "description_width": ""
     }
    },
    "b2dce7051bfe48a49e2007c480fd803f": {
     "model_module": "@jupyter-widgets/base",
     "model_module_version": "1.2.0",
     "model_name": "LayoutModel",
     "state": {
      "_model_module": "@jupyter-widgets/base",
      "_model_module_version": "1.2.0",
      "_model_name": "LayoutModel",
      "_view_count": null,
      "_view_module": "@jupyter-widgets/base",
      "_view_module_version": "1.2.0",
      "_view_name": "LayoutView",
      "align_content": null,
      "align_items": null,
      "align_self": null,
      "border": null,
      "bottom": null,
      "display": null,
      "flex": null,
      "flex_flow": null,
      "grid_area": null,
      "grid_auto_columns": null,
      "grid_auto_flow": null,
      "grid_auto_rows": null,
      "grid_column": null,
      "grid_gap": null,
      "grid_row": null,
      "grid_template_areas": null,
      "grid_template_columns": null,
      "grid_template_rows": null,
      "height": null,
      "justify_content": null,
      "justify_items": null,
      "left": null,
      "margin": null,
      "max_height": null,
      "max_width": null,
      "min_height": null,
      "min_width": null,
      "object_fit": null,
      "object_position": null,
      "order": null,
      "overflow": null,
      "overflow_x": null,
      "overflow_y": null,
      "padding": null,
      "right": null,
      "top": null,
      "visibility": null,
      "width": null
     }
    },
    "b92de090e34a48d99e0a9e769aeb6a6d": {
     "model_module": "@jupyter-widgets/controls",
     "model_module_version": "1.5.0",
     "model_name": "HTMLModel",
     "state": {
      "_dom_classes": [],
      "_model_module": "@jupyter-widgets/controls",
      "_model_module_version": "1.5.0",
      "_model_name": "HTMLModel",
      "_view_count": null,
      "_view_module": "@jupyter-widgets/controls",
      "_view_module_version": "1.5.0",
      "_view_name": "HTMLView",
      "description": "",
      "description_tooltip": null,
      "layout": "IPY_MODEL_c173a6ceaf2f45ccb301000675bfcd79",
      "placeholder": "​",
      "style": "IPY_MODEL_1314e991cc824859baabcff65fce46ce",
      "value": " 1648877/1648877 [00:00&lt;00:00, 23952549.23it/s]"
     }
    },
    "b941b441ad73433ebd91b3b5e32918a7": {
     "model_module": "@jupyter-widgets/base",
     "model_module_version": "1.2.0",
     "model_name": "LayoutModel",
     "state": {
      "_model_module": "@jupyter-widgets/base",
      "_model_module_version": "1.2.0",
      "_model_name": "LayoutModel",
      "_view_count": null,
      "_view_module": "@jupyter-widgets/base",
      "_view_module_version": "1.2.0",
      "_view_name": "LayoutView",
      "align_content": null,
      "align_items": null,
      "align_self": null,
      "border": null,
      "bottom": null,
      "display": null,
      "flex": null,
      "flex_flow": null,
      "grid_area": null,
      "grid_auto_columns": null,
      "grid_auto_flow": null,
      "grid_auto_rows": null,
      "grid_column": null,
      "grid_gap": null,
      "grid_row": null,
      "grid_template_areas": null,
      "grid_template_columns": null,
      "grid_template_rows": null,
      "height": null,
      "justify_content": null,
      "justify_items": null,
      "left": null,
      "margin": null,
      "max_height": null,
      "max_width": null,
      "min_height": null,
      "min_width": null,
      "object_fit": null,
      "object_position": null,
      "order": null,
      "overflow": null,
      "overflow_x": null,
      "overflow_y": null,
      "padding": null,
      "right": null,
      "top": null,
      "visibility": null,
      "width": null
     }
    },
    "c173a6ceaf2f45ccb301000675bfcd79": {
     "model_module": "@jupyter-widgets/base",
     "model_module_version": "1.2.0",
     "model_name": "LayoutModel",
     "state": {
      "_model_module": "@jupyter-widgets/base",
      "_model_module_version": "1.2.0",
      "_model_name": "LayoutModel",
      "_view_count": null,
      "_view_module": "@jupyter-widgets/base",
      "_view_module_version": "1.2.0",
      "_view_name": "LayoutView",
      "align_content": null,
      "align_items": null,
      "align_self": null,
      "border": null,
      "bottom": null,
      "display": null,
      "flex": null,
      "flex_flow": null,
      "grid_area": null,
      "grid_auto_columns": null,
      "grid_auto_flow": null,
      "grid_auto_rows": null,
      "grid_column": null,
      "grid_gap": null,
      "grid_row": null,
      "grid_template_areas": null,
      "grid_template_columns": null,
      "grid_template_rows": null,
      "height": null,
      "justify_content": null,
      "justify_items": null,
      "left": null,
      "margin": null,
      "max_height": null,
      "max_width": null,
      "min_height": null,
      "min_width": null,
      "object_fit": null,
      "object_position": null,
      "order": null,
      "overflow": null,
      "overflow_x": null,
      "overflow_y": null,
      "padding": null,
      "right": null,
      "top": null,
      "visibility": null,
      "width": null
     }
    },
    "ccce112b1b324e28b189d9ee2d5e47ab": {
     "model_module": "@jupyter-widgets/controls",
     "model_module_version": "1.5.0",
     "model_name": "DescriptionStyleModel",
     "state": {
      "_model_module": "@jupyter-widgets/controls",
      "_model_module_version": "1.5.0",
      "_model_name": "DescriptionStyleModel",
      "_view_count": null,
      "_view_module": "@jupyter-widgets/base",
      "_view_module_version": "1.2.0",
      "_view_name": "StyleView",
      "description_width": ""
     }
    },
    "d1be317d23574ba9955f7b78200c8c10": {
     "model_module": "@jupyter-widgets/controls",
     "model_module_version": "1.5.0",
     "model_name": "DescriptionStyleModel",
     "state": {
      "_model_module": "@jupyter-widgets/controls",
      "_model_module_version": "1.5.0",
      "_model_name": "DescriptionStyleModel",
      "_view_count": null,
      "_view_module": "@jupyter-widgets/base",
      "_view_module_version": "1.2.0",
      "_view_name": "StyleView",
      "description_width": ""
     }
    },
    "ee30d07d5ea44e74824c36252e650cb1": {
     "model_module": "@jupyter-widgets/base",
     "model_module_version": "1.2.0",
     "model_name": "LayoutModel",
     "state": {
      "_model_module": "@jupyter-widgets/base",
      "_model_module_version": "1.2.0",
      "_model_name": "LayoutModel",
      "_view_count": null,
      "_view_module": "@jupyter-widgets/base",
      "_view_module_version": "1.2.0",
      "_view_name": "LayoutView",
      "align_content": null,
      "align_items": null,
      "align_self": null,
      "border": null,
      "bottom": null,
      "display": null,
      "flex": null,
      "flex_flow": null,
      "grid_area": null,
      "grid_auto_columns": null,
      "grid_auto_flow": null,
      "grid_auto_rows": null,
      "grid_column": null,
      "grid_gap": null,
      "grid_row": null,
      "grid_template_areas": null,
      "grid_template_columns": null,
      "grid_template_rows": null,
      "height": null,
      "justify_content": null,
      "justify_items": null,
      "left": null,
      "margin": null,
      "max_height": null,
      "max_width": null,
      "min_height": null,
      "min_width": null,
      "object_fit": null,
      "object_position": null,
      "order": null,
      "overflow": null,
      "overflow_x": null,
      "overflow_y": null,
      "padding": null,
      "right": null,
      "top": null,
      "visibility": null,
      "width": null
     }
    },
    "f54257e8690144c2bf64a7ac4d5852f6": {
     "model_module": "@jupyter-widgets/controls",
     "model_module_version": "1.5.0",
     "model_name": "HBoxModel",
     "state": {
      "_dom_classes": [],
      "_model_module": "@jupyter-widgets/controls",
      "_model_module_version": "1.5.0",
      "_model_name": "HBoxModel",
      "_view_count": null,
      "_view_module": "@jupyter-widgets/controls",
      "_view_module_version": "1.5.0",
      "_view_name": "HBoxView",
      "box_style": "",
      "children": [
       "IPY_MODEL_3e6d5e6dde0b4715b214009c448038d2",
       "IPY_MODEL_5e91d981cc08421e802c385b2a004ce1",
       "IPY_MODEL_b92de090e34a48d99e0a9e769aeb6a6d"
      ],
      "layout": "IPY_MODEL_5338a92c8e054f74a2c51c8c84f23fbc"
     }
    },
    "f63029edca9f4fc88f7bb98827916759": {
     "model_module": "@jupyter-widgets/base",
     "model_module_version": "1.2.0",
     "model_name": "LayoutModel",
     "state": {
      "_model_module": "@jupyter-widgets/base",
      "_model_module_version": "1.2.0",
      "_model_name": "LayoutModel",
      "_view_count": null,
      "_view_module": "@jupyter-widgets/base",
      "_view_module_version": "1.2.0",
      "_view_name": "LayoutView",
      "align_content": null,
      "align_items": null,
      "align_self": null,
      "border": null,
      "bottom": null,
      "display": null,
      "flex": null,
      "flex_flow": null,
      "grid_area": null,
      "grid_auto_columns": null,
      "grid_auto_flow": null,
      "grid_auto_rows": null,
      "grid_column": null,
      "grid_gap": null,
      "grid_row": null,
      "grid_template_areas": null,
      "grid_template_columns": null,
      "grid_template_rows": null,
      "height": null,
      "justify_content": null,
      "justify_items": null,
      "left": null,
      "margin": null,
      "max_height": null,
      "max_width": null,
      "min_height": null,
      "min_width": null,
      "object_fit": null,
      "object_position": null,
      "order": null,
      "overflow": null,
      "overflow_x": null,
      "overflow_y": null,
      "padding": null,
      "right": null,
      "top": null,
      "visibility": null,
      "width": null
     }
    },
    "f82d82f7b4ab4ee4b6dce82e269e20d9": {
     "model_module": "@jupyter-widgets/controls",
     "model_module_version": "1.5.0",
     "model_name": "ProgressStyleModel",
     "state": {
      "_model_module": "@jupyter-widgets/controls",
      "_model_module_version": "1.5.0",
      "_model_name": "ProgressStyleModel",
      "_view_count": null,
      "_view_module": "@jupyter-widgets/base",
      "_view_module_version": "1.2.0",
      "_view_name": "StyleView",
      "bar_color": null,
      "description_width": ""
     }
    },
    "f9fb6123f6784de7bde185d36e6eac28": {
     "model_module": "@jupyter-widgets/controls",
     "model_module_version": "1.5.0",
     "model_name": "HBoxModel",
     "state": {
      "_dom_classes": [],
      "_model_module": "@jupyter-widgets/controls",
      "_model_module_version": "1.5.0",
      "_model_name": "HBoxModel",
      "_view_count": null,
      "_view_module": "@jupyter-widgets/controls",
      "_view_module_version": "1.5.0",
      "_view_name": "HBoxView",
      "box_style": "",
      "children": [
       "IPY_MODEL_0ab9317bc3654c06b938ae2cd29035d7",
       "IPY_MODEL_7a433685d79f4859a23a1a012ec9640b",
       "IPY_MODEL_8cc2078175b44094918798344824c275"
      ],
      "layout": "IPY_MODEL_29331652749544e9a303e626f10b4bce"
     }
    }
   }
  }
 },
 "nbformat": 4,
 "nbformat_minor": 1
}
