{
 "cells": [
  {
   "cell_type": "code",
   "execution_count": 1,
   "metadata": {
    "id": "621Exb17Dm1C"
   },
   "outputs": [],
   "source": [
    "import torch\n",
    "import torch.nn as nn\n",
    "import torch.nn.functional as F\n",
    "import torchvision\n",
    "import torchvision.transforms as transforms\n",
    "import matplotlib.pyplot as plt\n",
    "from tqdm import tqdm"
   ]
  },
  {
   "cell_type": "markdown",
   "metadata": {},
   "source": [
    "**Перед тем как начать выполнять задание, определитесь где вы будете обучать модель: на GPU или CPU.**"
   ]
  },
  {
   "cell_type": "code",
   "execution_count": 2,
   "metadata": {
    "colab": {
     "base_uri": "https://localhost:8080/"
    },
    "id": "_RjdUqFklWkr",
    "outputId": "c02bfb61-6750-4a9a-f750-672b0747da7c"
   },
   "outputs": [
    {
     "data": {
      "text/plain": [
       "device(type='cuda')"
      ]
     },
     "execution_count": 2,
     "metadata": {},
     "output_type": "execute_result"
    }
   ],
   "source": [
    "device = torch.device('cuda' if torch.cuda.is_available() else 'cpu')\n",
    "device"
   ]
  },
  {
   "cell_type": "markdown",
   "metadata": {
    "id": "nOHqu52v5hPJ"
   },
   "source": [
    "# Проблема затухания градиента"
   ]
  },
  {
   "cell_type": "markdown",
   "metadata": {
    "id": "VfVjxgNcMGNe"
   },
   "source": [
    "Рассмотрим проблему затухания градиента во время обучений неройнных сетей"
   ]
  },
  {
   "cell_type": "markdown",
   "metadata": {
    "id": "b8dzIsCuMRaK"
   },
   "source": [
    "**Залача 1:** Определите модель со следующей структурой:\n",
    "1. Вход и выход заданы - линейными слоями (nn.Linear)\n",
    "2. Скрытые слои - в виде линейных слоев в nn.ModuleList"
   ]
  },
  {
   "cell_type": "code",
   "execution_count": 3,
   "metadata": {
    "id": "HH04IJ7ydslR"
   },
   "outputs": [],
   "source": [
    "# Класс модели:\n",
    "class DeepMLP(nn.Module):\n",
    "    def __init__(self, input_size, hidden_size, output_size, n_hidden):\n",
    "        super(DeepMLP, self).__init__()\n",
    "        self.input_layer = nn.Linear(input_size, hidden_size)\n",
    "        self.hidden_layers = nn.ModuleList([nn.Linear(hidden_size, hidden_size) for _ in range(n_hidden)])\n",
    "        self.output_layer = nn.Linear(hidden_size, output_size)\n",
    "        \n",
    "    def forward(self, x):\n",
    "        x = x.view(-1, 28 * 28)\n",
    "        x = self.input_layer(x)\n",
    "        for hidden_layer in self.hidden_layers:\n",
    "            x = F.sigmoid(hidden_layer(x))\n",
    "        x = self.output_layer(x)\n",
    "        return x\n"
   ]
  },
  {
   "cell_type": "markdown",
   "metadata": {
    "id": "iKUqF0uLBHvF"
   },
   "source": [
    "**Вопрос:** Сколько параметров (весов) будет иметь эта модель, если инициализировать ее следующие аргументами:\n",
    "\n",
    "input_size=3, \n",
    "hidden_size=6,\n",
    "output_size=7,\n",
    "n_hidden=1\n",
    "\n",
    "**Пример ответа:** `123`"
   ]
  },
  {
   "cell_type": "code",
   "execution_count": 4,
   "metadata": {
    "id": "CTzoKU0RAq8s"
   },
   "outputs": [
    {
     "data": {
      "text/plain": [
       "115"
      ]
     },
     "execution_count": 4,
     "metadata": {},
     "output_type": "execute_result"
    }
   ],
   "source": [
    "model = DeepMLP(input_size=3, hidden_size=6,output_size=7,n_hidden=1)\n",
    "answer = sum(w.numel() for w in model.parameters())\n",
    "answer # 115"
   ]
  },
  {
   "cell_type": "markdown",
   "metadata": {
    "id": "ayAO6YzmM9iM"
   },
   "source": [
    "**Задача 2:** Вычислите среднее по градиенту в первом скрытом (!!!) слое.\n",
    "\n",
    "**Вопрос:** Каково это значение?\n",
    "\n",
    "**Пример ответа:** `1.2`"
   ]
  },
  {
   "cell_type": "code",
   "execution_count": 9,
   "metadata": {
    "colab": {
     "base_uri": "https://localhost:8080/"
    },
    "id": "-p5sW_s7Fu7Q",
    "outputId": "88fc8fb5-6c91-43e6-9ff5-25de4575ce03"
   },
   "outputs": [],
   "source": [
    "torch.manual_seed(42)\n",
    "\n",
    "model = DeepMLP(28 * 28, 6, 7, 1)\n",
    "\n",
    "criterion = torch.nn.CrossEntropyLoss()\n",
    "optimizer = torch.optim.Adam(model.parameters(), lr=0.01)\n",
    "optimizer.zero_grad()\n",
    "out = model(torch.rand((1, 28 * 28)))\n",
    "loss = criterion(out, torch.rand((1, )).long())\n",
    "\n",
    "loss.backward()"
   ]
  },
  {
   "cell_type": "code",
   "execution_count": 72,
   "metadata": {
    "id": "YsbyD3LwF0-b"
   },
   "outputs": [
    {
     "data": {
      "text/plain": [
       "-5.3674292522501096e-14"
      ]
     },
     "execution_count": 72,
     "metadata": {},
     "output_type": "execute_result"
    }
   ],
   "source": [
    "answer = model.hidden_layers[0].weight.grad.mean().item()\n",
    "answer # -0.00047465492389164865\n"
   ]
  },
  {
   "cell_type": "markdown",
   "metadata": {
    "id": "F83YYq7A9mA-"
   },
   "source": [
    "Теперь попробуйте обучить небольшую модель состоящую всего-лишь из трех скрытых слоев."
   ]
  },
  {
   "cell_type": "markdown",
   "metadata": {
    "id": "N6bIiDEzNUux"
   },
   "source": [
    "**Задача 3:** Создайте объект класса модели DeepMLP"
   ]
  },
  {
   "cell_type": "code",
   "execution_count": null,
   "metadata": {
    "id": "MZzRzKmOHKBf"
   },
   "outputs": [],
   "source": [
    "torch.manual_seed(42)\n",
    "\n",
    "# Инициализация модели, лосс функции и оптимайзера:\n",
    "input_size = 28 * 28 # MNIST image size\n",
    "hidden_size = 32\n",
    "output_size = 10 # 10 классов MNIST\n",
    "n_hidden=3          # небольшая модель всего из трех скрытых слоев\n",
    "model = DeepMLP(input_size, hidden_size, output_size, n_hidden).to(device)"
   ]
  },
  {
   "cell_type": "markdown",
   "metadata": {
    "id": "1U7bUJBrRf-D"
   },
   "source": [
    "**Вопрос:** Какова сумма всех выходов модели для случайного входного тензора test_data?\n",
    "\n",
    "**Пример ответа:** `1.234`"
   ]
  },
  {
   "cell_type": "code",
   "execution_count": null,
   "metadata": {
    "id": "eGW9dV-aNxF4"
   },
   "outputs": [
    {
     "data": {
      "text/plain": [
       "-0.5516001582145691"
      ]
     },
     "execution_count": 49,
     "metadata": {},
     "output_type": "execute_result"
    }
   ],
   "source": [
    "test_data = torch.rand((1, 28*28)).to(device)\n",
    "\n",
    "answer = model(test_data).sum().item()\n",
    "answer # -0.5516001582145691"
   ]
  },
  {
   "cell_type": "markdown",
   "metadata": {},
   "source": [
    "Теперь попробуем имплементировать цикл обучения и затем обучить модель на датасете MNIST. Но для начала давайте скачаем и подготовим этот датасет для обучения:"
   ]
  },
  {
   "cell_type": "code",
   "execution_count": 50,
   "metadata": {
    "colab": {
     "base_uri": "https://localhost:8080/",
     "height": 431,
     "referenced_widgets": [
      "3f8e52d7ada947a9a86cccc688a03c27",
      "5dd8f6c8b14b4ad09fd86a15ffa456ea",
      "1b437b0c915549b19225dc3459d5eab0",
      "158a2671a1f846e3808fdebfbc85a0a8",
      "2f35198891fb4c41a7bfeb8bfaef94df",
      "4b410b1dc0854543b2247282a5153fac",
      "ccce112b1b324e28b189d9ee2d5e47ab",
      "934ccc3dc11543cdb17c81c5a98e5921",
      "472f3fcd1b4544bf95b3c8422360cd9a",
      "b2dce7051bfe48a49e2007c480fd803f",
      "6bdff8a3a3434736bef90c73cf64be19",
      "519455372df4443f841defbe6c20d72f",
      "0ffcc374bbfe4d5a89d883d65336e919",
      "a2f280df2edb4a74acf97234c2c37810",
      "3ad89c2289e446d696b926f618db17ae",
      "0d22f9c1fa3e46b29ea5421aaad84738",
      "f63029edca9f4fc88f7bb98827916759",
      "aaa8d79a5b424609a06a8d0afcb8b48f",
      "0d2f43eb91b943f78a17bae9c6bbb182",
      "577bd1a594144e42864d09296cc8ed31",
      "ee30d07d5ea44e74824c36252e650cb1",
      "3e8287f8b1f64d7e86ece632bf1a1127",
      "f54257e8690144c2bf64a7ac4d5852f6",
      "3e6d5e6dde0b4715b214009c448038d2",
      "5e91d981cc08421e802c385b2a004ce1",
      "b92de090e34a48d99e0a9e769aeb6a6d",
      "5338a92c8e054f74a2c51c8c84f23fbc",
      "b941b441ad73433ebd91b3b5e32918a7",
      "9af3c7842023410b95b51194e3ce5785",
      "7d29978830a8450cbb52c18c5b890f6f",
      "f82d82f7b4ab4ee4b6dce82e269e20d9",
      "c173a6ceaf2f45ccb301000675bfcd79",
      "1314e991cc824859baabcff65fce46ce",
      "f9fb6123f6784de7bde185d36e6eac28",
      "0ab9317bc3654c06b938ae2cd29035d7",
      "7a433685d79f4859a23a1a012ec9640b",
      "8cc2078175b44094918798344824c275",
      "29331652749544e9a303e626f10b4bce",
      "19bb4c0ea8cc46b1a7d4ead2ab7a76c6",
      "d1be317d23574ba9955f7b78200c8c10",
      "773a7c98dffc44b3bc755870c19fea6d",
      "40207981f4a942e3a66c81983c9725ff",
      "3cf590dae1ba464b8bf02657b7b72c9c",
      "a5185e691c684042bf925c92284db9ad"
     ]
    },
    "id": "LHxa0Ooj8YGW",
    "outputId": "7c20aa41-2f55-44b3-ca14-365fb49a493e"
   },
   "outputs": [
    {
     "name": "stderr",
     "output_type": "stream",
     "text": [
      "100%|██████████| 9.91M/9.91M [00:03<00:00, 2.98MB/s]\n",
      "100%|██████████| 28.9k/28.9k [00:00<00:00, 186kB/s]\n",
      "100%|██████████| 1.65M/1.65M [00:01<00:00, 1.30MB/s]\n",
      "100%|██████████| 4.54k/4.54k [00:00<00:00, 1.81MB/s]\n"
     ]
    }
   ],
   "source": [
    "# Загрузка и подготовка датасета MNIST:\n",
    "transform = transforms.Compose([transforms.ToTensor(), transforms.Normalize((0.5,), (0.5,))])\n",
    "trainset = torchvision.datasets.MNIST(root='./data', train=True, download=True, transform=transform)\n",
    "trainloader = torch.utils.data.DataLoader(trainset, batch_size=64, shuffle=True, num_workers=2)"
   ]
  },
  {
   "cell_type": "code",
   "execution_count": 73,
   "metadata": {
    "id": "9jsdIQPOCJLU"
   },
   "outputs": [],
   "source": [
    "# Опишем цикл обучения:\n",
    "def train(model, trainloader, criterion, optimizer):\n",
    "  torch.manual_seed(42)\n",
    "\n",
    "  model.train()\n",
    "\n",
    "  fc_gradients = []\n",
    "\n",
    "  for step, data in tqdm(enumerate(trainloader), total=len(trainloader)):\n",
    "      inputs, labels = data\n",
    "      inputs, labels = inputs.to(device), labels.to(device)\n",
    "\n",
    "      optimizer.zero_grad()\n",
    "      outputs = model(inputs)\n",
    "      loss = criterion(outputs, labels)\n",
    "      \n",
    "      loss.backward()\n",
    "      optimizer.step()\n",
    "\n",
    "      if step % 10 == 0:\n",
    "        print(f'Step: {step}, Loss: {loss}')\n",
    "        \n",
    "      fc_gradients.append(model.hidden_layers[0].weight.grad.mean().item())  # <------ код из решения задачи 2\n",
    "\n",
    "  return fc_gradients"
   ]
  },
  {
   "cell_type": "code",
   "execution_count": 74,
   "metadata": {
    "colab": {
     "base_uri": "https://localhost:8080/"
    },
    "id": "_RN00uEEnHlo",
    "outputId": "aeba63b4-b000-43cc-f365-96c4472a9f0b"
   },
   "outputs": [
    {
     "name": "stderr",
     "output_type": "stream",
     "text": [
      "  2%|▏         | 19/938 [00:02<01:34,  9.69it/s]"
     ]
    },
    {
     "name": "stdout",
     "output_type": "stream",
     "text": [
      "Step: 0, Loss: 2.3068506717681885\n",
      "Step: 10, Loss: 2.2990219593048096\n",
      "Step: 20, Loss: 2.2969326972961426\n",
      "Step: 30, Loss: 2.307311534881592\n"
     ]
    },
    {
     "name": "stderr",
     "output_type": "stream",
     "text": [
      "  7%|▋         | 68/938 [00:03<00:18, 47.41it/s]"
     ]
    },
    {
     "name": "stdout",
     "output_type": "stream",
     "text": [
      "Step: 40, Loss: 2.311021089553833\n",
      "Step: 50, Loss: 2.309307813644409\n",
      "Step: 60, Loss: 2.299656629562378\n",
      "Step: 70, Loss: 2.294252395629883\n"
     ]
    },
    {
     "name": "stderr",
     "output_type": "stream",
     "text": [
      " 11%|█         | 103/938 [00:03<00:10, 83.06it/s]"
     ]
    },
    {
     "name": "stdout",
     "output_type": "stream",
     "text": [
      "Step: 80, Loss: 2.3101611137390137\n",
      "Step: 90, Loss: 2.290330410003662\n",
      "Step: 100, Loss: 2.3085930347442627\n",
      "Step: 110, Loss: 2.2963874340057373\n"
     ]
    },
    {
     "name": "stderr",
     "output_type": "stream",
     "text": [
      " 15%|█▍        | 139/938 [00:03<00:06, 117.18it/s]"
     ]
    },
    {
     "name": "stdout",
     "output_type": "stream",
     "text": [
      "Step: 120, Loss: 2.278615713119507\n",
      "Step: 130, Loss: 2.2822208404541016\n",
      "Step: 140, Loss: 2.291945695877075\n",
      "Step: 150, Loss: 2.3046200275421143\n"
     ]
    },
    {
     "name": "stderr",
     "output_type": "stream",
     "text": [
      " 20%|██        | 192/938 [00:03<00:05, 145.83it/s]"
     ]
    },
    {
     "name": "stdout",
     "output_type": "stream",
     "text": [
      "Step: 160, Loss: 2.2949187755584717\n",
      "Step: 170, Loss: 2.2919206619262695\n",
      "Step: 180, Loss: 2.300417900085449\n",
      "Step: 190, Loss: 2.3038787841796875\n"
     ]
    },
    {
     "name": "stderr",
     "output_type": "stream",
     "text": [
      " 24%|██▍       | 226/938 [00:03<00:04, 155.83it/s]"
     ]
    },
    {
     "name": "stdout",
     "output_type": "stream",
     "text": [
      "Step: 200, Loss: 2.293001890182495\n",
      "Step: 210, Loss: 2.298565149307251\n",
      "Step: 220, Loss: 2.3186724185943604\n",
      "Step: 230, Loss: 2.2953765392303467\n"
     ]
    },
    {
     "name": "stderr",
     "output_type": "stream",
     "text": [
      " 28%|██▊       | 262/938 [00:04<00:04, 162.41it/s]"
     ]
    },
    {
     "name": "stdout",
     "output_type": "stream",
     "text": [
      "Step: 240, Loss: 2.3185136318206787\n",
      "Step: 250, Loss: 2.3007216453552246\n",
      "Step: 260, Loss: 2.3094727993011475\n",
      "Step: 270, Loss: 2.3052639961242676\n"
     ]
    },
    {
     "name": "stderr",
     "output_type": "stream",
     "text": [
      " 33%|███▎      | 313/938 [00:04<00:03, 161.16it/s]"
     ]
    },
    {
     "name": "stdout",
     "output_type": "stream",
     "text": [
      "Step: 280, Loss: 2.3014087677001953\n",
      "Step: 290, Loss: 2.30159854888916\n",
      "Step: 300, Loss: 2.3143043518066406\n",
      "Step: 310, Loss: 2.2893874645233154\n"
     ]
    },
    {
     "name": "stderr",
     "output_type": "stream",
     "text": [
      " 37%|███▋      | 349/938 [00:04<00:03, 167.79it/s]"
     ]
    },
    {
     "name": "stdout",
     "output_type": "stream",
     "text": [
      "Step: 320, Loss: 2.301511526107788\n",
      "Step: 330, Loss: 2.2941319942474365\n",
      "Step: 340, Loss: 2.307159185409546\n",
      "Step: 350, Loss: 2.3111894130706787\n"
     ]
    },
    {
     "name": "stderr",
     "output_type": "stream",
     "text": [
      " 41%|████      | 384/938 [00:04<00:03, 166.22it/s]"
     ]
    },
    {
     "name": "stdout",
     "output_type": "stream",
     "text": [
      "Step: 360, Loss: 2.279991626739502\n",
      "Step: 370, Loss: 2.30119252204895\n",
      "Step: 380, Loss: 2.304201364517212\n",
      "Step: 390, Loss: 2.303403615951538\n"
     ]
    },
    {
     "name": "stderr",
     "output_type": "stream",
     "text": [
      " 45%|████▍     | 420/938 [00:05<00:03, 171.05it/s]"
     ]
    },
    {
     "name": "stdout",
     "output_type": "stream",
     "text": [
      "Step: 400, Loss: 2.319448947906494\n",
      "Step: 410, Loss: 2.3046021461486816\n",
      "Step: 420, Loss: 2.3087852001190186\n",
      "Step: 430, Loss: 2.3014395236968994\n"
     ]
    },
    {
     "name": "stderr",
     "output_type": "stream",
     "text": [
      " 49%|████▊     | 456/938 [00:05<00:02, 171.53it/s]"
     ]
    },
    {
     "name": "stdout",
     "output_type": "stream",
     "text": [
      "Step: 440, Loss: 2.3062167167663574\n",
      "Step: 450, Loss: 2.3104088306427\n",
      "Step: 460, Loss: 2.2988739013671875\n",
      "Step: 470, Loss: 2.2997846603393555\n"
     ]
    },
    {
     "name": "stderr",
     "output_type": "stream",
     "text": [
      " 54%|█████▍    | 509/938 [00:05<00:02, 167.50it/s]"
     ]
    },
    {
     "name": "stdout",
     "output_type": "stream",
     "text": [
      "Step: 480, Loss: 2.287132501602173\n",
      "Step: 490, Loss: 2.30075740814209\n",
      "Step: 500, Loss: 2.305788516998291\n",
      "Step: 510, Loss: 2.3061506748199463\n"
     ]
    },
    {
     "name": "stderr",
     "output_type": "stream",
     "text": [
      " 58%|█████▊    | 544/938 [00:05<00:02, 169.68it/s]"
     ]
    },
    {
     "name": "stdout",
     "output_type": "stream",
     "text": [
      "Step: 520, Loss: 2.296781539916992\n",
      "Step: 530, Loss: 2.298297882080078\n",
      "Step: 540, Loss: 2.302319288253784\n",
      "Step: 550, Loss: 2.300769805908203\n"
     ]
    },
    {
     "name": "stderr",
     "output_type": "stream",
     "text": [
      " 62%|██████▏   | 578/938 [00:06<00:02, 168.09it/s]"
     ]
    },
    {
     "name": "stdout",
     "output_type": "stream",
     "text": [
      "Step: 560, Loss: 2.2945189476013184\n",
      "Step: 570, Loss: 2.3120200634002686\n",
      "Step: 580, Loss: 2.307184934616089\n",
      "Step: 590, Loss: 2.3136208057403564\n"
     ]
    },
    {
     "name": "stderr",
     "output_type": "stream",
     "text": [
      " 67%|██████▋   | 633/938 [00:06<00:01, 174.56it/s]"
     ]
    },
    {
     "name": "stdout",
     "output_type": "stream",
     "text": [
      "Step: 600, Loss: 2.295316219329834\n",
      "Step: 610, Loss: 2.3204309940338135\n",
      "Step: 620, Loss: 2.2999510765075684\n",
      "Step: 630, Loss: 2.311290979385376\n"
     ]
    },
    {
     "name": "stderr",
     "output_type": "stream",
     "text": [
      " 71%|███████▏  | 669/938 [00:06<00:01, 170.41it/s]"
     ]
    },
    {
     "name": "stdout",
     "output_type": "stream",
     "text": [
      "Step: 640, Loss: 2.280841112136841\n",
      "Step: 650, Loss: 2.298403739929199\n",
      "Step: 660, Loss: 2.3057453632354736\n",
      "Step: 670, Loss: 2.291989326477051\n"
     ]
    },
    {
     "name": "stderr",
     "output_type": "stream",
     "text": [
      " 75%|███████▌  | 705/938 [00:06<00:01, 167.71it/s]"
     ]
    },
    {
     "name": "stdout",
     "output_type": "stream",
     "text": [
      "Step: 680, Loss: 2.3120527267456055\n",
      "Step: 690, Loss: 2.302473545074463\n",
      "Step: 700, Loss: 2.302300453186035\n",
      "Step: 710, Loss: 2.2988202571868896\n"
     ]
    },
    {
     "name": "stderr",
     "output_type": "stream",
     "text": [
      " 79%|███████▉  | 739/938 [00:07<00:01, 158.78it/s]"
     ]
    },
    {
     "name": "stdout",
     "output_type": "stream",
     "text": [
      "Step: 720, Loss: 2.3168420791625977\n",
      "Step: 730, Loss: 2.306434154510498\n",
      "Step: 740, Loss: 2.294093608856201\n",
      "Step: 750, Loss: 2.2958366870880127\n"
     ]
    },
    {
     "name": "stderr",
     "output_type": "stream",
     "text": [
      " 84%|████████▍ | 791/938 [00:07<00:00, 163.58it/s]"
     ]
    },
    {
     "name": "stdout",
     "output_type": "stream",
     "text": [
      "Step: 760, Loss: 2.301445960998535\n",
      "Step: 770, Loss: 2.317411184310913\n",
      "Step: 780, Loss: 2.2927725315093994\n",
      "Step: 790, Loss: 2.2951314449310303\n"
     ]
    },
    {
     "name": "stderr",
     "output_type": "stream",
     "text": [
      " 88%|████████▊ | 826/938 [00:07<00:00, 166.71it/s]"
     ]
    },
    {
     "name": "stdout",
     "output_type": "stream",
     "text": [
      "Step: 800, Loss: 2.295879602432251\n",
      "Step: 810, Loss: 2.3132164478302\n",
      "Step: 820, Loss: 2.309333324432373\n",
      "Step: 830, Loss: 2.3142309188842773\n"
     ]
    },
    {
     "name": "stderr",
     "output_type": "stream",
     "text": [
      " 92%|█████████▏| 861/938 [00:07<00:00, 167.66it/s]"
     ]
    },
    {
     "name": "stdout",
     "output_type": "stream",
     "text": [
      "Step: 840, Loss: 2.3107900619506836\n",
      "Step: 850, Loss: 2.3054635524749756\n",
      "Step: 860, Loss: 2.3025951385498047\n",
      "Step: 870, Loss: 2.286362409591675\n"
     ]
    },
    {
     "name": "stderr",
     "output_type": "stream",
     "text": [
      " 97%|█████████▋| 912/938 [00:08<00:00, 166.12it/s]"
     ]
    },
    {
     "name": "stdout",
     "output_type": "stream",
     "text": [
      "Step: 880, Loss: 2.2970170974731445\n",
      "Step: 890, Loss: 2.3038811683654785\n",
      "Step: 900, Loss: 2.3018972873687744\n",
      "Step: 910, Loss: 2.2975258827209473\n"
     ]
    },
    {
     "name": "stderr",
     "output_type": "stream",
     "text": [
      " 99%|█████████▉| 929/938 [00:08<00:00, 166.47it/s]"
     ]
    },
    {
     "name": "stdout",
     "output_type": "stream",
     "text": [
      "Step: 920, Loss: 2.2962160110473633\n",
      "Step: 930, Loss: 2.297441005706787\n"
     ]
    },
    {
     "name": "stderr",
     "output_type": "stream",
     "text": [
      "100%|██████████| 938/938 [00:08<00:00, 106.91it/s]\n"
     ]
    }
   ],
   "source": [
    "# Теперь обучим модель:\n",
    "criterion = torch.nn.CrossEntropyLoss()\n",
    "optimizer = torch.optim.Adam(model.parameters(), lr=0.01)\n",
    "\n",
    "_ = train(model, trainloader, criterion, optimizer)"
   ]
  },
  {
   "cell_type": "markdown",
   "metadata": {
    "id": "M-5yznsF-HFY"
   },
   "source": [
    "Как вы можете видеть, модель сходится, хотя и не очень хорошо. Вы должны получить лосс в диапазоне 0.5-0.9. Низкая производительность модели обусловлена тем, что трех скрытых слоев недостаточно чтобы хорошо обучить эту модель классифицировать MNIST датасет.\n",
    "\n",
    "Теперь попробуйте увеличить количество скрытых слоев до 10 и обучить модель еще раз."
   ]
  },
  {
   "cell_type": "markdown",
   "metadata": {
    "id": "MNoNuy9uNgTa"
   },
   "source": [
    "**Задача 4:** Увеличьте число скрытых слоев до 10."
   ]
  },
  {
   "cell_type": "code",
   "execution_count": 75,
   "metadata": {
    "id": "U_TvJ0QYSByU"
   },
   "outputs": [],
   "source": [
    "torch.manual_seed(42)\n",
    "\n",
    "# Инициализация модели, лосс функции и оптимайзера:\n",
    "input_size = 28 * 28 # MNIST image size\n",
    "hidden_size = 32\n",
    "output_size = 10\n",
    "n_hidden = 10 # \n",
    "model = DeepMLP(input_size, hidden_size, output_size, n_hidden).to(device)"
   ]
  },
  {
   "cell_type": "markdown",
   "metadata": {
    "id": "_0piWj0tSWLA"
   },
   "source": [
    "**Вопрос:** Посчитайте и выведите количество скрытых слоев модели.\n",
    "\n",
    "**Пример ответа:** `3`"
   ]
  },
  {
   "cell_type": "code",
   "execution_count": 76,
   "metadata": {
    "id": "FvC2WyBESSN3"
   },
   "outputs": [
    {
     "data": {
      "text/plain": [
       "10"
      ]
     },
     "execution_count": 76,
     "metadata": {},
     "output_type": "execute_result"
    }
   ],
   "source": [
    "answer = len(list(model.hidden_layers))\n",
    "answer   # 10"
   ]
  },
  {
   "cell_type": "code",
   "execution_count": 77,
   "metadata": {
    "colab": {
     "base_uri": "https://localhost:8080/"
    },
    "id": "1SRP2f3yCLAK",
    "outputId": "b9ad19ad-b3c0-4760-a37c-c0f169d60a09"
   },
   "outputs": [
    {
     "name": "stderr",
     "output_type": "stream",
     "text": [
      "  2%|▏         | 17/938 [00:02<01:45,  8.70it/s]"
     ]
    },
    {
     "name": "stdout",
     "output_type": "stream",
     "text": [
      "Step: 0, Loss: 2.3116233348846436\n",
      "Step: 10, Loss: 2.2927770614624023\n",
      "Step: 20, Loss: 2.328972816467285\n",
      "Step: 30, Loss: 2.3101611137390137\n"
     ]
    },
    {
     "name": "stderr",
     "output_type": "stream",
     "text": [
      "  7%|▋         | 70/938 [00:03<00:17, 50.35it/s]"
     ]
    },
    {
     "name": "stdout",
     "output_type": "stream",
     "text": [
      "Step: 40, Loss: 2.3166167736053467\n",
      "Step: 50, Loss: 2.334524154663086\n",
      "Step: 60, Loss: 2.3023855686187744\n",
      "Step: 70, Loss: 2.3015942573547363\n"
     ]
    },
    {
     "name": "stderr",
     "output_type": "stream",
     "text": [
      " 11%|█         | 105/938 [00:03<00:09, 84.72it/s]"
     ]
    },
    {
     "name": "stdout",
     "output_type": "stream",
     "text": [
      "Step: 80, Loss: 2.3111729621887207\n",
      "Step: 90, Loss: 2.2827999591827393\n",
      "Step: 100, Loss: 2.3095767498016357\n",
      "Step: 110, Loss: 2.296379327774048\n"
     ]
    },
    {
     "name": "stderr",
     "output_type": "stream",
     "text": [
      " 15%|█▍        | 140/938 [00:03<00:06, 117.62it/s]"
     ]
    },
    {
     "name": "stdout",
     "output_type": "stream",
     "text": [
      "Step: 120, Loss: 2.2688260078430176\n",
      "Step: 130, Loss: 2.2773725986480713\n",
      "Step: 140, Loss: 2.292206048965454\n",
      "Step: 150, Loss: 2.307490587234497\n"
     ]
    },
    {
     "name": "stderr",
     "output_type": "stream",
     "text": [
      " 19%|█▉        | 176/938 [00:03<00:05, 139.64it/s]"
     ]
    },
    {
     "name": "stdout",
     "output_type": "stream",
     "text": [
      "Step: 160, Loss: 2.305772542953491\n",
      "Step: 170, Loss: 2.2927846908569336\n",
      "Step: 180, Loss: 2.2967801094055176\n",
      "Step: 190, Loss: 2.303372383117676\n"
     ]
    },
    {
     "name": "stderr",
     "output_type": "stream",
     "text": [
      " 24%|██▍       | 229/938 [00:03<00:04, 156.18it/s]"
     ]
    },
    {
     "name": "stdout",
     "output_type": "stream",
     "text": [
      "Step: 200, Loss: 2.2963032722473145\n",
      "Step: 210, Loss: 2.3021481037139893\n",
      "Step: 220, Loss: 2.320111036300659\n"
     ]
    },
    {
     "name": "stderr",
     "output_type": "stream",
     "text": [
      " 28%|██▊       | 265/938 [00:04<00:04, 164.39it/s]"
     ]
    },
    {
     "name": "stdout",
     "output_type": "stream",
     "text": [
      "Step: 230, Loss: 2.296765089035034\n",
      "Step: 240, Loss: 2.316693067550659\n",
      "Step: 250, Loss: 2.300535202026367\n",
      "Step: 260, Loss: 2.3093209266662598\n"
     ]
    },
    {
     "name": "stderr",
     "output_type": "stream",
     "text": [
      " 30%|███       | 283/938 [00:04<00:03, 164.99it/s]"
     ]
    },
    {
     "name": "stdout",
     "output_type": "stream",
     "text": [
      "Step: 270, Loss: 2.3047685623168945\n",
      "Step: 280, Loss: 2.298886299133301\n",
      "Step: 290, Loss: 2.2999863624572754\n"
     ]
    },
    {
     "name": "stderr",
     "output_type": "stream",
     "text": [
      " 36%|███▌      | 335/938 [00:04<00:03, 168.30it/s]"
     ]
    },
    {
     "name": "stdout",
     "output_type": "stream",
     "text": [
      "Step: 300, Loss: 2.3137307167053223\n",
      "Step: 310, Loss: 2.2899208068847656\n",
      "Step: 320, Loss: 2.300848960876465\n",
      "Step: 330, Loss: 2.2937445640563965\n"
     ]
    },
    {
     "name": "stderr",
     "output_type": "stream",
     "text": [
      " 40%|███▉      | 371/938 [00:04<00:03, 172.37it/s]"
     ]
    },
    {
     "name": "stdout",
     "output_type": "stream",
     "text": [
      "Step: 340, Loss: 2.308018684387207\n",
      "Step: 350, Loss: 2.3129148483276367\n",
      "Step: 360, Loss: 2.2795777320861816\n",
      "Step: 370, Loss: 2.30194091796875\n"
     ]
    },
    {
     "name": "stderr",
     "output_type": "stream",
     "text": [
      " 43%|████▎     | 407/938 [00:04<00:03, 173.29it/s]"
     ]
    },
    {
     "name": "stdout",
     "output_type": "stream",
     "text": [
      "Step: 380, Loss: 2.303889513015747\n",
      "Step: 390, Loss: 2.303920269012451\n",
      "Step: 400, Loss: 2.319232940673828\n",
      "Step: 410, Loss: 2.3047914505004883\n"
     ]
    },
    {
     "name": "stderr",
     "output_type": "stream",
     "text": [
      " 47%|████▋     | 443/938 [00:05<00:02, 169.56it/s]"
     ]
    },
    {
     "name": "stdout",
     "output_type": "stream",
     "text": [
      "Step: 420, Loss: 2.3087210655212402\n",
      "Step: 430, Loss: 2.301931858062744\n",
      "Step: 440, Loss: 2.3054850101470947\n",
      "Step: 450, Loss: 2.3106305599212646\n"
     ]
    },
    {
     "name": "stderr",
     "output_type": "stream",
     "text": [
      " 51%|█████     | 480/938 [00:05<00:02, 173.54it/s]"
     ]
    },
    {
     "name": "stdout",
     "output_type": "stream",
     "text": [
      "Step: 460, Loss: 2.2992072105407715\n",
      "Step: 470, Loss: 2.2997899055480957\n",
      "Step: 480, Loss: 2.287055015563965\n",
      "Step: 490, Loss: 2.3007149696350098\n"
     ]
    },
    {
     "name": "stderr",
     "output_type": "stream",
     "text": [
      " 55%|█████▌    | 516/938 [00:05<00:02, 174.60it/s]"
     ]
    },
    {
     "name": "stdout",
     "output_type": "stream",
     "text": [
      "Step: 500, Loss: 2.3059136867523193\n",
      "Step: 510, Loss: 2.306123971939087\n",
      "Step: 520, Loss: 2.296645402908325\n",
      "Step: 530, Loss: 2.298402786254883\n"
     ]
    },
    {
     "name": "stderr",
     "output_type": "stream",
     "text": [
      " 61%|██████    | 570/938 [00:05<00:02, 172.89it/s]"
     ]
    },
    {
     "name": "stdout",
     "output_type": "stream",
     "text": [
      "Step: 540, Loss: 2.3022847175598145\n",
      "Step: 550, Loss: 2.300930976867676\n",
      "Step: 560, Loss: 2.294130802154541\n",
      "Step: 570, Loss: 2.3121466636657715\n"
     ]
    },
    {
     "name": "stderr",
     "output_type": "stream",
     "text": [
      " 65%|██████▍   | 606/938 [00:06<00:01, 171.84it/s]"
     ]
    },
    {
     "name": "stdout",
     "output_type": "stream",
     "text": [
      "Step: 580, Loss: 2.307267665863037\n",
      "Step: 590, Loss: 2.3139259815216064\n",
      "Step: 600, Loss: 2.295274496078491\n",
      "Step: 610, Loss: 2.3205597400665283\n"
     ]
    },
    {
     "name": "stderr",
     "output_type": "stream",
     "text": [
      " 68%|██████▊   | 642/938 [00:06<00:01, 161.48it/s]"
     ]
    },
    {
     "name": "stdout",
     "output_type": "stream",
     "text": [
      "Step: 620, Loss: 2.299974203109741\n",
      "Step: 630, Loss: 2.311312437057495\n",
      "Step: 640, Loss: 2.2809951305389404\n",
      "Step: 650, Loss: 2.298368215560913\n"
     ]
    },
    {
     "name": "stderr",
     "output_type": "stream",
     "text": [
      " 74%|███████▍  | 696/938 [00:06<00:01, 171.68it/s]"
     ]
    },
    {
     "name": "stdout",
     "output_type": "stream",
     "text": [
      "Step: 660, Loss: 2.306234121322632\n",
      "Step: 670, Loss: 2.292137384414673\n",
      "Step: 680, Loss: 2.3122923374176025\n",
      "Step: 690, Loss: 2.3026340007781982\n"
     ]
    },
    {
     "name": "stderr",
     "output_type": "stream",
     "text": [
      " 78%|███████▊  | 731/938 [00:06<00:01, 168.68it/s]"
     ]
    },
    {
     "name": "stdout",
     "output_type": "stream",
     "text": [
      "Step: 700, Loss: 2.3024537563323975\n",
      "Step: 710, Loss: 2.2988364696502686\n",
      "Step: 720, Loss: 2.316863775253296\n",
      "Step: 730, Loss: 2.3063321113586426\n"
     ]
    },
    {
     "name": "stderr",
     "output_type": "stream",
     "text": [
      " 82%|████████▏ | 767/938 [00:07<00:01, 169.08it/s]"
     ]
    },
    {
     "name": "stdout",
     "output_type": "stream",
     "text": [
      "Step: 740, Loss: 2.294194459915161\n",
      "Step: 750, Loss: 2.2960398197174072\n",
      "Step: 760, Loss: 2.3012545108795166\n",
      "Step: 770, Loss: 2.3173434734344482\n"
     ]
    },
    {
     "name": "stderr",
     "output_type": "stream",
     "text": [
      " 86%|████████▌ | 802/938 [00:07<00:00, 171.97it/s]"
     ]
    },
    {
     "name": "stdout",
     "output_type": "stream",
     "text": [
      "Step: 780, Loss: 2.292786121368408\n",
      "Step: 790, Loss: 2.2951321601867676\n",
      "Step: 800, Loss: 2.2958858013153076\n",
      "Step: 810, Loss: 2.3131911754608154\n"
     ]
    },
    {
     "name": "stderr",
     "output_type": "stream",
     "text": [
      " 91%|█████████▏| 856/938 [00:07<00:00, 172.75it/s]"
     ]
    },
    {
     "name": "stdout",
     "output_type": "stream",
     "text": [
      "Step: 820, Loss: 2.3094000816345215\n",
      "Step: 830, Loss: 2.3140485286712646\n",
      "Step: 840, Loss: 2.3108716011047363\n",
      "Step: 850, Loss: 2.3054323196411133\n"
     ]
    },
    {
     "name": "stderr",
     "output_type": "stream",
     "text": [
      " 93%|█████████▎| 874/938 [00:07<00:00, 169.81it/s]"
     ]
    },
    {
     "name": "stdout",
     "output_type": "stream",
     "text": [
      "Step: 860, Loss: 2.3024682998657227\n",
      "Step: 870, Loss: 2.2862765789031982\n",
      "Step: 880, Loss: 2.297034978866577\n",
      "Step: 890, Loss: 2.303971529006958\n"
     ]
    },
    {
     "name": "stderr",
     "output_type": "stream",
     "text": [
      " 99%|█████████▉| 927/938 [00:08<00:00, 166.82it/s]"
     ]
    },
    {
     "name": "stdout",
     "output_type": "stream",
     "text": [
      "Step: 900, Loss: 2.301696300506592\n",
      "Step: 910, Loss: 2.2977375984191895\n",
      "Step: 920, Loss: 2.2961878776550293\n",
      "Step: 930, Loss: 2.297501564025879\n"
     ]
    },
    {
     "name": "stderr",
     "output_type": "stream",
     "text": [
      "100%|██████████| 938/938 [00:08<00:00, 107.51it/s]\n"
     ]
    }
   ],
   "source": [
    "# Обучите модель еще раз:\n",
    "criterion = torch.nn.CrossEntropyLoss()\n",
    "optimizer = torch.optim.Adam(model.parameters(), lr=0.01)\n",
    "\n",
    "fc_gradients = train(model, trainloader, criterion, optimizer)"
   ]
  },
  {
   "cell_type": "markdown",
   "metadata": {
    "id": "affdDjGwpkhE"
   },
   "source": [
    "Как вы можете видеть, лосс прекратил уменьшаться. Почему так произошло? Давайте визуализируем градиент для первого скрытого слоя (который записан в переменную fc_gradients; остальные скрытые слои будут иметь похожий градиена, так что опустим их)."
   ]
  },
  {
   "cell_type": "code",
   "execution_count": 78,
   "metadata": {
    "colab": {
     "base_uri": "https://localhost:8080/",
     "height": 313
    },
    "id": "HAWCQvPcnVjf",
    "outputId": "6bbf4926-46ad-4a5b-dafe-73b0c83ead03"
   },
   "outputs": [
    {
     "name": "stderr",
     "output_type": "stream",
     "text": [
      "C:\\Users\\khari\\AppData\\Local\\Temp\\ipykernel_16900\\2019969697.py:3: UserWarning: No artists with labels found to put in legend.  Note that artists whose label start with an underscore are ignored when legend() is called with no argument.\n",
      "  plt.legend()\n"
     ]
    },
    {
     "data": {
      "image/png": "[encoded data removed]",
      "text/plain": [
       "<Figure size 640x480 with 1 Axes>"
      ]
     },
     "metadata": {},
     "output_type": "display_data"
    }
   ],
   "source": [
    "# Визуализируйте градиент:\n",
    "plt.plot(fc_gradients)\n",
    "plt.legend()\n",
    "plt.title(\"Gradients of Linear Layers\")\n",
    "plt.xlabel(\"Training Step\")\n",
    "plt.ylabel(\"Gradient Value\")\n",
    "plt.show()"
   ]
  },
  {
   "cell_type": "markdown",
   "metadata": {
    "id": "KCIGhCZGpi36"
   },
   "source": [
    "Как видите, после примерно 300 итерации градиент начал *затухать*, что означает, что веса скрытых слоев перестали обучаться. По этой причине лосс и перестал уменьшаться, т.к. градиент стал слишком мал чтобы влиять на веса слоев.\n",
    "\n",
    "Глубокие модели (с большим числом скрытых слоев) подвержены проблеме затухания градиента, что приводит к тому, что такие модели не могут обучаться эффективно. \n",
    "\n",
    "Одна из причин этого (в этом примере) это использования sigmoid в качестве функции активации. Давайте изменим функцию активации на ReLU и переобучим модель еще раз."
   ]
  },
  {
   "cell_type": "markdown",
   "metadata": {
    "id": "5zfV3UDUNpBb"
   },
   "source": [
    "**Задача 5:** Замените sigmoid на ReLU"
   ]
  },
  {
   "cell_type": "code",
   "execution_count": 79,
   "metadata": {
    "id": "Ew7ay6l5Gmnw"
   },
   "outputs": [],
   "source": [
    "# Замените sigmoid на ReLU:\n",
    "class DeepMLP_ReLU(nn.Module):\n",
    "    def __init__(self, input_size, hidden_size, output_size, n_hidden):\n",
    "        super(DeepMLP_ReLU, self).__init__()\n",
    "        self.input_layer = nn.Linear(input_size, hidden_size)\n",
    "        self.hidden_layers = nn.ModuleList([nn.Linear(hidden_size, hidden_size) for _ in range(n_hidden)])\n",
    "        self.output_layer = nn.Linear(hidden_size, output_size)\n",
    "        \n",
    "    def forward(self, x):\n",
    "        x = x.view(-1, 28 * 28)\n",
    "        x = self.input_layer(x)\n",
    "        for hidden_layer in self.hidden_layers:\n",
    "            x = F.relu(hidden_layer(x))  # <---- Замена Sigmoid → ReLU\n",
    "        x = self.output_layer(x)\n",
    "        return x"
   ]
  },
  {
   "cell_type": "markdown",
   "metadata": {
    "id": "EtfHKOkRVvBx"
   },
   "source": [
    "**Вопрос:** Посчитайте и выведите сумму всех выходов модели для рандомного входного тензора test_input\n",
    "\n",
    "**Пример ответа:** `0.234`"
   ]
  },
  {
   "cell_type": "code",
   "execution_count": 80,
   "metadata": {
    "colab": {
     "base_uri": "https://localhost:8080/",
     "height": 204
    },
    "id": "jdGs2f3rTEh7",
    "outputId": "5377fc68-b250-4050-9df1-9a4b5c93f496"
   },
   "outputs": [],
   "source": [
    "# Инициализируйте модель с ReLU:\n",
    "torch.manual_seed(42)\n",
    "\n",
    "input_size = 28 * 28\n",
    "hidden_size = 32\n",
    "output_size = 10\n",
    "n_hidden=10\n",
    "model_relu = DeepMLP_ReLU(input_size, hidden_size, output_size, n_hidden).to(device)"
   ]
  },
  {
   "cell_type": "code",
   "execution_count": 81,
   "metadata": {
    "id": "P7oUfFVrWaSS"
   },
   "outputs": [
    {
     "data": {
      "text/plain": [
       "-0.25742071866989136"
      ]
     },
     "execution_count": 81,
     "metadata": {},
     "output_type": "execute_result"
    }
   ],
   "source": [
    "torch.manual_seed(42)\n",
    "test_input = torch.rand(1, 28*28).to(device)\n",
    "answer = answer = model(test_data).sum().item()\n",
    "answer   # -0.25742071866989136"
   ]
  },
  {
   "cell_type": "code",
   "execution_count": 82,
   "metadata": {
    "id": "IbGt_9VlUN8F"
   },
   "outputs": [
    {
     "name": "stderr",
     "output_type": "stream",
     "text": [
      "  2%|▏         | 17/938 [00:02<01:48,  8.52it/s]"
     ]
    },
    {
     "name": "stdout",
     "output_type": "stream",
     "text": [
      "Step: 0, Loss: 2.3037009239196777\n",
      "Step: 10, Loss: 2.2954559326171875\n",
      "Step: 20, Loss: 2.302825689315796\n",
      "Step: 30, Loss: 2.304783821105957\n"
     ]
    },
    {
     "name": "stderr",
     "output_type": "stream",
     "text": [
      "  7%|▋         | 68/938 [00:03<00:18, 47.45it/s]"
     ]
    },
    {
     "name": "stdout",
     "output_type": "stream",
     "text": [
      "Step: 40, Loss: 2.2694711685180664\n",
      "Step: 50, Loss: 2.2856903076171875\n",
      "Step: 60, Loss: 1.9966484308242798\n",
      "Step: 70, Loss: 1.9287447929382324\n"
     ]
    },
    {
     "name": "stderr",
     "output_type": "stream",
     "text": [
      " 11%|█         | 105/938 [00:03<00:09, 84.76it/s]"
     ]
    },
    {
     "name": "stdout",
     "output_type": "stream",
     "text": [
      "Step: 80, Loss: 1.8973199129104614\n",
      "Step: 90, Loss: 1.7685163021087646\n",
      "Step: 100, Loss: 1.8173105716705322\n",
      "Step: 110, Loss: 1.955202341079712\n"
     ]
    },
    {
     "name": "stderr",
     "output_type": "stream",
     "text": [
      " 15%|█▍        | 139/938 [00:03<00:06, 114.57it/s]"
     ]
    },
    {
     "name": "stdout",
     "output_type": "stream",
     "text": [
      "Step: 120, Loss: 1.6679084300994873\n",
      "Step: 130, Loss: 1.5931148529052734\n",
      "Step: 140, Loss: 1.538968801498413\n",
      "Step: 150, Loss: 1.409347414970398\n"
     ]
    },
    {
     "name": "stderr",
     "output_type": "stream",
     "text": [
      " 20%|██        | 192/938 [00:03<00:05, 148.64it/s]"
     ]
    },
    {
     "name": "stdout",
     "output_type": "stream",
     "text": [
      "Step: 160, Loss: 1.351853609085083\n",
      "Step: 170, Loss: 1.4333086013793945\n",
      "Step: 180, Loss: 1.3581258058547974\n",
      "Step: 190, Loss: 1.3132116794586182\n"
     ]
    },
    {
     "name": "stderr",
     "output_type": "stream",
     "text": [
      " 24%|██▍       | 228/938 [00:03<00:04, 162.78it/s]"
     ]
    },
    {
     "name": "stdout",
     "output_type": "stream",
     "text": [
      "Step: 200, Loss: 1.2678800821304321\n",
      "Step: 210, Loss: 1.6399625539779663\n",
      "Step: 220, Loss: 1.5026649236679077\n",
      "Step: 230, Loss: 1.3431496620178223\n"
     ]
    },
    {
     "name": "stderr",
     "output_type": "stream",
     "text": [
      " 28%|██▊       | 263/938 [00:04<00:04, 162.86it/s]"
     ]
    },
    {
     "name": "stdout",
     "output_type": "stream",
     "text": [
      "Step: 240, Loss: 2.2132718563079834\n",
      "Step: 250, Loss: 2.0394704341888428\n",
      "Step: 260, Loss: 1.7081105709075928\n",
      "Step: 270, Loss: 1.69790780544281\n"
     ]
    },
    {
     "name": "stderr",
     "output_type": "stream",
     "text": [
      " 32%|███▏      | 298/938 [00:04<00:03, 166.57it/s]"
     ]
    },
    {
     "name": "stdout",
     "output_type": "stream",
     "text": [
      "Step: 280, Loss: 1.5532135963439941\n",
      "Step: 290, Loss: 1.5197206735610962\n",
      "Step: 300, Loss: 1.5520026683807373\n",
      "Step: 310, Loss: 1.4450328350067139\n"
     ]
    },
    {
     "name": "stderr",
     "output_type": "stream",
     "text": [
      " 37%|███▋      | 347/938 [00:04<00:03, 151.62it/s]"
     ]
    },
    {
     "name": "stdout",
     "output_type": "stream",
     "text": [
      "Step: 320, Loss: 1.4276479482650757\n",
      "Step: 330, Loss: 1.3816813230514526\n",
      "Step: 340, Loss: 1.6483207941055298\n",
      "Step: 350, Loss: 1.4175212383270264\n"
     ]
    },
    {
     "name": "stderr",
     "output_type": "stream",
     "text": [
      " 41%|████      | 380/938 [00:04<00:03, 156.07it/s]"
     ]
    },
    {
     "name": "stdout",
     "output_type": "stream",
     "text": [
      "Step: 360, Loss: 1.2679309844970703\n",
      "Step: 370, Loss: 1.5856760740280151\n",
      "Step: 380, Loss: 1.5568403005599976\n",
      "Step: 390, Loss: 1.4607608318328857\n"
     ]
    },
    {
     "name": "stderr",
     "output_type": "stream",
     "text": [
      " 46%|████▌     | 430/938 [00:05<00:03, 154.81it/s]"
     ]
    },
    {
     "name": "stdout",
     "output_type": "stream",
     "text": [
      "Step: 400, Loss: 1.6147668361663818\n",
      "Step: 410, Loss: 1.4588452577590942\n",
      "Step: 420, Loss: 1.4445587396621704\n",
      "Step: 430, Loss: 1.251037359237671\n"
     ]
    },
    {
     "name": "stderr",
     "output_type": "stream",
     "text": [
      " 49%|████▉     | 464/938 [00:05<00:02, 160.44it/s]"
     ]
    },
    {
     "name": "stdout",
     "output_type": "stream",
     "text": [
      "Step: 440, Loss: 1.2525910139083862\n",
      "Step: 450, Loss: 1.2337523698806763\n",
      "Step: 460, Loss: 1.317148208618164\n",
      "Step: 470, Loss: 1.265053391456604\n"
     ]
    },
    {
     "name": "stderr",
     "output_type": "stream",
     "text": [
      " 53%|█████▎    | 499/938 [00:05<00:02, 165.48it/s]"
     ]
    },
    {
     "name": "stdout",
     "output_type": "stream",
     "text": [
      "Step: 480, Loss: 1.300365924835205\n",
      "Step: 490, Loss: 1.3254722356796265\n",
      "Step: 500, Loss: 1.5841652154922485\n",
      "Step: 510, Loss: 1.4305542707443237\n"
     ]
    },
    {
     "name": "stderr",
     "output_type": "stream",
     "text": [
      " 59%|█████▉    | 553/938 [00:06<00:02, 174.04it/s]"
     ]
    },
    {
     "name": "stdout",
     "output_type": "stream",
     "text": [
      "Step: 520, Loss: 1.552596926689148\n",
      "Step: 530, Loss: 1.6690757274627686\n",
      "Step: 540, Loss: 1.5904381275177002\n",
      "Step: 550, Loss: 1.4606177806854248\n"
     ]
    },
    {
     "name": "stderr",
     "output_type": "stream",
     "text": [
      " 63%|██████▎   | 589/938 [00:06<00:01, 174.60it/s]"
     ]
    },
    {
     "name": "stdout",
     "output_type": "stream",
     "text": [
      "Step: 560, Loss: 1.2820799350738525\n",
      "Step: 570, Loss: 1.5195910930633545\n",
      "Step: 580, Loss: 1.4972262382507324\n",
      "Step: 590, Loss: 1.58010733127594\n"
     ]
    },
    {
     "name": "stderr",
     "output_type": "stream",
     "text": [
      " 67%|██████▋   | 625/938 [00:06<00:01, 171.18it/s]"
     ]
    },
    {
     "name": "stdout",
     "output_type": "stream",
     "text": [
      "Step: 600, Loss: 1.2470954656600952\n",
      "Step: 610, Loss: 1.2683359384536743\n",
      "Step: 620, Loss: 1.4094685316085815\n",
      "Step: 630, Loss: 1.7385910749435425\n",
      "Step: 640, Loss: 1.3429327011108398\n"
     ]
    },
    {
     "name": "stderr",
     "output_type": "stream",
     "text": [
      " 73%|███████▎  | 681/938 [00:06<00:01, 176.14it/s]"
     ]
    },
    {
     "name": "stdout",
     "output_type": "stream",
     "text": [
      "Step: 650, Loss: 1.520493507385254\n",
      "Step: 660, Loss: 1.6742908954620361\n",
      "Step: 670, Loss: 1.309253215789795\n",
      "Step: 680, Loss: 1.7837144136428833\n"
     ]
    },
    {
     "name": "stderr",
     "output_type": "stream",
     "text": [
      " 76%|███████▋  | 717/938 [00:06<00:01, 176.33it/s]"
     ]
    },
    {
     "name": "stdout",
     "output_type": "stream",
     "text": [
      "Step: 690, Loss: 1.3911323547363281\n",
      "Step: 700, Loss: 1.3656210899353027\n",
      "Step: 710, Loss: 1.0848538875579834\n",
      "Step: 720, Loss: 1.1982661485671997\n"
     ]
    },
    {
     "name": "stderr",
     "output_type": "stream",
     "text": [
      " 80%|████████  | 753/938 [00:07<00:01, 173.87it/s]"
     ]
    },
    {
     "name": "stdout",
     "output_type": "stream",
     "text": [
      "Step: 730, Loss: 1.4269403219223022\n",
      "Step: 740, Loss: 1.0965789556503296\n",
      "Step: 750, Loss: 1.1463234424591064\n",
      "Step: 760, Loss: 1.1249804496765137\n"
     ]
    },
    {
     "name": "stderr",
     "output_type": "stream",
     "text": [
      " 84%|████████▍ | 789/938 [00:07<00:00, 169.36it/s]"
     ]
    },
    {
     "name": "stdout",
     "output_type": "stream",
     "text": [
      "Step: 770, Loss: 1.1693611145019531\n",
      "Step: 780, Loss: 1.2096422910690308\n",
      "Step: 790, Loss: 1.488593578338623\n",
      "Step: 800, Loss: 1.1810373067855835\n"
     ]
    },
    {
     "name": "stderr",
     "output_type": "stream",
     "text": [
      " 90%|████████▉ | 843/938 [00:07<00:00, 174.45it/s]"
     ]
    },
    {
     "name": "stdout",
     "output_type": "stream",
     "text": [
      "Step: 810, Loss: 1.6621843576431274\n",
      "Step: 820, Loss: 1.472716212272644\n",
      "Step: 830, Loss: 1.7755213975906372\n",
      "Step: 840, Loss: 1.473854660987854\n"
     ]
    },
    {
     "name": "stderr",
     "output_type": "stream",
     "text": [
      " 94%|█████████▎| 879/938 [00:07<00:00, 166.55it/s]"
     ]
    },
    {
     "name": "stdout",
     "output_type": "stream",
     "text": [
      "Step: 850, Loss: 1.6560821533203125\n",
      "Step: 860, Loss: 1.0810636281967163\n",
      "Step: 870, Loss: 1.1401145458221436\n",
      "Step: 880, Loss: 0.9456584453582764\n"
     ]
    },
    {
     "name": "stderr",
     "output_type": "stream",
     "text": [
      " 97%|█████████▋| 914/938 [00:08<00:00, 168.59it/s]"
     ]
    },
    {
     "name": "stdout",
     "output_type": "stream",
     "text": [
      "Step: 890, Loss: 1.4355645179748535\n",
      "Step: 900, Loss: 1.1599091291427612\n",
      "Step: 910, Loss: 1.0387941598892212\n",
      "Step: 920, Loss: 1.2877061367034912\n"
     ]
    },
    {
     "name": "stderr",
     "output_type": "stream",
     "text": [
      " 99%|█████████▉| 931/938 [00:08<00:00, 168.71it/s]"
     ]
    },
    {
     "name": "stdout",
     "output_type": "stream",
     "text": [
      "Step: 930, Loss: 1.3347512483596802\n"
     ]
    },
    {
     "name": "stderr",
     "output_type": "stream",
     "text": [
      "100%|██████████| 938/938 [00:08<00:00, 106.21it/s]\n"
     ]
    }
   ],
   "source": [
    "# Обучите модель с ReLU:\n",
    "criterion = torch.nn.CrossEntropyLoss()\n",
    "optimizer = torch.optim.Adam(model_relu.parameters(), lr=0.01)\n",
    "\n",
    "fc_gradients = train(model_relu, trainloader, criterion, optimizer)"
   ]
  },
  {
   "cell_type": "code",
   "execution_count": 83,
   "metadata": {
    "id": "hPrlNdguH4Xg"
   },
   "outputs": [
    {
     "name": "stderr",
     "output_type": "stream",
     "text": [
      "C:\\Users\\khari\\AppData\\Local\\Temp\\ipykernel_16900\\2806989764.py:3: UserWarning: No artists with labels found to put in legend.  Note that artists whose label start with an underscore are ignored when legend() is called with no argument.\n",
      "  plt.legend()\n"
     ]
    },
    {
     "data": {
      "image/png": "[encoded data removed]",
      "text/plain": [
       "<Figure size 640x480 with 1 Axes>"
      ]
     },
     "metadata": {},
     "output_type": "display_data"
    }
   ],
   "source": [
    "# Визуализируйте градинте:\n",
    "plt.plot(fc_gradients)\n",
    "plt.legend()\n",
    "plt.title(\"Gradients of Linear Layers\")\n",
    "plt.xlabel(\"Training Step\")\n",
    "plt.ylabel(\"Gradient Value\")\n",
    "plt.show()"
   ]
  },
  {
   "cell_type": "markdown",
   "metadata": {
    "id": "KBllIvkvKXn3"
   },
   "source": [
    "Вы должны получить лосс в диапазоне 1.3-1.6. Проблема затухания градиента должна уменьшится, но не решиться полностью. Обучение глубоких нейронных сетей является нетривиальной задачей!"
   ]
  },
  {
   "cell_type": "markdown",
   "metadata": {
    "id": "o0joS4fPUQ2A"
   },
   "source": [
    "# Проблема взрыва градиента\n",
    "\n",
    "Это проблема противоположна предыдущей. Вместо стремления градиента к 0, и потери способности изменять веса слоев (а значит и обучаться), градиент может \"взорваться\" (его значения стремятся к большим числам), что приводит к очень большим и резким изменениям весов модели, не позволяя модели сходиться."
   ]
  },
  {
   "cell_type": "markdown",
   "metadata": {
    "id": "vgxvo_7fOh8a"
   },
   "source": [
    "**Задача 6:** Инициализируйте модель еще раз со следующими входными параметрами."
   ]
  },
  {
   "cell_type": "code",
   "execution_count": 84,
   "metadata": {
    "id": "0IXQ7wEOUqV_"
   },
   "outputs": [],
   "source": [
    "torch.manual_seed(42)\n",
    "\n",
    "# Инициализация модели, лосс функции и оптимайзера:\n",
    "input_size = 28 * 28 # MNIST image size\n",
    "hidden_size = 512\n",
    "output_size = 10\n",
    "n_hidden=20\n",
    "model = DeepMLP(input_size, hidden_size, output_size, n_hidden).to(device)"
   ]
  },
  {
   "cell_type": "markdown",
   "metadata": {
    "id": "lmMUekvTg3Yb"
   },
   "source": [
    "**Вопрос:** Посчитайте и выведите сумму всех выходов модели для рандмного входного тензора test_input (да да, еще раз)\n",
    "\n",
    "**Пример ответа:** `0.234`"
   ]
  },
  {
   "cell_type": "code",
   "execution_count": null,
   "metadata": {
    "id": "BwDNx4V5hS0s"
   },
   "outputs": [
    {
     "data": {
      "text/plain": [
       "-0.9367365837097168"
      ]
     },
     "execution_count": 85,
     "metadata": {},
     "output_type": "execute_result"
    }
   ],
   "source": [
    "torch.manual_seed(42)\n",
    "test_input = torch.rand(1, 28*28).to(device)\n",
    "answer = model(test_data).sum().item()\n",
    "answer   # -0.9367365837097168"
   ]
  },
  {
   "cell_type": "code",
   "execution_count": 86,
   "metadata": {
    "colab": {
     "base_uri": "https://localhost:8080/"
    },
    "id": "j2LkOkphUsQ7",
    "outputId": "cc824eb3-64a7-4056-b045-3cdff798ed6b"
   },
   "outputs": [
    {
     "name": "stderr",
     "output_type": "stream",
     "text": [
      "  2%|▏         | 15/938 [00:02<02:02,  7.55it/s]"
     ]
    },
    {
     "name": "stdout",
     "output_type": "stream",
     "text": [
      "Step: 0, Loss: 2.370612144470215\n",
      "Step: 10, Loss: 2.319352149963379\n",
      "Step: 20, Loss: 2.3845596313476562\n"
     ]
    },
    {
     "name": "stderr",
     "output_type": "stream",
     "text": [
      "  4%|▍         | 42/938 [00:02<00:33, 26.81it/s]"
     ]
    },
    {
     "name": "stdout",
     "output_type": "stream",
     "text": [
      "Step: 30, Loss: 2.322371482849121\n",
      "Step: 40, Loss: 2.3334951400756836\n",
      "Step: 50, Loss: 2.335846185684204\n"
     ]
    },
    {
     "name": "stderr",
     "output_type": "stream",
     "text": [
      "  9%|▉         | 83/938 [00:03<00:13, 65.59it/s]"
     ]
    },
    {
     "name": "stdout",
     "output_type": "stream",
     "text": [
      "Step: 60, Loss: 2.337700605392456\n",
      "Step: 70, Loss: 2.2949411869049072\n",
      "Step: 80, Loss: 2.3135998249053955\n"
     ]
    },
    {
     "name": "stderr",
     "output_type": "stream",
     "text": [
      " 12%|█▏        | 111/938 [00:03<00:08, 92.12it/s]"
     ]
    },
    {
     "name": "stdout",
     "output_type": "stream",
     "text": [
      "Step: 90, Loss: 2.3037660121917725\n",
      "Step: 100, Loss: 2.3035049438476562\n",
      "Step: 110, Loss: 2.311680316925049\n"
     ]
    },
    {
     "name": "stderr",
     "output_type": "stream",
     "text": [
      " 15%|█▍        | 139/938 [00:03<00:07, 105.64it/s]"
     ]
    },
    {
     "name": "stdout",
     "output_type": "stream",
     "text": [
      "Step: 120, Loss: 2.2950565814971924\n",
      "Step: 130, Loss: 2.2916626930236816\n",
      "Step: 140, Loss: 2.303668260574341\n"
     ]
    },
    {
     "name": "stderr",
     "output_type": "stream",
     "text": [
      " 18%|█▊        | 165/938 [00:03<00:06, 111.71it/s]"
     ]
    },
    {
     "name": "stdout",
     "output_type": "stream",
     "text": [
      "Step: 150, Loss: 2.308089017868042\n",
      "Step: 160, Loss: 2.294508695602417\n",
      "Step: 170, Loss: 2.299661636352539\n"
     ]
    },
    {
     "name": "stderr",
     "output_type": "stream",
     "text": [
      " 22%|██▏       | 205/938 [00:04<00:05, 122.99it/s]"
     ]
    },
    {
     "name": "stdout",
     "output_type": "stream",
     "text": [
      "Step: 180, Loss: 2.30952787399292\n",
      "Step: 190, Loss: 2.3046488761901855\n",
      "Step: 200, Loss: 2.2925260066986084\n"
     ]
    },
    {
     "name": "stderr",
     "output_type": "stream",
     "text": [
      " 23%|██▎       | 218/938 [00:04<00:05, 121.75it/s]"
     ]
    },
    {
     "name": "stdout",
     "output_type": "stream",
     "text": [
      "Step: 210, Loss: 2.297971725463867\n",
      "Step: 220, Loss: 2.318708658218384\n",
      "Step: 230, Loss: 2.296956777572632\n"
     ]
    },
    {
     "name": "stderr",
     "output_type": "stream",
     "text": [
      " 28%|██▊       | 258/938 [00:04<00:05, 127.49it/s]"
     ]
    },
    {
     "name": "stdout",
     "output_type": "stream",
     "text": [
      "Step: 240, Loss: 2.320816993713379\n",
      "Step: 250, Loss: 2.3015005588531494\n",
      "Step: 260, Loss: 2.3070170879364014\n"
     ]
    },
    {
     "name": "stderr",
     "output_type": "stream",
     "text": [
      " 30%|███       | 286/938 [00:04<00:04, 131.14it/s]"
     ]
    },
    {
     "name": "stdout",
     "output_type": "stream",
     "text": [
      "Step: 270, Loss: 2.304478168487549\n",
      "Step: 280, Loss: 2.3052568435668945\n",
      "Step: 290, Loss: 2.3059659004211426\n"
     ]
    },
    {
     "name": "stderr",
     "output_type": "stream",
     "text": [
      " 35%|███▍      | 328/938 [00:05<00:04, 134.86it/s]"
     ]
    },
    {
     "name": "stdout",
     "output_type": "stream",
     "text": [
      "Step: 300, Loss: 2.3120131492614746\n",
      "Step: 310, Loss: 2.291264057159424\n",
      "Step: 320, Loss: 2.298677682876587\n"
     ]
    },
    {
     "name": "stderr",
     "output_type": "stream",
     "text": [
      " 36%|███▋      | 342/938 [00:05<00:04, 131.77it/s]"
     ]
    },
    {
     "name": "stdout",
     "output_type": "stream",
     "text": [
      "Step: 330, Loss: 2.296095848083496\n",
      "Step: 340, Loss: 2.305849313735962\n",
      "Step: 350, Loss: 2.3076021671295166\n"
     ]
    },
    {
     "name": "stderr",
     "output_type": "stream",
     "text": [
      " 39%|███▉      | 370/938 [00:05<00:04, 128.89it/s]"
     ]
    },
    {
     "name": "stdout",
     "output_type": "stream",
     "text": [
      "Step: 360, Loss: 2.2834112644195557\n",
      "Step: 370, Loss: 2.298788547515869\n",
      "Step: 380, Loss: 2.303243398666382\n"
     ]
    },
    {
     "name": "stderr",
     "output_type": "stream",
     "text": [
      " 44%|████▍     | 413/938 [00:05<00:03, 133.17it/s]"
     ]
    },
    {
     "name": "stdout",
     "output_type": "stream",
     "text": [
      "Step: 390, Loss: 2.30169415473938\n",
      "Step: 400, Loss: 2.3153207302093506\n",
      "Step: 410, Loss: 2.3035590648651123\n"
     ]
    },
    {
     "name": "stderr",
     "output_type": "stream",
     "text": [
      " 47%|████▋     | 441/938 [00:06<00:03, 132.96it/s]"
     ]
    },
    {
     "name": "stdout",
     "output_type": "stream",
     "text": [
      "Step: 420, Loss: 2.306708812713623\n",
      "Step: 430, Loss: 2.301382064819336\n",
      "Step: 440, Loss: 2.3099207878112793\n"
     ]
    },
    {
     "name": "stderr",
     "output_type": "stream",
     "text": [
      " 50%|█████     | 470/938 [00:06<00:03, 133.43it/s]"
     ]
    },
    {
     "name": "stdout",
     "output_type": "stream",
     "text": [
      "Step: 450, Loss: 2.3080389499664307\n",
      "Step: 460, Loss: 2.2981133460998535\n",
      "Step: 470, Loss: 2.296691417694092\n"
     ]
    },
    {
     "name": "stderr",
     "output_type": "stream",
     "text": [
      " 53%|█████▎    | 497/938 [00:06<00:03, 129.41it/s]"
     ]
    },
    {
     "name": "stdout",
     "output_type": "stream",
     "text": [
      "Step: 480, Loss: 2.2905995845794678\n",
      "Step: 490, Loss: 2.301241636276245\n",
      "Step: 500, Loss: 2.303941249847412\n"
     ]
    },
    {
     "name": "stderr",
     "output_type": "stream",
     "text": [
      " 56%|█████▌    | 525/938 [00:06<00:03, 128.83it/s]"
     ]
    },
    {
     "name": "stdout",
     "output_type": "stream",
     "text": [
      "Step: 510, Loss: 2.3054370880126953\n",
      "Step: 520, Loss: 2.295975923538208\n",
      "Step: 530, Loss: 2.297809362411499\n"
     ]
    },
    {
     "name": "stderr",
     "output_type": "stream",
     "text": [
      " 61%|██████    | 568/938 [00:06<00:02, 133.12it/s]"
     ]
    },
    {
     "name": "stdout",
     "output_type": "stream",
     "text": [
      "Step: 540, Loss: 2.3027031421661377\n",
      "Step: 550, Loss: 2.3001868724823\n",
      "Step: 560, Loss: 2.296241283416748\n"
     ]
    },
    {
     "name": "stderr",
     "output_type": "stream",
     "text": [
      " 64%|██████▎   | 596/938 [00:07<00:02, 133.72it/s]"
     ]
    },
    {
     "name": "stdout",
     "output_type": "stream",
     "text": [
      "Step: 570, Loss: 2.3105452060699463\n",
      "Step: 580, Loss: 2.3034369945526123\n",
      "Step: 590, Loss: 2.313382625579834\n"
     ]
    },
    {
     "name": "stderr",
     "output_type": "stream",
     "text": [
      " 67%|██████▋   | 624/938 [00:07<00:02, 134.69it/s]"
     ]
    },
    {
     "name": "stdout",
     "output_type": "stream",
     "text": [
      "Step: 600, Loss: 2.293776273727417\n",
      "Step: 610, Loss: 2.31894588470459\n",
      "Step: 620, Loss: 2.300178289413452\n"
     ]
    },
    {
     "name": "stderr",
     "output_type": "stream",
     "text": [
      " 70%|██████▉   | 652/938 [00:07<00:02, 131.27it/s]"
     ]
    },
    {
     "name": "stdout",
     "output_type": "stream",
     "text": [
      "Step: 630, Loss: 2.309185266494751\n",
      "Step: 640, Loss: 2.2854819297790527\n",
      "Step: 650, Loss: 2.299595355987549\n"
     ]
    },
    {
     "name": "stderr",
     "output_type": "stream",
     "text": [
      " 72%|███████▏  | 680/938 [00:07<00:01, 130.09it/s]"
     ]
    },
    {
     "name": "stdout",
     "output_type": "stream",
     "text": [
      "Step: 660, Loss: 2.3087778091430664\n",
      "Step: 670, Loss: 2.292625665664673\n",
      "Step: 680, Loss: 2.312490224838257\n",
      "Step: 690, Loss: 2.3027212619781494\n"
     ]
    },
    {
     "name": "stderr",
     "output_type": "stream",
     "text": [
      " 77%|███████▋  | 722/938 [00:08<00:01, 130.07it/s]"
     ]
    },
    {
     "name": "stdout",
     "output_type": "stream",
     "text": [
      "Step: 700, Loss: 2.3031020164489746\n",
      "Step: 710, Loss: 2.2977707386016846\n",
      "Step: 720, Loss: 2.310284376144409\n"
     ]
    },
    {
     "name": "stderr",
     "output_type": "stream",
     "text": [
      " 80%|███████▉  | 749/938 [00:08<00:01, 125.72it/s]"
     ]
    },
    {
     "name": "stdout",
     "output_type": "stream",
     "text": [
      "Step: 730, Loss: 2.3078012466430664\n",
      "Step: 740, Loss: 2.2944319248199463\n",
      "Step: 750, Loss: 2.296509027481079\n"
     ]
    },
    {
     "name": "stderr",
     "output_type": "stream",
     "text": [
      " 83%|████████▎ | 775/938 [00:08<00:01, 125.84it/s]"
     ]
    },
    {
     "name": "stdout",
     "output_type": "stream",
     "text": [
      "Step: 760, Loss: 2.3016974925994873\n",
      "Step: 770, Loss: 2.315286636352539\n",
      "Step: 780, Loss: 2.292431116104126\n"
     ]
    },
    {
     "name": "stderr",
     "output_type": "stream",
     "text": [
      " 87%|████████▋ | 816/938 [00:08<00:00, 131.38it/s]"
     ]
    },
    {
     "name": "stdout",
     "output_type": "stream",
     "text": [
      "Step: 790, Loss: 2.2961673736572266\n",
      "Step: 800, Loss: 2.2978837490081787\n",
      "Step: 810, Loss: 2.3135786056518555\n"
     ]
    },
    {
     "name": "stderr",
     "output_type": "stream",
     "text": [
      " 90%|████████▉ | 844/938 [00:09<00:00, 130.00it/s]"
     ]
    },
    {
     "name": "stdout",
     "output_type": "stream",
     "text": [
      "Step: 820, Loss: 2.307420015335083\n",
      "Step: 830, Loss: 2.3165268898010254\n",
      "Step: 840, Loss: 2.305375337600708\n"
     ]
    },
    {
     "name": "stderr",
     "output_type": "stream",
     "text": [
      " 93%|█████████▎| 872/938 [00:09<00:00, 132.68it/s]"
     ]
    },
    {
     "name": "stdout",
     "output_type": "stream",
     "text": [
      "Step: 850, Loss: 2.3068716526031494\n",
      "Step: 860, Loss: 2.3002524375915527\n",
      "Step: 870, Loss: 2.2848074436187744\n",
      "Step: 880, Loss: 2.3027477264404297\n"
     ]
    },
    {
     "name": "stderr",
     "output_type": "stream",
     "text": [
      " 98%|█████████▊| 915/938 [00:09<00:00, 132.49it/s]"
     ]
    },
    {
     "name": "stdout",
     "output_type": "stream",
     "text": [
      "Step: 890, Loss: 2.299281358718872\n",
      "Step: 900, Loss: 2.3038330078125\n",
      "Step: 910, Loss: 2.2965760231018066\n"
     ]
    },
    {
     "name": "stderr",
     "output_type": "stream",
     "text": [
      " 99%|█████████▉| 929/938 [00:09<00:00, 130.66it/s]"
     ]
    },
    {
     "name": "stdout",
     "output_type": "stream",
     "text": [
      "Step: 920, Loss: 2.298959970474243\n",
      "Step: 930, Loss: 2.294469118118286\n"
     ]
    },
    {
     "name": "stderr",
     "output_type": "stream",
     "text": [
      "100%|██████████| 938/938 [00:10<00:00, 90.39it/s] \n"
     ]
    }
   ],
   "source": [
    "# Обучите модель еще раз:\n",
    "torch.manual_seed(42)\n",
    "\n",
    "criterion = torch.nn.CrossEntropyLoss()\n",
    "optimizer = torch.optim.SGD(model.parameters(), lr=0.001)\n",
    "\n",
    "fc_gradients = train(model, trainloader, criterion, optimizer)"
   ]
  },
  {
   "cell_type": "code",
   "execution_count": 130,
   "metadata": {
    "colab": {
     "base_uri": "https://localhost:8080/",
     "height": 313
    },
    "id": "lgNqcWdaU9wf",
    "outputId": "c4013a4a-6019-4df6-f701-85f17639531e"
   },
   "outputs": [
    {
     "name": "stderr",
     "output_type": "stream",
     "text": [
      "C:\\Users\\khari\\AppData\\Local\\Temp\\ipykernel_16900\\2019969697.py:3: UserWarning: No artists with labels found to put in legend.  Note that artists whose label start with an underscore are ignored when legend() is called with no argument.\n",
      "  plt.legend()\n"
     ]
    },
    {
     "data": {
      "image/png": "[encoded data removed]",
      "text/plain": [
       "<Figure size 640x480 with 1 Axes>"
      ]
     },
     "metadata": {},
     "output_type": "display_data"
    }
   ],
   "source": [
    "# Визуализируйте градиент:\n",
    "plt.plot(fc_gradients)\n",
    "plt.legend()\n",
    "plt.title(\"Gradients of Linear Layers\")\n",
    "plt.xlabel(\"Training Step\")\n",
    "plt.ylabel(\"Gradient Value\")\n",
    "plt.show()"
   ]
  },
  {
   "cell_type": "markdown",
   "metadata": {
    "id": "_zZILiapP1GL"
   },
   "source": [
    "Как видите, магнитуда градиента стала слишком большой, что приводит к тому, что модель не может сойтись (достичь минимума)."
   ]
  },
  {
   "cell_type": "markdown",
   "metadata": {
    "id": "k2KBgvZ3scLB"
   },
   "source": [
    "# ResNet"
   ]
  },
  {
   "cell_type": "markdown",
   "metadata": {
    "id": "KBvmr6myseBg"
   },
   "source": [
    "Теперь давайте попробуем реализовать модель ResNet. Ее авторы нашли способ как бороться с проблемой затухания градиента в глубоких сетях используя так называемые shortcut (или residual) связи между слоями."
   ]
  },
  {
   "cell_type": "markdown",
   "metadata": {
    "id": "Mqm6pG4LOyCL"
   },
   "source": [
    "**Задача 7:** Определите Residual Block"
   ]
  },
  {
   "cell_type": "code",
   "execution_count": 131,
   "metadata": {
    "id": "ybUFV_Y_4XY-"
   },
   "outputs": [],
   "source": [
    "class ResidualBlock(nn.Module):\n",
    "    def __init__(self, in_channels, out_channels, stride=1):\n",
    "        super(ResidualBlock, self).__init__()\n",
    "        self.conv1 = nn.Conv2d(in_channels, out_channels, kernel_size=3, stride=stride, padding=1)\n",
    "        self.bn1 = nn.BatchNorm2d(out_channels)\n",
    "        self.conv2 = nn.Conv2d(out_channels, out_channels, kernel_size=3, stride=1, padding=1)\n",
    "        self.bn2 = nn.BatchNorm2d(out_channels)\n",
    "        self.shortcut = nn.Sequential()\n",
    "        if stride != 1 or in_channels != out_channels:\n",
    "            self.shortcut = nn.Sequential(nn.Conv2d(in_channels, out_channels, kernel_size=1, stride=stride), nn.BatchNorm2d(out_channels))\n",
    "\n",
    "    def forward(self, x):\n",
    "        out = self.conv1(x)\n",
    "        out = self.bn1(out)\n",
    "        out = F.relu(out)\n",
    "        out = self.conv2(out)\n",
    "        out = self.bn2(out)\n",
    "        out += self.shortcut(x)\n",
    "        out = F.relu(out)\n",
    "        return out"
   ]
  },
  {
   "cell_type": "markdown",
   "metadata": {
    "id": "tB89S5lSkWQ6"
   },
   "source": [
    "**Вопрос:** Посчитайте и выведите сумму выходов ResidualBlock(10,10) для рандомного входного тензора test_input.\n",
    "\n",
    "**Пример ответа:** `1.234`"
   ]
  },
  {
   "cell_type": "code",
   "execution_count": null,
   "metadata": {
    "id": "cQjcjGh8k0mD"
   },
   "outputs": [
    {
     "data": {
      "text/plain": [
       "16789.064453125"
      ]
     },
     "execution_count": 132,
     "metadata": {},
     "output_type": "execute_result"
    }
   ],
   "source": [
    "torch.manual_seed(42)\n",
    "test_input = torch.rand((1, 10, 3, 28*28))\n",
    "res_block = ResidualBlock(10,10)\n",
    "answer = res_block(test_input).sum().item()\n",
    "answer   # 16789.064453125"
   ]
  },
  {
   "cell_type": "markdown",
   "metadata": {
    "id": "ALoCCoU-PEba"
   },
   "source": [
    "**Задача 8:** Теперь определите модель ResNet, состоящую из нескольких ResidualBlock"
   ]
  },
  {
   "cell_type": "code",
   "execution_count": 133,
   "metadata": {
    "id": "84HZmmlpPC8V"
   },
   "outputs": [],
   "source": [
    "class ResNet(nn.Module):\n",
    "    def __init__(self, num_classes=10):\n",
    "        super(ResNet, self).__init__()\n",
    "        self.conv1 = nn.Conv2d(1, 64, kernel_size=3, stride=1, padding=1)\n",
    "        self.layer1 = self._make_layer(64, 64, 2, stride=1)\n",
    "        self.layer2 = self._make_layer(64, 128, 2, stride=1)\n",
    "        self.layer3 = self._make_layer(128, 256, 2, stride=1)\n",
    "        self.fc = nn.Linear(2304, num_classes)\n",
    "\n",
    "    def _make_layer(self, in_channels, out_channels, num_blocks, stride=1):\n",
    "        layers = []\n",
    "        for i in range(num_blocks):\n",
    "            if i == 0:\n",
    "                layers.append(ResidualBlock(in_channels, out_channels, stride))\n",
    "            else:\n",
    "                layers.append(ResidualBlock(out_channels, out_channels, stride=1))\n",
    "        return nn.Sequential(*layers)\n",
    "\n",
    "    def forward(self, x):\n",
    "        out = F.relu(self.conv1(x))\n",
    "        out = self.layer1(out)\n",
    "        out = self.layer2(out)\n",
    "        out = self.layer3(out)\n",
    "        out = F.avg_pool2d(out, 8)\n",
    "        out = out.view(out.size(0), -1)\n",
    "        out = self.fc(out)\n",
    "        return out"
   ]
  },
  {
   "cell_type": "markdown",
   "metadata": {
    "id": "62V0OrcOomjM"
   },
   "source": [
    "**Вопрос:** Посчитайте и выведите количество параметров (весов) этой ResNet модели\n",
    "\n",
    "**Пример ответа:** `43242`"
   ]
  },
  {
   "cell_type": "code",
   "execution_count": 134,
   "metadata": {
    "id": "gFw6BJY3pFTt"
   },
   "outputs": [
    {
     "data": {
      "text/plain": [
       "2799114"
      ]
     },
     "execution_count": 134,
     "metadata": {},
     "output_type": "execute_result"
    }
   ],
   "source": [
    "model = ResNet()\n",
    "\n",
    "answer = sum(param.numel() for param in model.parameters())\n",
    "answer   # 2799114"
   ]
  },
  {
   "cell_type": "code",
   "execution_count": 135,
   "metadata": {
    "id": "dscNlp4lyzqW"
   },
   "outputs": [],
   "source": [
    "# Инициализируем объект класса модели ResNet, а также лосс функцию и оптимайзер:\n",
    "torch.manual_seed(42)\n",
    "\n",
    "model = ResNet().to(device)\n",
    "criterion = torch.nn.CrossEntropyLoss()\n",
    "optimizer = torch.optim.Adam(model.parameters(), lr=0.01)"
   ]
  },
  {
   "cell_type": "code",
   "execution_count": 136,
   "metadata": {
    "colab": {
     "base_uri": "https://localhost:8080/"
    },
    "id": "NHkoOfudy5T2",
    "outputId": "ea6f5d4e-c98a-45f8-dd37-8be368617f45"
   },
   "outputs": [
    {
     "name": "stderr",
     "output_type": "stream",
     "text": [
      "  1%|          | 5/938 [00:02<06:54,  2.25it/s]"
     ]
    },
    {
     "name": "stdout",
     "output_type": "stream",
     "text": [
      "Step: 0, Loss: 2.4626057147979736\n"
     ]
    },
    {
     "name": "stderr",
     "output_type": "stream",
     "text": [
      "  1%|▏         | 14/938 [00:03<01:47,  8.62it/s]"
     ]
    },
    {
     "name": "stdout",
     "output_type": "stream",
     "text": [
      "Step: 10, Loss: 3.7753219604492188\n"
     ]
    },
    {
     "name": "stderr",
     "output_type": "stream",
     "text": [
      "  3%|▎         | 26/938 [00:03<00:48, 18.82it/s]"
     ]
    },
    {
     "name": "stdout",
     "output_type": "stream",
     "text": [
      "Step: 20, Loss: 1.874342679977417\n"
     ]
    },
    {
     "name": "stderr",
     "output_type": "stream",
     "text": [
      "  4%|▎         | 35/938 [00:04<00:38, 23.61it/s]"
     ]
    },
    {
     "name": "stdout",
     "output_type": "stream",
     "text": [
      "Step: 30, Loss: 1.0179262161254883\n"
     ]
    },
    {
     "name": "stderr",
     "output_type": "stream",
     "text": [
      "  5%|▍         | 45/938 [00:04<00:32, 27.12it/s]"
     ]
    },
    {
     "name": "stdout",
     "output_type": "stream",
     "text": [
      "Step: 40, Loss: 0.4775063395500183\n"
     ]
    },
    {
     "name": "stderr",
     "output_type": "stream",
     "text": [
      "  6%|▌         | 54/938 [00:04<00:32, 27.07it/s]"
     ]
    },
    {
     "name": "stdout",
     "output_type": "stream",
     "text": [
      "Step: 50, Loss: 0.5569607615470886\n"
     ]
    },
    {
     "name": "stderr",
     "output_type": "stream",
     "text": [
      "  7%|▋         | 63/938 [00:05<00:32, 26.58it/s]"
     ]
    },
    {
     "name": "stdout",
     "output_type": "stream",
     "text": [
      "Step: 60, Loss: 0.18007951974868774\n"
     ]
    },
    {
     "name": "stderr",
     "output_type": "stream",
     "text": [
      "  8%|▊         | 75/938 [00:05<00:30, 28.08it/s]"
     ]
    },
    {
     "name": "stdout",
     "output_type": "stream",
     "text": [
      "Step: 70, Loss: 0.18278135359287262\n"
     ]
    },
    {
     "name": "stderr",
     "output_type": "stream",
     "text": [
      "  9%|▉         | 84/938 [00:05<00:31, 27.43it/s]"
     ]
    },
    {
     "name": "stdout",
     "output_type": "stream",
     "text": [
      "Step: 80, Loss: 0.32549914717674255\n"
     ]
    },
    {
     "name": "stderr",
     "output_type": "stream",
     "text": [
      " 10%|█         | 96/938 [00:06<00:31, 26.55it/s]"
     ]
    },
    {
     "name": "stdout",
     "output_type": "stream",
     "text": [
      "Step: 90, Loss: 0.27424973249435425\n"
     ]
    },
    {
     "name": "stderr",
     "output_type": "stream",
     "text": [
      " 11%|█         | 105/938 [00:06<00:30, 27.19it/s]"
     ]
    },
    {
     "name": "stdout",
     "output_type": "stream",
     "text": [
      "Step: 100, Loss: 0.32721787691116333\n"
     ]
    },
    {
     "name": "stderr",
     "output_type": "stream",
     "text": [
      " 12%|█▏        | 114/938 [00:06<00:30, 27.38it/s]"
     ]
    },
    {
     "name": "stdout",
     "output_type": "stream",
     "text": [
      "Step: 110, Loss: 0.3308010697364807\n"
     ]
    },
    {
     "name": "stderr",
     "output_type": "stream",
     "text": [
      " 13%|█▎        | 126/938 [00:07<00:30, 27.00it/s]"
     ]
    },
    {
     "name": "stdout",
     "output_type": "stream",
     "text": [
      "Step: 120, Loss: 0.332346647977829\n"
     ]
    },
    {
     "name": "stderr",
     "output_type": "stream",
     "text": [
      " 14%|█▍        | 135/938 [00:07<00:29, 26.87it/s]"
     ]
    },
    {
     "name": "stdout",
     "output_type": "stream",
     "text": [
      "Step: 130, Loss: 0.12835809588432312\n"
     ]
    },
    {
     "name": "stderr",
     "output_type": "stream",
     "text": [
      " 15%|█▌        | 144/938 [00:08<00:29, 27.00it/s]"
     ]
    },
    {
     "name": "stdout",
     "output_type": "stream",
     "text": [
      "Step: 140, Loss: 0.32903769612312317\n"
     ]
    },
    {
     "name": "stderr",
     "output_type": "stream",
     "text": [
      " 17%|█▋        | 156/938 [00:08<00:28, 27.18it/s]"
     ]
    },
    {
     "name": "stdout",
     "output_type": "stream",
     "text": [
      "Step: 150, Loss: 0.07242213934659958\n"
     ]
    },
    {
     "name": "stderr",
     "output_type": "stream",
     "text": [
      " 18%|█▊        | 165/938 [00:08<00:28, 26.69it/s]"
     ]
    },
    {
     "name": "stdout",
     "output_type": "stream",
     "text": [
      "Step: 160, Loss: 0.1311742216348648\n"
     ]
    },
    {
     "name": "stderr",
     "output_type": "stream",
     "text": [
      " 19%|█▊        | 174/938 [00:09<00:27, 27.57it/s]"
     ]
    },
    {
     "name": "stdout",
     "output_type": "stream",
     "text": [
      "Step: 170, Loss: 0.2593122720718384\n"
     ]
    },
    {
     "name": "stderr",
     "output_type": "stream",
     "text": [
      " 20%|█▉        | 186/938 [00:09<00:27, 27.14it/s]"
     ]
    },
    {
     "name": "stdout",
     "output_type": "stream",
     "text": [
      "Step: 180, Loss: 0.08691791445016861\n"
     ]
    },
    {
     "name": "stderr",
     "output_type": "stream",
     "text": [
      " 21%|██        | 195/938 [00:09<00:27, 26.88it/s]"
     ]
    },
    {
     "name": "stdout",
     "output_type": "stream",
     "text": [
      "Step: 190, Loss: 0.31926867365837097\n"
     ]
    },
    {
     "name": "stderr",
     "output_type": "stream",
     "text": [
      " 22%|██▏       | 204/938 [00:10<00:26, 27.60it/s]"
     ]
    },
    {
     "name": "stdout",
     "output_type": "stream",
     "text": [
      "Step: 200, Loss: 0.2576506733894348\n"
     ]
    },
    {
     "name": "stderr",
     "output_type": "stream",
     "text": [
      " 23%|██▎       | 213/938 [00:10<00:26, 27.44it/s]"
     ]
    },
    {
     "name": "stdout",
     "output_type": "stream",
     "text": [
      "Step: 210, Loss: 0.378024160861969\n"
     ]
    },
    {
     "name": "stderr",
     "output_type": "stream",
     "text": [
      " 24%|██▍       | 225/938 [00:10<00:26, 27.25it/s]"
     ]
    },
    {
     "name": "stdout",
     "output_type": "stream",
     "text": [
      "Step: 220, Loss: 0.1078704223036766\n"
     ]
    },
    {
     "name": "stderr",
     "output_type": "stream",
     "text": [
      " 25%|██▍       | 234/938 [00:11<00:25, 27.12it/s]"
     ]
    },
    {
     "name": "stdout",
     "output_type": "stream",
     "text": [
      "Step: 230, Loss: 0.16941408812999725\n"
     ]
    },
    {
     "name": "stderr",
     "output_type": "stream",
     "text": [
      " 26%|██▌       | 246/938 [00:11<00:25, 27.67it/s]"
     ]
    },
    {
     "name": "stdout",
     "output_type": "stream",
     "text": [
      "Step: 240, Loss: 0.06753311306238174\n"
     ]
    },
    {
     "name": "stderr",
     "output_type": "stream",
     "text": [
      " 27%|██▋       | 255/938 [00:12<00:24, 27.39it/s]"
     ]
    },
    {
     "name": "stdout",
     "output_type": "stream",
     "text": [
      "Step: 250, Loss: 0.11595398932695389\n"
     ]
    },
    {
     "name": "stderr",
     "output_type": "stream",
     "text": [
      " 28%|██▊       | 265/938 [00:12<00:24, 27.89it/s]"
     ]
    },
    {
     "name": "stdout",
     "output_type": "stream",
     "text": [
      "Step: 260, Loss: 0.1358184665441513\n"
     ]
    },
    {
     "name": "stderr",
     "output_type": "stream",
     "text": [
      " 29%|██▉       | 274/938 [00:12<00:24, 26.87it/s]"
     ]
    },
    {
     "name": "stdout",
     "output_type": "stream",
     "text": [
      "Step: 270, Loss: 0.07513502985239029\n"
     ]
    },
    {
     "name": "stderr",
     "output_type": "stream",
     "text": [
      " 30%|███       | 284/938 [00:13<00:23, 27.49it/s]"
     ]
    },
    {
     "name": "stdout",
     "output_type": "stream",
     "text": [
      "Step: 280, Loss: 0.04025663807988167\n"
     ]
    },
    {
     "name": "stderr",
     "output_type": "stream",
     "text": [
      " 31%|███       | 293/938 [00:13<00:23, 27.74it/s]"
     ]
    },
    {
     "name": "stdout",
     "output_type": "stream",
     "text": [
      "Step: 290, Loss: 0.11715888977050781\n"
     ]
    },
    {
     "name": "stderr",
     "output_type": "stream",
     "text": [
      " 33%|███▎      | 305/938 [00:13<00:22, 27.59it/s]"
     ]
    },
    {
     "name": "stdout",
     "output_type": "stream",
     "text": [
      "Step: 300, Loss: 0.3512425720691681\n"
     ]
    },
    {
     "name": "stderr",
     "output_type": "stream",
     "text": [
      " 33%|███▎      | 314/938 [00:14<00:22, 27.23it/s]"
     ]
    },
    {
     "name": "stdout",
     "output_type": "stream",
     "text": [
      "Step: 310, Loss: 0.06779652833938599\n"
     ]
    },
    {
     "name": "stderr",
     "output_type": "stream",
     "text": [
      " 35%|███▍      | 326/938 [00:14<00:21, 27.97it/s]"
     ]
    },
    {
     "name": "stdout",
     "output_type": "stream",
     "text": [
      "Step: 320, Loss: 0.14070311188697815\n"
     ]
    },
    {
     "name": "stderr",
     "output_type": "stream",
     "text": [
      " 36%|███▌      | 335/938 [00:14<00:21, 27.57it/s]"
     ]
    },
    {
     "name": "stdout",
     "output_type": "stream",
     "text": [
      "Step: 330, Loss: 0.144318625330925\n"
     ]
    },
    {
     "name": "stderr",
     "output_type": "stream",
     "text": [
      " 37%|███▋      | 344/938 [00:15<00:21, 27.39it/s]"
     ]
    },
    {
     "name": "stdout",
     "output_type": "stream",
     "text": [
      "Step: 340, Loss: 0.13330282270908356\n"
     ]
    },
    {
     "name": "stderr",
     "output_type": "stream",
     "text": [
      " 38%|███▊      | 353/938 [00:15<00:22, 26.41it/s]"
     ]
    },
    {
     "name": "stdout",
     "output_type": "stream",
     "text": [
      "Step: 350, Loss: 0.08477269858121872\n"
     ]
    },
    {
     "name": "stderr",
     "output_type": "stream",
     "text": [
      " 39%|███▉      | 365/938 [00:16<00:21, 27.01it/s]"
     ]
    },
    {
     "name": "stdout",
     "output_type": "stream",
     "text": [
      "Step: 360, Loss: 0.12059146165847778\n"
     ]
    },
    {
     "name": "stderr",
     "output_type": "stream",
     "text": [
      " 40%|███▉      | 374/938 [00:16<00:20, 27.47it/s]"
     ]
    },
    {
     "name": "stdout",
     "output_type": "stream",
     "text": [
      "Step: 370, Loss: 0.04606958478689194\n"
     ]
    },
    {
     "name": "stderr",
     "output_type": "stream",
     "text": [
      " 41%|████      | 384/938 [00:16<00:19, 28.49it/s]"
     ]
    },
    {
     "name": "stdout",
     "output_type": "stream",
     "text": [
      "Step: 380, Loss: 0.06479470431804657\n"
     ]
    },
    {
     "name": "stderr",
     "output_type": "stream",
     "text": [
      " 42%|████▏     | 396/938 [00:17<00:19, 27.26it/s]"
     ]
    },
    {
     "name": "stdout",
     "output_type": "stream",
     "text": [
      "Step: 390, Loss: 0.2960454523563385\n"
     ]
    },
    {
     "name": "stderr",
     "output_type": "stream",
     "text": [
      " 43%|████▎     | 405/938 [00:17<00:19, 27.66it/s]"
     ]
    },
    {
     "name": "stdout",
     "output_type": "stream",
     "text": [
      "Step: 400, Loss: 0.07213207334280014\n"
     ]
    },
    {
     "name": "stderr",
     "output_type": "stream",
     "text": [
      " 44%|████▍     | 414/938 [00:17<00:19, 26.62it/s]"
     ]
    },
    {
     "name": "stdout",
     "output_type": "stream",
     "text": [
      "Step: 410, Loss: 0.0434994138777256\n"
     ]
    },
    {
     "name": "stderr",
     "output_type": "stream",
     "text": [
      " 45%|████▌     | 423/938 [00:18<00:18, 27.65it/s]"
     ]
    },
    {
     "name": "stdout",
     "output_type": "stream",
     "text": [
      "Step: 420, Loss: 0.09830126911401749\n"
     ]
    },
    {
     "name": "stderr",
     "output_type": "stream",
     "text": [
      " 46%|████▋     | 435/938 [00:18<00:18, 27.66it/s]"
     ]
    },
    {
     "name": "stdout",
     "output_type": "stream",
     "text": [
      "Step: 430, Loss: 0.03665485978126526\n"
     ]
    },
    {
     "name": "stderr",
     "output_type": "stream",
     "text": [
      " 47%|████▋     | 444/938 [00:18<00:18, 27.22it/s]"
     ]
    },
    {
     "name": "stdout",
     "output_type": "stream",
     "text": [
      "Step: 440, Loss: 0.10374338924884796\n"
     ]
    },
    {
     "name": "stderr",
     "output_type": "stream",
     "text": [
      " 48%|████▊     | 454/938 [00:19<00:17, 27.81it/s]"
     ]
    },
    {
     "name": "stdout",
     "output_type": "stream",
     "text": [
      "Step: 450, Loss: 0.13092070817947388\n"
     ]
    },
    {
     "name": "stderr",
     "output_type": "stream",
     "text": [
      " 50%|████▉     | 466/938 [00:19<00:17, 27.29it/s]"
     ]
    },
    {
     "name": "stdout",
     "output_type": "stream",
     "text": [
      "Step: 460, Loss: 0.16148069500923157\n"
     ]
    },
    {
     "name": "stderr",
     "output_type": "stream",
     "text": [
      " 51%|█████     | 475/938 [00:20<00:17, 26.91it/s]"
     ]
    },
    {
     "name": "stdout",
     "output_type": "stream",
     "text": [
      "Step: 470, Loss: 0.05487765744328499\n"
     ]
    },
    {
     "name": "stderr",
     "output_type": "stream",
     "text": [
      " 52%|█████▏    | 484/938 [00:20<00:16, 27.02it/s]"
     ]
    },
    {
     "name": "stdout",
     "output_type": "stream",
     "text": [
      "Step: 480, Loss: 0.04190724343061447\n"
     ]
    },
    {
     "name": "stderr",
     "output_type": "stream",
     "text": [
      " 53%|█████▎    | 493/938 [00:20<00:16, 26.75it/s]"
     ]
    },
    {
     "name": "stdout",
     "output_type": "stream",
     "text": [
      "Step: 490, Loss: 0.18589171767234802\n"
     ]
    },
    {
     "name": "stderr",
     "output_type": "stream",
     "text": [
      " 54%|█████▍    | 505/938 [00:21<00:16, 26.50it/s]"
     ]
    },
    {
     "name": "stdout",
     "output_type": "stream",
     "text": [
      "Step: 500, Loss: 0.15013372898101807\n"
     ]
    },
    {
     "name": "stderr",
     "output_type": "stream",
     "text": [
      " 55%|█████▍    | 514/938 [00:21<00:15, 26.83it/s]"
     ]
    },
    {
     "name": "stdout",
     "output_type": "stream",
     "text": [
      "Step: 510, Loss: 0.06470584124326706\n"
     ]
    },
    {
     "name": "stderr",
     "output_type": "stream",
     "text": [
      " 56%|█████▌    | 526/938 [00:21<00:15, 27.38it/s]"
     ]
    },
    {
     "name": "stdout",
     "output_type": "stream",
     "text": [
      "Step: 520, Loss: 0.20549902319908142\n"
     ]
    },
    {
     "name": "stderr",
     "output_type": "stream",
     "text": [
      " 57%|█████▋    | 535/938 [00:22<00:14, 26.97it/s]"
     ]
    },
    {
     "name": "stdout",
     "output_type": "stream",
     "text": [
      "Step: 530, Loss: 0.166385218501091\n"
     ]
    },
    {
     "name": "stderr",
     "output_type": "stream",
     "text": [
      " 58%|█████▊    | 546/938 [00:22<00:13, 28.73it/s]"
     ]
    },
    {
     "name": "stdout",
     "output_type": "stream",
     "text": [
      "Step: 540, Loss: 0.12095716595649719\n"
     ]
    },
    {
     "name": "stderr",
     "output_type": "stream",
     "text": [
      " 59%|█████▉    | 555/938 [00:23<00:14, 26.83it/s]"
     ]
    },
    {
     "name": "stdout",
     "output_type": "stream",
     "text": [
      "Step: 550, Loss: 0.08769167959690094\n"
     ]
    },
    {
     "name": "stderr",
     "output_type": "stream",
     "text": [
      " 60%|██████    | 564/938 [00:23<00:13, 27.61it/s]"
     ]
    },
    {
     "name": "stdout",
     "output_type": "stream",
     "text": [
      "Step: 560, Loss: 0.05304275453090668\n"
     ]
    },
    {
     "name": "stderr",
     "output_type": "stream",
     "text": [
      " 61%|██████    | 573/938 [00:23<00:13, 27.42it/s]"
     ]
    },
    {
     "name": "stdout",
     "output_type": "stream",
     "text": [
      "Step: 570, Loss: 0.15489773452281952\n"
     ]
    },
    {
     "name": "stderr",
     "output_type": "stream",
     "text": [
      " 62%|██████▏   | 583/938 [00:24<00:12, 27.68it/s]"
     ]
    },
    {
     "name": "stdout",
     "output_type": "stream",
     "text": [
      "Step: 580, Loss: 0.2613794803619385\n"
     ]
    },
    {
     "name": "stderr",
     "output_type": "stream",
     "text": [
      " 63%|██████▎   | 595/938 [00:24<00:12, 28.03it/s]"
     ]
    },
    {
     "name": "stdout",
     "output_type": "stream",
     "text": [
      "Step: 590, Loss: 0.284354567527771\n"
     ]
    },
    {
     "name": "stderr",
     "output_type": "stream",
     "text": [
      " 64%|██████▍   | 604/938 [00:24<00:11, 27.86it/s]"
     ]
    },
    {
     "name": "stdout",
     "output_type": "stream",
     "text": [
      "Step: 600, Loss: 0.19721372425556183\n"
     ]
    },
    {
     "name": "stderr",
     "output_type": "stream",
     "text": [
      " 65%|██████▌   | 613/938 [00:25<00:11, 27.12it/s]"
     ]
    },
    {
     "name": "stdout",
     "output_type": "stream",
     "text": [
      "Step: 610, Loss: 0.13961316645145416\n"
     ]
    },
    {
     "name": "stderr",
     "output_type": "stream",
     "text": [
      " 67%|██████▋   | 625/938 [00:25<00:11, 27.77it/s]"
     ]
    },
    {
     "name": "stdout",
     "output_type": "stream",
     "text": [
      "Step: 620, Loss: 0.06740856170654297\n"
     ]
    },
    {
     "name": "stderr",
     "output_type": "stream",
     "text": [
      " 68%|██████▊   | 634/938 [00:25<00:11, 27.56it/s]"
     ]
    },
    {
     "name": "stdout",
     "output_type": "stream",
     "text": [
      "Step: 630, Loss: 0.15936431288719177\n"
     ]
    },
    {
     "name": "stderr",
     "output_type": "stream",
     "text": [
      " 69%|██████▉   | 646/938 [00:26<00:10, 27.88it/s]"
     ]
    },
    {
     "name": "stdout",
     "output_type": "stream",
     "text": [
      "Step: 640, Loss: 0.09491710364818573\n"
     ]
    },
    {
     "name": "stderr",
     "output_type": "stream",
     "text": [
      " 70%|██████▉   | 656/938 [00:26<00:10, 27.46it/s]"
     ]
    },
    {
     "name": "stdout",
     "output_type": "stream",
     "text": [
      "Step: 650, Loss: 0.08580014109611511\n"
     ]
    },
    {
     "name": "stderr",
     "output_type": "stream",
     "text": [
      " 71%|███████   | 665/938 [00:27<00:09, 27.64it/s]"
     ]
    },
    {
     "name": "stdout",
     "output_type": "stream",
     "text": [
      "Step: 660, Loss: 0.15485024452209473\n"
     ]
    },
    {
     "name": "stderr",
     "output_type": "stream",
     "text": [
      " 72%|███████▏  | 674/938 [00:27<00:09, 27.16it/s]"
     ]
    },
    {
     "name": "stdout",
     "output_type": "stream",
     "text": [
      "Step: 670, Loss: 0.08207955211400986\n"
     ]
    },
    {
     "name": "stderr",
     "output_type": "stream",
     "text": [
      " 73%|███████▎  | 686/938 [00:27<00:09, 27.95it/s]"
     ]
    },
    {
     "name": "stdout",
     "output_type": "stream",
     "text": [
      "Step: 680, Loss: 0.17460229992866516\n"
     ]
    },
    {
     "name": "stderr",
     "output_type": "stream",
     "text": [
      " 74%|███████▍  | 695/938 [00:28<00:08, 27.71it/s]"
     ]
    },
    {
     "name": "stdout",
     "output_type": "stream",
     "text": [
      "Step: 690, Loss: 0.24633172154426575\n"
     ]
    },
    {
     "name": "stderr",
     "output_type": "stream",
     "text": [
      " 75%|███████▌  | 704/938 [00:28<00:08, 26.84it/s]"
     ]
    },
    {
     "name": "stdout",
     "output_type": "stream",
     "text": [
      "Step: 700, Loss: 0.043094735592603683\n"
     ]
    },
    {
     "name": "stderr",
     "output_type": "stream",
     "text": [
      " 76%|███████▌  | 713/938 [00:28<00:08, 27.08it/s]"
     ]
    },
    {
     "name": "stdout",
     "output_type": "stream",
     "text": [
      "Step: 710, Loss: 0.15781435370445251\n"
     ]
    },
    {
     "name": "stderr",
     "output_type": "stream",
     "text": [
      " 77%|███████▋  | 725/938 [00:29<00:07, 27.24it/s]"
     ]
    },
    {
     "name": "stdout",
     "output_type": "stream",
     "text": [
      "Step: 720, Loss: 0.042251765727996826\n"
     ]
    },
    {
     "name": "stderr",
     "output_type": "stream",
     "text": [
      " 78%|███████▊  | 734/938 [00:29<00:07, 27.11it/s]"
     ]
    },
    {
     "name": "stdout",
     "output_type": "stream",
     "text": [
      "Step: 730, Loss: 0.09390521049499512\n"
     ]
    },
    {
     "name": "stderr",
     "output_type": "stream",
     "text": [
      " 80%|███████▉  | 746/938 [00:30<00:07, 27.22it/s]"
     ]
    },
    {
     "name": "stdout",
     "output_type": "stream",
     "text": [
      "Step: 740, Loss: 0.06087684631347656\n"
     ]
    },
    {
     "name": "stderr",
     "output_type": "stream",
     "text": [
      " 80%|████████  | 755/938 [00:30<00:06, 26.82it/s]"
     ]
    },
    {
     "name": "stdout",
     "output_type": "stream",
     "text": [
      "Step: 750, Loss: 0.010757016018033028\n"
     ]
    },
    {
     "name": "stderr",
     "output_type": "stream",
     "text": [
      " 81%|████████▏ | 764/938 [00:30<00:06, 27.67it/s]"
     ]
    },
    {
     "name": "stdout",
     "output_type": "stream",
     "text": [
      "Step: 760, Loss: 0.041678350418806076\n"
     ]
    },
    {
     "name": "stderr",
     "output_type": "stream",
     "text": [
      " 83%|████████▎ | 777/938 [00:31<00:05, 28.22it/s]"
     ]
    },
    {
     "name": "stdout",
     "output_type": "stream",
     "text": [
      "Step: 770, Loss: 0.12521478533744812\n"
     ]
    },
    {
     "name": "stderr",
     "output_type": "stream",
     "text": [
      " 84%|████████▍ | 786/938 [00:31<00:05, 27.98it/s]"
     ]
    },
    {
     "name": "stdout",
     "output_type": "stream",
     "text": [
      "Step: 780, Loss: 0.16712269186973572\n"
     ]
    },
    {
     "name": "stderr",
     "output_type": "stream",
     "text": [
      " 85%|████████▍ | 795/938 [00:31<00:05, 26.81it/s]"
     ]
    },
    {
     "name": "stdout",
     "output_type": "stream",
     "text": [
      "Step: 790, Loss: 0.21051017940044403\n"
     ]
    },
    {
     "name": "stderr",
     "output_type": "stream",
     "text": [
      " 86%|████████▌ | 804/938 [00:32<00:04, 26.98it/s]"
     ]
    },
    {
     "name": "stdout",
     "output_type": "stream",
     "text": [
      "Step: 800, Loss: 0.09699850529432297\n"
     ]
    },
    {
     "name": "stderr",
     "output_type": "stream",
     "text": [
      " 87%|████████▋ | 813/938 [00:32<00:04, 26.99it/s]"
     ]
    },
    {
     "name": "stdout",
     "output_type": "stream",
     "text": [
      "Step: 810, Loss: 0.02750982902944088\n"
     ]
    },
    {
     "name": "stderr",
     "output_type": "stream",
     "text": [
      " 88%|████████▊ | 825/938 [00:32<00:04, 27.14it/s]"
     ]
    },
    {
     "name": "stdout",
     "output_type": "stream",
     "text": [
      "Step: 820, Loss: 0.20078490674495697\n"
     ]
    },
    {
     "name": "stderr",
     "output_type": "stream",
     "text": [
      " 89%|████████▉ | 834/938 [00:33<00:03, 27.18it/s]"
     ]
    },
    {
     "name": "stdout",
     "output_type": "stream",
     "text": [
      "Step: 830, Loss: 0.07723701745271683\n"
     ]
    },
    {
     "name": "stderr",
     "output_type": "stream",
     "text": [
      " 90%|████████▉ | 843/938 [00:33<00:03, 27.54it/s]"
     ]
    },
    {
     "name": "stdout",
     "output_type": "stream",
     "text": [
      "Step: 840, Loss: 0.1413576453924179\n"
     ]
    },
    {
     "name": "stderr",
     "output_type": "stream",
     "text": [
      " 91%|█████████ | 855/938 [00:34<00:03, 27.40it/s]"
     ]
    },
    {
     "name": "stdout",
     "output_type": "stream",
     "text": [
      "Step: 850, Loss: 0.146440327167511\n"
     ]
    },
    {
     "name": "stderr",
     "output_type": "stream",
     "text": [
      " 92%|█████████▏| 864/938 [00:34<00:02, 26.86it/s]"
     ]
    },
    {
     "name": "stdout",
     "output_type": "stream",
     "text": [
      "Step: 860, Loss: 0.09153573215007782\n"
     ]
    },
    {
     "name": "stderr",
     "output_type": "stream",
     "text": [
      " 93%|█████████▎| 873/938 [00:34<00:02, 27.38it/s]"
     ]
    },
    {
     "name": "stdout",
     "output_type": "stream",
     "text": [
      "Step: 870, Loss: 0.16315925121307373\n"
     ]
    },
    {
     "name": "stderr",
     "output_type": "stream",
     "text": [
      " 94%|█████████▍| 885/938 [00:35<00:01, 27.64it/s]"
     ]
    },
    {
     "name": "stdout",
     "output_type": "stream",
     "text": [
      "Step: 880, Loss: 0.08974064141511917\n"
     ]
    },
    {
     "name": "stderr",
     "output_type": "stream",
     "text": [
      " 95%|█████████▌| 894/938 [00:35<00:01, 27.46it/s]"
     ]
    },
    {
     "name": "stdout",
     "output_type": "stream",
     "text": [
      "Step: 890, Loss: 0.017600491642951965\n"
     ]
    },
    {
     "name": "stderr",
     "output_type": "stream",
     "text": [
      " 96%|█████████▋| 903/938 [00:35<00:01, 26.82it/s]"
     ]
    },
    {
     "name": "stdout",
     "output_type": "stream",
     "text": [
      "Step: 900, Loss: 0.11991444230079651\n"
     ]
    },
    {
     "name": "stderr",
     "output_type": "stream",
     "text": [
      " 98%|█████████▊| 915/938 [00:36<00:00, 27.87it/s]"
     ]
    },
    {
     "name": "stdout",
     "output_type": "stream",
     "text": [
      "Step: 910, Loss: 0.059584926813840866\n"
     ]
    },
    {
     "name": "stderr",
     "output_type": "stream",
     "text": [
      " 99%|█████████▊| 924/938 [00:36<00:00, 27.47it/s]"
     ]
    },
    {
     "name": "stdout",
     "output_type": "stream",
     "text": [
      "Step: 920, Loss: 0.04644796997308731\n"
     ]
    },
    {
     "name": "stderr",
     "output_type": "stream",
     "text": [
      "100%|█████████▉| 934/938 [00:36<00:00, 27.27it/s]"
     ]
    },
    {
     "name": "stdout",
     "output_type": "stream",
     "text": [
      "Step: 930, Loss: 0.11982883512973785\n"
     ]
    },
    {
     "name": "stderr",
     "output_type": "stream",
     "text": [
      "100%|██████████| 938/938 [00:37<00:00, 24.97it/s]\n"
     ]
    }
   ],
   "source": [
    "# Теперь обучите эту модель:\n",
    "torch.manual_seed(42)\n",
    "\n",
    "model.train()\n",
    "\n",
    "fc_gradients = []\n",
    "\n",
    "for step, data in tqdm(enumerate(trainloader), total=len(trainloader)):\n",
    "    inputs, labels = data\n",
    "    inputs, labels = inputs.to(device), labels.to(device)\n",
    "\n",
    "    optimizer.zero_grad()\n",
    "    outputs = model(inputs)\n",
    "    loss = criterion(outputs, labels)\n",
    "    \n",
    "    loss.backward()\n",
    "    optimizer.step()\n",
    "\n",
    "    if step % 10 == 0:\n",
    "      print(f'Step: {step}, Loss: {loss}')\n",
    "\n",
    "    fc_gradients.append(model.fc.weight.grad.mean().item())"
   ]
  },
  {
   "cell_type": "markdown",
   "metadata": {
    "id": "kqfkym2HHbZm"
   },
   "source": [
    "Как можете видеть, лосс продолжает уменьшаться. Теперь попробуйте визиулизировать градиент накопленный в переменной fc_gradients"
   ]
  },
  {
   "cell_type": "code",
   "execution_count": 137,
   "metadata": {
    "colab": {
     "base_uri": "https://localhost:8080/",
     "height": 313
    },
    "id": "8zKQtB_my8te",
    "outputId": "a72bbcaf-f2e3-40f3-b6d6-e420872edf0a"
   },
   "outputs": [
    {
     "name": "stderr",
     "output_type": "stream",
     "text": [
      "C:\\Users\\khari\\AppData\\Local\\Temp\\ipykernel_16900\\2019969697.py:3: UserWarning: No artists with labels found to put in legend.  Note that artists whose label start with an underscore are ignored when legend() is called with no argument.\n",
      "  plt.legend()\n"
     ]
    },
    {
     "data": {
      "image/png": "[encoded data removed]",
      "text/plain": [
       "<Figure size 640x480 with 1 Axes>"
      ]
     },
     "metadata": {},
     "output_type": "display_data"
    }
   ],
   "source": [
    "# Визуализируйте градиент:\n",
    "plt.plot(fc_gradients)\n",
    "plt.legend()\n",
    "plt.title(\"Gradients of Linear Layers\")\n",
    "plt.xlabel(\"Training Step\")\n",
    "plt.ylabel(\"Gradient Value\")\n",
    "plt.show()"
   ]
  },
  {
   "cell_type": "markdown",
   "metadata": {
    "id": "hfeX1uejHqU0"
   },
   "source": [
    "Теперь градиент кажется достаточно стабильным, и это позволяет ResNet модели обучаться лучше предыдущей модели, которая была подвержена проблеме затухания градента. Таким способом ResNet стала SOTA моделью в 2015 году и выиграла ImageNet competition.\n",
    "\n",
    "Наконец, давайте сохраним параметры (веса) обученной модели чтобы переиспользовать их позже:"
   ]
  },
  {
   "cell_type": "code",
   "execution_count": 138,
   "metadata": {
    "id": "RMF5j3h6b_No"
   },
   "outputs": [],
   "source": [
    "checkpoint_path = './mnist_checkpoint.pth'\n",
    "torch.save(model.state_dict(), checkpoint_path)"
   ]
  },
  {
   "cell_type": "markdown",
   "metadata": {
    "id": "pM6mnPV7bKSn"
   },
   "source": [
    "# Transfer Learning\n",
    "\n",
    "Перед тем как мы перейдем к технике обучения называемой Transfer Learning, давайте сперва протестируем нашу модель на тестовой подвыборке датасета MNIST. Чтобы сделать это, вам необходимо скачать тестовую подвыборку схожим образом, как вы уже скачали подвыборку для обучения с тем отличием, что нужно изменить параметр `train=False`:"
   ]
  },
  {
   "cell_type": "code",
   "execution_count": 139,
   "metadata": {
    "id": "KKfwHdNdngRJ"
   },
   "outputs": [],
   "source": [
    "# Загрузите тестовую подвыборку датасета MNIST:\n",
    "transform = transforms.Compose([transforms.ToTensor(), transforms.Normalize((0.5,), (0.5,))])\n",
    "testset = torchvision.datasets.MNIST(root='./data', train=False, download=True, transform=transform)\n",
    "testloader = torch.utils.data.DataLoader(testset, batch_size=64, shuffle=False, num_workers=2)"
   ]
  },
  {
   "cell_type": "markdown",
   "metadata": {
    "id": "vSndKE5vrgGa"
   },
   "source": [
    "Теперь нам нужно имплементировать функцию для тестирования модели, в которой мы будем считать точность (accuracy) нашей модели (т.е. процент правильных предсказаний):"
   ]
  },
  {
   "cell_type": "code",
   "execution_count": 140,
   "metadata": {
    "id": "A8uyTWErk_54"
   },
   "outputs": [],
   "source": [
    "def test(model, dataloader):\n",
    "  model.eval()\n",
    "\n",
    "  with torch.no_grad():\n",
    "    correct = 0\n",
    "\n",
    "    for step, data in tqdm(enumerate(dataloader), total=len(dataloader)):\n",
    "        inputs, labels = data\n",
    "        inputs, labels = inputs.to(device), labels.to(device)\n",
    "\n",
    "        outputs = model(inputs)\n",
    "        correct += (outputs.argmax(1) == labels).type(torch.float).sum().item()\n",
    "        \n",
    "    accuracy = correct/len(dataloader.dataset)\n",
    "\n",
    "    return accuracy"
   ]
  },
  {
   "cell_type": "markdown",
   "metadata": {
    "id": "JpDdQabCrva1"
   },
   "source": [
    "Теперь загрузите ранее сохраненные параметры (веса) обученной ResNet модели:"
   ]
  },
  {
   "cell_type": "markdown",
   "metadata": {
    "id": "COdCH1EgPQPJ"
   },
   "source": [
    "**Задача 9:** Посчитайте точность модели на тесте."
   ]
  },
  {
   "cell_type": "code",
   "execution_count": 141,
   "metadata": {
    "id": "Pvkd9XBBqsoT"
   },
   "outputs": [],
   "source": [
    "model = ResNet()\n",
    "model.load_state_dict(torch.load(checkpoint_path))\n",
    "model = model.to(device)"
   ]
  },
  {
   "cell_type": "markdown",
   "metadata": {
    "id": "CoRnP6zMqmb-"
   },
   "source": [
    "**Вопрос:** Посчитайте и выведите точность модели на тестовой выборке MNIST.\n",
    "\n",
    "**Пример ответа:** `22.45`"
   ]
  },
  {
   "cell_type": "code",
   "execution_count": 142,
   "metadata": {
    "id": "rpSnjXDDq__p"
   },
   "outputs": [
    {
     "name": "stderr",
     "output_type": "stream",
     "text": [
      "100%|██████████| 157/157 [00:05<00:00, 31.36it/s]"
     ]
    },
    {
     "name": "stdout",
     "output_type": "stream",
     "text": [
      "\n",
      "MNIST test accuracy: 97.50999999999999%\n"
     ]
    },
    {
     "name": "stderr",
     "output_type": "stream",
     "text": [
      "\n"
     ]
    }
   ],
   "source": [
    "accuracy = test(model, testloader)\n",
    "print(f\"\\nMNIST test accuracy: {100*accuracy}%\")  "
   ]
  },
  {
   "cell_type": "markdown",
   "metadata": {
    "id": "uUgp16ay2T8A"
   },
   "source": [
    "Вы должны получить точность примерно 96% или выше.\n",
    "\n",
    "Теперь давайте попробуем загрузить другой датасет - CIFAR10, который состоит из 10 классов, но содержит изображения не рукописаных цифр, а объектов (horses, dogs, cars, и др.). Изображения имеют размер 32x32 и три цветовых канала (RGB). Поэтому нам также нужно изменить трансформации (transforms), чтобы изображения CIFAR10 соответствовали  изображениям MNIST (т.е. 28x28 в формате grayscale):"
   ]
  },
  {
   "cell_type": "code",
   "execution_count": 143,
   "metadata": {
    "colab": {
     "base_uri": "https://localhost:8080/"
    },
    "id": "RbYfaUw6HoAX",
    "outputId": "f0a39533-c1ca-4396-90dc-0935574e6084"
   },
   "outputs": [],
   "source": [
    "# Трансформации для датасета CIFAR10:\n",
    "transform_cifar10 = transforms.Compose([\n",
    "    transforms.Grayscale(num_output_channels=1),\n",
    "    transforms.Resize((28,28)), \n",
    "    transforms.ToTensor(),\n",
    "    transforms.Normalize((0.5,), (0.5,))])\n",
    "\n",
    "# Выборка для обучения:\n",
    "trainset_cifar10 = torchvision.datasets.CIFAR10(root='./data_cifar10', train=True, download=True, transform=transform_cifar10)\n",
    "trainloader_cifar10 = torch.utils.data.DataLoader(trainset_cifar10, batch_size=64, shuffle=True, num_workers=2)\n",
    "\n",
    "# Выборка для тестирования:\n",
    "testset_cifar10 = torchvision.datasets.CIFAR10(root='./data_cifar10', train=False, download=True, transform=transform_cifar10)\n",
    "testloader_cifar10 = torch.utils.data.DataLoader(testset_cifar10, batch_size=64, shuffle=False, num_workers=2)"
   ]
  },
  {
   "cell_type": "markdown",
   "metadata": {
    "id": "4-3JPLH63_TX"
   },
   "source": [
    "Теперь протестируйте ранее обученную ResNet модель на тестовой выборке датасета CIFAR10 (пока переобучать модель не нужно!):"
   ]
  },
  {
   "cell_type": "markdown",
   "metadata": {
    "id": "JJriMfvxP6IF"
   },
   "source": [
    "**Задача 10:** Протестируйте модель на тестовой выборке CIFAR10"
   ]
  },
  {
   "cell_type": "markdown",
   "metadata": {
    "id": "4lSUdrRMr0b7"
   },
   "source": [
    "**Вопрос:** Посчитайте и выведите точность модели на тесте\n",
    "\n",
    "**Пример ответа:** `22.45`"
   ]
  },
  {
   "cell_type": "code",
   "execution_count": 144,
   "metadata": {
    "id": "BvreSSyxrNXJ"
   },
   "outputs": [
    {
     "name": "stderr",
     "output_type": "stream",
     "text": [
      "100%|██████████| 157/157 [00:02<00:00, 64.27it/s]"
     ]
    },
    {
     "name": "stdout",
     "output_type": "stream",
     "text": [
      "\n",
      "Test accuracy: 10.03%\n"
     ]
    },
    {
     "name": "stderr",
     "output_type": "stream",
     "text": [
      "\n"
     ]
    }
   ],
   "source": [
    "accuracy = test(model, testloader_cifar10)\n",
    "print(f\"\\nTest accuracy: {100*accuracy}%\")  "
   ]
  },
  {
   "cell_type": "markdown",
   "metadata": {
    "id": "g15wnspD4qmN"
   },
   "source": [
    "Как видите, точность на CIFAR10 не очень большая (около 10%). И это не удивительно, ведь мы обучали нашу ResNet модель на другом датасете (MNIST).\n",
    "\n",
    "Теперь давайте заморозим все слои за исключением последнего (т.е. слоя классификации):"
   ]
  },
  {
   "cell_type": "markdown",
   "metadata": {
    "id": "G5PVNgLRP9R6"
   },
   "source": [
    "**Задача 11:** Заморозьте слои модели кроме последнего"
   ]
  },
  {
   "cell_type": "code",
   "execution_count": 145,
   "metadata": {
    "id": "ytg1POiId9eM"
   },
   "outputs": [],
   "source": [
    "for param in model.parameters():\n",
    "    param.requires_grad = False              # отключаем градиент (т.е. \"замораживаем\" слои)\n",
    "    \n",
    "mnist_fc = model.fc                          # Сохраняем в переменную слой классификации MNIST\n",
    "in_features = model.fc.in_features         \n",
    "model.fc = torch.nn.Linear(in_features, 10)  # Создаем новый слой классификации для CIFAR10\n",
    "model.fc = model.fc.cuda()"
   ]
  },
  {
   "cell_type": "markdown",
   "metadata": {
    "id": "LVT85FTjr3Sy"
   },
   "source": [
    "**Вопрос:** Посчитайте и выведите количество параметров (весов) в замороженных слоях\n",
    "\n",
    "**Пример ответа:** `224513`"
   ]
  },
  {
   "cell_type": "code",
   "execution_count": 146,
   "metadata": {
    "id": "zpHiYFjprrK_"
   },
   "outputs": [
    {
     "data": {
      "text/plain": [
       "2776064"
      ]
     },
     "execution_count": 146,
     "metadata": {},
     "output_type": "execute_result"
    }
   ],
   "source": [
    "frozen_params = sum(p.numel() for p in model.parameters() if not p.requires_grad)\n",
    "frozen_params   # 2776064"
   ]
  },
  {
   "cell_type": "markdown",
   "metadata": {
    "id": "sIDIlXfiQKO2"
   },
   "source": [
    "**Задача 12:** Обучите только последний слой модели на датасете CIFAR10 (все остальные слои должны быть заморожены)"
   ]
  },
  {
   "cell_type": "code",
   "execution_count": 147,
   "metadata": {
    "colab": {
     "base_uri": "https://localhost:8080/"
    },
    "id": "7I1lXkxGeRfg",
    "outputId": "7cbedff7-636f-45d9-87eb-efff9b91cfd5"
   },
   "outputs": [
    {
     "name": "stderr",
     "output_type": "stream",
     "text": [
      "  2%|▏         | 15/782 [00:00<00:10, 74.40it/s]"
     ]
    },
    {
     "name": "stdout",
     "output_type": "stream",
     "text": [
      "Step: 0, Loss: 2.3097453117370605\n",
      "Step: 10, Loss: 2.8638358116149902\n"
     ]
    },
    {
     "name": "stderr",
     "output_type": "stream",
     "text": [
      "  4%|▍         | 33/782 [00:00<00:09, 79.56it/s]"
     ]
    },
    {
     "name": "stdout",
     "output_type": "stream",
     "text": [
      "Step: 20, Loss: 2.222452402114868\n",
      "Step: 30, Loss: 2.3062803745269775\n"
     ]
    },
    {
     "name": "stderr",
     "output_type": "stream",
     "text": [
      "  7%|▋         | 51/782 [00:00<00:08, 82.57it/s]"
     ]
    },
    {
     "name": "stdout",
     "output_type": "stream",
     "text": [
      "Step: 40, Loss: 2.1798365116119385\n",
      "Step: 50, Loss: 2.064896821975708\n"
     ]
    },
    {
     "name": "stderr",
     "output_type": "stream",
     "text": [
      " 10%|▉         | 78/782 [00:00<00:08, 83.19it/s]"
     ]
    },
    {
     "name": "stdout",
     "output_type": "stream",
     "text": [
      "Step: 60, Loss: 2.198005199432373\n",
      "Step: 70, Loss: 1.6822034120559692\n"
     ]
    },
    {
     "name": "stderr",
     "output_type": "stream",
     "text": [
      " 12%|█▏        | 96/782 [00:01<00:08, 82.98it/s]"
     ]
    },
    {
     "name": "stdout",
     "output_type": "stream",
     "text": [
      "Step: 80, Loss: 2.2860848903656006\n",
      "Step: 90, Loss: 2.4544875621795654\n"
     ]
    },
    {
     "name": "stderr",
     "output_type": "stream",
     "text": [
      " 15%|█▍        | 114/782 [00:01<00:08, 82.80it/s]"
     ]
    },
    {
     "name": "stdout",
     "output_type": "stream",
     "text": [
      "Step: 100, Loss: 2.0239248275756836\n",
      "Step: 110, Loss: 2.14754319190979\n"
     ]
    },
    {
     "name": "stderr",
     "output_type": "stream",
     "text": [
      " 17%|█▋        | 132/782 [00:01<00:07, 85.22it/s]"
     ]
    },
    {
     "name": "stdout",
     "output_type": "stream",
     "text": [
      "Step: 120, Loss: 1.9227399826049805\n",
      "Step: 130, Loss: 2.4311699867248535\n"
     ]
    },
    {
     "name": "stderr",
     "output_type": "stream",
     "text": [
      " 19%|█▉        | 150/782 [00:01<00:07, 82.95it/s]"
     ]
    },
    {
     "name": "stdout",
     "output_type": "stream",
     "text": [
      "Step: 140, Loss: 2.352541923522949\n",
      "Step: 150, Loss: 1.898016333580017\n"
     ]
    },
    {
     "name": "stderr",
     "output_type": "stream",
     "text": [
      " 23%|██▎       | 177/782 [00:02<00:07, 85.20it/s]"
     ]
    },
    {
     "name": "stdout",
     "output_type": "stream",
     "text": [
      "Step: 160, Loss: 2.5645298957824707\n",
      "Step: 170, Loss: 2.018249034881592\n"
     ]
    },
    {
     "name": "stderr",
     "output_type": "stream",
     "text": [
      " 25%|██▍       | 195/782 [00:02<00:06, 84.05it/s]"
     ]
    },
    {
     "name": "stdout",
     "output_type": "stream",
     "text": [
      "Step: 180, Loss: 2.2287814617156982\n",
      "Step: 190, Loss: 2.35846209526062\n"
     ]
    },
    {
     "name": "stderr",
     "output_type": "stream",
     "text": [
      " 27%|██▋       | 213/782 [00:02<00:06, 85.68it/s]"
     ]
    },
    {
     "name": "stdout",
     "output_type": "stream",
     "text": [
      "Step: 200, Loss: 2.17071533203125\n",
      "Step: 210, Loss: 2.03664231300354\n"
     ]
    },
    {
     "name": "stderr",
     "output_type": "stream",
     "text": [
      " 30%|██▉       | 231/782 [00:02<00:06, 83.20it/s]"
     ]
    },
    {
     "name": "stdout",
     "output_type": "stream",
     "text": [
      "Step: 220, Loss: 1.963163137435913\n",
      "Step: 230, Loss: 1.9238333702087402\n"
     ]
    },
    {
     "name": "stderr",
     "output_type": "stream",
     "text": [
      " 33%|███▎      | 258/782 [00:03<00:06, 86.60it/s]"
     ]
    },
    {
     "name": "stdout",
     "output_type": "stream",
     "text": [
      "Step: 240, Loss: 1.9738577604293823\n",
      "Step: 250, Loss: 1.987750768661499\n"
     ]
    },
    {
     "name": "stderr",
     "output_type": "stream",
     "text": [
      " 35%|███▌      | 276/782 [00:03<00:05, 85.36it/s]"
     ]
    },
    {
     "name": "stdout",
     "output_type": "stream",
     "text": [
      "Step: 260, Loss: 2.1648662090301514\n",
      "Step: 270, Loss: 2.398730993270874\n"
     ]
    },
    {
     "name": "stderr",
     "output_type": "stream",
     "text": [
      " 38%|███▊      | 294/782 [00:03<00:05, 84.67it/s]"
     ]
    },
    {
     "name": "stdout",
     "output_type": "stream",
     "text": [
      "Step: 280, Loss: 2.3091177940368652\n",
      "Step: 290, Loss: 1.989311695098877\n"
     ]
    },
    {
     "name": "stderr",
     "output_type": "stream",
     "text": [
      " 40%|███▉      | 312/782 [00:03<00:05, 84.20it/s]"
     ]
    },
    {
     "name": "stdout",
     "output_type": "stream",
     "text": [
      "Step: 300, Loss: 1.9529881477355957\n",
      "Step: 310, Loss: 2.0085086822509766\n"
     ]
    },
    {
     "name": "stderr",
     "output_type": "stream",
     "text": [
      " 42%|████▏     | 330/782 [00:03<00:05, 85.35it/s]"
     ]
    },
    {
     "name": "stdout",
     "output_type": "stream",
     "text": [
      "Step: 320, Loss: 2.4554555416107178\n",
      "Step: 330, Loss: 2.208711862564087\n"
     ]
    },
    {
     "name": "stderr",
     "output_type": "stream",
     "text": [
      " 46%|████▌     | 357/782 [00:04<00:04, 85.98it/s]"
     ]
    },
    {
     "name": "stdout",
     "output_type": "stream",
     "text": [
      "Step: 340, Loss: 1.8699324131011963\n",
      "Step: 350, Loss: 1.9425673484802246\n"
     ]
    },
    {
     "name": "stderr",
     "output_type": "stream",
     "text": [
      " 48%|████▊     | 375/782 [00:04<00:04, 85.21it/s]"
     ]
    },
    {
     "name": "stdout",
     "output_type": "stream",
     "text": [
      "Step: 360, Loss: 1.8762149810791016\n",
      "Step: 370, Loss: 1.801551103591919\n"
     ]
    },
    {
     "name": "stderr",
     "output_type": "stream",
     "text": [
      " 50%|█████     | 393/782 [00:04<00:04, 86.03it/s]"
     ]
    },
    {
     "name": "stdout",
     "output_type": "stream",
     "text": [
      "Step: 380, Loss: 1.6467335224151611\n",
      "Step: 390, Loss: 2.1146810054779053\n"
     ]
    },
    {
     "name": "stderr",
     "output_type": "stream",
     "text": [
      " 53%|█████▎    | 411/782 [00:04<00:04, 86.03it/s]"
     ]
    },
    {
     "name": "stdout",
     "output_type": "stream",
     "text": [
      "Step: 400, Loss: 2.0365355014801025\n",
      "Step: 410, Loss: 2.280163526535034\n"
     ]
    },
    {
     "name": "stderr",
     "output_type": "stream",
     "text": [
      " 55%|█████▍    | 429/782 [00:05<00:04, 86.92it/s]"
     ]
    },
    {
     "name": "stdout",
     "output_type": "stream",
     "text": [
      "Step: 420, Loss: 2.3956754207611084\n",
      "Step: 430, Loss: 2.3004753589630127\n"
     ]
    },
    {
     "name": "stderr",
     "output_type": "stream",
     "text": [
      " 58%|█████▊    | 457/782 [00:05<00:03, 89.26it/s]"
     ]
    },
    {
     "name": "stdout",
     "output_type": "stream",
     "text": [
      "Step: 440, Loss: 2.1930742263793945\n",
      "Step: 450, Loss: 2.0699400901794434\n"
     ]
    },
    {
     "name": "stderr",
     "output_type": "stream",
     "text": [
      " 61%|██████    | 475/782 [00:05<00:03, 86.66it/s]"
     ]
    },
    {
     "name": "stdout",
     "output_type": "stream",
     "text": [
      "Step: 460, Loss: 2.1654062271118164\n",
      "Step: 470, Loss: 2.2862794399261475\n"
     ]
    },
    {
     "name": "stderr",
     "output_type": "stream",
     "text": [
      " 63%|██████▎   | 493/782 [00:05<00:03, 85.13it/s]"
     ]
    },
    {
     "name": "stdout",
     "output_type": "stream",
     "text": [
      "Step: 480, Loss: 2.416487216949463\n",
      "Step: 490, Loss: 2.0052008628845215\n"
     ]
    },
    {
     "name": "stderr",
     "output_type": "stream",
     "text": [
      " 65%|██████▌   | 511/782 [00:06<00:03, 83.28it/s]"
     ]
    },
    {
     "name": "stdout",
     "output_type": "stream",
     "text": [
      "Step: 500, Loss: 2.2113637924194336\n",
      "Step: 510, Loss: 2.343412160873413\n"
     ]
    },
    {
     "name": "stderr",
     "output_type": "stream",
     "text": [
      " 68%|██████▊   | 530/782 [00:06<00:02, 86.01it/s]"
     ]
    },
    {
     "name": "stdout",
     "output_type": "stream",
     "text": [
      "Step: 520, Loss: 2.2687721252441406\n",
      "Step: 530, Loss: 2.4878458976745605\n"
     ]
    },
    {
     "name": "stderr",
     "output_type": "stream",
     "text": [
      " 71%|███████   | 557/782 [00:06<00:02, 85.88it/s]"
     ]
    },
    {
     "name": "stdout",
     "output_type": "stream",
     "text": [
      "Step: 540, Loss: 2.5113396644592285\n",
      "Step: 550, Loss: 2.542372703552246\n"
     ]
    },
    {
     "name": "stderr",
     "output_type": "stream",
     "text": [
      " 74%|███████▎  | 575/782 [00:06<00:02, 86.75it/s]"
     ]
    },
    {
     "name": "stdout",
     "output_type": "stream",
     "text": [
      "Step: 560, Loss: 2.38966965675354\n",
      "Step: 570, Loss: 2.1444475650787354\n"
     ]
    },
    {
     "name": "stderr",
     "output_type": "stream",
     "text": [
      " 76%|███████▌  | 593/782 [00:06<00:02, 86.83it/s]"
     ]
    },
    {
     "name": "stdout",
     "output_type": "stream",
     "text": [
      "Step: 580, Loss: 1.9879223108291626\n",
      "Step: 590, Loss: 2.2555088996887207\n"
     ]
    },
    {
     "name": "stderr",
     "output_type": "stream",
     "text": [
      " 78%|███████▊  | 611/782 [00:07<00:02, 83.94it/s]"
     ]
    },
    {
     "name": "stdout",
     "output_type": "stream",
     "text": [
      "Step: 600, Loss: 1.9826633930206299\n",
      "Step: 610, Loss: 2.007871150970459\n"
     ]
    },
    {
     "name": "stderr",
     "output_type": "stream",
     "text": [
      " 82%|████████▏ | 638/782 [00:07<00:01, 86.11it/s]"
     ]
    },
    {
     "name": "stdout",
     "output_type": "stream",
     "text": [
      "Step: 620, Loss: 2.1724939346313477\n",
      "Step: 630, Loss: 2.2694005966186523\n"
     ]
    },
    {
     "name": "stderr",
     "output_type": "stream",
     "text": [
      " 84%|████████▍ | 656/782 [00:07<00:01, 84.95it/s]"
     ]
    },
    {
     "name": "stdout",
     "output_type": "stream",
     "text": [
      "Step: 640, Loss: 2.0983619689941406\n",
      "Step: 650, Loss: 2.0837390422821045\n"
     ]
    },
    {
     "name": "stderr",
     "output_type": "stream",
     "text": [
      " 86%|████████▌ | 674/782 [00:07<00:01, 84.58it/s]"
     ]
    },
    {
     "name": "stdout",
     "output_type": "stream",
     "text": [
      "Step: 660, Loss: 1.9763212203979492\n",
      "Step: 670, Loss: 2.4311671257019043\n"
     ]
    },
    {
     "name": "stderr",
     "output_type": "stream",
     "text": [
      " 88%|████████▊ | 692/782 [00:08<00:01, 84.33it/s]"
     ]
    },
    {
     "name": "stdout",
     "output_type": "stream",
     "text": [
      "Step: 680, Loss: 2.100964307785034\n",
      "Step: 690, Loss: 2.1852431297302246\n"
     ]
    },
    {
     "name": "stderr",
     "output_type": "stream",
     "text": [
      " 91%|█████████ | 711/782 [00:08<00:00, 83.74it/s]"
     ]
    },
    {
     "name": "stdout",
     "output_type": "stream",
     "text": [
      "Step: 700, Loss: 2.2367055416107178\n",
      "Step: 710, Loss: 2.192018508911133\n"
     ]
    },
    {
     "name": "stderr",
     "output_type": "stream",
     "text": [
      " 93%|█████████▎| 729/782 [00:08<00:00, 85.72it/s]"
     ]
    },
    {
     "name": "stdout",
     "output_type": "stream",
     "text": [
      "Step: 720, Loss: 2.1743006706237793\n",
      "Step: 730, Loss: 2.0632824897766113\n"
     ]
    },
    {
     "name": "stderr",
     "output_type": "stream",
     "text": [
      " 97%|█████████▋| 756/782 [00:08<00:00, 86.47it/s]"
     ]
    },
    {
     "name": "stdout",
     "output_type": "stream",
     "text": [
      "Step: 740, Loss: 1.7804895639419556\n",
      "Step: 750, Loss: 1.9529845714569092\n"
     ]
    },
    {
     "name": "stderr",
     "output_type": "stream",
     "text": [
      " 99%|█████████▉| 774/782 [00:09<00:00, 86.60it/s]"
     ]
    },
    {
     "name": "stdout",
     "output_type": "stream",
     "text": [
      "Step: 760, Loss: 2.0219810009002686\n",
      "Step: 770, Loss: 1.8933175802230835\n",
      "Step: 780, Loss: 1.942776083946228\n"
     ]
    },
    {
     "name": "stderr",
     "output_type": "stream",
     "text": [
      "100%|██████████| 782/782 [00:09<00:00, 79.71it/s]\n"
     ]
    }
   ],
   "source": [
    "torch.manual_seed(42)\n",
    "\n",
    "criterion = torch.nn.CrossEntropyLoss()\n",
    "optimizer = torch.optim.Adam(model.parameters(), lr=0.01)\n",
    "\n",
    "model.train()\n",
    "\n",
    "for step, data in tqdm(enumerate(trainloader_cifar10), total=len(trainloader_cifar10)):\n",
    "    inputs, labels = data\n",
    "    inputs, labels = inputs.to(device), labels.to(device)\n",
    "\n",
    "    optimizer.zero_grad()\n",
    "    outputs = model(inputs)\n",
    "    loss = criterion(outputs, labels)\n",
    "\n",
    "    loss.backward()\n",
    "    optimizer.step()\n",
    "\n",
    "    if step % 10 == 0:\n",
    "      print(f'Step: {step}, Loss: {loss}')"
   ]
  },
  {
   "cell_type": "markdown",
   "metadata": {
    "id": "FR-yDDnXs_HJ"
   },
   "source": [
    "**Вопрос:** Посчитайте точность на тестовой выборке CIFAR10\n",
    "\n",
    "**Пример ответа:** `32.45`"
   ]
  },
  {
   "cell_type": "code",
   "execution_count": 148,
   "metadata": {
    "id": "14Qt9zqfs-Kd"
   },
   "outputs": [
    {
     "name": "stderr",
     "output_type": "stream",
     "text": [
      "100%|██████████| 157/157 [00:02<00:00, 64.02it/s]"
     ]
    },
    {
     "name": "stdout",
     "output_type": "stream",
     "text": [
      "\n",
      "Test accuracy: 32.629999999999995%\n"
     ]
    },
    {
     "name": "stderr",
     "output_type": "stream",
     "text": [
      "\n"
     ]
    }
   ],
   "source": [
    "accuracy = test(model, testloader_cifar10)\n",
    "print(f\"\\nTest accuracy: {100*accuracy}%\")   "
   ]
  },
  {
   "cell_type": "markdown",
   "metadata": {
    "id": "ZeA7f0zi5o8w"
   },
   "source": [
    "Как можете видеть, точность модели выросла до примерно 35%. Мы обучили только последний слой (классификации), а остальная часть сети осталось нетронутой (т.е. остальные слои обучены на датасете MNIST). Эта техника обучения и называется Transfer Learning.\n",
    "\n",
    "Теперь протестируйте эту модель еще раз на тестовой выборке MNIST:"
   ]
  },
  {
   "cell_type": "code",
   "execution_count": 149,
   "metadata": {
    "colab": {
     "base_uri": "https://localhost:8080/"
    },
    "id": "JxYHD3IFod1p",
    "outputId": "cc873951-9e16-41ee-fe98-d7fb2a303bc6"
   },
   "outputs": [
    {
     "name": "stderr",
     "output_type": "stream",
     "text": [
      "100%|██████████| 157/157 [00:05<00:00, 29.51it/s]"
     ]
    },
    {
     "name": "stdout",
     "output_type": "stream",
     "text": [
      "\n",
      "MNIST test accuracy: 5.489999999999999%\n"
     ]
    },
    {
     "name": "stderr",
     "output_type": "stream",
     "text": [
      "\n"
     ]
    }
   ],
   "source": [
    "accuracy = test(model, testloader)\n",
    "print(f\"\\nMNIST test accuracy: {100*accuracy}%\")  "
   ]
  },
  {
   "cell_type": "markdown",
   "metadata": {
    "id": "X1r6N7cW6rch"
   },
   "source": [
    "Как вы можете видеть, точность упала ниже 10%, поскольку последний слой классификации теперь обучен на CIFAR10 датасете. Это называется \"катастрофическим забыванием\" (catastrophic forgetting). Катастрофическое забывание это тенденация нейронной сети забывать предыдущие обученные знания когда она обучается новой информации.\n",
    "\n",
    "Наконец, давайте вернем назад ранее сохраненный слой классификации обученный на MNIST и протестируем еще раз:"
   ]
  },
  {
   "cell_type": "markdown",
   "metadata": {
    "id": "IseXvSdRQcX-"
   },
   "source": [
    "**Задача 13:** Верните последний слой mnist_fc и проведите финальный тест на тестовых выборках MNIST и CIFAR10"
   ]
  },
  {
   "cell_type": "markdown",
   "metadata": {
    "id": "3Xr67kgiu73F"
   },
   "source": [
    "**Вопрос:** Посчитайте и выведите точность на тестовых выборках MNIST и CIFAR10\n",
    "\n",
    "**Пример ответа:** \n",
    "`CIFAR test accuracy: 9.45`\n",
    "`MNIST test accuracy: 51.68`"
   ]
  },
  {
   "cell_type": "code",
   "execution_count": null,
   "metadata": {
    "colab": {
     "base_uri": "https://localhost:8080/"
    },
    "id": "75NDth_Dol4c",
    "outputId": "8436bb86-1de9-4e76-e5a7-2a908e3bf55c"
   },
   "outputs": [],
   "source": [
    "cifar_fc = model.fc"
   ]
  },
  {
   "cell_type": "code",
   "execution_count": 151,
   "metadata": {},
   "outputs": [
    {
     "name": "stderr",
     "output_type": "stream",
     "text": [
      "100%|██████████| 157/157 [00:02<00:00, 63.44it/s]\n"
     ]
    },
    {
     "name": "stdout",
     "output_type": "stream",
     "text": [
      "\n",
      "CIFAR test accuracy: 8.5%\n"
     ]
    },
    {
     "name": "stderr",
     "output_type": "stream",
     "text": [
      "100%|██████████| 157/157 [00:05<00:00, 30.85it/s]"
     ]
    },
    {
     "name": "stdout",
     "output_type": "stream",
     "text": [
      "\n",
      "MNIST test accuracy: 73.42%\n"
     ]
    },
    {
     "name": "stderr",
     "output_type": "stream",
     "text": [
      "\n"
     ]
    }
   ],
   "source": [
    "\n",
    "model.fc = mnist_fc # верните в модель слой классификации обученный на MNIST\n",
    "model.fc = model.fc.cuda()                # Перенесем на cuda\n",
    "\n",
    "accuracy = test(model, testloader_cifar10)\n",
    "print(f\"\\nCIFAR test accuracy: {100*accuracy}%\")\n",
    "\n",
    "accuracy = test(model, testloader)\n",
    "print(f\"\\nMNIST test accuracy: {100*accuracy}%\")  "
   ]
  }
 ],
 "metadata": {
  "accelerator": "GPU",
  "colab": {
   "provenance": []
  },
  "gpuClass": "standard",
  "kernelspec": {
   "display_name": ".venv",
   "language": "python",
   "name": "python3"
  },
  "language_info": {
   "codemirror_mode": {
    "name": "ipython",
    "version": 3
   },
   "file_extension": ".py",
   "mimetype": "text/x-python",
   "name": "python",
   "nbconvert_exporter": "python",
   "pygments_lexer": "ipython3",
   "version": "3.11.9"
  },
  "widgets": {
   "application/vnd.jupyter.widget-state+json": {
    "0ab9317bc3654c06b938ae2cd29035d7": {
     "model_module": "@jupyter-widgets/controls",
     "model_module_version": "1.5.0",
     "model_name": "HTMLModel",
     "state": {
      "_dom_classes": [],
      "_model_module": "@jupyter-widgets/controls",
      "_model_module_version": "1.5.0",
      "_model_name": "HTMLModel",
      "_view_count": null,
      "_view_module": "@jupyter-widgets/controls",
      "_view_module_version": "1.5.0",
      "_view_name": "HTMLView",
      "description": "",
      "description_tooltip": null,
      "layout": "IPY_MODEL_19bb4c0ea8cc46b1a7d4ead2ab7a76c6",
      "placeholder": "​",
      "style": "IPY_MODEL_d1be317d23574ba9955f7b78200c8c10",
      "value": "100%"
     }
    },
    "0d22f9c1fa3e46b29ea5421aaad84738": {
     "model_module": "@jupyter-widgets/base",
     "model_module_version": "1.2.0",
     "model_name": "LayoutModel",
     "state": {
      "_model_module": "@jupyter-widgets/base",
      "_model_module_version": "1.2.0",
      "_model_name": "LayoutModel",
      "_view_count": null,
      "_view_module": "@jupyter-widgets/base",
      "_view_module_version": "1.2.0",
      "_view_name": "LayoutView",
      "align_content": null,
      "align_items": null,
      "align_self": null,
      "border": null,
      "bottom": null,
      "display": null,
      "flex": null,
      "flex_flow": null,
      "grid_area": null,
      "grid_auto_columns": null,
      "grid_auto_flow": null,
      "grid_auto_rows": null,
      "grid_column": null,
      "grid_gap": null,
      "grid_row": null,
      "grid_template_areas": null,
      "grid_template_columns": null,
      "grid_template_rows": null,
      "height": null,
      "justify_content": null,
      "justify_items": null,
      "left": null,
      "margin": null,
      "max_height": null,
      "max_width": null,
      "min_height": null,
      "min_width": null,
      "object_fit": null,
      "object_position": null,
      "order": null,
      "overflow": null,
      "overflow_x": null,
      "overflow_y": null,
      "padding": null,
      "right": null,
      "top": null,
      "visibility": null,
      "width": null
     }
    },
    "0d2f43eb91b943f78a17bae9c6bbb182": {
     "model_module": "@jupyter-widgets/base",
     "model_module_version": "1.2.0",
     "model_name": "LayoutModel",
     "state": {
      "_model_module": "@jupyter-widgets/base",
      "_model_module_version": "1.2.0",
      "_model_name": "LayoutModel",
      "_view_count": null,
      "_view_module": "@jupyter-widgets/base",
      "_view_module_version": "1.2.0",
      "_view_name": "LayoutView",
      "align_content": null,
      "align_items": null,
      "align_self": null,
      "border": null,
      "bottom": null,
      "display": null,
      "flex": null,
      "flex_flow": null,
      "grid_area": null,
      "grid_auto_columns": null,
      "grid_auto_flow": null,
      "grid_auto_rows": null,
      "grid_column": null,
      "grid_gap": null,
      "grid_row": null,
      "grid_template_areas": null,
      "grid_template_columns": null,
      "grid_template_rows": null,
      "height": null,
      "justify_content": null,
      "justify_items": null,
      "left": null,
      "margin": null,
      "max_height": null,
      "max_width": null,
      "min_height": null,
      "min_width": null,
      "object_fit": null,
      "object_position": null,
      "order": null,
      "overflow": null,
      "overflow_x": null,
      "overflow_y": null,
      "padding": null,
      "right": null,
      "top": null,
      "visibility": null,
      "width": null
     }
    },
    "0ffcc374bbfe4d5a89d883d65336e919": {
     "model_module": "@jupyter-widgets/controls",
     "model_module_version": "1.5.0",
     "model_name": "HTMLModel",
     "state": {
      "_dom_classes": [],
      "_model_module": "@jupyter-widgets/controls",
      "_model_module_version": "1.5.0",
      "_model_name": "HTMLModel",
      "_view_count": null,
      "_view_module": "@jupyter-widgets/controls",
      "_view_module_version": "1.5.0",
      "_view_name": "HTMLView",
      "description": "",
      "description_tooltip": null,
      "layout": "IPY_MODEL_f63029edca9f4fc88f7bb98827916759",
      "placeholder": "​",
      "style": "IPY_MODEL_aaa8d79a5b424609a06a8d0afcb8b48f",
      "value": "100%"
     }
    },
    "1314e991cc824859baabcff65fce46ce": {
     "model_module": "@jupyter-widgets/controls",
     "model_module_version": "1.5.0",
     "model_name": "DescriptionStyleModel",
     "state": {
      "_model_module": "@jupyter-widgets/controls",
      "_model_module_version": "1.5.0",
      "_model_name": "DescriptionStyleModel",
      "_view_count": null,
      "_view_module": "@jupyter-widgets/base",
      "_view_module_version": "1.2.0",
      "_view_name": "StyleView",
      "description_width": ""
     }
    },
    "158a2671a1f846e3808fdebfbc85a0a8": {
     "model_module": "@jupyter-widgets/controls",
     "model_module_version": "1.5.0",
     "model_name": "HTMLModel",
     "state": {
      "_dom_classes": [],
      "_model_module": "@jupyter-widgets/controls",
      "_model_module_version": "1.5.0",
      "_model_name": "HTMLModel",
      "_view_count": null,
      "_view_module": "@jupyter-widgets/controls",
      "_view_module_version": "1.5.0",
      "_view_name": "HTMLView",
      "description": "",
      "description_tooltip": null,
      "layout": "IPY_MODEL_b2dce7051bfe48a49e2007c480fd803f",
      "placeholder": "​",
      "style": "IPY_MODEL_6bdff8a3a3434736bef90c73cf64be19",
      "value": " 9912422/9912422 [00:00&lt;00:00, 119461166.07it/s]"
     }
    },
    "19bb4c0ea8cc46b1a7d4ead2ab7a76c6": {
     "model_module": "@jupyter-widgets/base",
     "model_module_version": "1.2.0",
     "model_name": "LayoutModel",
     "state": {
      "_model_module": "@jupyter-widgets/base",
      "_model_module_version": "1.2.0",
      "_model_name": "LayoutModel",
      "_view_count": null,
      "_view_module": "@jupyter-widgets/base",
      "_view_module_version": "1.2.0",
      "_view_name": "LayoutView",
      "align_content": null,
      "align_items": null,
      "align_self": null,
      "border": null,
      "bottom": null,
      "display": null,
      "flex": null,
      "flex_flow": null,
      "grid_area": null,
      "grid_auto_columns": null,
      "grid_auto_flow": null,
      "grid_auto_rows": null,
      "grid_column": null,
      "grid_gap": null,
      "grid_row": null,
      "grid_template_areas": null,
      "grid_template_columns": null,
      "grid_template_rows": null,
      "height": null,
      "justify_content": null,
      "justify_items": null,
      "left": null,
      "margin": null,
      "max_height": null,
      "max_width": null,
      "min_height": null,
      "min_width": null,
      "object_fit": null,
      "object_position": null,
      "order": null,
      "overflow": null,
      "overflow_x": null,
      "overflow_y": null,
      "padding": null,
      "right": null,
      "top": null,
      "visibility": null,
      "width": null
     }
    },
    "1b437b0c915549b19225dc3459d5eab0": {
     "model_module": "@jupyter-widgets/controls",
     "model_module_version": "1.5.0",
     "model_name": "FloatProgressModel",
     "state": {
      "_dom_classes": [],
      "_model_module": "@jupyter-widgets/controls",
      "_model_module_version": "1.5.0",
      "_model_name": "FloatProgressModel",
      "_view_count": null,
      "_view_module": "@jupyter-widgets/controls",
      "_view_module_version": "1.5.0",
      "_view_name": "ProgressView",
      "bar_style": "success",
      "description": "",
      "description_tooltip": null,
      "layout": "IPY_MODEL_934ccc3dc11543cdb17c81c5a98e5921",
      "max": 9912422,
      "min": 0,
      "orientation": "horizontal",
      "style": "IPY_MODEL_472f3fcd1b4544bf95b3c8422360cd9a",
      "value": 9912422
     }
    },
    "29331652749544e9a303e626f10b4bce": {
     "model_module": "@jupyter-widgets/base",
     "model_module_version": "1.2.0",
     "model_name": "LayoutModel",
     "state": {
      "_model_module": "@jupyter-widgets/base",
      "_model_module_version": "1.2.0",
      "_model_name": "LayoutModel",
      "_view_count": null,
      "_view_module": "@jupyter-widgets/base",
      "_view_module_version": "1.2.0",
      "_view_name": "LayoutView",
      "align_content": null,
      "align_items": null,
      "align_self": null,
      "border": null,
      "bottom": null,
      "display": null,
      "flex": null,
      "flex_flow": null,
      "grid_area": null,
      "grid_auto_columns": null,
      "grid_auto_flow": null,
      "grid_auto_rows": null,
      "grid_column": null,
      "grid_gap": null,
      "grid_row": null,
      "grid_template_areas": null,
      "grid_template_columns": null,
      "grid_template_rows": null,
      "height": null,
      "justify_content": null,
      "justify_items": null,
      "left": null,
      "margin": null,
      "max_height": null,
      "max_width": null,
      "min_height": null,
      "min_width": null,
      "object_fit": null,
      "object_position": null,
      "order": null,
      "overflow": null,
      "overflow_x": null,
      "overflow_y": null,
      "padding": null,
      "right": null,
      "top": null,
      "visibility": null,
      "width": null
     }
    },
    "2f35198891fb4c41a7bfeb8bfaef94df": {
     "model_module": "@jupyter-widgets/base",
     "model_module_version": "1.2.0",
     "model_name": "LayoutModel",
     "state": {
      "_model_module": "@jupyter-widgets/base",
      "_model_module_version": "1.2.0",
      "_model_name": "LayoutModel",
      "_view_count": null,
      "_view_module": "@jupyter-widgets/base",
      "_view_module_version": "1.2.0",
      "_view_name": "LayoutView",
      "align_content": null,
      "align_items": null,
      "align_self": null,
      "border": null,
      "bottom": null,
      "display": null,
      "flex": null,
      "flex_flow": null,
      "grid_area": null,
      "grid_auto_columns": null,
      "grid_auto_flow": null,
      "grid_auto_rows": null,
      "grid_column": null,
      "grid_gap": null,
      "grid_row": null,
      "grid_template_areas": null,
      "grid_template_columns": null,
      "grid_template_rows": null,
      "height": null,
      "justify_content": null,
      "justify_items": null,
      "left": null,
      "margin": null,
      "max_height": null,
      "max_width": null,
      "min_height": null,
      "min_width": null,
      "object_fit": null,
      "object_position": null,
      "order": null,
      "overflow": null,
      "overflow_x": null,
      "overflow_y": null,
      "padding": null,
      "right": null,
      "top": null,
      "visibility": null,
      "width": null
     }
    },
    "3ad89c2289e446d696b926f618db17ae": {
     "model_module": "@jupyter-widgets/controls",
     "model_module_version": "1.5.0",
     "model_name": "HTMLModel",
     "state": {
      "_dom_classes": [],
      "_model_module": "@jupyter-widgets/controls",
      "_model_module_version": "1.5.0",
      "_model_name": "HTMLModel",
      "_view_count": null,
      "_view_module": "@jupyter-widgets/controls",
      "_view_module_version": "1.5.0",
      "_view_name": "HTMLView",
      "description": "",
      "description_tooltip": null,
      "layout": "IPY_MODEL_ee30d07d5ea44e74824c36252e650cb1",
      "placeholder": "​",
      "style": "IPY_MODEL_3e8287f8b1f64d7e86ece632bf1a1127",
      "value": " 28881/28881 [00:00&lt;00:00, 667252.53it/s]"
     }
    },
    "3cf590dae1ba464b8bf02657b7b72c9c": {
     "model_module": "@jupyter-widgets/base",
     "model_module_version": "1.2.0",
     "model_name": "LayoutModel",
     "state": {
      "_model_module": "@jupyter-widgets/base",
      "_model_module_version": "1.2.0",
      "_model_name": "LayoutModel",
      "_view_count": null,
      "_view_module": "@jupyter-widgets/base",
      "_view_module_version": "1.2.0",
      "_view_name": "LayoutView",
      "align_content": null,
      "align_items": null,
      "align_self": null,
      "border": null,
      "bottom": null,
      "display": null,
      "flex": null,
      "flex_flow": null,
      "grid_area": null,
      "grid_auto_columns": null,
      "grid_auto_flow": null,
      "grid_auto_rows": null,
      "grid_column": null,
      "grid_gap": null,
      "grid_row": null,
      "grid_template_areas": null,
      "grid_template_columns": null,
      "grid_template_rows": null,
      "height": null,
      "justify_content": null,
      "justify_items": null,
      "left": null,
      "margin": null,
      "max_height": null,
      "max_width": null,
      "min_height": null,
      "min_width": null,
      "object_fit": null,
      "object_position": null,
      "order": null,
      "overflow": null,
      "overflow_x": null,
      "overflow_y": null,
      "padding": null,
      "right": null,
      "top": null,
      "visibility": null,
      "width": null
     }
    },
    "3e6d5e6dde0b4715b214009c448038d2": {
     "model_module": "@jupyter-widgets/controls",
     "model_module_version": "1.5.0",
     "model_name": "HTMLModel",
     "state": {
      "_dom_classes": [],
      "_model_module": "@jupyter-widgets/controls",
      "_model_module_version": "1.5.0",
      "_model_name": "HTMLModel",
      "_view_count": null,
      "_view_module": "@jupyter-widgets/controls",
      "_view_module_version": "1.5.0",
      "_view_name": "HTMLView",
      "description": "",
      "description_tooltip": null,
      "layout": "IPY_MODEL_b941b441ad73433ebd91b3b5e32918a7",
      "placeholder": "​",
      "style": "IPY_MODEL_9af3c7842023410b95b51194e3ce5785",
      "value": "100%"
     }
    },
    "3e8287f8b1f64d7e86ece632bf1a1127": {
     "model_module": "@jupyter-widgets/controls",
     "model_module_version": "1.5.0",
     "model_name": "DescriptionStyleModel",
     "state": {
      "_model_module": "@jupyter-widgets/controls",
      "_model_module_version": "1.5.0",
      "_model_name": "DescriptionStyleModel",
      "_view_count": null,
      "_view_module": "@jupyter-widgets/base",
      "_view_module_version": "1.2.0",
      "_view_name": "StyleView",
      "description_width": ""
     }
    },
    "3f8e52d7ada947a9a86cccc688a03c27": {
     "model_module": "@jupyter-widgets/controls",
     "model_module_version": "1.5.0",
     "model_name": "HBoxModel",
     "state": {
      "_dom_classes": [],
      "_model_module": "@jupyter-widgets/controls",
      "_model_module_version": "1.5.0",
      "_model_name": "HBoxModel",
      "_view_count": null,
      "_view_module": "@jupyter-widgets/controls",
      "_view_module_version": "1.5.0",
      "_view_name": "HBoxView",
      "box_style": "",
      "children": [
       "IPY_MODEL_5dd8f6c8b14b4ad09fd86a15ffa456ea",
       "IPY_MODEL_1b437b0c915549b19225dc3459d5eab0",
       "IPY_MODEL_158a2671a1f846e3808fdebfbc85a0a8"
      ],
      "layout": "IPY_MODEL_2f35198891fb4c41a7bfeb8bfaef94df"
     }
    },
    "40207981f4a942e3a66c81983c9725ff": {
     "model_module": "@jupyter-widgets/controls",
     "model_module_version": "1.5.0",
     "model_name": "ProgressStyleModel",
     "state": {
      "_model_module": "@jupyter-widgets/controls",
      "_model_module_version": "1.5.0",
      "_model_name": "ProgressStyleModel",
      "_view_count": null,
      "_view_module": "@jupyter-widgets/base",
      "_view_module_version": "1.2.0",
      "_view_name": "StyleView",
      "bar_color": null,
      "description_width": ""
     }
    },
    "472f3fcd1b4544bf95b3c8422360cd9a": {
     "model_module": "@jupyter-widgets/controls",
     "model_module_version": "1.5.0",
     "model_name": "ProgressStyleModel",
     "state": {
      "_model_module": "@jupyter-widgets/controls",
      "_model_module_version": "1.5.0",
      "_model_name": "ProgressStyleModel",
      "_view_count": null,
      "_view_module": "@jupyter-widgets/base",
      "_view_module_version": "1.2.0",
      "_view_name": "StyleView",
      "bar_color": null,
      "description_width": ""
     }
    },
    "4b410b1dc0854543b2247282a5153fac": {
     "model_module": "@jupyter-widgets/base",
     "model_module_version": "1.2.0",
     "model_name": "LayoutModel",
     "state": {
      "_model_module": "@jupyter-widgets/base",
      "_model_module_version": "1.2.0",
      "_model_name": "LayoutModel",
      "_view_count": null,
      "_view_module": "@jupyter-widgets/base",
      "_view_module_version": "1.2.0",
      "_view_name": "LayoutView",
      "align_content": null,
      "align_items": null,
      "align_self": null,
      "border": null,
      "bottom": null,
      "display": null,
      "flex": null,
      "flex_flow": null,
      "grid_area": null,
      "grid_auto_columns": null,
      "grid_auto_flow": null,
      "grid_auto_rows": null,
      "grid_column": null,
      "grid_gap": null,
      "grid_row": null,
      "grid_template_areas": null,
      "grid_template_columns": null,
      "grid_template_rows": null,
      "height": null,
      "justify_content": null,
      "justify_items": null,
      "left": null,
      "margin": null,
      "max_height": null,
      "max_width": null,
      "min_height": null,
      "min_width": null,
      "object_fit": null,
      "object_position": null,
      "order": null,
      "overflow": null,
      "overflow_x": null,
      "overflow_y": null,
      "padding": null,
      "right": null,
      "top": null,
      "visibility": null,
      "width": null
     }
    },
    "519455372df4443f841defbe6c20d72f": {
     "model_module": "@jupyter-widgets/controls",
     "model_module_version": "1.5.0",
     "model_name": "HBoxModel",
     "state": {
      "_dom_classes": [],
      "_model_module": "@jupyter-widgets/controls",
      "_model_module_version": "1.5.0",
      "_model_name": "HBoxModel",
      "_view_count": null,
      "_view_module": "@jupyter-widgets/controls",
      "_view_module_version": "1.5.0",
      "_view_name": "HBoxView",
      "box_style": "",
      "children": [
       "IPY_MODEL_0ffcc374bbfe4d5a89d883d65336e919",
       "IPY_MODEL_a2f280df2edb4a74acf97234c2c37810",
       "IPY_MODEL_3ad89c2289e446d696b926f618db17ae"
      ],
      "layout": "IPY_MODEL_0d22f9c1fa3e46b29ea5421aaad84738"
     }
    },
    "5338a92c8e054f74a2c51c8c84f23fbc": {
     "model_module": "@jupyter-widgets/base",
     "model_module_version": "1.2.0",
     "model_name": "LayoutModel",
     "state": {
      "_model_module": "@jupyter-widgets/base",
      "_model_module_version": "1.2.0",
      "_model_name": "LayoutModel",
      "_view_count": null,
      "_view_module": "@jupyter-widgets/base",
      "_view_module_version": "1.2.0",
      "_view_name": "LayoutView",
      "align_content": null,
      "align_items": null,
      "align_self": null,
      "border": null,
      "bottom": null,
      "display": null,
      "flex": null,
      "flex_flow": null,
      "grid_area": null,
      "grid_auto_columns": null,
      "grid_auto_flow": null,
      "grid_auto_rows": null,
      "grid_column": null,
      "grid_gap": null,
      "grid_row": null,
      "grid_template_areas": null,
      "grid_template_columns": null,
      "grid_template_rows": null,
      "height": null,
      "justify_content": null,
      "justify_items": null,
      "left": null,
      "margin": null,
      "max_height": null,
      "max_width": null,
      "min_height": null,
      "min_width": null,
      "object_fit": null,
      "object_position": null,
      "order": null,
      "overflow": null,
      "overflow_x": null,
      "overflow_y": null,
      "padding": null,
      "right": null,
      "top": null,
      "visibility": null,
      "width": null
     }
    },
    "577bd1a594144e42864d09296cc8ed31": {
     "model_module": "@jupyter-widgets/controls",
     "model_module_version": "1.5.0",
     "model_name": "ProgressStyleModel",
     "state": {
      "_model_module": "@jupyter-widgets/controls",
      "_model_module_version": "1.5.0",
      "_model_name": "ProgressStyleModel",
      "_view_count": null,
      "_view_module": "@jupyter-widgets/base",
      "_view_module_version": "1.2.0",
      "_view_name": "StyleView",
      "bar_color": null,
      "description_width": ""
     }
    },
    "5dd8f6c8b14b4ad09fd86a15ffa456ea": {
     "model_module": "@jupyter-widgets/controls",
     "model_module_version": "1.5.0",
     "model_name": "HTMLModel",
     "state": {
      "_dom_classes": [],
      "_model_module": "@jupyter-widgets/controls",
      "_model_module_version": "1.5.0",
      "_model_name": "HTMLModel",
      "_view_count": null,
      "_view_module": "@jupyter-widgets/controls",
      "_view_module_version": "1.5.0",
      "_view_name": "HTMLView",
      "description": "",
      "description_tooltip": null,
      "layout": "IPY_MODEL_4b410b1dc0854543b2247282a5153fac",
      "placeholder": "​",
      "style": "IPY_MODEL_ccce112b1b324e28b189d9ee2d5e47ab",
      "value": "100%"
     }
    },
    "5e91d981cc08421e802c385b2a004ce1": {
     "model_module": "@jupyter-widgets/controls",
     "model_module_version": "1.5.0",
     "model_name": "FloatProgressModel",
     "state": {
      "_dom_classes": [],
      "_model_module": "@jupyter-widgets/controls",
      "_model_module_version": "1.5.0",
      "_model_name": "FloatProgressModel",
      "_view_count": null,
      "_view_module": "@jupyter-widgets/controls",
      "_view_module_version": "1.5.0",
      "_view_name": "ProgressView",
      "bar_style": "success",
      "description": "",
      "description_tooltip": null,
      "layout": "IPY_MODEL_7d29978830a8450cbb52c18c5b890f6f",
      "max": 1648877,
      "min": 0,
      "orientation": "horizontal",
      "style": "IPY_MODEL_f82d82f7b4ab4ee4b6dce82e269e20d9",
      "value": 1648877
     }
    },
    "6bdff8a3a3434736bef90c73cf64be19": {
     "model_module": "@jupyter-widgets/controls",
     "model_module_version": "1.5.0",
     "model_name": "DescriptionStyleModel",
     "state": {
      "_model_module": "@jupyter-widgets/controls",
      "_model_module_version": "1.5.0",
      "_model_name": "DescriptionStyleModel",
      "_view_count": null,
      "_view_module": "@jupyter-widgets/base",
      "_view_module_version": "1.2.0",
      "_view_name": "StyleView",
      "description_width": ""
     }
    },
    "773a7c98dffc44b3bc755870c19fea6d": {
     "model_module": "@jupyter-widgets/base",
     "model_module_version": "1.2.0",
     "model_name": "LayoutModel",
     "state": {
      "_model_module": "@jupyter-widgets/base",
      "_model_module_version": "1.2.0",
      "_model_name": "LayoutModel",
      "_view_count": null,
      "_view_module": "@jupyter-widgets/base",
      "_view_module_version": "1.2.0",
      "_view_name": "LayoutView",
      "align_content": null,
      "align_items": null,
      "align_self": null,
      "border": null,
      "bottom": null,
      "display": null,
      "flex": null,
      "flex_flow": null,
      "grid_area": null,
      "grid_auto_columns": null,
      "grid_auto_flow": null,
      "grid_auto_rows": null,
      "grid_column": null,
      "grid_gap": null,
      "grid_row": null,
      "grid_template_areas": null,
      "grid_template_columns": null,
      "grid_template_rows": null,
      "height": null,
      "justify_content": null,
      "justify_items": null,
      "left": null,
      "margin": null,
      "max_height": null,
      "max_width": null,
      "min_height": null,
      "min_width": null,
      "object_fit": null,
      "object_position": null,
      "order": null,
      "overflow": null,
      "overflow_x": null,
      "overflow_y": null,
      "padding": null,
      "right": null,
      "top": null,
      "visibility": null,
      "width": null
     }
    },
    "7a433685d79f4859a23a1a012ec9640b": {
     "model_module": "@jupyter-widgets/controls",
     "model_module_version": "1.5.0",
     "model_name": "FloatProgressModel",
     "state": {
      "_dom_classes": [],
      "_model_module": "@jupyter-widgets/controls",
      "_model_module_version": "1.5.0",
      "_model_name": "FloatProgressModel",
      "_view_count": null,
      "_view_module": "@jupyter-widgets/controls",
      "_view_module_version": "1.5.0",
      "_view_name": "ProgressView",
      "bar_style": "success",
      "description": "",
      "description_tooltip": null,
      "layout": "IPY_MODEL_773a7c98dffc44b3bc755870c19fea6d",
      "max": 4542,
      "min": 0,
      "orientation": "horizontal",
      "style": "IPY_MODEL_40207981f4a942e3a66c81983c9725ff",
      "value": 4542
     }
    },
    "7d29978830a8450cbb52c18c5b890f6f": {
     "model_module": "@jupyter-widgets/base",
     "model_module_version": "1.2.0",
     "model_name": "LayoutModel",
     "state": {
      "_model_module": "@jupyter-widgets/base",
      "_model_module_version": "1.2.0",
      "_model_name": "LayoutModel",
      "_view_count": null,
      "_view_module": "@jupyter-widgets/base",
      "_view_module_version": "1.2.0",
      "_view_name": "LayoutView",
      "align_content": null,
      "align_items": null,
      "align_self": null,
      "border": null,
      "bottom": null,
      "display": null,
      "flex": null,
      "flex_flow": null,
      "grid_area": null,
      "grid_auto_columns": null,
      "grid_auto_flow": null,
      "grid_auto_rows": null,
      "grid_column": null,
      "grid_gap": null,
      "grid_row": null,
      "grid_template_areas": null,
      "grid_template_columns": null,
      "grid_template_rows": null,
      "height": null,
      "justify_content": null,
      "justify_items": null,
      "left": null,
      "margin": null,
      "max_height": null,
      "max_width": null,
      "min_height": null,
      "min_width": null,
      "object_fit": null,
      "object_position": null,
      "order": null,
      "overflow": null,
      "overflow_x": null,
      "overflow_y": null,
      "padding": null,
      "right": null,
      "top": null,
      "visibility": null,
      "width": null
     }
    },
    "8cc2078175b44094918798344824c275": {
     "model_module": "@jupyter-widgets/controls",
     "model_module_version": "1.5.0",
     "model_name": "HTMLModel",
     "state": {
      "_dom_classes": [],
      "_model_module": "@jupyter-widgets/controls",
      "_model_module_version": "1.5.0",
      "_model_name": "HTMLModel",
      "_view_count": null,
      "_view_module": "@jupyter-widgets/controls",
      "_view_module_version": "1.5.0",
      "_view_name": "HTMLView",
      "description": "",
      "description_tooltip": null,
      "layout": "IPY_MODEL_3cf590dae1ba464b8bf02657b7b72c9c",
      "placeholder": "​",
      "style": "IPY_MODEL_a5185e691c684042bf925c92284db9ad",
      "value": " 4542/4542 [00:00&lt;00:00, 63542.43it/s]"
     }
    },
    "934ccc3dc11543cdb17c81c5a98e5921": {
     "model_module": "@jupyter-widgets/base",
     "model_module_version": "1.2.0",
     "model_name": "LayoutModel",
     "state": {
      "_model_module": "@jupyter-widgets/base",
      "_model_module_version": "1.2.0",
      "_model_name": "LayoutModel",
      "_view_count": null,
      "_view_module": "@jupyter-widgets/base",
      "_view_module_version": "1.2.0",
      "_view_name": "LayoutView",
      "align_content": null,
      "align_items": null,
      "align_self": null,
      "border": null,
      "bottom": null,
      "display": null,
      "flex": null,
      "flex_flow": null,
      "grid_area": null,
      "grid_auto_columns": null,
      "grid_auto_flow": null,
      "grid_auto_rows": null,
      "grid_column": null,
      "grid_gap": null,
      "grid_row": null,
      "grid_template_areas": null,
      "grid_template_columns": null,
      "grid_template_rows": null,
      "height": null,
      "justify_content": null,
      "justify_items": null,
      "left": null,
      "margin": null,
      "max_height": null,
      "max_width": null,
      "min_height": null,
      "min_width": null,
      "object_fit": null,
      "object_position": null,
      "order": null,
      "overflow": null,
      "overflow_x": null,
      "overflow_y": null,
      "padding": null,
      "right": null,
      "top": null,
      "visibility": null,
      "width": null
     }
    },
    "9af3c7842023410b95b51194e3ce5785": {
     "model_module": "@jupyter-widgets/controls",
     "model_module_version": "1.5.0",
     "model_name": "DescriptionStyleModel",
     "state": {
      "_model_module": "@jupyter-widgets/controls",
      "_model_module_version": "1.5.0",
      "_model_name": "DescriptionStyleModel",
      "_view_count": null,
      "_view_module": "@jupyter-widgets/base",
      "_view_module_version": "1.2.0",
      "_view_name": "StyleView",
      "description_width": ""
     }
    },
    "a2f280df2edb4a74acf97234c2c37810": {
     "model_module": "@jupyter-widgets/controls",
     "model_module_version": "1.5.0",
     "model_name": "FloatProgressModel",
     "state": {
      "_dom_classes": [],
      "_model_module": "@jupyter-widgets/controls",
      "_model_module_version": "1.5.0",
      "_model_name": "FloatProgressModel",
      "_view_count": null,
      "_view_module": "@jupyter-widgets/controls",
      "_view_module_version": "1.5.0",
      "_view_name": "ProgressView",
      "bar_style": "success",
      "description": "",
      "description_tooltip": null,
      "layout": "IPY_MODEL_0d2f43eb91b943f78a17bae9c6bbb182",
      "max": 28881,
      "min": 0,
      "orientation": "horizontal",
      "style": "IPY_MODEL_577bd1a594144e42864d09296cc8ed31",
      "value": 28881
     }
    },
    "a5185e691c684042bf925c92284db9ad": {
     "model_module": "@jupyter-widgets/controls",
     "model_module_version": "1.5.0",
     "model_name": "DescriptionStyleModel",
     "state": {
      "_model_module": "@jupyter-widgets/controls",
      "_model_module_version": "1.5.0",
      "_model_name": "DescriptionStyleModel",
      "_view_count": null,
      "_view_module": "@jupyter-widgets/base",
      "_view_module_version": "1.2.0",
      "_view_name": "StyleView",
      "description_width": ""
     }
    },
    "aaa8d79a5b424609a06a8d0afcb8b48f": {
     "model_module": "@jupyter-widgets/controls",
     "model_module_version": "1.5.0",
     "model_name": "DescriptionStyleModel",
     "state": {
      "_model_module": "@jupyter-widgets/controls",
      "_model_module_version": "1.5.0",
      "_model_name": "DescriptionStyleModel",
      "_view_count": null,
      "_view_module": "@jupyter-widgets/base",
      "_view_module_version": "1.2.0",
      "_view_name": "StyleView",
      "description_width": ""
     }
    },
    "b2dce7051bfe48a49e2007c480fd803f": {
     "model_module": "@jupyter-widgets/base",
     "model_module_version": "1.2.0",
     "model_name": "LayoutModel",
     "state": {
      "_model_module": "@jupyter-widgets/base",
      "_model_module_version": "1.2.0",
      "_model_name": "LayoutModel",
      "_view_count": null,
      "_view_module": "@jupyter-widgets/base",
      "_view_module_version": "1.2.0",
      "_view_name": "LayoutView",
      "align_content": null,
      "align_items": null,
      "align_self": null,
      "border": null,
      "bottom": null,
      "display": null,
      "flex": null,
      "flex_flow": null,
      "grid_area": null,
      "grid_auto_columns": null,
      "grid_auto_flow": null,
      "grid_auto_rows": null,
      "grid_column": null,
      "grid_gap": null,
      "grid_row": null,
      "grid_template_areas": null,
      "grid_template_columns": null,
      "grid_template_rows": null,
      "height": null,
      "justify_content": null,
      "justify_items": null,
      "left": null,
      "margin": null,
      "max_height": null,
      "max_width": null,
      "min_height": null,
      "min_width": null,
      "object_fit": null,
      "object_position": null,
      "order": null,
      "overflow": null,
      "overflow_x": null,
      "overflow_y": null,
      "padding": null,
      "right": null,
      "top": null,
      "visibility": null,
      "width": null
     }
    },
    "b92de090e34a48d99e0a9e769aeb6a6d": {
     "model_module": "@jupyter-widgets/controls",
     "model_module_version": "1.5.0",
     "model_name": "HTMLModel",
     "state": {
      "_dom_classes": [],
      "_model_module": "@jupyter-widgets/controls",
      "_model_module_version": "1.5.0",
      "_model_name": "HTMLModel",
      "_view_count": null,
      "_view_module": "@jupyter-widgets/controls",
      "_view_module_version": "1.5.0",
      "_view_name": "HTMLView",
      "description": "",
      "description_tooltip": null,
      "layout": "IPY_MODEL_c173a6ceaf2f45ccb301000675bfcd79",
      "placeholder": "​",
      "style": "IPY_MODEL_1314e991cc824859baabcff65fce46ce",
      "value": " 1648877/1648877 [00:00&lt;00:00, 23952549.23it/s]"
     }
    },
    "b941b441ad73433ebd91b3b5e32918a7": {
     "model_module": "@jupyter-widgets/base",
     "model_module_version": "1.2.0",
     "model_name": "LayoutModel",
     "state": {
      "_model_module": "@jupyter-widgets/base",
      "_model_module_version": "1.2.0",
      "_model_name": "LayoutModel",
      "_view_count": null,
      "_view_module": "@jupyter-widgets/base",
      "_view_module_version": "1.2.0",
      "_view_name": "LayoutView",
      "align_content": null,
      "align_items": null,
      "align_self": null,
      "border": null,
      "bottom": null,
      "display": null,
      "flex": null,
      "flex_flow": null,
      "grid_area": null,
      "grid_auto_columns": null,
      "grid_auto_flow": null,
      "grid_auto_rows": null,
      "grid_column": null,
      "grid_gap": null,
      "grid_row": null,
      "grid_template_areas": null,
      "grid_template_columns": null,
      "grid_template_rows": null,
      "height": null,
      "justify_content": null,
      "justify_items": null,
      "left": null,
      "margin": null,
      "max_height": null,
      "max_width": null,
      "min_height": null,
      "min_width": null,
      "object_fit": null,
      "object_position": null,
      "order": null,
      "overflow": null,
      "overflow_x": null,
      "overflow_y": null,
      "padding": null,
      "right": null,
      "top": null,
      "visibility": null,
      "width": null
     }
    },
    "c173a6ceaf2f45ccb301000675bfcd79": {
     "model_module": "@jupyter-widgets/base",
     "model_module_version": "1.2.0",
     "model_name": "LayoutModel",
     "state": {
      "_model_module": "@jupyter-widgets/base",
      "_model_module_version": "1.2.0",
      "_model_name": "LayoutModel",
      "_view_count": null,
      "_view_module": "@jupyter-widgets/base",
      "_view_module_version": "1.2.0",
      "_view_name": "LayoutView",
      "align_content": null,
      "align_items": null,
      "align_self": null,
      "border": null,
      "bottom": null,
      "display": null,
      "flex": null,
      "flex_flow": null,
      "grid_area": null,
      "grid_auto_columns": null,
      "grid_auto_flow": null,
      "grid_auto_rows": null,
      "grid_column": null,
      "grid_gap": null,
      "grid_row": null,
      "grid_template_areas": null,
      "grid_template_columns": null,
      "grid_template_rows": null,
      "height": null,
      "justify_content": null,
      "justify_items": null,
      "left": null,
      "margin": null,
      "max_height": null,
      "max_width": null,
      "min_height": null,
      "min_width": null,
      "object_fit": null,
      "object_position": null,
      "order": null,
      "overflow": null,
      "overflow_x": null,
      "overflow_y": null,
      "padding": null,
      "right": null,
      "top": null,
      "visibility": null,
      "width": null
     }
    },
    "ccce112b1b324e28b189d9ee2d5e47ab": {
     "model_module": "@jupyter-widgets/controls",
     "model_module_version": "1.5.0",
     "model_name": "DescriptionStyleModel",
     "state": {
      "_model_module": "@jupyter-widgets/controls",
      "_model_module_version": "1.5.0",
      "_model_name": "DescriptionStyleModel",
      "_view_count": null,
      "_view_module": "@jupyter-widgets/base",
      "_view_module_version": "1.2.0",
      "_view_name": "StyleView",
      "description_width": ""
     }
    },
    "d1be317d23574ba9955f7b78200c8c10": {
     "model_module": "@jupyter-widgets/controls",
     "model_module_version": "1.5.0",
     "model_name": "DescriptionStyleModel",
     "state": {
      "_model_module": "@jupyter-widgets/controls",
      "_model_module_version": "1.5.0",
      "_model_name": "DescriptionStyleModel",
      "_view_count": null,
      "_view_module": "@jupyter-widgets/base",
      "_view_module_version": "1.2.0",
      "_view_name": "StyleView",
      "description_width": ""
     }
    },
    "ee30d07d5ea44e74824c36252e650cb1": {
     "model_module": "@jupyter-widgets/base",
     "model_module_version": "1.2.0",
     "model_name": "LayoutModel",
     "state": {
      "_model_module": "@jupyter-widgets/base",
      "_model_module_version": "1.2.0",
      "_model_name": "LayoutModel",
      "_view_count": null,
      "_view_module": "@jupyter-widgets/base",
      "_view_module_version": "1.2.0",
      "_view_name": "LayoutView",
      "align_content": null,
      "align_items": null,
      "align_self": null,
      "border": null,
      "bottom": null,
      "display": null,
      "flex": null,
      "flex_flow": null,
      "grid_area": null,
      "grid_auto_columns": null,
      "grid_auto_flow": null,
      "grid_auto_rows": null,
      "grid_column": null,
      "grid_gap": null,
      "grid_row": null,
      "grid_template_areas": null,
      "grid_template_columns": null,
      "grid_template_rows": null,
      "height": null,
      "justify_content": null,
      "justify_items": null,
      "left": null,
      "margin": null,
      "max_height": null,
      "max_width": null,
      "min_height": null,
      "min_width": null,
      "object_fit": null,
      "object_position": null,
      "order": null,
      "overflow": null,
      "overflow_x": null,
      "overflow_y": null,
      "padding": null,
      "right": null,
      "top": null,
      "visibility": null,
      "width": null
     }
    },
    "f54257e8690144c2bf64a7ac4d5852f6": {
     "model_module": "@jupyter-widgets/controls",
     "model_module_version": "1.5.0",
     "model_name": "HBoxModel",
     "state": {
      "_dom_classes": [],
      "_model_module": "@jupyter-widgets/controls",
      "_model_module_version": "1.5.0",
      "_model_name": "HBoxModel",
      "_view_count": null,
      "_view_module": "@jupyter-widgets/controls",
      "_view_module_version": "1.5.0",
      "_view_name": "HBoxView",
      "box_style": "",
      "children": [
       "IPY_MODEL_3e6d5e6dde0b4715b214009c448038d2",
       "IPY_MODEL_5e91d981cc08421e802c385b2a004ce1",
       "IPY_MODEL_b92de090e34a48d99e0a9e769aeb6a6d"
      ],
      "layout": "IPY_MODEL_5338a92c8e054f74a2c51c8c84f23fbc"
     }
    },
    "f63029edca9f4fc88f7bb98827916759": {
     "model_module": "@jupyter-widgets/base",
     "model_module_version": "1.2.0",
     "model_name": "LayoutModel",
     "state": {
      "_model_module": "@jupyter-widgets/base",
      "_model_module_version": "1.2.0",
      "_model_name": "LayoutModel",
      "_view_count": null,
      "_view_module": "@jupyter-widgets/base",
      "_view_module_version": "1.2.0",
      "_view_name": "LayoutView",
      "align_content": null,
      "align_items": null,
      "align_self": null,
      "border": null,
      "bottom": null,
      "display": null,
      "flex": null,
      "flex_flow": null,
      "grid_area": null,
      "grid_auto_columns": null,
      "grid_auto_flow": null,
      "grid_auto_rows": null,
      "grid_column": null,
      "grid_gap": null,
      "grid_row": null,
      "grid_template_areas": null,
      "grid_template_columns": null,
      "grid_template_rows": null,
      "height": null,
      "justify_content": null,
      "justify_items": null,
      "left": null,
      "margin": null,
      "max_height": null,
      "max_width": null,
      "min_height": null,
      "min_width": null,
      "object_fit": null,
      "object_position": null,
      "order": null,
      "overflow": null,
      "overflow_x": null,
      "overflow_y": null,
      "padding": null,
      "right": null,
      "top": null,
      "visibility": null,
      "width": null
     }
    },
    "f82d82f7b4ab4ee4b6dce82e269e20d9": {
     "model_module": "@jupyter-widgets/controls",
     "model_module_version": "1.5.0",
     "model_name": "ProgressStyleModel",
     "state": {
      "_model_module": "@jupyter-widgets/controls",
      "_model_module_version": "1.5.0",
      "_model_name": "ProgressStyleModel",
      "_view_count": null,
      "_view_module": "@jupyter-widgets/base",
      "_view_module_version": "1.2.0",
      "_view_name": "StyleView",
      "bar_color": null,
      "description_width": ""
     }
    },
    "f9fb6123f6784de7bde185d36e6eac28": {
     "model_module": "@jupyter-widgets/controls",
     "model_module_version": "1.5.0",
     "model_name": "HBoxModel",
     "state": {
      "_dom_classes": [],
      "_model_module": "@jupyter-widgets/controls",
      "_model_module_version": "1.5.0",
      "_model_name": "HBoxModel",
      "_view_count": null,
      "_view_module": "@jupyter-widgets/controls",
      "_view_module_version": "1.5.0",
      "_view_name": "HBoxView",
      "box_style": "",
      "children": [
       "IPY_MODEL_0ab9317bc3654c06b938ae2cd29035d7",
       "IPY_MODEL_7a433685d79f4859a23a1a012ec9640b",
       "IPY_MODEL_8cc2078175b44094918798344824c275"
      ],
      "layout": "IPY_MODEL_29331652749544e9a303e626f10b4bce"
     }
    }
   }
  }
 },
 "nbformat": 4,
 "nbformat_minor": 1
}
