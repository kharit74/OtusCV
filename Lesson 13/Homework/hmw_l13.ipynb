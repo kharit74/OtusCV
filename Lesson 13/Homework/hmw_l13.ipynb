{
 "cells": [
  {
   "cell_type": "markdown",
   "id": "59bc4876",
   "metadata": {},
   "source": [
    "\n",
    "# Катастрофическое забывание\n",
    "\n",
    "## Цель: Проверить влияние fine-tuning на исходную модель.\n",
    "\n",
    "## Описание/Пошаговая инструкция выполнения домашнего задания:\n",
    "1. Скачать датасет ImageNette: https://github.com/fastai/imagenette (`ImageNette` это подвыборка из 10 классов датасета `ImageNet`).\n",
    "2. Взять предобученную на обычном `ImageNet` модель `ResNet18` и заменить число классов на 10.\n",
    "3. Дообучить модель на 10 классах `ImageNette` и замерить точность (эта точность будет считаться базовой). Обучить только последний слой. Сохранить последний слой как оригинальный.\n",
    "4. Дообучить модель классифицировать датасет `CIFAR10`.\n",
    "5. Вернуть оригинальный последний слой модели и проверить качество на `ImageNette` и сравнить с базовой точностью.\n",
    "6. Дообучить только последний слой (отключить градиент для всех слоев кроме последнего) на `ImageNette` и проверить удалось ли добиться исходного качества.\n",
    "7. Сделать выводы.\n",
    "\n",
    "### Критерии оценки:\n",
    "__Принято__ - задание выполнено полностью.\n",
    "\n",
    "__Возвращено на доработку__ - задание не выполнено полностью.\n"
   ]
  },
  {
   "cell_type": "code",
   "execution_count": 159,
   "id": "5f12f00f",
   "metadata": {},
   "outputs": [],
   "source": [
    "import torch\n",
    "import torch.nn as nn\n",
    "import torchvision\n",
    "import torchvision.transforms as transforms\n",
    "from tqdm import tqdm"
   ]
  },
  {
   "cell_type": "markdown",
   "id": "5019ed8f",
   "metadata": {},
   "source": [
    "## Шаг 1 Подготовка датасета"
   ]
  },
  {
   "cell_type": "markdown",
   "id": "cd5f5b8d",
   "metadata": {},
   "source": [
    "### 1.1 Определение настроек"
   ]
  },
  {
   "cell_type": "code",
   "execution_count": 189,
   "id": "a3a38063",
   "metadata": {},
   "outputs": [
    {
     "data": {
      "text/plain": [
       "device(type='cpu')"
      ]
     },
     "execution_count": 189,
     "metadata": {},
     "output_type": "execute_result"
    }
   ],
   "source": [
    "TRAIN_DIR_IMAGENETTE = 'DataForModel/imagenette2-320/train'\n",
    "VAL_DIR_IMAGENETTE = 'DataForModel/imagenette2-320/val'\n",
    "TRAIN_DIR_CIFAR10 = 'DataForModel/cifar10/train'\n",
    "VAL_DIR_CIFAR10 = 'DataForModel/cifar10/val'\n",
    "BATCH_SIZE = 32\n",
    "NUM_EPOCHS = 5\n",
    "DEVICE = torch.device('cuda' if torch.cuda.is_available() else 'cpu')\n",
    "DEVICE"
   ]
  },
  {
   "cell_type": "markdown",
   "id": "6986ea3b",
   "metadata": {},
   "source": [
    "### 1.2 Датасет ImageNette"
   ]
  },
  {
   "cell_type": "code",
   "execution_count": 190,
   "id": "7980ca7e",
   "metadata": {},
   "outputs": [],
   "source": [
    "transform = transforms.Compose([\n",
    "    transforms.Resize((224, 224)),\n",
    "    transforms.ToTensor(),\n",
    "    transforms.Normalize(mean=[0.485, 0.456, 0.406], std=[0.229, 0.224, 0.225]),\n",
    "])\n",
    "\n",
    "train_dataset_imagenette = torchvision.datasets.ImageFolder(TRAIN_DIR_IMAGENETTE, transform=transform)\n",
    "val_dataset_imagenette = torchvision.datasets.ImageFolder(VAL_DIR_IMAGENETTE, transform=transform)\n",
    "\n",
    "imagenette_train = torch.utils.data.DataLoader(train_dataset_imagenette, batch_size=BATCH_SIZE, shuffle=True)\n",
    "imagenette_val = torch.utils.data.DataLoader(val_dataset_imagenette, batch_size=BATCH_SIZE)"
   ]
  },
  {
   "cell_type": "markdown",
   "id": "86ff40a9",
   "metadata": {},
   "source": [
    "### 1.3 Датасет CIFAR10"
   ]
  },
  {
   "cell_type": "code",
   "execution_count": 191,
   "id": "63df6322",
   "metadata": {},
   "outputs": [],
   "source": [
    "train_dataset_cifar = torchvision.datasets.CIFAR10(root=TRAIN_DIR_CIFAR10, train=True, download=True, transform=transform)\n",
    "val_dataset_cifar = torchvision.datasets.CIFAR10(root=VAL_DIR_CIFAR10, train=False, download=True, transform=transform)\n",
    "\n",
    "cifar_train = torch.utils.data.DataLoader(train_dataset_cifar, BATCH_SIZE, shuffle=True)\n",
    "cifar_val = torch.utils.data.DataLoader(val_dataset_cifar, BATCH_SIZE)"
   ]
  },
  {
   "cell_type": "markdown",
   "id": "0c20b2d0",
   "metadata": {},
   "source": [
    "### 1.4 Определение фунций обучения и расчета точности модели"
   ]
  },
  {
   "cell_type": "code",
   "execution_count": 192,
   "id": "463b8f3f",
   "metadata": {},
   "outputs": [],
   "source": [
    "# Расчет точности\n",
    "def evaluate(model, val_loader):\n",
    "    model.eval() \n",
    "    correct = 0\n",
    "    total = 0\n",
    "    with torch.no_grad():\n",
    "        for images, labels in val_loader:\n",
    "            images, labels = images.to(DEVICE), labels.to(DEVICE)\n",
    "            outputs = model(images)\n",
    "            _, predicted = torch.max(outputs.data, 1)\n",
    "            total += labels.size(0)\n",
    "            correct += (predicted == labels).sum().item()\n",
    "    return 100 * correct / total\n",
    "\n",
    "def model_train(model, train_data, valid_data, optimizer, name='undefined', save_fc=False):\n",
    "    criterion = nn.CrossEntropyLoss()\n",
    "    for epoch in range(NUM_EPOCHS):\n",
    "        running_loss = 0.0\n",
    "        last_acc = 0.0\n",
    "        model.train()\n",
    "        for inputs, labels in tqdm(train_data, desc=f'Epoch {epoch+1}'):\n",
    "            inputs, labels = inputs.to(DEVICE), labels.to(DEVICE)\n",
    "            optimizer.zero_grad()\n",
    "            outputs = model(inputs)\n",
    "            loss = criterion(outputs, labels)\n",
    "            loss.backward()\n",
    "            optimizer.step()\n",
    "            running_loss += loss.item()\n",
    "\n",
    "        # Валидация\n",
    "        acc = evaluate(model, valid_data)\n",
    "        if acc > last_acc:\n",
    "            last_acc = acc\n",
    "            if save_fc:\n",
    "                torch.save(model.fc.state_dict(), f'{name}.pth')\n",
    "    return model, last_acc "
   ]
  },
  {
   "cell_type": "markdown",
   "id": "8ce94940",
   "metadata": {},
   "source": [
    "## Шаг 2: Замена последнего слоя на 10 классов"
   ]
  },
  {
   "cell_type": "code",
   "execution_count": null,
   "id": "fdf08abe",
   "metadata": {},
   "outputs": [
    {
     "name": "stderr",
     "output_type": "stream",
     "text": [
      "c:\\Users\\KharitWinPC\\AppData\\Local\\Programs\\Python\\Python311\\Lib\\site-packages\\torchvision\\models\\_utils.py:208: UserWarning: The parameter 'pretrained' is deprecated since 0.13 and may be removed in the future, please use 'weights' instead.\n",
      "  warnings.warn(\n",
      "c:\\Users\\KharitWinPC\\AppData\\Local\\Programs\\Python\\Python311\\Lib\\site-packages\\torchvision\\models\\_utils.py:223: UserWarning: Arguments other than a weight enum or `None` for 'weights' are deprecated since 0.13 and may be removed in the future. The current behavior is equivalent to passing `weights=ResNet18_Weights.IMAGENET1K_V1`. You can also use `weights=ResNet18_Weights.DEFAULT` to get the most up-to-date weights.\n",
      "  warnings.warn(msg)\n"
     ]
    }
   ],
   "source": [
    "model = torchvision.models.resnet18(pretrained=True)\n",
    "for param in model.parameters():\n",
    "    param.requires_grad = False\n",
    "\n",
    "# Заменяем последний слой на 10 классов\n",
    "model.fc = nn.Linear(model.fc.in_features, 10)\n",
    "# Разморозка последнего слоя\n",
    "for param in model.fc.parameters():\n",
    "    param.requires_grad = True\n",
    "model = model.to(DEVICE)"
   ]
  },
  {
   "cell_type": "markdown",
   "id": "a21fe452",
   "metadata": {},
   "source": [
    "## Шаг 3: Обучение на ImageNette (последний слой)"
   ]
  },
  {
   "cell_type": "markdown",
   "id": "d32f8dde",
   "metadata": {},
   "source": [
    "### Шаг 3.1 Обучение модели"
   ]
  },
  {
   "cell_type": "code",
   "execution_count": 197,
   "id": "d6f1f5d0",
   "metadata": {},
   "outputs": [
    {
     "name": "stderr",
     "output_type": "stream",
     "text": [
      "Epoch 1: 100%|██████████| 296/296 [03:11<00:00,  1.54it/s]\n",
      "Epoch 2: 100%|██████████| 296/296 [03:36<00:00,  1.37it/s]\n",
      "Epoch 3: 100%|██████████| 296/296 [03:30<00:00,  1.41it/s]\n",
      "Epoch 4: 100%|██████████| 296/296 [03:56<00:00,  1.25it/s]\n",
      "Epoch 5: 100%|██████████| 296/296 [03:44<00:00,  1.32it/s]\n"
     ]
    },
    {
     "name": "stdout",
     "output_type": "stream",
     "text": [
      "Базовая точность: 97.15%\n"
     ]
    }
   ],
   "source": [
    "criterion = nn.CrossEntropyLoss()\n",
    "optimizer = torch.optim.Adam(model.fc.parameters(), lr=0.0001)\n",
    "base_acc = 0.0\n",
    "\n",
    "model, base_acc = model_train(model, imagenette_train, imagenette_val, optimizer,'imagenette_fc', True)\n",
    "print(f\"Базовая точность: {base_acc:.2f}%\")"
   ]
  },
  {
   "cell_type": "markdown",
   "id": "2e848f55",
   "metadata": {},
   "source": [
    "## Шаг 4: Обучение на CIFAR10 (вся модель)"
   ]
  },
  {
   "cell_type": "code",
   "execution_count": 199,
   "id": "5221e659",
   "metadata": {},
   "outputs": [
    {
     "name": "stderr",
     "output_type": "stream",
     "text": [
      "Epoch 1: 100%|██████████| 1563/1563 [46:13<00:00,  1.77s/it]\n",
      "Epoch 2: 100%|██████████| 1563/1563 [44:53<00:00,  1.72s/it]\n",
      "Epoch 3: 100%|██████████| 1563/1563 [47:25<00:00,  1.82s/it]\n",
      "Epoch 4: 100%|██████████| 1563/1563 [46:48<00:00,  1.80s/it]\n",
      "Epoch 5: 100%|██████████| 1563/1563 [49:11<00:00,  1.89s/it]\n"
     ]
    },
    {
     "name": "stdout",
     "output_type": "stream",
     "text": [
      "CIFAR точность: 93.68%\n"
     ]
    }
   ],
   "source": [
    "# Разморозка\n",
    "for param in model.parameters():\n",
    "    param.requires_grad = True\n",
    "optimizer = torch.optim.Adam(model.parameters(), lr=0.0001)\n",
    "cifar_acc = 0.0\n",
    "\n",
    "model, cifar_acc = model_train(model, cifar_train, cifar_val,  optimizer, save_fc=False)\n",
    "print(f\"CIFAR точность: {cifar_acc:.2f}%\")"
   ]
  },
  {
   "cell_type": "markdown",
   "id": "2dc70903",
   "metadata": {},
   "source": [
    "## Шаг 5: Возврат оригинального слоя и проверка качества на ImageNette"
   ]
  },
  {
   "cell_type": "markdown",
   "id": "bcba30e4",
   "metadata": {},
   "source": [
    "### 5.1 Возврат оригинального слоя"
   ]
  },
  {
   "cell_type": "code",
   "execution_count": 200,
   "id": "657ce945",
   "metadata": {},
   "outputs": [
    {
     "data": {
      "text/plain": [
       "<All keys matched successfully>"
      ]
     },
     "execution_count": 200,
     "metadata": {},
     "output_type": "execute_result"
    }
   ],
   "source": [
    "model.fc.load_state_dict(torch.load('imagenette_fc.pth'))"
   ]
  },
  {
   "cell_type": "markdown",
   "id": "3baf4196",
   "metadata": {},
   "source": [
    "### 5.2 Проверка качестка на ImageNette"
   ]
  },
  {
   "cell_type": "code",
   "execution_count": 201,
   "id": "df38fa12",
   "metadata": {},
   "outputs": [
    {
     "name": "stdout",
     "output_type": "stream",
     "text": [
      "Базовая точность: 97.15%\n",
      "\n",
      "Точность с оригинальным слоем ImageNette: 3.80%\n"
     ]
    }
   ],
   "source": [
    "new_acc = evaluate(model, imagenette_val)\n",
    "print(f\"Базовая точность: {base_acc:.2f}%\")\n",
    "print(f\"\\nТочность с оригинальным слоем ImageNette: {new_acc:.2f}%\")\n"
   ]
  },
  {
   "cell_type": "markdown",
   "id": "0661d399",
   "metadata": {},
   "source": [
    "## Шаг 6: Дообучить последний слой на ImageNette и проверить удалось ли добиться исходного качества."
   ]
  },
  {
   "cell_type": "markdown",
   "id": "617e444a",
   "metadata": {},
   "source": [
    "### 6.1 Заморозка слоев кроме последнего"
   ]
  },
  {
   "cell_type": "code",
   "execution_count": 202,
   "id": "ad165e91",
   "metadata": {},
   "outputs": [],
   "source": [
    "for param in model.parameters():\n",
    "    param.requires_grad = False\n",
    "for param in model.fc.parameters():\n",
    "    param.requires_grad = True"
   ]
  },
  {
   "cell_type": "markdown",
   "id": "16e1889b",
   "metadata": {},
   "source": [
    "### 6.2 Обучение на ImageNette (последний слой)"
   ]
  },
  {
   "cell_type": "code",
   "execution_count": 203,
   "id": "4e81eb20",
   "metadata": {},
   "outputs": [
    {
     "name": "stderr",
     "output_type": "stream",
     "text": [
      "Epoch 1:   0%|          | 0/296 [00:00<?, ?it/s]"
     ]
    },
    {
     "name": "stderr",
     "output_type": "stream",
     "text": [
      "Epoch 1: 100%|██████████| 296/296 [04:05<00:00,  1.21it/s]\n",
      "Epoch 2: 100%|██████████| 296/296 [03:57<00:00,  1.25it/s]\n",
      "Epoch 3: 100%|██████████| 296/296 [03:38<00:00,  1.36it/s]\n",
      "Epoch 4: 100%|██████████| 296/296 [03:11<00:00,  1.55it/s]\n",
      "Epoch 5: 100%|██████████| 296/296 [03:09<00:00,  1.56it/s]\n"
     ]
    },
    {
     "name": "stdout",
     "output_type": "stream",
     "text": [
      "Базовая точность: 97.15%\n",
      "Попытка вернуть точность: 69.68%\n"
     ]
    }
   ],
   "source": [
    "optimizer = torch.optim.Adam(model.fc.parameters(), lr=0.0001)\n",
    "last_acc = 0.0\n",
    "\n",
    "model, last_acc = model_train(model, imagenette_train, imagenette_val, optimizer, save_fc=False)\n",
    "\n",
    "print(f\"Базовая точность: {base_acc:.2f}%\")\n",
    "print(f\"Попытка вернуть точность: {last_acc:.2f}%\")"
   ]
  },
  {
   "cell_type": "markdown",
   "id": "9284b2dc",
   "metadata": {},
   "source": [
    "# Вывод:"
   ]
  },
  {
   "cell_type": "markdown",
   "id": "fea2cafe",
   "metadata": {},
   "source": [
    "Текст вывода добавить"
   ]
  }
 ],
 "metadata": {
  "kernelspec": {
   "display_name": "Python 3",
   "language": "python",
   "name": "python3"
  },
  "language_info": {
   "codemirror_mode": {
    "name": "ipython",
    "version": 3
   },
   "file_extension": ".py",
   "mimetype": "text/x-python",
   "name": "python",
   "nbconvert_exporter": "python",
   "pygments_lexer": "ipython3",
   "version": "3.11.9"
  }
 },
 "nbformat": 4,
 "nbformat_minor": 5
}
