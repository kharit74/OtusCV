{
 "cells": [
  {
   "cell_type": "markdown",
   "id": "59bc4876",
   "metadata": {},
   "source": [
    "\n",
    "# Катастрофическое забывание\n",
    "\n",
    "## Цель: Проверить влияние fine-tuning на исходную модель.\n",
    "\n",
    "## Описание/Пошаговая инструкция выполнения домашнего задания:\n",
    "1. Скачать датасет `ImageNette`: https://github.com/fastai/imagenette (`ImageNette` это подвыборка из 10 классов датасета `ImageNet`).\n",
    "2. Взять предобученную на обычном `ImageNet` модель (например, `ResNet18`) и заменить число классов на 10.\n",
    "3. Дообучить модель на 10 классах `ImageNette` и замерить точность (эта точность будет считаться базовой). Можно обучить как всю модель, так и только последний слой.\n",
    "4. Сохранить последний слой на 10 классов (слой классификации).\n",
    "Используя код с лекции дообучить модель классифицировать датасет `CIFAR10`.\n",
    "5. Вернуть оригинальный последний слой модели и проверить качество на `ImageNette` и сравнить с базовой точностью.\n",
    "6. Дообучить только последний слой (отключить градиент для всех слоев кроме последнего) на `ImageNette` и проверить удалось ли добиться исходного качества.\n",
    "7. Сделать выводы.\n",
    "\n",
    "### Критерии оценки:\n",
    "__Принято__ - задание выполнено полностью.\n",
    "\n",
    "__Возвращено на доработку__ - задание не выполнено полностью.\n"
   ]
  },
  {
   "cell_type": "code",
   "execution_count": 2,
   "id": "5f12f00f",
   "metadata": {},
   "outputs": [],
   "source": [
    "import torch\n",
    "import torchvision\n",
    "import torchvision.transforms as transforms\n",
    "from torchvision.datasets import ImageFolder\n",
    "from torch.utils.data import DataLoader\n",
    "import torch.nn as nn\n",
    "import torch.optim as optim\n",
    "from torch.optim.lr_scheduler import StepLR\n",
    "import os\n",
    "from tqdm import tqdm"
   ]
  },
  {
   "cell_type": "code",
   "execution_count": 7,
   "id": "a3a38063",
   "metadata": {},
   "outputs": [],
   "source": [
    "train_dir = 'DataForModel/imagenette2-320/train'\n",
    "val_dir = 'DataForModel/imagenette2-320/val'"
   ]
  },
  {
   "cell_type": "code",
   "execution_count": 8,
   "id": "95fdc613",
   "metadata": {},
   "outputs": [
    {
     "data": {
      "text/plain": [
       "'DataForModel/imagenette2-320/train'"
      ]
     },
     "execution_count": 8,
     "metadata": {},
     "output_type": "execute_result"
    }
   ],
   "source": [
    "train_dir"
   ]
  }
 ],
 "metadata": {
  "kernelspec": {
   "display_name": "Python 3",
   "language": "python",
   "name": "python3"
  },
  "language_info": {
   "codemirror_mode": {
    "name": "ipython",
    "version": 3
   },
   "file_extension": ".py",
   "mimetype": "text/x-python",
   "name": "python",
   "nbconvert_exporter": "python",
   "pygments_lexer": "ipython3",
   "version": "3.11.9"
  }
 },
 "nbformat": 4,
 "nbformat_minor": 5
}
