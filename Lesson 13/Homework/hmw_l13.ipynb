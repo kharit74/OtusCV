{
 "cells": [
  {
   "cell_type": "markdown",
   "id": "59bc4876",
   "metadata": {},
   "source": [
    "\n",
    "# Катастрофическое забывание\n",
    "\n",
    "## Цель: Проверить влияние fine-tuning на исходную модель.\n",
    "\n",
    "## Описание/Пошаговая инструкция выполнения домашнего задания:\n",
    "1. Скачать датасет ImageNette: https://github.com/fastai/imagenette (`ImageNette` это подвыборка из 10 классов датасета `ImageNet`).\n",
    "2. Взять предобученную на обычном `ImageNet` модель `ResNet18` и заменить число классов на 10.\n",
    "3. Дообучить модель на 10 классах `ImageNette` и замерить точность (эта точность будет считаться базовой). Обучить только последний слой. Сохранить последний слой как оригинальный.\n",
    "4. Дообучить модель классифицировать датасет `CIFAR10`.\n",
    "5. Вернуть оригинальный последний слой модели и проверить качество на `ImageNette` и сравнить с базовой точностью.\n",
    "6. Дообучить только последний слой (отключить градиент для всех слоев кроме последнего) на `ImageNette` и проверить удалось ли добиться исходного качества.\n",
    "7. Сделать выводы.\n",
    "\n",
    "### Критерии оценки:\n",
    "__Принято__ - задание выполнено полностью.\n",
    "\n",
    "__Возвращено на доработку__ - задание не выполнено полностью.\n"
   ]
  },
  {
   "cell_type": "code",
   "execution_count": 108,
   "id": "5f12f00f",
   "metadata": {},
   "outputs": [],
   "source": [
    "import torch\n",
    "import torch.nn as nn\n",
    "import torchvision\n",
    "import torchvision.transforms as transforms\n",
    "import matplotlib.pyplot as plt\n",
    "from tqdm import tqdm"
   ]
  },
  {
   "cell_type": "markdown",
   "id": "5019ed8f",
   "metadata": {},
   "source": [
    "## Шаг 1 Подготовка датасета"
   ]
  },
  {
   "cell_type": "markdown",
   "id": "cd5f5b8d",
   "metadata": {},
   "source": [
    "### 1.1 Определение настроек"
   ]
  },
  {
   "cell_type": "code",
   "execution_count": 136,
   "id": "a3a38063",
   "metadata": {},
   "outputs": [
    {
     "data": {
      "text/plain": [
       "device(type='cpu')"
      ]
     },
     "execution_count": 136,
     "metadata": {},
     "output_type": "execute_result"
    }
   ],
   "source": [
    "TRAIN_DIR_IMAGENETTE = 'DataForModel/imagenette2-320/train'\n",
    "VAL_DIR_IMAGENETTE = 'DataForModel/imagenette2-320/val'\n",
    "TRAIN_DIR_CIFAR10 = 'DataForModel/cifar10/train'\n",
    "VAL_DIR_CIFAR10 = 'DataForModel/cifar10/val'\n",
    "BATCH_SIZE = 32\n",
    "NUM_EPOCHS = 5\n",
    "DEVICE = torch.device('cuda' if torch.cuda.is_available() else 'cpu')\n",
    "DEVICE"
   ]
  },
  {
   "cell_type": "markdown",
   "id": "6986ea3b",
   "metadata": {},
   "source": [
    "### 1.2 Датасет ImageNette"
   ]
  },
  {
   "cell_type": "code",
   "execution_count": 137,
   "id": "7980ca7e",
   "metadata": {},
   "outputs": [],
   "source": [
    "transform = transforms.Compose([\n",
    "    transforms.Resize((224, 224)),\n",
    "    transforms.ToTensor(),\n",
    "    transforms.Normalize(mean=[0.485, 0.456, 0.406], std=[0.229, 0.224, 0.225]),\n",
    "])\n",
    "\n",
    "train_dataset_imagenette = torchvision.datasets.ImageFolder(TRAIN_DIR_IMAGENETTE, transform=transform)\n",
    "val_dataset_imagenette = torchvision.datasets.ImageFolder(VAL_DIR_IMAGENETTE, transform=transform)\n",
    "\n",
    "imagenette_train = torch.utils.data.DataLoader(train_dataset_imagenette, batch_size=BATCH_SIZE, shuffle=True)\n",
    "imagenette_val = torch.utils.data.DataLoader(val_dataset_imagenette, batch_size=BATCH_SIZE)"
   ]
  },
  {
   "cell_type": "markdown",
   "id": "86ff40a9",
   "metadata": {},
   "source": [
    "### 1.3 Датасет CIFAR10"
   ]
  },
  {
   "cell_type": "code",
   "execution_count": null,
   "id": "63df6322",
   "metadata": {},
   "outputs": [],
   "source": [
    "train_dataset_cifar = torchvision.datasets.CIFAR10(root=TRAIN_DIR_CIFAR10, train=True, download=True, transform=transform)\n",
    "val_dataset_cifar = torchvision.datasets.CIFAR10(root=VAL_DIR_CIFAR10, train=False, download=True, transform=transform)\n",
    "\n",
    "cifar_train = torch.utils.data.DataLoader(train_dataset_cifar, BATCH_SIZE, shuffle=True), \n",
    "cifar_val = torch.utils.data.DataLoader(val_dataset_cifar, BATCH_SIZE)"
   ]
  },
  {
   "cell_type": "markdown",
   "id": "8ce94940",
   "metadata": {},
   "source": [
    "## Шаг 2: Замена последнего слоя на 10 классов"
   ]
  },
  {
   "cell_type": "code",
   "execution_count": 139,
   "id": "fdf08abe",
   "metadata": {},
   "outputs": [],
   "source": [
    "model = torchvision.models.resnet18(pretrained=True)\n",
    "for param in model.parameters():\n",
    "    param.requires_grad = False\n",
    "\n",
    "# Заменяем последний слой на 10 классов\n",
    "model.fc = nn.Linear(model.fc.in_features, 10)\n",
    "model.fc.requires_grad = True # Разморозка последнего слоя\n",
    "model = model.to(DEVICE)"
   ]
  },
  {
   "cell_type": "markdown",
   "id": "a21fe452",
   "metadata": {},
   "source": [
    "## Шаг 3: Обучение на ImageNette (последний слой)"
   ]
  },
  {
   "cell_type": "markdown",
   "id": "d32f8dde",
   "metadata": {},
   "source": [
    "### Шаг 3.1 Обучение модели"
   ]
  },
  {
   "cell_type": "code",
   "execution_count": 140,
   "id": "e0d1d07d",
   "metadata": {},
   "outputs": [],
   "source": [
    "# Расчет точности\n",
    "def evaluate(model, val_loader):\n",
    "    model.eval() \n",
    "    correct = 0\n",
    "    total = 0\n",
    "    with torch.no_grad():\n",
    "        for images, labels in val_loader:\n",
    "            images, labels = images.to(DEVICE), labels.to(DEVICE)\n",
    "            outputs = model(images)\n",
    "            _, predicted = torch.max(outputs.data, 1)\n",
    "            total += labels.size(0)\n",
    "            correct += (predicted == labels).sum().item()\n",
    "    return 100 * correct / total"
   ]
  },
  {
   "cell_type": "code",
   "execution_count": null,
   "id": "d6f1f5d0",
   "metadata": {},
   "outputs": [],
   "source": [
    "criterion = nn.CrossEntropyLoss()\n",
    "optimizer = torch.optim.Adam(model.fc.parameters(), lr=0.0001)\n",
    "base_acc = 0.0\n",
    "\n",
    "for epoch in range(NUM_EPOCHS):\n",
    "    # Обучение\n",
    "    model.train()\n",
    "    running_loss = 0.0\n",
    "    for inputs, labels in tqdm(imagenette_train, desc=f'Epoch {epoch+1}'):\n",
    "        inputs, labels = inputs.to(DEVICE), labels.to(DEVICE)\n",
    "        optimizer.zero_grad()\n",
    "        outputs = model(inputs)\n",
    "        loss = criterion(outputs, labels)\n",
    "        loss.backward()\n",
    "        optimizer.step()\n",
    "        running_loss += loss.item()\n",
    "\n",
    "    # Валидация\n",
    "    acc = evaluate(model, imagenette_val)\n",
    "    if acc > base_acc:\n",
    "        base_acc = acc\n",
    "        torch.save(model.fc.state_dict(), 'imagenette_fc.pth')\n",
    "\n",
    "print(f\"Базовая точность: {base_acc:.2f}%\")"
   ]
  },
  {
   "cell_type": "markdown",
   "id": "2e848f55",
   "metadata": {},
   "source": [
    "## Шаг 4: Обучение на CIFAR10"
   ]
  },
  {
   "cell_type": "code",
   "execution_count": null,
   "id": "5221e659",
   "metadata": {},
   "outputs": [],
   "source": [
    "cifar_acc = 0.0\n",
    "\n",
    "for epoch in range(NUM_EPOCHS):\n",
    "    # Обучение\n",
    "    model.train()\n",
    "    running_loss = 0.0\n",
    "    for inputs, labels in tqdm(cifar_train, desc=f'Epoch {epoch+1}'):\n",
    "        inputs, labels = inputs.to(DEVICE), labels.to(DEVICE)\n",
    "        optimizer.zero_grad()\n",
    "        outputs = model(inputs)\n",
    "        loss = criterion(outputs, labels)\n",
    "        loss.backward()\n",
    "        optimizer.step()\n",
    "        running_loss += loss.item()\n",
    "\n",
    "    # Валидация\n",
    "    acc = evaluate(model, cifar_val)\n",
    "    if acc > cifar_acc:\n",
    "        cifar_acc = acc\n",
    "\n",
    "print(f\"CIFAR точность: {cifar_acc:.2f}%\")\n"
   ]
  },
  {
   "cell_type": "markdown",
   "id": "2dc70903",
   "metadata": {},
   "source": [
    "## Шаг 5: Возврат оригинального слоя и проверка качества на ImageNette"
   ]
  },
  {
   "cell_type": "markdown",
   "id": "bcba30e4",
   "metadata": {},
   "source": [
    "### 5.1 Возврат оригинального слоя"
   ]
  },
  {
   "cell_type": "code",
   "execution_count": null,
   "id": "657ce945",
   "metadata": {},
   "outputs": [],
   "source": [
    "\n",
    "model.fc.load_state_dict(torch.load('imagenette_fc.pth'))"
   ]
  },
  {
   "cell_type": "markdown",
   "id": "3baf4196",
   "metadata": {},
   "source": [
    "### 5.2 Проверка качестка на ImageNette"
   ]
  },
  {
   "cell_type": "code",
   "execution_count": null,
   "id": "df38fa12",
   "metadata": {},
   "outputs": [],
   "source": [
    "new_acc = evaluate(model, imagenette_val)\n",
    "print(f\"Базовая точность: {base_acc:.2f}%\")\n",
    "print(f\"\\nТочность с оригинальным слоем ImageNette: {new_acc:.2f}%\")\n"
   ]
  },
  {
   "cell_type": "markdown",
   "id": "0661d399",
   "metadata": {},
   "source": [
    "## Шаг 6: Дообучить последний слой на ImageNette и проверить удалось ли добиться исходного качества."
   ]
  },
  {
   "cell_type": "markdown",
   "id": "617e444a",
   "metadata": {},
   "source": [
    "### 6.1 Заморозка последнего слоя"
   ]
  },
  {
   "cell_type": "code",
   "execution_count": null,
   "id": "ad165e91",
   "metadata": {},
   "outputs": [],
   "source": [
    "for param in model.parameters():\n",
    "    param.requires_grad = False\n",
    "model.fc.requires_grad = True"
   ]
  },
  {
   "cell_type": "markdown",
   "id": "16e1889b",
   "metadata": {},
   "source": [
    "### 6.2 Обучение на ImageNette"
   ]
  },
  {
   "cell_type": "code",
   "execution_count": null,
   "id": "4e81eb20",
   "metadata": {},
   "outputs": [],
   "source": [
    "last_acc = 0.0\n",
    "\n",
    "for epoch in range(NUM_EPOCHS):\n",
    "    # Обучение\n",
    "    model.train()\n",
    "    running_loss = 0.0\n",
    "    for inputs, labels in tqdm(imagenette_train, desc=f'Epoch {epoch+1}'):\n",
    "        inputs, labels = inputs.to(DEVICE), labels.to(DEVICE)\n",
    "        optimizer.zero_grad()\n",
    "        outputs = model(inputs)\n",
    "        loss = criterion(outputs, labels)\n",
    "        loss.backward()\n",
    "        optimizer.step()\n",
    "        running_loss += loss.item()\n",
    "\n",
    "    # Валидация\n",
    "    acc = evaluate(model, imagenette_val)\n",
    "    if acc > last_acc:\n",
    "        last_acc = acc\n",
    "\n",
    "print(f\"Попытка вернуть точность: {cifar_acc:.2f}%\")"
   ]
  },
  {
   "cell_type": "markdown",
   "id": "9284b2dc",
   "metadata": {},
   "source": [
    "# Вывод:"
   ]
  },
  {
   "cell_type": "markdown",
   "id": "fea2cafe",
   "metadata": {},
   "source": [
    "Текст вывода"
   ]
  }
 ],
 "metadata": {
  "kernelspec": {
   "display_name": "Python 3",
   "language": "python",
   "name": "python3"
  },
  "language_info": {
   "codemirror_mode": {
    "name": "ipython",
    "version": 3
   },
   "file_extension": ".py",
   "mimetype": "text/x-python",
   "name": "python",
   "nbconvert_exporter": "python",
   "pygments_lexer": "ipython3",
   "version": "3.11.9"
  }
 },
 "nbformat": 4,
 "nbformat_minor": 5
}
